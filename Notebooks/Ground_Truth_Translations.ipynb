{
 "cells": [
  {
   "cell_type": "markdown",
   "metadata": {},
   "source": [
    "### Ground Truth Translations\n",
    "#### Exploration and Accuracy Calculation\n",
    "w266 Final Project: Crosslingual Word Embeddings\n",
    "\n",
    "Created: 2017-12-10 RLH\n",
    "\n",
    "Updated: 2017-12-19 RLH\n",
    "\n",
    "\n",
    "In this notebook I'm exploring the format of the ground-truth translations from MUSE (linked in BaselineModels/data) and writing a function to take the embeddings for a particular language and calculate accuracy, as defined in Vulic and Moens (2015)."
   ]
  },
  {
   "cell_type": "code",
   "execution_count": 1,
   "metadata": {
    "collapsed": true
   },
   "outputs": [],
   "source": [
    "from __future__ import absolute_import\n",
    "from __future__ import division\n",
    "from __future__ import print_function\n",
    "\n",
    "import os\n",
    "import sys  \n",
    "import math\n",
    "import random\n",
    "import sklearn\n",
    "import numpy as np\n",
    "import pandas as pd\n",
    "import collections\n",
    "import datetime as dt\n",
    "import matplotlib\n",
    "import matplotlib.pyplot as plt\n",
    "import tensorflow as tf\n",
    "\n",
    "# tell matplotlib not to open a new window\n",
    "%matplotlib inline"
   ]
  },
  {
   "cell_type": "code",
   "execution_count": 3,
   "metadata": {
    "collapsed": true
   },
   "outputs": [],
   "source": [
    "# filepaths\n",
    "BASE = '/home/rhopper/W266-Fall-2017-Final-Project/BaselineModels/data/ground_truth_translations'\n",
    "FPATH_ENES = BASE + '/en-es.txt' # English -> Spanish\n",
    "FPATH_ENIT = BASE + '/en-it.txt' # English -> Italian\n",
    "FPATH_ENNL = BASE + '/en-nl.txt' # English -> Dutch\n",
    "FPATH_ENJA = BASE + '/en-ja.txt' # English -> Japanese\n",
    "FPATH_ESEN = BASE + '/es-en.txt' \n",
    "FPATH_ITEN = BASE + '/it-en.txt' \n",
    "FPATH_NLEN = BASE + '/nl-en.txt'\n",
    "FPATH_JAEN = BASE + '/ja-en.txt'"
   ]
  },
  {
   "cell_type": "code",
   "execution_count": 18,
   "metadata": {
    "scrolled": true
   },
   "outputs": [
    {
     "data": {
      "text/html": [
       "<div>\n",
       "<table border=\"1\" class=\"dataframe\">\n",
       "  <thead>\n",
       "    <tr style=\"text-align: right;\">\n",
       "      <th></th>\n",
       "      <th>en</th>\n",
       "      <th>es</th>\n",
       "    </tr>\n",
       "  </thead>\n",
       "  <tbody>\n",
       "    <tr>\n",
       "      <th>count</th>\n",
       "      <td>112579</td>\n",
       "      <td>112579</td>\n",
       "    </tr>\n",
       "    <tr>\n",
       "      <th>unique</th>\n",
       "      <td>93083</td>\n",
       "      <td>96614</td>\n",
       "    </tr>\n",
       "    <tr>\n",
       "      <th>top</th>\n",
       "      <td>sing</td>\n",
       "      <td>angustia</td>\n",
       "    </tr>\n",
       "    <tr>\n",
       "      <th>freq</th>\n",
       "      <td>6</td>\n",
       "      <td>6</td>\n",
       "    </tr>\n",
       "  </tbody>\n",
       "</table>\n",
       "</div>"
      ],
      "text/plain": [
       "            en        es\n",
       "count   112579    112579\n",
       "unique   93083     96614\n",
       "top       sing  angustia\n",
       "freq         6         6"
      ]
     },
     "execution_count": 18,
     "metadata": {},
     "output_type": "execute_result"
    }
   ],
   "source": [
    "# We'll explore the English to Spanish file to get a feel for it\n",
    "en_es = pd.read_csv(FPATH_ENES, sep=\" \", header=None)\n",
    "en_es.columns = [\"en\", \"es\"]\n",
    "en_es.describe()"
   ]
  },
  {
   "cell_type": "markdown",
   "metadata": {},
   "source": [
    "It seems like the idea of \"ground truth\" is complicated by the fact that some words have multiple equally-valid translations (e.g. \"the\").\n",
    "\n",
    "I assume that in terms of accuracy, it counts as \"accurate\" if \"the\" is translated into any of the possible translations (in the context of this task)."
   ]
  },
  {
   "cell_type": "code",
   "execution_count": 24,
   "metadata": {
    "scrolled": false
   },
   "outputs": [
    {
     "data": {
      "text/html": [
       "<div>\n",
       "<table border=\"1\" class=\"dataframe\">\n",
       "  <thead>\n",
       "    <tr style=\"text-align: right;\">\n",
       "      <th></th>\n",
       "      <th>en</th>\n",
       "      <th>es</th>\n",
       "    </tr>\n",
       "  </thead>\n",
       "  <tbody>\n",
       "    <tr>\n",
       "      <th>0</th>\n",
       "      <td>the</td>\n",
       "      <td>el</td>\n",
       "    </tr>\n",
       "    <tr>\n",
       "      <th>1</th>\n",
       "      <td>the</td>\n",
       "      <td>las</td>\n",
       "    </tr>\n",
       "    <tr>\n",
       "      <th>2</th>\n",
       "      <td>the</td>\n",
       "      <td>los</td>\n",
       "    </tr>\n",
       "    <tr>\n",
       "      <th>3</th>\n",
       "      <td>the</td>\n",
       "      <td>la</td>\n",
       "    </tr>\n",
       "    <tr>\n",
       "      <th>4</th>\n",
       "      <td>and</td>\n",
       "      <td>y</td>\n",
       "    </tr>\n",
       "  </tbody>\n",
       "</table>\n",
       "</div>"
      ],
      "text/plain": [
       "    en   es\n",
       "0  the   el\n",
       "1  the  las\n",
       "2  the  los\n",
       "3  the   la\n",
       "4  and    y"
      ]
     },
     "execution_count": 24,
     "metadata": {},
     "output_type": "execute_result"
    }
   ],
   "source": [
    "en_es.head()"
   ]
  },
  {
   "cell_type": "code",
   "execution_count": 30,
   "metadata": {
    "scrolled": true
   },
   "outputs": [
    {
     "data": {
      "text/plain": [
       "<matplotlib.axes._subplots.AxesSubplot at 0x7f03c9e6b210>"
      ]
     },
     "execution_count": 30,
     "metadata": {},
     "output_type": "execute_result"
    },
    {
     "data": {
      "image/png": "[encoded data removed]",
      "text/plain": [
       "<matplotlib.figure.Figure at 0x7f03c74de2d0>"
      ]
     },
     "metadata": {},
     "output_type": "display_data"
    }
   ],
   "source": [
    "#How many words have more than one translation?\n",
    "en_translation_counts = en_es.groupby(by='en').size()\n",
    "en_translation_counts[en_translation_counts > 1].hist(bins=10)"
   ]
  },
  {
   "cell_type": "markdown",
   "metadata": {},
   "source": [
    "It looks like these ground-truth translations also contain some odd values (like hex codes and text speak - \"lmfao\" appears).\n",
    "\n",
    "In other circumstances I might want to strip out these odd translations but I don't think they will affect our task."
   ]
  },
  {
   "cell_type": "code",
   "execution_count": 29,
   "metadata": {},
   "outputs": [
    {
     "name": "stdout",
     "output_type": "stream",
     "text": [
      "Total: 81020 unique words\n"
     ]
    },
    {
     "data": {
      "text/plain": [
       "en\n",
       "nostra         1\n",
       "breakbeat      1\n",
       "ruthenians     1\n",
       "burstyn        1\n",
       "lanterne       1\n",
       "temples        1\n",
       "tineo          1\n",
       "audits         1\n",
       "tecumseh       1\n",
       "cotoneaster    1\n",
       "dtype: int64"
      ]
     },
     "execution_count": 29,
     "metadata": {},
     "output_type": "execute_result"
    }
   ],
   "source": [
    "# Looks like a lot of proper nouns\n",
    "\n",
    "inflex_words = en_translation_counts[en_translation_counts < 2]\n",
    "print(\"Total: {} unique words\".format(len(inflex_words)))\n",
    "inflex_words.sample(10)"
   ]
  },
  {
   "cell_type": "markdown",
   "metadata": {},
   "source": [
    "### Prepending the tokens for easier comparison\n",
    "\n",
    "Words in the corpora have a two-letter prefix that identifies the language they belong to. We need to make this edit to the languages in the ground-truth translations for easier comparison."
   ]
  },
  {
   "cell_type": "code",
   "execution_count": 12,
   "metadata": {},
   "outputs": [],
   "source": [
    "#Process English/Spanish files and prepend the respective languages\n",
    "#Write prepended file out\n",
    "en_es = pd.read_csv(FPATH_ENES, sep=\" \", names=[\"en\", \"es\"], header=None)\n",
    "en_es['en'] = 'en_' + en_es['en'].astype(str)\n",
    "en_es['es'] = 'es_' + en_es['es'].astype(str)\n",
    "en_es.to_csv(BASE + '/en-es-clean.csv', index=None, sep=' ', mode='a')\n",
    "\n",
    "es_en = pd.read_csv(FPATH_ESEN, sep=\" \", names=[\"es\", \"en\"], header=None)\n",
    "es_en['es'] = 'es_' + es_en['es'].astype(str)\n",
    "es_en['en'] = 'en_' + es_en['en'].astype(str)\n",
    "es_en.to_csv(BASE + '/es-en-clean.csv', index=None, sep=' ', mode='a')\n",
    "\n",
    "#Process English/Italian files and prepend the respective languages\n",
    "#Write prepended file out\n",
    "en_it = pd.read_csv(FPATH_ENIT, sep=\" \", names=[\"en\", \"it\"], header=None)\n",
    "en_it['en'] = 'en_' + en_it['en'].astype(str)\n",
    "en_it['it'] = 'it_' + en_it['it'].astype(str)\n",
    "en_it.to_csv(BASE + '/en-it-clean.csv', index=None, sep=' ', mode='a')\n",
    "\n",
    "it_en = pd.read_csv(FPATH_ITEN, sep=\" \", names=[\"it\", \"en\"], header=None)\n",
    "it_en['it'] = 'it_' + it_en['it'].astype(str)\n",
    "it_en['en'] = 'en_' + it_en['en'].astype(str)\n",
    "it_en.to_csv(BASE + '/it-en-clean.csv', index=None, sep=' ', mode='a')\n",
    "\n",
    "#Process English/Dutch files and prepend the respective languages\n",
    "#Write prepended file out\n",
    "en_nl = pd.read_csv(FPATH_ENNL, sep=\" \", names=[\"en\", \"nl\"], header=None)\n",
    "en_nl['en'] = 'en_' + en_nl['en'].astype(str)\n",
    "en_nl['nl'] = 'nl_' + en_nl['nl'].astype(str)\n",
    "en_nl.to_csv(BASE + '/en-nl-clean.csv', index=None, sep=' ', mode='a')\n",
    "\n",
    "nl_en = pd.read_csv(FPATH_NLEN, sep=\" \", names=[\"nl\", \"en\"], header=None)\n",
    "nl_en['nl'] = 'nl_' + nl_en['nl'].astype(str)\n",
    "nl_en['en'] = 'en_' + nl_en['en'].astype(str)\n",
    "nl_en.to_csv(BASE + '/nl-en-clean.csv', index=None, sep=' ', mode='a')"
   ]
  },
  {
   "cell_type": "code",
   "execution_count": 13,
   "metadata": {
    "collapsed": true
   },
   "outputs": [],
   "source": [
    "#Process English/Japanese files and prepend the respective languages\n",
    "#Remove \t symbol in En/Ja files...\n",
    "\n",
    "#Write prepended file out\n",
    "en_ja = pd.read_csv(FPATH_ENJA, sep=\"\\t\", names=[\"en\", \"ja\"], header=None)\n",
    "en_ja['en'] = 'en_' + en_ja['en'].astype(str)\n",
    "en_ja['ja'] = 'ja_' + en_ja['ja'].astype(str)\n",
    "en_ja.to_csv(BASE + '/en-ja-clean.csv', index=None, sep=' ', mode='a')\n",
    "\n",
    "ja_en = pd.read_csv(FPATH_JAEN, sep=\"\\t\", names=[\"ja\", \"en\"], header=None)\n",
    "ja_en['ja'] = 'ja_' + ja_en['ja'].astype(str)\n",
    "ja_en['en'] = 'en_' + ja_en['en'].astype(str)\n",
    "ja_en.to_csv(BASE + '/ja-en-clean.csv', index=None, sep=' ', mode='a')"
   ]
  },
  {
   "cell_type": "code",
   "execution_count": 35,
   "metadata": {},
   "outputs": [
    {
     "data": {
      "text/html": [
       "<div>\n",
       "<style>\n",
       "    .dataframe thead tr:only-child th {\n",
       "        text-align: right;\n",
       "    }\n",
       "\n",
       "    .dataframe thead th {\n",
       "        text-align: left;\n",
       "    }\n",
       "\n",
       "    .dataframe tbody tr th {\n",
       "        vertical-align: top;\n",
       "    }\n",
       "</style>\n",
       "<table border=\"1\" class=\"dataframe\">\n",
       "  <thead>\n",
       "    <tr style=\"text-align: right;\">\n",
       "      <th></th>\n",
       "      <th>ja</th>\n",
       "      <th>en</th>\n",
       "    </tr>\n",
       "  </thead>\n",
       "  <tbody>\n",
       "    <tr>\n",
       "      <th>0</th>\n",
       "      <td>ja_から</td>\n",
       "      <td>en_from</td>\n",
       "    </tr>\n",
       "    <tr>\n",
       "      <th>1</th>\n",
       "      <td>ja_として</td>\n",
       "      <td>en_as</td>\n",
       "    </tr>\n",
       "    <tr>\n",
       "      <th>2</th>\n",
       "      <td>ja_日本</td>\n",
       "      <td>en_japan</td>\n",
       "    </tr>\n",
       "    <tr>\n",
       "      <th>3</th>\n",
       "      <td>ja_日本</td>\n",
       "      <td>en_nippon</td>\n",
       "    </tr>\n",
       "    <tr>\n",
       "      <th>4</th>\n",
       "      <td>ja_この</td>\n",
       "      <td>en_this</td>\n",
       "    </tr>\n",
       "  </tbody>\n",
       "</table>\n",
       "</div>"
      ],
      "text/plain": [
       "       ja         en\n",
       "0   ja_から    en_from\n",
       "1  ja_として      en_as\n",
       "2   ja_日本   en_japan\n",
       "3   ja_日本  en_nippon\n",
       "4   ja_この    en_this"
      ]
     },
     "execution_count": 35,
     "metadata": {},
     "output_type": "execute_result"
    }
   ],
   "source": [
    "ja_en= pd.read_csv(BASE + \"/ja-en-clean.csv\", sep=\" \")\n",
    "ja_en.head()"
   ]
  },
  {
   "cell_type": "markdown",
   "metadata": {},
   "source": [
    "### Calculating accuracy for a predicted translation\n",
    "\n",
    "We want $Acc_{1}$ from Vulic and Moens 2015: the number of source language words from ground truth translation pairs for which the top-ranked word cross-lingually is the correct translation"
   ]
  },
  {
   "cell_type": "code",
   "execution_count": 4,
   "metadata": {},
   "outputs": [
    {
     "data": {
      "text/html": [
       "<div>\n",
       "<table border=\"1\" class=\"dataframe\">\n",
       "  <thead>\n",
       "    <tr style=\"text-align: right;\">\n",
       "      <th></th>\n",
       "      <th>en</th>\n",
       "      <th>es</th>\n",
       "    </tr>\n",
       "  </thead>\n",
       "  <tbody>\n",
       "    <tr>\n",
       "      <th>0</th>\n",
       "      <td>en_the</td>\n",
       "      <td>es_el</td>\n",
       "    </tr>\n",
       "    <tr>\n",
       "      <th>1</th>\n",
       "      <td>en_the</td>\n",
       "      <td>es_las</td>\n",
       "    </tr>\n",
       "    <tr>\n",
       "      <th>2</th>\n",
       "      <td>en_the</td>\n",
       "      <td>es_los</td>\n",
       "    </tr>\n",
       "    <tr>\n",
       "      <th>3</th>\n",
       "      <td>en_the</td>\n",
       "      <td>es_la</td>\n",
       "    </tr>\n",
       "    <tr>\n",
       "      <th>4</th>\n",
       "      <td>en_and</td>\n",
       "      <td>es_y</td>\n",
       "    </tr>\n",
       "  </tbody>\n",
       "</table>\n",
       "</div>"
      ],
      "text/plain": [
       "       en      es\n",
       "0  en_the   es_el\n",
       "1  en_the  es_las\n",
       "2  en_the  es_los\n",
       "3  en_the   es_la\n",
       "4  en_and    es_y"
      ]
     },
     "execution_count": 4,
     "metadata": {},
     "output_type": "execute_result"
    }
   ],
   "source": [
    "en_es = pd.read_csv(BASE + \"/en-es-clean.txt\", sep=\" \")\n",
    "en_es.head()"
   ]
  },
  {
   "cell_type": "code",
   "execution_count": 5,
   "metadata": {
    "collapsed": true
   },
   "outputs": [],
   "source": [
    "# This is an example of the way evaluate_prediction will fit into model1.py\n",
    "\n",
    "#We want to be able to control the verbose printing, but also to calculate accuracy whether verbose=True or not\n",
    "#We can worry about the verbose issue later\n",
    "\n",
    "if verbose and step % sim_logging_interval == 0:\n",
    "    sim = self.similarity.eval()\n",
    "    bli = self.evaluate_prediction()\n",
    "    total_valid=[] #Track the total number of valid translations in the nearest k\n",
    "    any_valid=[] #Track whether ANY of the nearest k were valid translations\n",
    "    for i in xrange(len(sample)):\n",
    "        word = index[sample[i]]\n",
    "        top_k = 3  # number of nearest neighbors\n",
    "        nearest, valid_translation = bli(source_lang, target_lang, top_k, word)\n",
    "        total_valid.append(valid_translation)\n",
    "        log_str = '   Nearest to %s:' % word\n",
    "        for k in xrange(top_k):\n",
    "            nbr = index[nearest[k]]\n",
    "            log_str = '%s %s,' % (log_str, nbr)\n",
    "        print(log_str)\n",
    "    \n",
    "    #For any_valid, we need 0/1 to calculate the mean\n",
    "    for s in range(len(total_valid)):\n",
    "        if total_valid[s] > 0:\n",
    "            any_valid.append(1)\n",
    "        else:\n",
    "            any_valid.append(0)\n",
    "    accuracy = (sum(any_valid) / (len(any_valid)))\n",
    "    print('Successful translation rate: %d' % accuracy)"
   ]
  },
  {
   "cell_type": "code",
   "execution_count": 63,
   "metadata": {
    "collapsed": true
   },
   "outputs": [],
   "source": [
    "def evaluate_prediction(source_lang, target_lang, top_k, word):\n",
    "    \"\"\"\n",
    "    Given example source words and the ground truth translations, \n",
    "    evaluate the number of source language words for which one of the top three predictions is the correct translation\n",
    "    (fuzzy measure adopted from stricter Vulic and Moens task which requires that one predicted translation is exactly correct)\n",
    "    \n",
    "    Takes:\n",
    "    source_lang: a two-letter string representing the source language\n",
    "    target_lang: a two-letter string representing the target language\n",
    "    top_k: the number of predictions we're checking for in the ground truth list\n",
    "    word: the word we are interested in evaluating\n",
    "    \n",
    "    Returns:\n",
    "    nearest: the top_k nearest neighbors of word\n",
    "    valid_translation: tracks how many words in \"nearest\" are valid translations \n",
    "        (range 0-k, restricted by the number of translations in the ground truth list)\n",
    "    \"\"\"\n",
    "        \n",
    "    GTT_BASE = '/home/rhopper/W266-Fall-2017-Final-Project/BaselineModels/data/ground_truth_translations/' #'/home/mmillervedam/ProjectRepo/BaselineModels/data/ground_truth_translations/'\n",
    "    GTT_PATH = GTT_BASE + \"%s-%s-clean.txt\" % (source_lang, target_lang)\n",
    "    gtt = pd.read_csv(GTT_PATH, names = [source_lang, target_lang], sep=\" \", header=None)\n",
    "    \n",
    "    \n",
    "    valid_translation=0\n",
    "    nearest = (-sim[i, :]).argsort()[1:top_k + 1]\n",
    "    for k in range(top_k):\n",
    "        close_word = reverse_dictionary[nearest[k]]\n",
    "        total_translations = (gtt[gtt[source_lang] == word])\n",
    "        if close_word in total_translations[total_translations.columns[1]].values:\n",
    "            valid_translation+=1\n",
    "        else:\n",
    "            valid_translation+=0\n",
    "                \n",
    "    return nearest, valid_translation    "
   ]
  },
  {
   "cell_type": "code",
   "execution_count": 67,
   "metadata": {
    "scrolled": false
   },
   "outputs": [
    {
     "data": {
      "text/plain": [
       "(('es_necesito', 'es_necesidad', 'es_manzano'), 2)"
      ]
     },
     "execution_count": 67,
     "metadata": {},
     "output_type": "execute_result"
    }
   ],
   "source": [
    "##Revised version for testing\n",
    "def evaluate_prediction_rev(source_lang, target_lang, nearest, top_k, word):\n",
    "\n",
    "    GTT_BASE = '/home/rhopper/W266-Fall-2017-Final-Project/BaselineModels/data/ground_truth_translations/' #'/home/mmillervedam/ProjectRepo/BaselineModels/data/ground_truth_translations/'\n",
    "    GTT_PATH = GTT_BASE + \"%s-%s-clean.txt\" % (source_lang, target_lang)\n",
    "    gtt = pd.read_csv(GTT_PATH, names = [source_lang, target_lang], sep=\" \", header=None)\n",
    "    \n",
    "    valid_translation=0\n",
    "    #nearest = (-sim[i, :]).argsort()[1:top_k + 1]\n",
    "    for k in range(top_k):\n",
    "        #close_word = reverse_dictionary[nearest[k]]\n",
    "        close_word = nearest[k]\n",
    "        total_translations = (gtt[gtt[source_lang] == word])\n",
    "        if close_word in total_translations[total_translations.columns[1]].values:\n",
    "            valid_translation+=1\n",
    "        else:\n",
    "            valid_translation+=0\n",
    "                \n",
    "    return nearest, valid_translation    \n",
    "\n",
    "\n",
    "source = \"en\"\n",
    "target = \"es\"\n",
    "nearest = ('es_pajaro', 'es_aves', 'es_ave')\n",
    "word=\"en_bird\"\n",
    "\n",
    "evaluate_prediction_rev(source, target, nearest, 3, word)\n",
    "\n",
    "\n",
    "source = \"en\"\n",
    "target = \"es\"\n",
    "nearest = ('es_necesito', 'es_necesidad', 'es_manzano')\n",
    "word=\"en_need\"\n",
    "evaluate_prediction_rev(source, target, nearest, 3, word)"
   ]
  },
  {
   "cell_type": "code",
   "execution_count": null,
   "metadata": {
    "collapsed": true
   },
   "outputs": [],
   "source": [
    "###OLD VERSION BELOW"
   ]
  },
  {
   "cell_type": "code",
   "execution_count": 64,
   "metadata": {},
   "outputs": [
    {
     "data": {
      "text/plain": [
       "{'bird': ('pajaro', 'aves', 'ave'),\n",
       " 'cat': ('gato', 'elefante', 'perro'),\n",
       " 'display': ('pantalla', 'mostrar', 'espectaculo'),\n",
       " 'need': ('mar', 'comer', 'barba')}"
      ]
     },
     "execution_count": 64,
     "metadata": {},
     "output_type": "execute_result"
    }
   ],
   "source": [
    "# Making a fake dataset to test on\n",
    "valid_words = ['need', 'cat', 'bird', 'display']\n",
    "\n",
    "eval_words={}\n",
    "eval_words[\"need\"] = ('mar', 'comer', 'barba') #0/3 correct\n",
    "eval_words[\"cat\"] = ('gato', 'elefante', 'perro') #1/3 correct\n",
    "eval_words[\"display\"] = ('pantalla', 'mostrar', 'espectaculo') #2/3 correct\n",
    "eval_words[\"bird\"] = ('pajaro', 'aves', 'ave') #3/3 correct\n",
    "\n",
    "eval_words"
   ]
  },
  {
   "cell_type": "code",
   "execution_count": 79,
   "metadata": {
    "collapsed": true
   },
   "outputs": [],
   "source": [
    "def get_translation(source_lang, target_lang, sample):\n",
    "    \"\"\"\n",
    "    Given example source words and the ground truth translations, \n",
    "    evaluate the number of source language words for which one of the top three predictions is the correct translation\n",
    "    (fuzzy measure adopted from stricter Vulic and Moens task which requires that one predicted translation is exactly correct)\n",
    "    \n",
    "    source_lang: a two-letter string representing the source language\n",
    "    target_lang: a two-letter string representing the target language\n",
    "    sample: the words we are interested in evaluating\n",
    "    \"\"\"\n",
    "        \n",
    "    BASE = '/home/rhopper/W266-Fall-2017-Final-Project/BaselineModels/data/ground_truth_translations/'\n",
    "    PATH = BASE + \"%s-%s-clean.txt\" % (source_lang, target_lang)\n",
    "    gtt = pd.read_csv(PATH, names = [source_lang, target_lang], sep=\" \", header=None)\n",
    "    \n",
    "    success=[]\n",
    "    for i in xrange(len(sample)):\n",
    "        word = index[sample[i]]\n",
    "        top_k = 3  # number of nearest neighbors\n",
    "        nearest = (-sim[i, :]).argsort()[1:top_k + 1]\n",
    "        for k in range(top_k):\n",
    "            close_word = reverse_dictionary[nearest[k]] \n",
    "            total_translations = (gtt[gtt[source_lang] == word])\n",
    "            if close_word in total_translations[total_translations.columns[1]]:\n",
    "                success.append(1)\n",
    "            else:\n",
    "                success.append(0)\n",
    "                \n",
    "    return success    "
   ]
  },
  {
   "cell_type": "code",
   "execution_count": null,
   "metadata": {
    "collapsed": true
   },
   "outputs": [],
   "source": [
    "examples"
   ]
  },
  {
   "cell_type": "code",
   "execution_count": 80,
   "metadata": {
    "scrolled": true
   },
   "outputs": [
    {
     "name": "stdout",
     "output_type": "stream",
     "text": [
      "1006         need\n",
      "1007    necesitar\n",
      "1008     necesito\n",
      "1009     necesita\n",
      "1010    necesidad\n",
      "Name: es, dtype: object\n",
      "1006         need\n",
      "1007    necesitar\n",
      "1008     necesito\n",
      "1009     necesita\n",
      "1010    necesidad\n",
      "Name: es, dtype: object\n",
      "1006         need\n",
      "1007    necesitar\n",
      "1008     necesito\n",
      "1009     necesita\n",
      "1010    necesidad\n",
      "Name: es, dtype: object\n",
      "0\n"
     ]
    },
    {
     "data": {
      "text/plain": [
       "0"
      ]
     },
     "execution_count": 80,
     "metadata": {},
     "output_type": "execute_result"
    }
   ],
   "source": [
    "get_accuracy('en', 'es', examples)"
   ]
  }
 ],
 "metadata": {
  "kernelspec": {
   "display_name": "Python 2",
   "language": "python",
   "name": "python2"
  },
  "language_info": {
   "codemirror_mode": {
    "name": "ipython",
    "version": 2
   },
   "file_extension": ".py",
   "mimetype": "text/x-python",
   "name": "python",
   "nbconvert_exporter": "python",
   "pygments_lexer": "ipython2",
   "version": "2.7.13"
  }
 },
 "nbformat": 4,
 "nbformat_minor": 2
}
