{
 "cells": [
  {
   "cell_type": "markdown",
   "metadata": {},
   "source": [
    "# Creating Smaller Vocabularies\n",
    "`w266 Final Project: Crosslingual Word Embeddings`\n",
    "\n",
    "Training was taking too long so we're going to drop down to 10K words in each language and restrict them to words that ARE in the Panlex dictionary."
   ]
  },
  {
   "cell_type": "markdown",
   "metadata": {},
   "source": [
    "### Notebook Setup"
   ]
  },
  {
   "cell_type": "code",
   "execution_count": 1,
   "metadata": {
    "collapsed": true
   },
   "outputs": [],
   "source": [
    "# general imports\n",
    "from __future__ import print_function\n",
    "import time\n",
    "import pickle\n",
    "import numpy as np\n",
    "import pandas as pd\n",
    "import tensorflow as tf\n",
    "import matplotlib.pyplot as plt\n",
    "\n",
    "# tell matplotlib not to open a new window\n",
    "%matplotlib inline\n",
    "\n",
    "# autoreload modules\n",
    "%load_ext autoreload\n",
    "%autoreload 2"
   ]
  },
  {
   "cell_type": "code",
   "execution_count": 41,
   "metadata": {
    "collapsed": true
   },
   "outputs": [],
   "source": [
    "BASE = '/home/miwamoto/Data'\n",
    "PROJ = '/home/mmillervedam/ProjectRepo'\n",
    "#PROJ = '/Users/mona/OneDrive/repos/final_proj/W266-Fall-2017-Final-Project'\n",
    "\n",
    "# vocabularies\n",
    "VOCAB_EN_IT = '/home/mmillervedam/Data/vocab/en_it_index.pkl'\n",
    "VOCAB_EN_NL = BASE + '/vocab/en_nl_index.pkl'\n",
    "VOCAB_EN_ES = BASE + '/vocab/en_es_index.pkl'\n",
    "VOCAB_EN_JA = BASE + '/vocab/en_ja_index.pkl'\n",
    "\n",
    "# panlex dicts\n",
    "PANLEX_EN_IT = BASE + '/panlex/en_it_dict.pkl'\n",
    "PANLEX_EN_NL = BASE + '/panlex/en_nl_dict.pkl'\n",
    "PANLEX_EN_ES = BASE + '/panlex/en_es_dict.pkl'\n",
    "PANLEX_EN_JA = BASE + '/panlex/en_ja_dict.pkl'\n",
    "\n",
    "# directory to save pickled vocab indices\n",
    "SAVE_TO = '/home/mmillervedam/Data/vocab'"
   ]
  },
  {
   "cell_type": "markdown",
   "metadata": {},
   "source": [
    "### Helper Fxns"
   ]
  },
  {
   "cell_type": "code",
   "execution_count": 3,
   "metadata": {
    "collapsed": true
   },
   "outputs": [],
   "source": [
    "def load(panlex_fpath, large_vocab_fpath):\n",
    "    # load panlex dictionary\n",
    "    with open(panlex_fpath,'rb') as f:\n",
    "        translations = pickle.load(f)\n",
    "    print(\"... loaded %s Panlex translations\"%(len(translations)))\n",
    "    \n",
    "    # load larger vocabulary\n",
    "    with open(large_vocab_fpath,'rb') as f:\n",
    "        vocab = pickle.load(f)\n",
    "    nVocab = (len(vocab) - 3)/ 2\n",
    "    print(\"... loaded  vocab with %s words per language\"%(nVocab))\n",
    "    \n",
    "    return (translations, vocab)         "
   ]
  },
  {
   "cell_type": "code",
   "execution_count": 7,
   "metadata": {
    "collapsed": true
   },
   "outputs": [],
   "source": [
    "def make_small_vocab(translations, vocab, N):\n",
    "    \"\"\"\n",
    "    Reduce vocab size to N per language.\n",
    "    And limit to words with translations.\n",
    "    \"\"\"\n",
    "    wordset = set(translations.keys())\n",
    "    nVocab = (len(vocab) - 3)/ 2\n",
    "    new_vocab = []\n",
    "    \n",
    "    # first language\n",
    "    idx = 3\n",
    "    while len(new_vocab) < N:\n",
    "        wrd = vocab[idx]\n",
    "        if wrd in wordset:\n",
    "            new_vocab.append(wrd)\n",
    "        idx += 1\n",
    "        if idx > nVocab + 3:\n",
    "            break\n",
    "    n1 = len(new_vocab)\n",
    "    print(\"... kept %s words from first language\"%(n1))\n",
    "    # second language\n",
    "    idx = 3 + nVocab\n",
    "    while len(new_vocab) < 2 * N:\n",
    "        wrd = vocab[idx]\n",
    "        if wrd in wordset:\n",
    "            new_vocab.append(wrd)\n",
    "        idx += 1\n",
    "        if idx > 2 * nVocab + 2:\n",
    "            break\n",
    "    n2 = len(new_vocab) - n1\n",
    "    print(\"... kept %s words from second language\"%(n2))\n",
    "            \n",
    "    return dict(enumerate(['<s>','</s>','<unk>'] + new_vocab))"
   ]
  },
  {
   "cell_type": "markdown",
   "metadata": {},
   "source": [
    "# English - Italian"
   ]
  },
  {
   "cell_type": "code",
   "execution_count": null,
   "metadata": {},
   "outputs": [],
   "source": [
    "panlex, vocab = load(PANLEX_EN_IT, VOCAB_EN_IT)"
   ]
  },
  {
   "cell_type": "code",
   "execution_count": null,
   "metadata": {},
   "outputs": [],
   "source": [
    "en_it_small = make_small_vocab(panlex, vocab, 10000)"
   ]
  },
  {
   "cell_type": "code",
   "execution_count": null,
   "metadata": {},
   "outputs": [],
   "source": [
    "# take a look / test\n",
    "len(en_it_small)"
   ]
  },
  {
   "cell_type": "code",
   "execution_count": null,
   "metadata": {},
   "outputs": [],
   "source": [
    "# save to file\n",
    "with open(SAVE_TO + '/en_it_small.pkl','wb') as f:\n",
    "    pickle.dump(en_it_small, f, pickle.HIGHEST_PROTOCOL)"
   ]
  },
  {
   "cell_type": "markdown",
   "metadata": {},
   "source": [
    "# English - Dutch"
   ]
  },
  {
   "cell_type": "code",
   "execution_count": 5,
   "metadata": {},
   "outputs": [
    {
     "name": "stdout",
     "output_type": "stream",
     "text": [
      "... loaded 437931 Panlex translations\n",
      "... loaded  vocab with 100000 words per language\n"
     ]
    }
   ],
   "source": [
    "panlex_nl, vocab_nl = load(PANLEX_EN_NL, VOCAB_EN_NL)"
   ]
  },
  {
   "cell_type": "code",
   "execution_count": 8,
   "metadata": {},
   "outputs": [
    {
     "name": "stdout",
     "output_type": "stream",
     "text": [
      "... kept 10000 words from first language\n",
      "... kept 10000 words from second language\n"
     ]
    }
   ],
   "source": [
    "en_nl_small = make_small_vocab(panlex_nl, vocab_nl, 10000)"
   ]
  },
  {
   "cell_type": "code",
   "execution_count": 9,
   "metadata": {},
   "outputs": [
    {
     "data": {
      "text/plain": [
       "20003"
      ]
     },
     "execution_count": 9,
     "metadata": {},
     "output_type": "execute_result"
    }
   ],
   "source": [
    "len(en_nl_small)"
   ]
  },
  {
   "cell_type": "code",
   "execution_count": 10,
   "metadata": {
    "collapsed": true
   },
   "outputs": [],
   "source": [
    "# save to file\n",
    "with open(SAVE_TO + '/en_nl_small.pkl','wb') as f:\n",
    "    pickle.dump(en_nl_small, f, pickle.HIGHEST_PROTOCOL)"
   ]
  },
  {
   "cell_type": "markdown",
   "metadata": {},
   "source": [
    "# English - Spanish"
   ]
  },
  {
   "cell_type": "code",
   "execution_count": 11,
   "metadata": {},
   "outputs": [
    {
     "name": "stdout",
     "output_type": "stream",
     "text": [
      "... loaded 702982 Panlex translations\n",
      "... loaded  vocab with 100000 words per language\n"
     ]
    }
   ],
   "source": [
    "panlex_es, vocab_es = load(PANLEX_EN_ES, VOCAB_EN_ES)"
   ]
  },
  {
   "cell_type": "code",
   "execution_count": 12,
   "metadata": {},
   "outputs": [
    {
     "name": "stdout",
     "output_type": "stream",
     "text": [
      "... kept 10000 words from first language\n",
      "... kept 10000 words from second language\n"
     ]
    }
   ],
   "source": [
    "en_es_small = make_small_vocab(panlex_es, vocab_es, 10000)"
   ]
  },
  {
   "cell_type": "code",
   "execution_count": 29,
   "metadata": {},
   "outputs": [
    {
     "data": {
      "text/plain": [
       "20003"
      ]
     },
     "execution_count": 29,
     "metadata": {},
     "output_type": "execute_result"
    }
   ],
   "source": [
    "# first check\n",
    "len(en_es_small)"
   ]
  },
  {
   "cell_type": "code",
   "execution_count": 35,
   "metadata": {},
   "outputs": [
    {
     "name": "stdout",
     "output_type": "stream",
     "text": [
      "True\n",
      "True\n"
     ]
    }
   ],
   "source": [
    "# second check\n",
    "print('es_hoy' in set(en_es_small.values()))\n",
    "print('es_mundo' in set(en_es_small.values()))"
   ]
  },
  {
   "cell_type": "code",
   "execution_count": 33,
   "metadata": {},
   "outputs": [
    {
     "data": {
      "text/plain": [
       "'es_la'"
      ]
     },
     "execution_count": 33,
     "metadata": {},
     "output_type": "execute_result"
    }
   ],
   "source": [
    "# third check\n",
    "en_es_small[10004]"
   ]
  },
  {
   "cell_type": "code",
   "execution_count": 20,
   "metadata": {
    "collapsed": true
   },
   "outputs": [],
   "source": [
    "# save to file\n",
    "with open(SAVE_TO + '/en_es_small.pkl','wb') as f:\n",
    "    pickle.dump(en_es_small, f, pickle.HIGHEST_PROTOCOL)"
   ]
  },
  {
   "cell_type": "markdown",
   "metadata": {},
   "source": [
    "# English - Japanese"
   ]
  },
  {
   "cell_type": "code",
   "execution_count": 42,
   "metadata": {},
   "outputs": [
    {
     "name": "stdout",
     "output_type": "stream",
     "text": [
      "... loaded 634705 Panlex translations\n",
      "... loaded  vocab with 100000 words per language\n"
     ]
    }
   ],
   "source": [
    "panlex_ja, vocab_ja = load(PANLEX_EN_JA, VOCAB_EN_JA)"
   ]
  },
  {
   "cell_type": "code",
   "execution_count": 43,
   "metadata": {},
   "outputs": [
    {
     "name": "stdout",
     "output_type": "stream",
     "text": [
      "... kept 10000 words from first language\n",
      "... kept 10000 words from second language\n"
     ]
    }
   ],
   "source": [
    "en_ja_small = make_small_vocab(panlex_ja, vocab_ja, 10000)"
   ]
  },
  {
   "cell_type": "code",
   "execution_count": 44,
   "metadata": {},
   "outputs": [
    {
     "data": {
      "text/plain": [
       "20003"
      ]
     },
     "execution_count": 44,
     "metadata": {},
     "output_type": "execute_result"
    }
   ],
   "source": [
    "# first check\n",
    "len(en_ja_small)"
   ]
  },
  {
   "cell_type": "code",
   "execution_count": 46,
   "metadata": {},
   "outputs": [
    {
     "data": {
      "text/plain": [
       "True"
      ]
     },
     "execution_count": 46,
     "metadata": {},
     "output_type": "execute_result"
    }
   ],
   "source": [
    "# second check\n",
    "'en_fun' in set(en_ja_small.values())"
   ]
  },
  {
   "cell_type": "code",
   "execution_count": 47,
   "metadata": {},
   "outputs": [
    {
     "data": {
      "text/plain": [
       "'ja_\\xe6\\x9c\\x88'"
      ]
     },
     "execution_count": 47,
     "metadata": {},
     "output_type": "execute_result"
    }
   ],
   "source": [
    "# third check\n",
    "en_ja_small[10004]"
   ]
  },
  {
   "cell_type": "code",
   "execution_count": 48,
   "metadata": {
    "collapsed": true
   },
   "outputs": [],
   "source": [
    "# save to file\n",
    "with open(SAVE_TO + '/en_ja_small.pkl','wb') as f:\n",
    "    pickle.dump(en_ja_small, f, pickle.HIGHEST_PROTOCOL)"
   ]
  },
  {
   "cell_type": "code",
   "execution_count": null,
   "metadata": {
    "collapsed": true
   },
   "outputs": [],
   "source": []
  }
 ],
 "metadata": {
  "kernelspec": {
   "display_name": "Python 2",
   "language": "python",
   "name": "python2"
  },
  "language_info": {
   "codemirror_mode": {
    "name": "ipython",
    "version": 2
   },
   "file_extension": ".py",
   "mimetype": "text/x-python",
   "name": "python",
   "nbconvert_exporter": "python",
   "pygments_lexer": "ipython2",
   "version": "2.7.13"
  }
 },
 "nbformat": 4,
 "nbformat_minor": 2
}
