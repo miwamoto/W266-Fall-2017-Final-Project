{
 "cells": [
  {
   "cell_type": "markdown",
   "metadata": {},
   "source": [
    "# Simple Substitution\n",
    "`w266 Final Project: Crosslingual Word Embeddings`\n",
    "\n",
    "The code in this notebook was used to develop an algorithm to generate crosslingual word embeddings by training on a monolingual corpus and substituting translations at runtime."
   ]
  },
  {
   "cell_type": "markdown",
   "metadata": {},
   "source": [
    "# Notebook Setup"
   ]
  },
  {
   "cell_type": "code",
   "execution_count": 1,
   "metadata": {},
   "outputs": [],
   "source": [
    "# general imports\n",
    "import os\n",
    "import re\n",
    "import sys\n",
    "import itertools\n",
    "import numpy as np\n",
    "import pandas as pd\n",
    "import matplotlib.pyplot as plt\n",
    "from __future__ import print_function\n",
    "# tell matplotlib not to open a new window\n",
    "%matplotlib inline\n",
    "# autoreload modules\n",
    "%load_ext autoreload\n",
    "%autoreload 2"
   ]
  },
  {
   "cell_type": "code",
   "execution_count": 44,
   "metadata": {},
   "outputs": [],
   "source": [
    "# filepaths\n",
    "BASE = '~/Documents/MIDS/w266/Data' #'/home/mmillervedam/Data'\n",
    "PROJ = '~/Documents/MIDS/w266/FinalProject'#'/home/mmillervedam/ProjectRepo'\n",
    "FPATH_EN = BASE + '/test/wiki_en_10K.txt' # first 10000 lines from wiki dump\n",
    "FPATH_ES = BASE + '/test/wiki_es_10K.txt' # first 10000 lines from wiki dump\n",
    "#FULL_EN = BASE + '/en/full.txt'\n",
    "#FULL_ES = BASE + '/es/full.txt'\n",
    "EN_ES_DICT = PROJ +'/XlingualEmb/data/dicts/en.es.panlex.all.processed'\n",
    "EN_IT_DICT  = PROJ +'/XlingualEmb/data/dicts/en.it.panlex.all.processed'\n",
    "EN_IT_RAW = PROJ + '/XlingualEmb/data/mono/en_it.shuf.10k'\n",
    "EN_IT_RAW = \"/Users/mmillervedam/Documents/MIDS/w266/FinalProject/XlingualEmb/data/mono/en_it.shuf.10k\""
   ]
  },
  {
   "cell_type": "markdown",
   "metadata": {},
   "source": [
    "# Load & Preprocess Data\n",
    "__`ORIGINAL AUTHORS SAY:`__ \"Normally, the monolingual word embeddings are trained on billions of words. However, getting that much of monolingual data for a low-resource language is also challenging. That is why we only select the top 5 million sentences (around 100 million words) for each language.\" - _Section 5.1, Duong et. al._ "
   ]
  },
  {
   "cell_type": "code",
   "execution_count": 21,
   "metadata": {},
   "outputs": [],
   "source": [
    "from parsing import Corpus, Vocabulary, batch_generator"
   ]
  },
  {
   "cell_type": "markdown",
   "metadata": {},
   "source": [
    "### Corpus"
   ]
  },
  {
   "cell_type": "code",
   "execution_count": 45,
   "metadata": {},
   "outputs": [],
   "source": [
    "# load corpus\n",
    "en_it_data = Corpus(EN_IT_RAW)"
   ]
  },
  {
   "cell_type": "code",
   "execution_count": 46,
   "metadata": {},
   "outputs": [
    {
     "name": "stdout",
     "output_type": "stream",
     "text": [
      "   20000  430928 3746786 /Users/mmillervedam/Documents/MIDS/w266/FinalProject/XlingualEmb/data/mono/en_it.shuf.10k\r\n"
     ]
    }
   ],
   "source": [
    "# Corpus Stats\n",
    "!wc {EN_IT_RAW}"
   ]
  },
  {
   "cell_type": "markdown",
   "metadata": {},
   "source": [
    "__`i.e.:`__ 20K sentences (10K in each language) with ~430K tokens\n",
    "> So this must not be their full data For now, I'm just going to look at the top 20K words and see what happens. In reality we should probably modify the Vocab class so that it explicily collects the top words for each language separately and then concatenates the index."
   ]
  },
  {
   "cell_type": "markdown",
   "metadata": {},
   "source": [
    "### Dictionary"
   ]
  },
  {
   "cell_type": "code",
   "execution_count": 23,
   "metadata": {},
   "outputs": [],
   "source": [
    "# loading english-italian dictionary\n",
    "pld = pd.read_csv(EN_IT_DICT, sep='\\t', names = ['en', 'it'], dtype=str)\n",
    "en_set = set(pld.en.unique())\n",
    "it_set = set(pld.it.unique())"
   ]
  },
  {
   "cell_type": "code",
   "execution_count": 24,
   "metadata": {},
   "outputs": [
    {
     "name": "stdout",
     "output_type": "stream",
     "text": [
      "EN: 356410\n",
      "IT: 346572\n"
     ]
    }
   ],
   "source": [
    "# dictionary vocab lengths:\n",
    "print('EN:', len(en_set))\n",
    "print('IT:', len(it_set))"
   ]
  },
  {
   "cell_type": "markdown",
   "metadata": {},
   "source": [
    "### Vocabulary"
   ]
  },
  {
   "cell_type": "code",
   "execution_count": 50,
   "metadata": {},
   "outputs": [],
   "source": [
    "# train multilingual Vocabulary# create vocab\n",
    "en_it_vocab = Vocabulary(en_it_data.gen_tokens(), size = 100000)"
   ]
  },
  {
   "cell_type": "markdown",
   "metadata": {},
   "source": [
    "### CBOW Data Generator\n",
    "__`check paper re: window size!`__"
   ]
  },
  {
   "cell_type": "code",
   "execution_count": 52,
   "metadata": {},
   "outputs": [],
   "source": [
    "BATCH_SIZE = 48\n",
    "WINDOW_SIZE = 48\n",
    "MAX_EPOCHS = 1 # fail safe"
   ]
  },
  {
   "cell_type": "code",
   "execution_count": 53,
   "metadata": {},
   "outputs": [],
   "source": [
    "batches = batch_generator(en_it_data, \n",
    "                          en_it_vocab, \n",
    "                          BATCH_SIZE, \n",
    "                          WINDOW_SIZE, \n",
    "                          MAX_EPOCHS)"
   ]
  },
  {
   "cell_type": "code",
   "execution_count": 54,
   "metadata": {},
   "outputs": [
    {
     "name": "stdout",
     "output_type": "stream",
     "text": [
      "[[0, 1], [0, 1], [34, 17318, 1638, 310, 5734, 7, 35, 3213, 60, 4449, 8437, 10, 17821, 7, 44, 6805, 20, 940, 10, 46246, 14232, 300, 41, 19895, 10, 737, 50, 7043, 7, 8057, 613, 20841, 48199, 29, 784, 4081, 2458, 7, 274, 41, 27292, 60, 4449, 8437, 11, 1], [17318, 1638, 310, 5734, 7, 35, 3213, 60, 4449, 8437, 10, 17821, 7, 44, 6805, 20, 940, 10, 46246, 14232, 300, 41, 19895, 10, 737, 50, 7043, 7, 8057, 613, 20841, 48199, 29, 784, 4081, 2458, 7, 274, 41, 27292, 60, 4449, 8437, 11, 1], [1638, 310, 5734, 7, 35, 3213, 60, 4449, 8437, 10, 17821, 7, 44, 6805, 20, 940, 10, 46246, 14232, 300, 41, 19895, 10, 737, 50, 7043, 7, 8057, 613, 20841, 48199, 29, 784, 4081, 2458, 7, 274, 41, 27292, 60, 4449, 8437, 11, 1], [310, 5734, 7, 35, 3213, 60, 4449, 8437, 10, 17821, 7, 44, 6805, 20, 940, 10, 46246, 14232, 300, 41, 19895, 10, 737, 50, 7043, 7, 8057, 613, 20841, 48199, 29, 784, 4081, 2458, 7, 274, 41, 27292, 60, 4449, 8437, 11, 1], [5734, 7, 35, 3213, 60, 4449, 8437, 10, 17821, 7, 44, 6805, 20, 940, 10, 46246, 14232, 300, 41, 19895, 10, 737, 50, 7043, 7, 8057, 613, 20841, 48199, 29, 784, 4081, 2458, 7, 274, 41, 27292, 60, 4449, 8437, 11, 1], [7, 35, 3213, 60, 4449, 8437, 10, 17821, 7, 44, 6805, 20, 940, 10, 46246, 14232, 300, 41, 19895, 10, 737, 50, 7043, 7, 8057, 613, 20841, 48199, 29, 784, 4081, 2458, 7, 274, 41, 27292, 60, 4449, 8437, 11, 1], [35, 3213, 60, 4449, 8437, 10, 17821, 7, 44, 6805, 20, 940, 10, 46246, 14232, 300, 41, 19895, 10, 737, 50, 7043, 7, 8057, 613, 20841, 48199, 29, 784, 4081, 2458, 7, 274, 41, 27292, 60, 4449, 8437, 11, 1], [3213, 60, 4449, 8437, 10, 17821, 7, 44, 6805, 20, 940, 10, 46246, 14232, 300, 41, 19895, 10, 737, 50, 7043, 7, 8057, 613, 20841, 48199, 29, 784, 4081, 2458, 7, 274, 41, 27292, 60, 4449, 8437, 11, 1], [60, 4449, 8437, 10, 17821, 7, 44, 6805, 20, 940, 10, 46246, 14232, 300, 41, 19895, 10, 737, 50, 7043, 7, 8057, 613, 20841, 48199, 29, 784, 4081, 2458, 7, 274, 41, 27292, 60, 4449, 8437, 11, 1], [4449, 8437, 10, 17821, 7, 44, 6805, 20, 940, 10, 46246, 14232, 300, 41, 19895, 10, 737, 50, 7043, 7, 8057, 613, 20841, 48199, 29, 784, 4081, 2458, 7, 274, 41, 27292, 60, 4449, 8437, 11, 1], [8437, 10, 17821, 7, 44, 6805, 20, 940, 10, 46246, 14232, 300, 41, 19895, 10, 737, 50, 7043, 7, 8057, 613, 20841, 48199, 29, 784, 4081, 2458, 7, 274, 41, 27292, 60, 4449, 8437, 11, 1], [10, 17821, 7, 44, 6805, 20, 940, 10, 46246, 14232, 300, 41, 19895, 10, 737, 50, 7043, 7, 8057, 613, 20841, 48199, 29, 784, 4081, 2458, 7, 274, 41, 27292, 60, 4449, 8437, 11, 1], [17821, 7, 44, 6805, 20, 940, 10, 46246, 14232, 300, 41, 19895, 10, 737, 50, 7043, 7, 8057, 613, 20841, 48199, 29, 784, 4081, 2458, 7, 274, 41, 27292, 60, 4449, 8437, 11, 1], [7, 44, 6805, 20, 940, 10, 46246, 14232, 300, 41, 19895, 10, 737, 50, 7043, 7, 8057, 613, 20841, 48199, 29, 784, 4081, 2458, 7, 274, 41, 27292, 60, 4449, 8437, 11, 1], [44, 6805, 20, 940, 10, 46246, 14232, 300, 41, 19895, 10, 737, 50, 7043, 7, 8057, 613, 20841, 48199, 29, 784, 4081, 2458, 7, 274, 41, 27292, 60, 4449, 8437, 11, 1], [6805, 20, 940, 10, 46246, 14232, 300, 41, 19895, 10, 737, 50, 7043, 7, 8057, 613, 20841, 48199, 29, 784, 4081, 2458, 7, 274, 41, 27292, 60, 4449, 8437, 11, 1], [20, 940, 10, 46246, 14232, 300, 41, 19895, 10, 737, 50, 7043, 7, 8057, 613, 20841, 48199, 29, 784, 4081, 2458, 7, 274, 41, 27292, 60, 4449, 8437, 11, 1], [940, 10, 46246, 14232, 300, 41, 19895, 10, 737, 50, 7043, 7, 8057, 613, 20841, 48199, 29, 784, 4081, 2458, 7, 274, 41, 27292, 60, 4449, 8437, 11, 1], [10, 46246, 14232, 300, 41, 19895, 10, 737, 50, 7043, 7, 8057, 613, 20841, 48199, 29, 784, 4081, 2458, 7, 274, 41, 27292, 60, 4449, 8437, 11, 1], [46246, 14232, 300, 41, 19895, 10, 737, 50, 7043, 7, 8057, 613, 20841, 48199, 29, 784, 4081, 2458, 7, 274, 41, 27292, 60, 4449, 8437, 11, 1], [14232, 300, 41, 19895, 10, 737, 50, 7043, 7, 8057, 613, 20841, 48199, 29, 784, 4081, 2458, 7, 274, 41, 27292, 60, 4449, 8437, 11, 1], [300, 41, 19895, 10, 737, 50, 7043, 7, 8057, 613, 20841, 48199, 29, 784, 4081, 2458, 7, 274, 41, 27292, 60, 4449, 8437, 11, 1], [41, 19895, 10, 737, 50, 7043, 7, 8057, 613, 20841, 48199, 29, 784, 4081, 2458, 7, 274, 41, 27292, 60, 4449, 8437, 11, 1], [19895, 10, 737, 50, 7043, 7, 8057, 613, 20841, 48199, 29, 784, 4081, 2458, 7, 274, 41, 27292, 60, 4449, 8437, 11, 1], [10, 737, 50, 7043, 7, 8057, 613, 20841, 48199, 29, 784, 4081, 2458, 7, 274, 41, 27292, 60, 4449, 8437, 11, 1], [737, 50, 7043, 7, 8057, 613, 20841, 48199, 29, 784, 4081, 2458, 7, 274, 41, 27292, 60, 4449, 8437, 11, 1], [50, 7043, 7, 8057, 613, 20841, 48199, 29, 784, 4081, 2458, 7, 274, 41, 27292, 60, 4449, 8437, 11, 1], [7043, 7, 8057, 613, 20841, 48199, 29, 784, 4081, 2458, 7, 274, 41, 27292, 60, 4449, 8437, 11, 1], [7, 8057, 613, 20841, 48199, 29, 784, 4081, 2458, 7, 274, 41, 27292, 60, 4449, 8437, 11, 1], [8057, 613, 20841, 48199, 29, 784, 4081, 2458, 7, 274, 41, 27292, 60, 4449, 8437, 11, 1], [613, 20841, 48199, 29, 784, 4081, 2458, 7, 274, 41, 27292, 60, 4449, 8437, 11, 1], [20841, 48199, 29, 784, 4081, 2458, 7, 274, 41, 27292, 60, 4449, 8437, 11, 1], [48199, 29, 784, 4081, 2458, 7, 274, 41, 27292, 60, 4449, 8437, 11, 1], [29, 784, 4081, 2458, 7, 274, 41, 27292, 60, 4449, 8437, 11, 1], [784, 4081, 2458, 7, 274, 41, 27292, 60, 4449, 8437, 11, 1], [4081, 2458, 7, 274, 41, 27292, 60, 4449, 8437, 11, 1], [2458, 7, 274, 41, 27292, 60, 4449, 8437, 11, 1], [7, 274, 41, 27292, 60, 4449, 8437, 11, 1], [274, 41, 27292, 60, 4449, 8437, 11, 1], [41, 27292, 60, 4449, 8437, 11, 1], [27292, 60, 4449, 8437, 11, 1], [60, 4449, 8437, 11, 1], [4449, 8437, 11, 1], [8437, 11, 1], [11, 1], [1]] [25668, 37957, 20, 34, 17318, 1638, 310, 5734, 7, 35, 3213, 60, 4449, 8437, 10, 17821, 7, 44, 6805, 20, 940, 10, 46246, 14232, 300, 41, 19895, 10, 737, 50, 7043, 7, 8057, 613, 20841, 48199, 29, 784, 4081, 2458, 7, 274, 41, 27292, 60, 4449, 8437, 11]\n"
     ]
    }
   ],
   "source": [
    "for context, label in batches:\n",
    "    print(context, label)\n",
    "    break"
   ]
  },
  {
   "cell_type": "code",
   "execution_count": null,
   "metadata": {},
   "outputs": [],
   "source": []
  }
 ],
 "metadata": {
  "kernelspec": {
   "display_name": "Python 2",
   "language": "python",
   "name": "python2"
  },
  "language_info": {
   "codemirror_mode": {
    "name": "ipython",
    "version": 2
   },
   "file_extension": ".py",
   "mimetype": "text/x-python",
   "name": "python",
   "nbconvert_exporter": "python",
   "pygments_lexer": "ipython2",
   "version": "2.7.13"
  },
  "toc": {
   "nav_menu": {},
   "number_sections": false,
   "sideBar": false,
   "skip_h1_title": false,
   "toc_cell": false,
   "toc_position": {},
   "toc_section_display": "block",
   "toc_window_display": true
  }
 },
 "nbformat": 4,
 "nbformat_minor": 2
}
