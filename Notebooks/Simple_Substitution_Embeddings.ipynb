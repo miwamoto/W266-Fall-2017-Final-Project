{
 "cells": [
  {
   "cell_type": "markdown",
   "metadata": {},
   "source": [
    "# Simple Substitution\n",
    "`w266 Final Project: Crosslingual Word Embeddings`\n",
    "\n",
    "The code in this notebook was used to develop an algorithm to generate crosslingual word embeddings by training on a monolingual corpus and substituting translations at runtime."
   ]
  },
  {
   "cell_type": "markdown",
   "metadata": {},
   "source": [
    "# Notebook Setup"
   ]
  },
  {
   "cell_type": "code",
   "execution_count": 1,
   "metadata": {
    "collapsed": true
   },
   "outputs": [],
   "source": [
    "# general imports\n",
    "from __future__ import print_function\n",
    "import numpy as np\n",
    "import pandas as pd\n",
    "import matplotlib.pyplot as plt\n",
    "\n",
    "# tell matplotlib not to open a new window\n",
    "%matplotlib inline\n",
    "\n",
    "# autoreload modules\n",
    "%load_ext autoreload\n",
    "%autoreload 2"
   ]
  },
  {
   "cell_type": "code",
   "execution_count": 9,
   "metadata": {
    "collapsed": true
   },
   "outputs": [],
   "source": [
    "# filepaths\n",
    "BASE = '/Users/mmillervedam/Documents/MIDS/w266' #'/home/mmillervedam/' \n",
    "PROJ = '/Users/mmillervedam/Documents/MIDS/w266/FinalProject'#'/home/mmillervedam/ProjectRepo'\n",
    "FPATH_EN = BASE + '/Data/test/wiki_en_10K.txt' # first 10000 lines from wiki dump\n",
    "FPATH_ES = BASE + '/Data/test/wiki_es_10K.txt' # first 10000 lines from wiki dump\n",
    "#FULL_EN = BASE + '/Data/en/full.txt'\n",
    "#FULL_ES = BASE + '/Data/es/full.txt'\n",
    "EN_ES_DICT = PROJ +'/XlingualEmb/data/dicts/en.es.panlex.all.processed'\n",
    "EN_IT_DICT  = PROJ +'/XlingualEmb/data/dicts/en.it.panlex.all.processed'\n",
    "EN_IT_RAW = PROJ + '/XlingualEmb/data/mono/en_it.shuf.10k'\n",
    "EN_IT_RAW = PROJ + '/XlingualEmb/data/mono/en_it.shuf.10k'"
   ]
  },
  {
   "cell_type": "markdown",
   "metadata": {},
   "source": [
    "# Load & Preprocess Data\n",
    "__`ORIGINAL AUTHORS SAY:`__ \"Normally, the monolingual word embeddings are trained on billions of words. However, getting that much of monolingual data for a low-resource language is also challenging. That is why we only select the top 5 million sentences (around 100 million words) for each language.\" - _Section 5.1, Duong et. al._ "
   ]
  },
  {
   "cell_type": "code",
   "execution_count": 3,
   "metadata": {
    "collapsed": true
   },
   "outputs": [],
   "source": [
    "from parsing import Corpus, Vocabulary, batch_generator"
   ]
  },
  {
   "cell_type": "markdown",
   "metadata": {},
   "source": [
    "### Corpus"
   ]
  },
  {
   "cell_type": "code",
   "execution_count": 11,
   "metadata": {
    "collapsed": true
   },
   "outputs": [],
   "source": [
    "# load corpus\n",
    "en_it_data = Corpus(EN_IT_RAW)"
   ]
  },
  {
   "cell_type": "code",
   "execution_count": 12,
   "metadata": {
    "collapsed": false
   },
   "outputs": [
    {
     "name": "stdout",
     "output_type": "stream",
     "text": [
      "   20000  430928 3746786 /Users/mmillervedam/Documents/MIDS/w266/FinalProject/XlingualEmb/data/mono/en_it.shuf.10k\r\n"
     ]
    }
   ],
   "source": [
    "# Corpus Stats\n",
    "!wc {EN_IT_RAW}"
   ]
  },
  {
   "cell_type": "markdown",
   "metadata": {},
   "source": [
    "__`i.e.:`__ 20K sentences (10K in each language) with ~430K tokens\n",
    "> So this must not be their full data For now, I'm just going to look at the top 20K words and see what happens. In reality we should probably modify the Vocab class so that it explicily collects the top words for each language separately and then concatenates the index."
   ]
  },
  {
   "cell_type": "markdown",
   "metadata": {},
   "source": [
    "### Dictionary"
   ]
  },
  {
   "cell_type": "code",
   "execution_count": 13,
   "metadata": {
    "collapsed": false
   },
   "outputs": [],
   "source": [
    "# loading english-italian dictionary\n",
    "pld = pd.read_csv(EN_IT_DICT, sep='\\t', names = ['en', 'it'], dtype=str)\n",
    "en_set = set(pld.en.unique())\n",
    "it_set = set(pld.it.unique())"
   ]
  },
  {
   "cell_type": "code",
   "execution_count": 93,
   "metadata": {
    "collapsed": false
   },
   "outputs": [
    {
     "name": "stdout",
     "output_type": "stream",
     "text": [
      "EN: 266450\n",
      "IT: 258641\n"
     ]
    }
   ],
   "source": [
    "# dictionary vocab lengths:\n",
    "print('EN:', len(en_set))\n",
    "print('IT:', len(it_set))"
   ]
  },
  {
   "cell_type": "code",
   "execution_count": 127,
   "metadata": {
    "collapsed": true
   },
   "outputs": [],
   "source": [
    "# Create dictionary for ease of runtime translation\n",
    "# WARNING this takes a sec to run\n",
    "bi_dict = pld.groupby(['en'])['it'].unique().to_dict()"
   ]
  },
  {
   "cell_type": "code",
   "execution_count": 129,
   "metadata": {
    "collapsed": true
   },
   "outputs": [],
   "source": [
    "# add other direction\n",
    "# WARNING this takes another sec to run\n",
    "bi_dict.update(pld.groupby(['it'])['en'].unique().to_dict())"
   ]
  },
  {
   "cell_type": "code",
   "execution_count": 130,
   "metadata": {
    "collapsed": false
   },
   "outputs": [
    {
     "data": {
      "text/plain": [
       "array(['it_aggirare', 'it_andai', 'it_andara', 'it_andare',\n",
       "       'it_andare_avanti'], dtype=object)"
      ]
     },
     "execution_count": 130,
     "metadata": {},
     "output_type": "execute_result"
    }
   ],
   "source": [
    "# demo en to it\n",
    "bi_dict['en_go'][:5]"
   ]
  },
  {
   "cell_type": "code",
   "execution_count": 134,
   "metadata": {
    "collapsed": false
   },
   "outputs": [
    {
     "data": {
      "text/plain": [
       "array(['en_adieu', 'en_bye-bye', 'en_bye', 'en_cheerio', 'en_ciao'], dtype=object)"
      ]
     },
     "execution_count": 134,
     "metadata": {},
     "output_type": "execute_result"
    }
   ],
   "source": [
    "# demo it to en\n",
    "bi_dict['it_ciao'][:5]"
   ]
  },
  {
   "cell_type": "markdown",
   "metadata": {},
   "source": [
    "### Vocabulary"
   ]
  },
  {
   "cell_type": "code",
   "execution_count": 16,
   "metadata": {
    "collapsed": true
   },
   "outputs": [],
   "source": [
    "# train multilingual Vocabulary\n",
    "en_it_vocab = Vocabulary(en_it_data.gen_tokens(), size = 100000)"
   ]
  },
  {
   "cell_type": "markdown",
   "metadata": {},
   "source": [
    "### CBOW Data Generator\n",
    "__`CHECK PAPER for HYPERPARAMS!`__: I can't seem to find where they talk abou the context window size, embedding size and batch size they use -- it may actually be in the Vulic and Moens paper instead of the Duong one.\n",
    "\n",
    "__`RLH Update`__: Duong et al. section 6, footnote 4: \"Default learning rate of 0.025, negative sampling with 25 samples, subsampling rate of value 1e−4, embedding dimension d = 200, window size cs = 48 and run for 15 epochs\"\n"
   ]
  },
  {
   "cell_type": "code",
   "execution_count": 161,
   "metadata": {
    "collapsed": true
   },
   "outputs": [],
   "source": [
    "BATCH_SIZE = 48\n",
    "WINDOW_SIZE = 1\n",
    "MAX_EPOCHS = 1 # fail safe"
   ]
  },
  {
   "cell_type": "code",
   "execution_count": 162,
   "metadata": {
    "collapsed": true
   },
   "outputs": [],
   "source": [
    "batched_data = batch_generator(en_it_data, \n",
    "                               en_it_vocab, \n",
    "                               BATCH_SIZE, \n",
    "                               WINDOW_SIZE, \n",
    "                               MAX_EPOCHS)"
   ]
  },
  {
   "cell_type": "code",
   "execution_count": 163,
   "metadata": {
    "collapsed": false
   },
   "outputs": [
    {
     "name": "stdout",
     "output_type": "stream",
     "text": [
      "CONTEXT IDS: [[0, 1], [0, 1], [0, 34], [20, 17318], [34, 1638]]\n",
      "LABEL IDS: [25668, 37957, 20, 34, 17318]\n"
     ]
    }
   ],
   "source": [
    "# sanity check\n",
    "for context, label in batched_data:\n",
    "    print(\"CONTEXT IDS:\", context[:5])\n",
    "    print(\"LABEL IDS:\", label[:5])\n",
    "    break"
   ]
  },
  {
   "cell_type": "markdown",
   "metadata": {},
   "source": [
    "# Base Model - no word sub yet!\n",
    "__`CODE NOTES:`__ To get this running I had to hard code the context length (set to 2) inside `BuildCoreGraph()` where we generate `self.input_` in line 102. That should really be inferred from the `self.context_` itself but it doesn't seem to like the placeholder dimension (we don't have a span length until runtime). Does tensorflow not have a vectorized average? Something to fix (later). I also had to hard code the number of samples for softmax (I had originally put this as a `tf.placeholder_with_default` thinking we could pass it in to the training function (since its a training parameter) but TF kicked out an error message asking for an integer so for now I'll just give it what it wants. I need to think more about why TF doesn't want this changing from batch to batch. (or if there is another reason it wants an int)."
   ]
  },
  {
   "cell_type": "markdown",
   "metadata": {},
   "source": [
    "### Initialize the model"
   ]
  },
  {
   "cell_type": "code",
   "execution_count": 83,
   "metadata": {
    "collapsed": true
   },
   "outputs": [],
   "source": [
    "from models import BiW2V\n",
    "\n",
    "EMBEDDING_SIZE = 128\n",
    "\n",
    "# create model\n",
    "model = BiW2V(index = en_it_vocab.index, H = EMBEDDING_SIZE)\n",
    "\n",
    "# intialize TF graphs\n",
    "model.BuildCoreGraph()\n",
    "model.BuildTrainingGraph()\n",
    "model.BuildValidationGraph()"
   ]
  },
  {
   "cell_type": "markdown",
   "metadata": {},
   "source": [
    "### Training\n",
    "\n",
    "__`IMPORTANT!`__ right now the model only works with a window of 1 because the feed dict can't handle context windows of different lengths. We'll either need to figure out how to have a variable length dimension or else add extra padding to the sentences to account for the window size."
   ]
  },
  {
   "cell_type": "code",
   "execution_count": 147,
   "metadata": {
    "collapsed": false
   },
   "outputs": [
    {
     "name": "stdout",
     "output_type": "stream",
     "text": [
      "... Model Initialized\n",
      "\t <tf.Variable 'Embedding_Layer/ContextEmbeddings:0' shape=(48579, 128) dtype=float32_ref>\n",
      "\t <tf.Variable 'Hidden_Layer/WordEmbeddings:0' shape=(48579, 128) dtype=float32_ref>\n",
      "\t <tf.Variable 'Hidden_Layer/b:0' shape=(48579,) dtype=float32_ref>\n",
      "... Starting Training\n",
      "Average loss at step  0 :  0.308523583412\n",
      "   Nearest to _en_the: _it_discrasia, _it_residenziali, _it_bulgharo, _en_gunboats, _it_mathematici, _en_william, _en_fifty-fifty, _it_3a,\n",
      "   Nearest to _en_,: _en_roller, _en_ph., _it_1653, _en_anti-elitist, _it_incorrere, _en_too, _en_murdering, _it_macrofagi,\n",
      "   Nearest to _en_.: _it_bavier, _en_naming, _en_spore, _it_rodigina, _it_all'accademia, _it_caselle, _it_passatempi, _en_evil,\n",
      "   Nearest to _en_of: _en_brasfield, _it_automatica, _en_briton, _it_blücher, _it_bjarsmyr, _en_adulthood, _en_[[620]], _en_rulers,\n",
      "   Nearest to _it_,: _it_juni, _en_leaning, _en_cliff, _it_registri, _it_torrette, _it_restaurati, _en_adulation, _en_precipitation,\n",
      "Average loss at step  20 :  6.84097805023\n",
      "Average loss at step  40 :  6.48690218925\n",
      "   Nearest to _en_the: _it_discrasia, _it_bulgharo, _it_residenziali, _en_gunboats, _en_william, _it_mathematici, _en_fifty-fifty, _it_gruppi,\n",
      "   Nearest to _en_,: _en_roller, _en_ph., _it_1653, _en_anti-elitist, _it_incorrere, _en_too, _it_macrofagi, _en_murdering,\n",
      "   Nearest to _en_.: _it_bavier, _en_naming, _en_spore, _it_rodigina, _it_all'accademia, _it_caselle, _it_passatempi, _en_evil,\n",
      "   Nearest to _en_of: _en_brasfield, _it_automatica, _en_briton, _it_blücher, _it_bjarsmyr, _en_adulthood, _en_[[620]], _it_faux,\n",
      "   Nearest to _it_,: _it_juni, _en_leaning, _en_cliff, _it_registri, _it_torrette, _it_restaurati, _en_adulation, _en_precipitation,\n",
      "Average loss at step  60 :  6.48206951618\n",
      "Average loss at step  80 :  6.30019104481\n",
      "   Nearest to _en_the: _it_discrasia, _it_residenziali, _it_bulgharo, _en_gunboats, _en_william, _it_mathematici, _en_fifty-fifty, _it_gruppi,\n",
      "   Nearest to _en_,: _en_roller, _en_ph., _it_1653, _en_anti-elitist, _it_incorrere, _en_too, _en_denoting, _it_macrofagi,\n",
      "   Nearest to _en_.: _it_bavier, _en_spore, _en_naming, _it_all'accademia, _it_rodigina, _it_caselle, _it_passatempi, _en_evil,\n",
      "   Nearest to _en_of: _en_briton, _en_brasfield, _it_automatica, _it_blücher, _it_bjarsmyr, _en_adulthood, _it_faux, _it_discografia,\n",
      "   Nearest to _it_,: _it_juni, _en_leaning, _it_registri, _en_cliff, _it_torrette, _it_restaurati, _en_adulation, _en_precipitation,\n",
      "Average loss at step  100 :  6.09958968163\n",
      "Average loss at step  120 :  5.68397293091\n",
      "   Nearest to _en_the: _it_discrasia, _it_residenziali, _it_bulgharo, _en_gunboats, _it_gruppi, _en_william, _en_federal, _it_mathematici,\n",
      "   Nearest to _en_,: _en_roller, _en_anti-elitist, _en_ph., _it_1653, _it_incorrere, _en_too, _it_macrofagi, _en_salary,\n",
      "   Nearest to _en_.: _it_bavier, _en_spore, _en_naming, _it_all'accademia, _it_caselle, _it_rodigina, _it_passatempi, _en_tungara,\n",
      "   Nearest to _en_of: _en_brasfield, _en_briton, _it_automatica, _it_blücher, _it_bjarsmyr, _en_adulthood, _it_faux, _en_[[620]],\n",
      "   Nearest to _it_,: _it_juni, _en_leaning, _it_registri, _it_torrette, _it_restaurati, _en_cliff, _en_adulation, _en_forestry,\n",
      "Average loss at step  140 :  5.9337624073\n",
      "Average loss at step  160 :  5.70466268063\n",
      "   Nearest to _en_the: _it_residenziali, _it_discrasia, _it_bulgharo, _it_gruppi, _en_gunboats, _en_william, _en_federal, _it_3a,\n",
      "   Nearest to _en_,: _en_roller, _en_ph., _en_anti-elitist, _it_1653, _it_incorrere, _en_salary, _it_macrofagi, _en_too,\n",
      "   Nearest to _en_.: _it_bavier, _en_spore, _en_naming, _it_all'accademia, _it_caselle, _it_rodigina, _it_passatempi, _en_tungara,\n",
      "   Nearest to _en_of: _en_brasfield, _en_briton, _it_automatica, _it_blücher, _it_bjarsmyr, _en_adulthood, _en_[[620]], _it_faux,\n",
      "   Nearest to _it_,: _it_juni, _en_leaning, _it_registri, _it_torrette, _it_restaurati, _en_cliff, _en_adulation, _en_forestry,\n",
      "Average loss at step  180 :  5.66175312996\n",
      "Average loss at step  200 :  5.54199316502\n",
      "   Nearest to _en_the: _it_discrasia, _it_residenziali, _it_bulgharo, _it_gruppi, _en_william, _en_federal, _it_3a, _en_gunboats,\n",
      "   Nearest to _en_,: _en_roller, _en_anti-elitist, _en_ph., _it_1653, _it_incorrere, _en_salary, _it_online, _it_macrofagi,\n",
      "   Nearest to _en_.: _it_bavier, _en_spore, _en_naming, _it_all'accademia, _it_caselle, _it_rodigina, _it_passatempi, _en_tungara,\n",
      "   Nearest to _en_of: _en_brasfield, _it_automatica, _en_briton, _it_blücher, _it_bjarsmyr, _en_[[620]], _en_adulthood, _it_faux,\n",
      "   Nearest to _it_,: _it_juni, _en_leaning, _it_torrette, _it_registri, _it_restaurati, _en_cliff, _en_adulation, _en_precipitation,\n",
      "... Training Complete\n"
     ]
    }
   ],
   "source": [
    "model.train(200, batched_data)"
   ]
  },
  {
   "cell_type": "code",
   "execution_count": 154,
   "metadata": {
    "collapsed": false
   },
   "outputs": [
    {
     "data": {
      "text/plain": [
       "array([[ -6.82313286e-04,   2.53341626e-04,  -5.17096021e-04, ...,\n",
       "         -3.56403238e-04,  -2.39525645e-04,   3.05641151e-04],\n",
       "       [  1.78451184e-04,   7.64694414e-04,   1.31669774e-04, ...,\n",
       "         -1.99725051e-04,   3.28772672e-04,   5.53548336e-04],\n",
       "       [  8.90789161e-05,  -6.30301074e-04,  -3.16801248e-04, ...,\n",
       "         -6.30714872e-04,   4.32696761e-05,  -5.61845140e-04],\n",
       "       ..., \n",
       "       [ -3.97838419e-04,   1.62656215e-04,   6.89989363e-04, ...,\n",
       "          4.45264246e-04,  -1.72186381e-04,   3.57926445e-04],\n",
       "       [ -5.57537132e-04,  -6.28327020e-04,  -2.22774688e-04, ...,\n",
       "          5.77083614e-04,  -6.92164351e-04,  -2.27377750e-04],\n",
       "       [ -3.10875825e-04,  -2.42435606e-04,   8.15120657e-05, ...,\n",
       "          5.23512659e-04,  -3.24185967e-04,   6.69769302e-04]], dtype=float32)"
      ]
     },
     "execution_count": 154,
     "metadata": {},
     "output_type": "execute_result"
    }
   ],
   "source": [
    "# take a look at the embeddings\n",
    "model.context_embeddings"
   ]
  },
  {
   "cell_type": "markdown",
   "metadata": {
    "collapsed": true
   },
   "source": [
    "__`Hmmmm...`__ These don't look normalized to me. Something to return to?"
   ]
  },
  {
   "cell_type": "markdown",
   "metadata": {},
   "source": [
    "# Model with Random Translation"
   ]
  },
  {
   "cell_type": "markdown",
   "metadata": {},
   "source": [
    "### Initialize"
   ]
  },
  {
   "cell_type": "code",
   "execution_count": 170,
   "metadata": {
    "collapsed": false
   },
   "outputs": [
    {
     "name": "stdout",
     "output_type": "stream",
     "text": [
      "... TF graph created for BiW2V model.\n",
      "... TF graph created for BiW2V training.\n",
      "... TF graph created for BiW2V validation.\n"
     ]
    }
   ],
   "source": [
    "from models import BiW2V_random\n",
    "\n",
    "EMBEDDING_SIZE = 128\n",
    "\n",
    "# create model\n",
    "model1 = BiW2V_random(('en', 'it'), bi_dict, en_it_vocab.to_ids,\n",
    "                      index = en_it_vocab.index, \n",
    "                      H = EMBEDDING_SIZE)\n",
    "\n",
    "# intialize TF graphs\n",
    "model1.BuildCoreGraph()\n",
    "model1.BuildTrainingGraph()\n",
    "model1.BuildValidationGraph()"
   ]
  },
  {
   "cell_type": "markdown",
   "metadata": {},
   "source": [
    "### Train"
   ]
  },
  {
   "cell_type": "code",
   "execution_count": 171,
   "metadata": {
    "collapsed": false
   },
   "outputs": [
    {
     "name": "stdout",
     "output_type": "stream",
     "text": [
      "... Model Initialized\n",
      "\t <tf.Variable 'Embedding_Layer/ContextEmbeddings:0' shape=(48579, 128) dtype=float32_ref>\n",
      "\t <tf.Variable 'Hidden_Layer/WordEmbeddings:0' shape=(48579, 128) dtype=float32_ref>\n",
      "\t <tf.Variable 'Hidden_Layer/b:0' shape=(48579,) dtype=float32_ref>\n",
      "... Starting Training\n",
      "<type 'list'>\n",
      "48\n",
      "48 48\n",
      "<type 'list'>\n",
      "48\n",
      "<type 'list'>\n",
      "48\n",
      "48 48\n",
      "<type 'list'>\n",
      "48\n",
      "... Training Complete\n"
     ]
    }
   ],
   "source": [
    "model1.train(1, batched_data)"
   ]
  },
  {
   "cell_type": "code",
   "execution_count": null,
   "metadata": {
    "collapsed": true
   },
   "outputs": [],
   "source": []
  }
 ],
 "metadata": {
  "anaconda-cloud": {},
  "kernelspec": {
   "display_name": "Python [conda env:nlp]",
   "language": "python",
   "name": "conda-env-nlp-py"
  },
  "language_info": {
   "codemirror_mode": {
    "name": "ipython",
    "version": 2
   },
   "file_extension": ".py",
   "mimetype": "text/x-python",
   "name": "python",
   "nbconvert_exporter": "python",
   "pygments_lexer": "ipython2",
   "version": "2.7.13"
  },
  "toc": {
   "nav_menu": {},
   "number_sections": false,
   "sideBar": false,
   "skip_h1_title": false,
   "toc_cell": false,
   "toc_position": {},
   "toc_section_display": "block",
   "toc_window_display": true
  }
 },
 "nbformat": 4,
 "nbformat_minor": 2
}
