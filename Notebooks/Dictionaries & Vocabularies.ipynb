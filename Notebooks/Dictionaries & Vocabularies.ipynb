{
 "cells": [
  {
   "cell_type": "markdown",
   "metadata": {},
   "source": [
    "# Dictionaries and Vocabularies\n",
    "`w266 Final Project: Crosslingual Word Embeddings`\n",
    "\n",
    "Saving Panlex dictionaries & Bilingual Vocabularies so that we don't have to do this over and over."
   ]
  },
  {
   "cell_type": "markdown",
   "metadata": {},
   "source": [
    "# Notebook Setup"
   ]
  },
  {
   "cell_type": "code",
   "execution_count": 64,
   "metadata": {},
   "outputs": [
    {
     "name": "stdout",
     "output_type": "stream",
     "text": [
      "The autoreload extension is already loaded. To reload it, use:\n",
      "  %reload_ext autoreload\n"
     ]
    }
   ],
   "source": [
    "# general imports\n",
    "from __future__ import print_function\n",
    "import time\n",
    "import pickle\n",
    "import numpy as np\n",
    "import pandas as pd\n",
    "import matplotlib.pyplot as plt\n",
    "\n",
    "# tell matplotlib not to open a new window\n",
    "%matplotlib inline\n",
    "\n",
    "# autoreload modules\n",
    "%load_ext autoreload\n",
    "%autoreload 2"
   ]
  },
  {
   "cell_type": "code",
   "execution_count": 65,
   "metadata": {
    "collapsed": true
   },
   "outputs": [],
   "source": [
    "## Maya's paths\n",
    "#BASE = '/home/mmillervedam' #'/Users/mmillervedam/Documents/MIDS/w266' #\n",
    "#PROJ = '/home/mmillervedam/ProjectRepo' #'/Users/mmillervedam/Documents/MIDS/w266/FinalProject'#\n",
    "\n",
    "## Roseanna's paths\n",
    "\n",
    "## Mona's gc paths\n",
    "BASE = '/home/miwamoto' #'/home/mmillervedam/Data'\n",
    "PROJ = '/home/miwamoto/W266-Fall-2017-Final-Project'#'/home/mmillervedam/ProjectRepo'\n",
    "\n",
    "## Mona's local paths\n",
    "#BASE = '/Users/mona/OneDrive/repos/Data' #'/home/mmillervedam/Data'\n",
    "#PROJ = '/Users/mona/OneDrive/repos/final_proj/W266-Fall-2017-Final-Project'#'/home/mmillervedam/ProjectRepo'"
   ]
  },
  {
   "cell_type": "code",
   "execution_count": 67,
   "metadata": {
    "collapsed": true
   },
   "outputs": [],
   "source": [
    "# Data\n",
    "EN_ES_DICT = PROJ +'/XlingualEmb/data/dicts/en.es.panlex.all.processed'\n",
    "EN_IT_DICT = PROJ +'/XlingualEmb/data/dicts/en.it.panlex.all.processed'\n",
    "EN_NL_DICT = PROJ +'/XlingualEmb/data/dicts/en.nl.panlex.all.processed'\n",
    "EN_JA_DICT = PROJ +'/XlingualEmb/data/dicts/en.ja.panlex.all.processed'\n",
    "FULL_EN_ES = \"/home/miwamoto/en_es_shuf.txt\"\n",
    "FULL_EN_IT = \"/home/miwamoto/en_it_shuf.txt\"\n",
    "FULL_EN_NL = \"/home/miwamoto/en_nl_shuf.txt\"\n",
    "FULL_EN_JA = \"/home/miwamoto/en_ja_shuf.txt\"\n",
    "\n",
    "EN_IT = PROJ + '/XlingualEmb/data/mono/en_it.shuf.10k'\n"
   ]
  },
  {
   "cell_type": "markdown",
   "metadata": {},
   "source": [
    "__Custom Modules__"
   ]
  },
  {
   "cell_type": "code",
   "execution_count": 68,
   "metadata": {
    "collapsed": true
   },
   "outputs": [],
   "source": [
    "from parsing import Corpus, Vocabulary, BilingualVocabulary, batch_generator"
   ]
  },
  {
   "cell_type": "markdown",
   "metadata": {},
   "source": [
    "# English - Spanish"
   ]
  },
  {
   "cell_type": "markdown",
   "metadata": {},
   "source": [
    "### Corpus"
   ]
  },
  {
   "cell_type": "code",
   "execution_count": null,
   "metadata": {
    "collapsed": true
   },
   "outputs": [],
   "source": [
    "# load corpus\n",
    "en_es_data = Corpus(FULL_EN_ES)"
   ]
  },
  {
   "cell_type": "code",
   "execution_count": null,
   "metadata": {
    "collapsed": true
   },
   "outputs": [],
   "source": [
    "# corpus stats\n",
    "!wc {FULL_EN_ES}"
   ]
  },
  {
   "cell_type": "markdown",
   "metadata": {},
   "source": [
    "### Panlex Dictionary"
   ]
  },
  {
   "cell_type": "code",
   "execution_count": null,
   "metadata": {
    "collapsed": true
   },
   "outputs": [],
   "source": [
    "# loading english-spanish dictionary\n",
    "pld = pd.read_csv(EN_ES_DICT, sep='\\t', names = ['en', 'es'], dtype=str)\n",
    "en_set = set(pld.en.unique())\n",
    "es_set = set(pld.es.unique())"
   ]
  },
  {
   "cell_type": "code",
   "execution_count": null,
   "metadata": {
    "collapsed": true,
    "scrolled": true
   },
   "outputs": [],
   "source": [
    "# dictionary vocab lengths:\n",
    "print('EN:', len(en_set))\n",
    "print('ES:', len(es_set))"
   ]
  },
  {
   "cell_type": "code",
   "execution_count": null,
   "metadata": {
    "collapsed": true
   },
   "outputs": [],
   "source": [
    "# Create dictionary for ease of runtime translation\n",
    "# WARNING this takes a sec to run\n",
    "bi_dict = pld.groupby(['en'])['es'].unique().to_dict()"
   ]
  },
  {
   "cell_type": "code",
   "execution_count": null,
   "metadata": {
    "collapsed": true
   },
   "outputs": [],
   "source": [
    "# add other direction\n",
    "# WARNING this takes another sec to run\n",
    "bi_dict.update(pld.groupby(['es'])['en'].unique().to_dict())"
   ]
  },
  {
   "cell_type": "markdown",
   "metadata": {},
   "source": [
    "Saving to file."
   ]
  },
  {
   "cell_type": "code",
   "execution_count": null,
   "metadata": {
    "collapsed": true
   },
   "outputs": [],
   "source": [
    "# pickle it - THIS TAKES A MIN\n",
    "with open(BASE + '/Data/panlex/en_es_dict.pkl','wb') as f:\n",
    "    pickle.dump(bi_dict, f, pickle.HIGHEST_PROTOCOL)"
   ]
  },
  {
   "cell_type": "code",
   "execution_count": null,
   "metadata": {
    "collapsed": true
   },
   "outputs": [],
   "source": [
    "# confirm it saved - THIS ALSO TAKES A MIN\n",
    "with open(BASE + '/Data/panlex/en_es_dict.pkl','rb') as f:\n",
    "    en_es_dict = pickle.load(f)"
   ]
  },
  {
   "cell_type": "markdown",
   "metadata": {},
   "source": [
    "Take a look."
   ]
  },
  {
   "cell_type": "code",
   "execution_count": null,
   "metadata": {
    "collapsed": true
   },
   "outputs": [],
   "source": [
    "# demo en to es\n",
    "en_es_dict['en_the'][:5]"
   ]
  },
  {
   "cell_type": "code",
   "execution_count": null,
   "metadata": {
    "collapsed": true
   },
   "outputs": [],
   "source": [
    "# demo it to en\n",
    "en_es_dict['es_palabra'][:5]"
   ]
  },
  {
   "cell_type": "markdown",
   "metadata": {},
   "source": [
    "### Vocabulary"
   ]
  },
  {
   "cell_type": "code",
   "execution_count": null,
   "metadata": {
    "collapsed": true
   },
   "outputs": [],
   "source": [
    "# reload corpus\n",
    "en_es_data = Corpus(FULL_EN_ES)"
   ]
  },
  {
   "cell_type": "code",
   "execution_count": null,
   "metadata": {
    "collapsed": true
   },
   "outputs": [],
   "source": [
    "# train multilingual Vocabulary\n",
    "en_es_vocab = BilingualVocabulary(en_es_data.gen_tokens(), \n",
    "                                  languages = ('en','es'), \n",
    "                                  size = 100000)"
   ]
  },
  {
   "cell_type": "code",
   "execution_count": null,
   "metadata": {
    "collapsed": true
   },
   "outputs": [],
   "source": [
    "# length of corpus vocabulary\n",
    "en_es_vocab.size"
   ]
  },
  {
   "cell_type": "code",
   "execution_count": null,
   "metadata": {
    "collapsed": true
   },
   "outputs": [],
   "source": [
    "for i in range (99980,100020):\n",
    "    print(en_es_vocab.index[i])"
   ]
  },
  {
   "cell_type": "code",
   "execution_count": null,
   "metadata": {
    "collapsed": true
   },
   "outputs": [],
   "source": [
    "# transition between words in the bilingual vocab\n",
    "idx1 = 3\n",
    "idx2 = (en_es_vocab.size - 3) / 2 + 3\n",
    "print(idx1 - 1 , en_es_vocab.index[idx1 - 1])\n",
    "print(idx1, en_es_vocab.index[idx1])\n",
    "print(idx2 - 1 , en_es_vocab.index[idx2 - 1])\n",
    "print(idx2, en_es_vocab.index[idx2])"
   ]
  },
  {
   "cell_type": "code",
   "execution_count": null,
   "metadata": {
    "collapsed": true
   },
   "outputs": [],
   "source": [
    "# overlap with dictionary vocabulary\n",
    "len([w for w in en_es_vocab.types if w in en_es_dict])"
   ]
  },
  {
   "cell_type": "markdown",
   "metadata": {},
   "source": [
    "__Sample of orphaned words:__"
   ]
  },
  {
   "cell_type": "code",
   "execution_count": 28,
   "metadata": {
    "collapsed": true
   },
   "outputs": [],
   "source": [
    "def print_orphans(vocab, bi_dict):\n",
    "    x = 1\n",
    "    for w in vocab:\n",
    "        if w not in bi_dict:\n",
    "            print(w)\n",
    "            x += 1\n",
    "        if x > 20:\n",
    "            break"
   ]
  },
  {
   "cell_type": "code",
   "execution_count": null,
   "metadata": {
    "collapsed": true
   },
   "outputs": [],
   "source": [
    "print_orphans(en_es_vocab.types, bi_dict)"
   ]
  },
  {
   "cell_type": "markdown",
   "metadata": {},
   "source": [
    "__Saving the trained vocabulary__"
   ]
  },
  {
   "cell_type": "code",
   "execution_count": null,
   "metadata": {
    "collapsed": true
   },
   "outputs": [],
   "source": [
    "# save the index to file\n",
    "with open(BASE + '/Data/vocab/en_es_index.pkl','wb') as f:\n",
    "    pickle.dump(en_es_vocab.index, f, pickle.HIGHEST_PROTOCOL)"
   ]
  },
  {
   "cell_type": "code",
   "execution_count": null,
   "metadata": {
    "collapsed": true
   },
   "outputs": [],
   "source": [
    "# confirm that it can be reloaded as a dictionary\n",
    "with open(BASE + '/Data/vocab/en_es_index.pkl','rb') as f:\n",
    "    en_es_index = pickle.load(f)"
   ]
  },
  {
   "cell_type": "code",
   "execution_count": null,
   "metadata": {
    "collapsed": true
   },
   "outputs": [],
   "source": [
    "# confirm we can re-create the Vocab object\n",
    "en_es_vocab2 = BilingualVocabulary([],languages=('en','es'))\n",
    "en_es_vocab2.load_from_index(en_es_index)"
   ]
  },
  {
   "cell_type": "code",
   "execution_count": null,
   "metadata": {
    "collapsed": true
   },
   "outputs": [],
   "source": [
    "en_es_vocab2.to_ids(['en_the', 'en_vocabulary', 'en_works'])"
   ]
  },
  {
   "cell_type": "code",
   "execution_count": null,
   "metadata": {
    "collapsed": true
   },
   "outputs": [],
   "source": []
  },
  {
   "cell_type": "markdown",
   "metadata": {},
   "source": [
    "---\n",
    "# English - Italian"
   ]
  },
  {
   "cell_type": "markdown",
   "metadata": {},
   "source": [
    "### Corpus"
   ]
  },
  {
   "cell_type": "code",
   "execution_count": 116,
   "metadata": {
    "collapsed": true
   },
   "outputs": [],
   "source": [
    "# load corpus\n",
    "en_it_data = Corpus(FULL_EN_IT)"
   ]
  },
  {
   "cell_type": "code",
   "execution_count": 117,
   "metadata": {},
   "outputs": [
    {
     "name": "stdout",
     "output_type": "stream",
     "text": [
      "  10000000  261678882 2270315455 /home/miwamoto/en_it_shuf.txt\r\n"
     ]
    }
   ],
   "source": [
    "# corpus stats\n",
    "!wc {FULL_EN_IT}"
   ]
  },
  {
   "cell_type": "markdown",
   "metadata": {},
   "source": [
    "### Panlex Dictionary"
   ]
  },
  {
   "cell_type": "code",
   "execution_count": null,
   "metadata": {
    "collapsed": true
   },
   "outputs": [],
   "source": [
    "# loading english-spanish dictionary\n",
    "pld = pd.read_csv(EN_IT_DICT, sep='\\t', names = ['en', 'it'], dtype=str)\n",
    "en_set = set(pld.en.unique())\n",
    "it_set = set(pld.it.unique())"
   ]
  },
  {
   "cell_type": "code",
   "execution_count": null,
   "metadata": {
    "collapsed": true
   },
   "outputs": [],
   "source": [
    "# dictionary vocab lengths:\n",
    "print('EN:', len(en_set))\n",
    "print('IT:', len(it_set))"
   ]
  },
  {
   "cell_type": "code",
   "execution_count": null,
   "metadata": {
    "collapsed": true
   },
   "outputs": [],
   "source": [
    "# Create dictionary for ease of runtime translation\n",
    "# WARNING this takes a sec to run\n",
    "bi_dict = pld.groupby(['en'])['it'].unique().to_dict()"
   ]
  },
  {
   "cell_type": "code",
   "execution_count": null,
   "metadata": {
    "collapsed": true
   },
   "outputs": [],
   "source": [
    "# add other direction\n",
    "# WARNING this takes another sec to run\n",
    "bi_dict.update(pld.groupby(['it'])['en'].unique().to_dict())"
   ]
  },
  {
   "cell_type": "markdown",
   "metadata": {},
   "source": [
    "__Save en-es Panlex Dict to file__"
   ]
  },
  {
   "cell_type": "code",
   "execution_count": null,
   "metadata": {
    "collapsed": true
   },
   "outputs": [],
   "source": [
    "# pickle it - THIS TAKES A MIN\n",
    "with open(BASE + '/Data/panlex/en_it_dict.pkl','wb') as f:\n",
    "    pickle.dump(bi_dict, f, pickle.HIGHEST_PROTOCOL)"
   ]
  },
  {
   "cell_type": "code",
   "execution_count": 118,
   "metadata": {
    "collapsed": true
   },
   "outputs": [],
   "source": [
    "# confirm it saved - THIS ALSO TAKES A MIN\n",
    "with open(BASE + '/Data/panlex/en_it_dict.pkl','rb') as f:\n",
    "    en_it_dict = pickle.load(f)"
   ]
  },
  {
   "cell_type": "markdown",
   "metadata": {},
   "source": [
    "__Demo Words__"
   ]
  },
  {
   "cell_type": "code",
   "execution_count": null,
   "metadata": {
    "collapsed": true
   },
   "outputs": [],
   "source": [
    "# demo en to it\n",
    "en_it_dict['en_the'][:5]"
   ]
  },
  {
   "cell_type": "code",
   "execution_count": null,
   "metadata": {
    "collapsed": true
   },
   "outputs": [],
   "source": [
    "# demo it to en\n",
    "en_it_dict['it_ciao'][:5]"
   ]
  },
  {
   "cell_type": "markdown",
   "metadata": {},
   "source": [
    "### Vocabulary"
   ]
  },
  {
   "cell_type": "code",
   "execution_count": null,
   "metadata": {
    "collapsed": true
   },
   "outputs": [],
   "source": [
    "en_it_data = Corpus(FULL_EN_IT)"
   ]
  },
  {
   "cell_type": "code",
   "execution_count": null,
   "metadata": {
    "collapsed": true
   },
   "outputs": [],
   "source": [
    "# train multilingual Vocabulary\n",
    "en_it_vocab = BilingualVocabulary(en_it_data.gen_tokens(), \n",
    "                                  languages = ('en','it'), \n",
    "                                  size = 100000)"
   ]
  },
  {
   "cell_type": "code",
   "execution_count": null,
   "metadata": {
    "collapsed": true
   },
   "outputs": [],
   "source": [
    "# length of corpus vocabulary\n",
    "en_it_vocab.size"
   ]
  },
  {
   "cell_type": "code",
   "execution_count": null,
   "metadata": {
    "collapsed": true
   },
   "outputs": [],
   "source": [
    "# transition between words in the bilingual vocab\n",
    "idx1 = 3\n",
    "idx2 = (en_it_vocab.size - 3) / 2 + 3\n",
    "print(idx1 - 1 , en_it_vocab.index[idx1 - 1])\n",
    "print(idx1, en_it_vocab.index[idx1])\n",
    "print(idx2 - 1 , en_it_vocab.index[idx2 - 1])\n",
    "print(idx2, en_it_vocab.index[idx2])"
   ]
  },
  {
   "cell_type": "code",
   "execution_count": null,
   "metadata": {
    "collapsed": true
   },
   "outputs": [],
   "source": [
    "# overlap with dictionary vocabulary\n",
    "len([w for w in en_it_vocab.types if w in en_it_dict])"
   ]
  },
  {
   "cell_type": "code",
   "execution_count": null,
   "metadata": {
    "collapsed": true
   },
   "outputs": [],
   "source": [
    "# take a look at orphaned words\n",
    "print_orphans(en_it_vocab.types, en_it_dict)"
   ]
  },
  {
   "cell_type": "markdown",
   "metadata": {},
   "source": [
    "__Saving the trained vocabulary__"
   ]
  },
  {
   "cell_type": "code",
   "execution_count": null,
   "metadata": {
    "collapsed": true
   },
   "outputs": [],
   "source": [
    "from parsing import BilingualVocabulary"
   ]
  },
  {
   "cell_type": "code",
   "execution_count": null,
   "metadata": {
    "collapsed": true
   },
   "outputs": [],
   "source": [
    "# save the index to file\n",
    "with open(BASE + '/Data/vocab/en_it_index.pkl','wb') as f:\n",
    "    pickle.dump(en_it_vocab.index, f, pickle.HIGHEST_PROTOCOL)"
   ]
  },
  {
   "cell_type": "code",
   "execution_count": null,
   "metadata": {
    "collapsed": true
   },
   "outputs": [],
   "source": [
    "# confirm that it can be reloaded as a dictionary\n",
    "with open(BASE + '/Data/vocab/en_it_index.pkl','rb') as f:\n",
    "    en_it_index = pickle.load(f)"
   ]
  },
  {
   "cell_type": "code",
   "execution_count": null,
   "metadata": {
    "collapsed": true
   },
   "outputs": [],
   "source": [
    "# confirm we can re-create the Vocab object\n",
    "en_it_vocab2 = BilingualVocabulary([],languages=('en','it'))\n",
    "en_it_vocab2.load_from_index(en_it_index)"
   ]
  },
  {
   "cell_type": "code",
   "execution_count": null,
   "metadata": {
    "collapsed": true
   },
   "outputs": [],
   "source": [
    "en_it_vocab2.size"
   ]
  },
  {
   "cell_type": "code",
   "execution_count": null,
   "metadata": {
    "collapsed": true
   },
   "outputs": [],
   "source": [
    "en_it_vocab2.to_ids(['en_the', 'en_vocabulary', 'en_works'])"
   ]
  },
  {
   "cell_type": "code",
   "execution_count": null,
   "metadata": {
    "collapsed": true
   },
   "outputs": [],
   "source": []
  },
  {
   "cell_type": "markdown",
   "metadata": {},
   "source": [
    "---\n",
    "# English - Italian 10K"
   ]
  },
  {
   "cell_type": "markdown",
   "metadata": {},
   "source": [
    "### Corpus"
   ]
  },
  {
   "cell_type": "code",
   "execution_count": 69,
   "metadata": {
    "collapsed": true
   },
   "outputs": [],
   "source": [
    "# load corpus\n",
    "en_it_data = Corpus(EN_IT)"
   ]
  },
  {
   "cell_type": "code",
   "execution_count": 70,
   "metadata": {},
   "outputs": [
    {
     "name": "stdout",
     "output_type": "stream",
     "text": [
      "  20000  430887 3746786 /home/miwamoto/W266-Fall-2017-Final-Project/XlingualEmb/data/mono/en_it.shuf.10k\r\n"
     ]
    }
   ],
   "source": [
    "# corpus stats\n",
    "!wc {EN_IT}"
   ]
  },
  {
   "cell_type": "markdown",
   "metadata": {},
   "source": [
    "### Panlex Dictionary"
   ]
  },
  {
   "cell_type": "code",
   "execution_count": 83,
   "metadata": {
    "collapsed": true
   },
   "outputs": [],
   "source": [
    "# loading english-spanish dictionary\n",
    "pld = pd.read_csv(EN_IT_DICT, sep='\\t', names = ['en', 'it'], dtype=str)\n",
    "en_set = set(pld.en.unique())\n",
    "it_set = set(pld.it.unique())"
   ]
  },
  {
   "cell_type": "code",
   "execution_count": 84,
   "metadata": {},
   "outputs": [
    {
     "name": "stdout",
     "output_type": "stream",
     "text": [
      "EN: 266450\n",
      "IT: 258641\n"
     ]
    }
   ],
   "source": [
    "# dictionary vocab lengths:\n",
    "print('EN:', len(en_set))\n",
    "print('IT:', len(it_set))"
   ]
  },
  {
   "cell_type": "code",
   "execution_count": 85,
   "metadata": {
    "collapsed": true
   },
   "outputs": [],
   "source": [
    "# Create dictionary for ease of runtime translation\n",
    "# WARNING this takes a sec to run\n",
    "bi_dict = pld.groupby(['en'])['it'].unique().to_dict()"
   ]
  },
  {
   "cell_type": "code",
   "execution_count": 86,
   "metadata": {
    "collapsed": true
   },
   "outputs": [],
   "source": [
    "# add other direction\n",
    "# WARNING this takes another sec to run\n",
    "bi_dict.update(pld.groupby(['it'])['en'].unique().to_dict())"
   ]
  },
  {
   "cell_type": "markdown",
   "metadata": {},
   "source": [
    "__Save en-es Panlex Dict to file__"
   ]
  },
  {
   "cell_type": "code",
   "execution_count": 87,
   "metadata": {
    "collapsed": true
   },
   "outputs": [],
   "source": [
    "# pickle it - THIS TAKES A MIN\n",
    "with open(BASE + '/Data/panlex/en_it_dict.pkl','wb') as f:\n",
    "    pickle.dump(bi_dict, f, pickle.HIGHEST_PROTOCOL)"
   ]
  },
  {
   "cell_type": "code",
   "execution_count": 88,
   "metadata": {
    "collapsed": true
   },
   "outputs": [],
   "source": [
    "# confirm it saved - THIS ALSO TAKES A MIN\n",
    "with open(BASE + '/Data/panlex/en_it_dict.pkl','rb') as f:\n",
    "    en_it_dict = pickle.load(f)"
   ]
  },
  {
   "cell_type": "markdown",
   "metadata": {},
   "source": [
    "__Demo Words__"
   ]
  },
  {
   "cell_type": "code",
   "execution_count": 89,
   "metadata": {},
   "outputs": [
    {
     "data": {
      "text/plain": [
       "array(['it_della', 'it_gli', 'it_i', 'it_il', 'it_la'], dtype=object)"
      ]
     },
     "execution_count": 89,
     "metadata": {},
     "output_type": "execute_result"
    }
   ],
   "source": [
    "# demo en to it\n",
    "en_it_dict['en_the'][:5]"
   ]
  },
  {
   "cell_type": "code",
   "execution_count": 90,
   "metadata": {},
   "outputs": [
    {
     "data": {
      "text/plain": [
       "array(['en_adieu', 'en_bye-bye', 'en_bye', 'en_cheerio', 'en_ciao'], dtype=object)"
      ]
     },
     "execution_count": 90,
     "metadata": {},
     "output_type": "execute_result"
    }
   ],
   "source": [
    "# demo it to en\n",
    "en_it_dict['it_ciao'][:5]"
   ]
  },
  {
   "cell_type": "markdown",
   "metadata": {},
   "source": [
    "### Vocabulary"
   ]
  },
  {
   "cell_type": "code",
   "execution_count": 91,
   "metadata": {
    "collapsed": true
   },
   "outputs": [],
   "source": [
    "en_it_data = Corpus(EN_IT)"
   ]
  },
  {
   "cell_type": "code",
   "execution_count": 92,
   "metadata": {
    "collapsed": true
   },
   "outputs": [],
   "source": [
    "# train multilingual Vocabulary\n",
    "en_it_vocab = BilingualVocabulary(en_it_data.gen_tokens(), \n",
    "                                  languages = ('en','it'), \n",
    "                                  size = 100000)"
   ]
  },
  {
   "cell_type": "code",
   "execution_count": 93,
   "metadata": {},
   "outputs": [
    {
     "data": {
      "text/plain": [
       "48579"
      ]
     },
     "execution_count": 93,
     "metadata": {},
     "output_type": "execute_result"
    }
   ],
   "source": [
    "# length of corpus vocabulary\n",
    "en_it_vocab.size"
   ]
  },
  {
   "cell_type": "code",
   "execution_count": 94,
   "metadata": {},
   "outputs": [
    {
     "name": "stdout",
     "output_type": "stream",
     "text": [
      "2 <unk>\n",
      "3 en_the\n",
      "24290 it_edizioni\n",
      "24291 it_quarto\n"
     ]
    }
   ],
   "source": [
    "# transition between words in the bilingual vocab\n",
    "idx1 = 3\n",
    "idx2 = (en_it_vocab.size - 3) / 2 + 3\n",
    "print(idx1 - 1 , en_it_vocab.index[idx1 - 1])\n",
    "print(idx1, en_it_vocab.index[idx1])\n",
    "print(idx2 - 1 , en_it_vocab.index[idx2 - 1])\n",
    "print(idx2, en_it_vocab.index[idx2])"
   ]
  },
  {
   "cell_type": "code",
   "execution_count": 107,
   "metadata": {},
   "outputs": [
    {
     "name": "stdout",
     "output_type": "stream",
     "text": [
      "en_atari\n",
      "en_10646\n",
      "en_cylindrical\n",
      "en_canyon\n",
      "en_ionia\n",
      "en_commodified\n",
      "it_,\n",
      "it_di\n",
      "it_.\n",
      "it_e\n",
      "it_il\n",
      "it_la\n",
      "it_\n",
      "it_in\n",
      "it_del\n",
      "it_a\n",
      "it_che\n",
      "it_della\n",
      "it_è\n",
      "it_un\n"
     ]
    }
   ],
   "source": [
    "for i in range (23220,23240):\n",
    "    print(en_it_vocab.index[i])"
   ]
  },
  {
   "cell_type": "code",
   "execution_count": 108,
   "metadata": {},
   "outputs": [
    {
     "data": {
      "text/plain": [
       "24176"
      ]
     },
     "execution_count": 108,
     "metadata": {},
     "output_type": "execute_result"
    }
   ],
   "source": [
    "# overlap with dictionary vocabulary\n",
    "len([w for w in en_it_vocab.types if w in en_it_dict])"
   ]
  },
  {
   "cell_type": "code",
   "execution_count": 109,
   "metadata": {},
   "outputs": [
    {
     "name": "stdout",
     "output_type": "stream",
     "text": [
      "it_spunti\n",
      "it_integrali\n",
      "en_manuscripts\n",
      "it_giostrando\n",
      "en_syro-hittite\n",
      "it_l'arco\n",
      "it_janue\n",
      "it_[[878172]]\n",
      "it_[[879051]]\n",
      "it_\")\n",
      "it_raffiguranti\n",
      "it_promettenti\n",
      "it_margaria\n",
      "en_western-hemisphere\n",
      "it_gallizio\n",
      "en_migrating\n",
      "en_conraua\n",
      "en_aretē\n",
      "en_tukey\n",
      "it_ripubblicate\n"
     ]
    }
   ],
   "source": [
    "# take a look at orphaned words\n",
    "print_orphans(en_it_vocab.types, en_it_dict)"
   ]
  },
  {
   "cell_type": "markdown",
   "metadata": {},
   "source": [
    "__Saving the trained vocabulary__"
   ]
  },
  {
   "cell_type": "code",
   "execution_count": 110,
   "metadata": {
    "collapsed": true
   },
   "outputs": [],
   "source": [
    "from parsing import BilingualVocabulary"
   ]
  },
  {
   "cell_type": "code",
   "execution_count": 111,
   "metadata": {
    "collapsed": true
   },
   "outputs": [],
   "source": [
    "# save the index to file\n",
    "with open(BASE + '/Data/vocab/en_it_10K_index.pkl','wb') as f:\n",
    "    pickle.dump(en_it_vocab.index, f, pickle.HIGHEST_PROTOCOL)"
   ]
  },
  {
   "cell_type": "code",
   "execution_count": 112,
   "metadata": {
    "collapsed": true
   },
   "outputs": [],
   "source": [
    "# confirm that it can be reloaded as a dictionary\n",
    "with open(BASE + '/Data/vocab/en_it_10K_index.pkl','rb') as f:\n",
    "    en_it_index = pickle.load(f)"
   ]
  },
  {
   "cell_type": "code",
   "execution_count": 113,
   "metadata": {
    "collapsed": true
   },
   "outputs": [],
   "source": [
    "# confirm we can re-create the Vocab object\n",
    "en_it_vocab2 = BilingualVocabulary([],languages=('en','it'))\n",
    "en_it_vocab2.load_from_index(en_it_index)"
   ]
  },
  {
   "cell_type": "code",
   "execution_count": 114,
   "metadata": {},
   "outputs": [
    {
     "data": {
      "text/plain": [
       "48579"
      ]
     },
     "execution_count": 114,
     "metadata": {},
     "output_type": "execute_result"
    }
   ],
   "source": [
    "en_it_vocab2.size"
   ]
  },
  {
   "cell_type": "code",
   "execution_count": 115,
   "metadata": {},
   "outputs": [
    {
     "data": {
      "text/plain": [
       "[3, 3979, 248]"
      ]
     },
     "execution_count": 115,
     "metadata": {},
     "output_type": "execute_result"
    }
   ],
   "source": [
    "en_it_vocab2.to_ids(['en_the', 'en_vocabulary', 'en_works'])"
   ]
  },
  {
   "cell_type": "code",
   "execution_count": null,
   "metadata": {
    "collapsed": true
   },
   "outputs": [],
   "source": []
  },
  {
   "cell_type": "markdown",
   "metadata": {},
   "source": [
    "---\n",
    "# English - Japanese"
   ]
  },
  {
   "cell_type": "markdown",
   "metadata": {},
   "source": [
    "### Corpus"
   ]
  },
  {
   "cell_type": "code",
   "execution_count": 11,
   "metadata": {
    "collapsed": true
   },
   "outputs": [],
   "source": [
    "# load corpus\n",
    "en_ja_data = Corpus(FULL_EN_JA)"
   ]
  },
  {
   "cell_type": "code",
   "execution_count": 12,
   "metadata": {},
   "outputs": [
    {
     "name": "stdout",
     "output_type": "stream",
     "text": [
      "  10000000  162715052 1447070927 /home/miwamoto/en_ja_shuf.txt\r\n"
     ]
    }
   ],
   "source": [
    "# corpus stats\n",
    "!wc {FULL_EN_JA}"
   ]
  },
  {
   "cell_type": "markdown",
   "metadata": {},
   "source": [
    "### Panlex Dictionary"
   ]
  },
  {
   "cell_type": "code",
   "execution_count": 14,
   "metadata": {
    "collapsed": true
   },
   "outputs": [],
   "source": [
    "# loading english-spanish dictionary\n",
    "pld = pd.read_csv(EN_JA_DICT, sep='\\t', names = ['en', 'ja'], dtype=str)\n",
    "en_set = set(pld.en.unique())\n",
    "ja_set = set(pld.ja.unique())"
   ]
  },
  {
   "cell_type": "code",
   "execution_count": 15,
   "metadata": {},
   "outputs": [
    {
     "name": "stdout",
     "output_type": "stream",
     "text": [
      "EN: 308933\n",
      "JA: 325772\n"
     ]
    }
   ],
   "source": [
    "# dictionary vocab lengths:\n",
    "print('EN:', len(en_set))\n",
    "print('JA:', len(ja_set))"
   ]
  },
  {
   "cell_type": "code",
   "execution_count": 16,
   "metadata": {
    "collapsed": true
   },
   "outputs": [],
   "source": [
    "# Create dictionary for ease of runtime translation\n",
    "# WARNING this takes a sec to run\n",
    "bi_dict = pld.groupby(['en'])['ja'].unique().to_dict()"
   ]
  },
  {
   "cell_type": "code",
   "execution_count": 17,
   "metadata": {
    "collapsed": true
   },
   "outputs": [],
   "source": [
    "# add other direction\n",
    "# WARNING this takes another sec to run\n",
    "bi_dict.update(pld.groupby(['ja'])['en'].unique().to_dict())"
   ]
  },
  {
   "cell_type": "markdown",
   "metadata": {},
   "source": [
    "__Save en-es Panlex Dict to file__"
   ]
  },
  {
   "cell_type": "code",
   "execution_count": 18,
   "metadata": {
    "collapsed": true
   },
   "outputs": [],
   "source": [
    "# pickle it - THIS TAKES A MIN\n",
    "with open(BASE + '/Data/panlex/en_ja_dict.pkl','wb') as f:\n",
    "    pickle.dump(bi_dict, f, pickle.HIGHEST_PROTOCOL)"
   ]
  },
  {
   "cell_type": "code",
   "execution_count": 19,
   "metadata": {
    "collapsed": true
   },
   "outputs": [],
   "source": [
    "# confirm it saved - THIS ALSO TAKES A MIN\n",
    "with open(BASE + '/Data/panlex/en_ja_dict.pkl','rb') as f:\n",
    "    en_ja_dict = pickle.load(f)"
   ]
  },
  {
   "cell_type": "markdown",
   "metadata": {},
   "source": [
    "__Demo Words__"
   ]
  },
  {
   "cell_type": "code",
   "execution_count": 20,
   "metadata": {},
   "outputs": [
    {
     "data": {
      "text/plain": [
       "array(['ja_\\xe3\\x82\\xb6', 'ja_\\xe5\\x85\\xb6\\xe3\\x81\\xae'], dtype=object)"
      ]
     },
     "execution_count": 20,
     "metadata": {},
     "output_type": "execute_result"
    }
   ],
   "source": [
    "# demo en to it\n",
    "en_ja_dict['en_the'][:5]"
   ]
  },
  {
   "cell_type": "code",
   "execution_count": 21,
   "metadata": {},
   "outputs": [
    {
     "data": {
      "text/plain": [
       "array(['en_it', 'en_that'], dtype=object)"
      ]
     },
     "execution_count": 21,
     "metadata": {},
     "output_type": "execute_result"
    }
   ],
   "source": [
    "# demo it to en\n",
    "en_ja_dict['ja_sore'][:5]"
   ]
  },
  {
   "cell_type": "markdown",
   "metadata": {},
   "source": [
    "### Vocabulary"
   ]
  },
  {
   "cell_type": "code",
   "execution_count": 22,
   "metadata": {
    "collapsed": true
   },
   "outputs": [],
   "source": [
    "en_ja_data = Corpus(FULL_EN_JA)"
   ]
  },
  {
   "cell_type": "code",
   "execution_count": 23,
   "metadata": {
    "collapsed": true
   },
   "outputs": [],
   "source": [
    "# train multilingual Vocabulary\n",
    "en_ja_vocab = BilingualVocabulary(en_ja_data.gen_tokens(), \n",
    "                                  languages = ('en','ja'), \n",
    "                                  size = 100000)"
   ]
  },
  {
   "cell_type": "code",
   "execution_count": 24,
   "metadata": {},
   "outputs": [
    {
     "data": {
      "text/plain": [
       "200003"
      ]
     },
     "execution_count": 24,
     "metadata": {},
     "output_type": "execute_result"
    }
   ],
   "source": [
    "# length of corpus vocabulary\n",
    "en_ja_vocab.size"
   ]
  },
  {
   "cell_type": "code",
   "execution_count": 25,
   "metadata": {},
   "outputs": [
    {
     "name": "stdout",
     "output_type": "stream",
     "text": [
      "2 <unk>\n",
      "3 en_the\n",
      "100002 en_espejo\n",
      "100003 ja_年\n"
     ]
    }
   ],
   "source": [
    "# transition between words in the bilingual vocab\n",
    "idx1 = 3\n",
    "idx2 = (en_ja_vocab.size - 3) / 2 + 3\n",
    "print(idx1 - 1 , en_ja_vocab.index[idx1 - 1])\n",
    "print(idx1, en_ja_vocab.index[idx1])\n",
    "print(idx2 - 1 , en_ja_vocab.index[idx2 - 1])\n",
    "print(idx2, en_ja_vocab.index[idx2])"
   ]
  },
  {
   "cell_type": "code",
   "execution_count": 26,
   "metadata": {},
   "outputs": [
    {
     "data": {
      "text/plain": [
       "87035"
      ]
     },
     "execution_count": 26,
     "metadata": {},
     "output_type": "execute_result"
    }
   ],
   "source": [
    "# overlap with dictionary vocabulary\n",
    "len([w for w in en_ja_vocab.types if w in en_ja_dict])"
   ]
  },
  {
   "cell_type": "code",
   "execution_count": 29,
   "metadata": {},
   "outputs": [
    {
     "name": "stdout",
     "output_type": "stream",
     "text": [
      "ja_vanilla\n",
      "en_deactivated\n",
      "en_hensley\n",
      "ja_タンチノープル\n",
      "ja_ロズベルグ\n",
      "en_sp1\n",
      "ja_末松\n",
      "en_intuitionistic\n",
      "ja_平泉\n",
      "ja_トトロ\n",
      "en_dilys\n",
      "en_haters\n",
      "en_migrating\n",
      "en_30-27\n",
      "ja_静内川\n",
      "en_parris\n",
      "ja_山科\n",
      "ja_eating\n",
      "ja_オルバッツァーノ\n",
      "en_time-travel\n"
     ]
    }
   ],
   "source": [
    "# take a look at orphaned words\n",
    "print_orphans(en_ja_vocab.types, en_ja_dict)"
   ]
  },
  {
   "cell_type": "markdown",
   "metadata": {},
   "source": [
    "__Saving the trained vocabulary__"
   ]
  },
  {
   "cell_type": "code",
   "execution_count": 30,
   "metadata": {
    "collapsed": true
   },
   "outputs": [],
   "source": [
    "# save the index to file\n",
    "with open(BASE + '/Data/vocab/en_ja_index.pkl','wb') as f:\n",
    "    pickle.dump(en_ja_vocab.index, f, pickle.HIGHEST_PROTOCOL)"
   ]
  },
  {
   "cell_type": "code",
   "execution_count": 31,
   "metadata": {
    "collapsed": true
   },
   "outputs": [],
   "source": [
    "# confirm that it can be reloaded as a dictionary\n",
    "with open(BASE + '/Data/vocab/en_ja_index.pkl','rb') as f:\n",
    "    en_ja_index = pickle.load(f)"
   ]
  },
  {
   "cell_type": "code",
   "execution_count": 33,
   "metadata": {
    "collapsed": true
   },
   "outputs": [],
   "source": [
    "# confirm we can re-create the Vocab object\n",
    "en_ja_vocab2 = BilingualVocabulary([],languages=('en','ja'))\n",
    "en_ja_vocab2.load_from_index(en_ja_index)"
   ]
  },
  {
   "cell_type": "code",
   "execution_count": 34,
   "metadata": {},
   "outputs": [
    {
     "data": {
      "text/plain": [
       "200003"
      ]
     },
     "execution_count": 34,
     "metadata": {},
     "output_type": "execute_result"
    }
   ],
   "source": [
    "en_ja_vocab2.size"
   ]
  },
  {
   "cell_type": "code",
   "execution_count": 35,
   "metadata": {},
   "outputs": [
    {
     "data": {
      "text/plain": [
       "[3, 10672, 353]"
      ]
     },
     "execution_count": 35,
     "metadata": {},
     "output_type": "execute_result"
    }
   ],
   "source": [
    "en_ja_vocab2.to_ids(['en_the', 'en_vocabulary', 'en_works'])"
   ]
  },
  {
   "cell_type": "code",
   "execution_count": null,
   "metadata": {
    "collapsed": true
   },
   "outputs": [],
   "source": []
  },
  {
   "cell_type": "markdown",
   "metadata": {},
   "source": [
    "---\n",
    "# English - Dutch"
   ]
  },
  {
   "cell_type": "markdown",
   "metadata": {},
   "source": [
    "### Corpus"
   ]
  },
  {
   "cell_type": "code",
   "execution_count": 37,
   "metadata": {
    "collapsed": true
   },
   "outputs": [],
   "source": [
    "# load corpus\n",
    "en_nl_data = Corpus(FULL_EN_NL)"
   ]
  },
  {
   "cell_type": "code",
   "execution_count": 38,
   "metadata": {},
   "outputs": [
    {
     "name": "stdout",
     "output_type": "stream",
     "text": [
      "   9997288  218679772 1885752438 /home/miwamoto/en_nl_shuf.txt\r\n"
     ]
    }
   ],
   "source": [
    "# corpus stats\n",
    "!wc {FULL_EN_NL}"
   ]
  },
  {
   "cell_type": "markdown",
   "metadata": {},
   "source": [
    "### Panlex Dictionary"
   ]
  },
  {
   "cell_type": "code",
   "execution_count": 39,
   "metadata": {
    "collapsed": true
   },
   "outputs": [],
   "source": [
    "# loading english-spanish dictionary\n",
    "pld = pd.read_csv(EN_NL_DICT, sep='\\t', names = ['en', 'nl'], dtype=str)\n",
    "en_set = set(pld.en.unique())\n",
    "nl_set = set(pld.nl.unique())"
   ]
  },
  {
   "cell_type": "code",
   "execution_count": 40,
   "metadata": {},
   "outputs": [
    {
     "name": "stdout",
     "output_type": "stream",
     "text": [
      "EN: 220439\n",
      "NL: 217492\n"
     ]
    }
   ],
   "source": [
    "# dictionary vocab lengths:\n",
    "print('EN:', len(en_set))\n",
    "print('NL:', len(nl_set))"
   ]
  },
  {
   "cell_type": "code",
   "execution_count": 41,
   "metadata": {
    "collapsed": true
   },
   "outputs": [],
   "source": [
    "# Create dictionary for ease of runtime translation\n",
    "# WARNING this takes a sec to run\n",
    "bi_dict = pld.groupby(['en'])['nl'].unique().to_dict()"
   ]
  },
  {
   "cell_type": "code",
   "execution_count": 42,
   "metadata": {
    "collapsed": true
   },
   "outputs": [],
   "source": [
    "# add other direction\n",
    "# WARNING this takes another sec to run\n",
    "bi_dict.update(pld.groupby(['nl'])['en'].unique().to_dict())"
   ]
  },
  {
   "cell_type": "markdown",
   "metadata": {},
   "source": [
    "__Save en-es Panlex Dict to file__"
   ]
  },
  {
   "cell_type": "code",
   "execution_count": 43,
   "metadata": {
    "collapsed": true
   },
   "outputs": [],
   "source": [
    "# pickle it - THIS TAKES A MIN\n",
    "with open(BASE + '/Data/panlex/en_nl_dict.pkl','wb') as f:\n",
    "    pickle.dump(bi_dict, f, pickle.HIGHEST_PROTOCOL)"
   ]
  },
  {
   "cell_type": "code",
   "execution_count": 47,
   "metadata": {
    "collapsed": true
   },
   "outputs": [],
   "source": [
    "# confirm it saved - THIS ALSO TAKES A MIN\n",
    "with open(BASE + '/Data/panlex/en_nl_dict.pkl','rb') as f:\n",
    "    en_nl_dict = pickle.load(f)"
   ]
  },
  {
   "cell_type": "markdown",
   "metadata": {},
   "source": [
    "__Demo Words__"
   ]
  },
  {
   "cell_type": "code",
   "execution_count": 48,
   "metadata": {},
   "outputs": [
    {
     "data": {
      "text/plain": [
       "array(['nl_aan_de', 'nl_aan_het', 'nl_de', 'nl_des_te', 'nl_die'], dtype=object)"
      ]
     },
     "execution_count": 48,
     "metadata": {},
     "output_type": "execute_result"
    }
   ],
   "source": [
    "# demo en to it\n",
    "en_nl_dict['en_the'][:5]"
   ]
  },
  {
   "cell_type": "code",
   "execution_count": 49,
   "metadata": {},
   "outputs": [
    {
     "data": {
      "text/plain": [
       "array(['en_he', 'en_him', 'en_him_y', 'en_i', 'en_it'], dtype=object)"
      ]
     },
     "execution_count": 49,
     "metadata": {},
     "output_type": "execute_result"
    }
   ],
   "source": [
    "# demo it to en\n",
    "en_nl_dict['nl_hij'][:5]"
   ]
  },
  {
   "cell_type": "markdown",
   "metadata": {},
   "source": [
    "### Vocabulary"
   ]
  },
  {
   "cell_type": "code",
   "execution_count": 50,
   "metadata": {
    "collapsed": true
   },
   "outputs": [],
   "source": [
    "en_nl_data = Corpus(FULL_EN_NL)"
   ]
  },
  {
   "cell_type": "code",
   "execution_count": 51,
   "metadata": {
    "collapsed": true
   },
   "outputs": [],
   "source": [
    "# train multilingual Vocabulary\n",
    "en_nl_vocab = BilingualVocabulary(en_nl_data.gen_tokens(), \n",
    "                                  languages = ('en','nl'), \n",
    "                                  size = 100000)"
   ]
  },
  {
   "cell_type": "code",
   "execution_count": 52,
   "metadata": {},
   "outputs": [
    {
     "data": {
      "text/plain": [
       "200003"
      ]
     },
     "execution_count": 52,
     "metadata": {},
     "output_type": "execute_result"
    }
   ],
   "source": [
    "# length of corpus vocabulary\n",
    "en_nl_vocab.size"
   ]
  },
  {
   "cell_type": "code",
   "execution_count": 53,
   "metadata": {},
   "outputs": [
    {
     "name": "stdout",
     "output_type": "stream",
     "text": [
      "2 <unk>\n",
      "3 en_the\n",
      "100002 en_espejo\n",
      "100003 nl_de\n"
     ]
    }
   ],
   "source": [
    "# transition between words in the bilingual vocab\n",
    "idx1 = 3\n",
    "idx2 = (en_nl_vocab.size - 3) / 2 + 3\n",
    "print(idx1 - 1 , en_nl_vocab.index[idx1 - 1])\n",
    "print(idx1, en_nl_vocab.index[idx1])\n",
    "print(idx2 - 1 , en_nl_vocab.index[idx2 - 1])\n",
    "print(idx2, en_nl_vocab.index[idx2])"
   ]
  },
  {
   "cell_type": "code",
   "execution_count": 56,
   "metadata": {},
   "outputs": [
    {
     "data": {
      "text/plain": [
       "70475"
      ]
     },
     "execution_count": 56,
     "metadata": {},
     "output_type": "execute_result"
    }
   ],
   "source": [
    "# overlap with dictionary vocabulary\n",
    "len([w for w in en_nl_vocab.types if w in en_nl_dict])"
   ]
  },
  {
   "cell_type": "code",
   "execution_count": 57,
   "metadata": {},
   "outputs": [
    {
     "name": "stdout",
     "output_type": "stream",
     "text": [
      "nl_||-||-||-||\n",
      "nl_klippen\n",
      "en_deactivated\n",
      "nl_conescharellina\n",
      "nl_sericeus\n",
      "nl_meededen\n",
      "nl_falcata\n",
      "nl_bierman\n",
      "en_sp1\n",
      "en_intuitionistic\n",
      "en_androids\n",
      "nl_silke\n",
      "en_dilys\n",
      "en_haters\n",
      "en_migrating\n",
      "en_30-27\n",
      "en_downplay\n",
      "en_gravelly\n",
      "nl_onderduikadres\n",
      "nl_outsider\n"
     ]
    }
   ],
   "source": [
    "# take a look at orphaned words\n",
    "print_orphans(en_nl_vocab.types, en_nl_dict)"
   ]
  },
  {
   "cell_type": "markdown",
   "metadata": {},
   "source": [
    "__Saving the trained vocabulary__"
   ]
  },
  {
   "cell_type": "code",
   "execution_count": 58,
   "metadata": {
    "collapsed": true
   },
   "outputs": [],
   "source": [
    "from parsing import BilingualVocabulary"
   ]
  },
  {
   "cell_type": "code",
   "execution_count": 59,
   "metadata": {
    "collapsed": true
   },
   "outputs": [],
   "source": [
    "# save the index to file\n",
    "with open(BASE + '/Data/vocab/en_nl_index.pkl','wb') as f:\n",
    "    pickle.dump(en_nl_vocab.index, f, pickle.HIGHEST_PROTOCOL)"
   ]
  },
  {
   "cell_type": "code",
   "execution_count": 60,
   "metadata": {
    "collapsed": true
   },
   "outputs": [],
   "source": [
    "# confirm that it can be reloaded as a dictionary\n",
    "with open(BASE + '/Data/vocab/en_nl_index.pkl','rb') as f:\n",
    "    en_nl_index = pickle.load(f)"
   ]
  },
  {
   "cell_type": "code",
   "execution_count": 61,
   "metadata": {
    "collapsed": true
   },
   "outputs": [],
   "source": [
    "# confirm we can re-create the Vocab object\n",
    "en_nl_vocab2 = BilingualVocabulary([],languages=('en','nl'))\n",
    "en_nl_vocab2.load_from_index(en_nl_index)"
   ]
  },
  {
   "cell_type": "code",
   "execution_count": 62,
   "metadata": {},
   "outputs": [
    {
     "data": {
      "text/plain": [
       "200003"
      ]
     },
     "execution_count": 62,
     "metadata": {},
     "output_type": "execute_result"
    }
   ],
   "source": [
    "en_nl_vocab2.size"
   ]
  },
  {
   "cell_type": "code",
   "execution_count": 63,
   "metadata": {},
   "outputs": [
    {
     "data": {
      "text/plain": [
       "[3, 10672, 353]"
      ]
     },
     "execution_count": 63,
     "metadata": {},
     "output_type": "execute_result"
    }
   ],
   "source": [
    "en_nl_vocab2.to_ids(['en_the', 'en_vocabulary', 'en_works'])"
   ]
  },
  {
   "cell_type": "markdown",
   "metadata": {
    "collapsed": true
   },
   "source": [
    "## Get Common Words"
   ]
  },
  {
   "cell_type": "code",
   "execution_count": 147,
   "metadata": {},
   "outputs": [],
   "source": [
    "# Test returning a set of common words in a vocabulary and\n",
    "# corresponding Ground Truth files\n",
    "\n",
    "from parsing import get_common_words\n",
    "\n",
    "# Test with\n",
    "with open(BASE + '/Data/vocab/en_it_index.pkl','rb') as f:\n",
    "    en_it_index = pickle.load(f)\n",
    "\n",
    "en_it_vocab2 = BilingualVocabulary([],languages=('en','it'))\n",
    "en_it_vocab2.load_from_index(en_it_index)\n",
    "\n",
    "common_words = get_common_words(en_it_vocab2)"
   ]
  },
  {
   "cell_type": "code",
   "execution_count": 148,
   "metadata": {
    "scrolled": true
   },
   "outputs": [
    {
     "name": "stdout",
     "output_type": "stream",
     "text": [
      "27107\n"
     ]
    }
   ],
   "source": [
    "print(len(truth))"
   ]
  },
  {
   "cell_type": "code",
   "execution_count": null,
   "metadata": {
    "collapsed": true
   },
   "outputs": [],
   "source": []
  }
 ],
 "metadata": {
  "anaconda-cloud": {},
  "kernelspec": {
   "display_name": "Python 2",
   "language": "python",
   "name": "python2"
  },
  "language_info": {
   "codemirror_mode": {
    "name": "ipython",
    "version": 2
   },
   "file_extension": ".py",
   "mimetype": "text/x-python",
   "name": "python",
   "nbconvert_exporter": "python",
   "pygments_lexer": "ipython2",
   "version": "2.7.13"
  },
  "toc": {
   "nav_menu": {},
   "number_sections": false,
   "sideBar": false,
   "skip_h1_title": false,
   "toc_cell": false,
   "toc_position": {},
   "toc_section_display": "block",
   "toc_window_display": true
  }
 },
 "nbformat": 4,
 "nbformat_minor": 2
}
