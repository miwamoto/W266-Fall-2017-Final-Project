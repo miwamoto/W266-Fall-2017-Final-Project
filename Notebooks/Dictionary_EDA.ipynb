{
 "cells": [
  {
   "cell_type": "markdown",
   "metadata": {},
   "source": [
    "# Dictionary EDA\n",
    "`MMV | 12/4 | w266 Final Project: Crosslingual Word Embeddings`   \n",
    "\n",
    "\n",
    "Some EDA related to the Panlex dictionaries in preparation for using these to modify Word2Vec for 2 langauges. Eventually may also want to explore ht differentiate between translations."
   ]
  },
  {
   "cell_type": "markdown",
   "metadata": {},
   "source": [
    "# Notebook Set-up"
   ]
  },
  {
   "cell_type": "code",
   "execution_count": 3,
   "metadata": {
    "collapsed": true
   },
   "outputs": [],
   "source": [
    "# general imports\n",
    "import os\n",
    "import sys  \n",
    "import numpy as np\n",
    "import collections\n",
    "import pandas as pd\n",
    "import matplotlib.pyplot as plt\n",
    "\n",
    "# tell matplotlib not to open a new window\n",
    "%matplotlib inline"
   ]
  },
  {
   "cell_type": "code",
   "execution_count": 4,
   "metadata": {
    "collapsed": true
   },
   "outputs": [],
   "source": [
    "# filepaths\n",
    "BASE = '/home/mmillervedam/Data'\n",
    "FPATH_EN = BASE + '/test/wiki_en_10K.txt' # first 10000 lines from wiki dump\n",
    "FPATH_ES = BASE + '/test/wiki_es_10K.txt' # first 10000 lines from wiki dump\n",
    "FULL_EN = BASE + '/en/full.txt'\n",
    "FULL_ES = BASE + '/es/full.txt'\n",
    "DPATH = '/home/mmillervedam/ProjectRepo/XlingualEmb/data/dicts/en.es.panlex.all.processed'"
   ]
  },
  {
   "cell_type": "markdown",
   "metadata": {},
   "source": [
    "# Simple Stats"
   ]
  },
  {
   "cell_type": "code",
   "execution_count": 5,
   "metadata": {
    "collapsed": true
   },
   "outputs": [],
   "source": [
    "# load PanLexDictionary from file\n",
    "pld = pd.read_csv(DPATH, sep='\\t', names = ['en', 'es'], dtype=str)"
   ]
  },
  {
   "cell_type": "code",
   "execution_count": 12,
   "metadata": {},
   "outputs": [
    {
     "data": {
      "text/html": [
       "<div>\n",
       "<style>\n",
       "    .dataframe thead tr:only-child th {\n",
       "        text-align: right;\n",
       "    }\n",
       "\n",
       "    .dataframe thead th {\n",
       "        text-align: left;\n",
       "    }\n",
       "\n",
       "    .dataframe tbody tr th {\n",
       "        vertical-align: top;\n",
       "    }\n",
       "</style>\n",
       "<table border=\"1\" class=\"dataframe\">\n",
       "  <thead>\n",
       "    <tr style=\"text-align: right;\">\n",
       "      <th></th>\n",
       "      <th>en</th>\n",
       "      <th>es</th>\n",
       "    </tr>\n",
       "  </thead>\n",
       "  <tbody>\n",
       "    <tr>\n",
       "      <th>count</th>\n",
       "      <td>711978</td>\n",
       "      <td>711978</td>\n",
       "    </tr>\n",
       "    <tr>\n",
       "      <th>unique</th>\n",
       "      <td>356410</td>\n",
       "      <td>346572</td>\n",
       "    </tr>\n",
       "    <tr>\n",
       "      <th>top</th>\n",
       "      <td>en_break</td>\n",
       "      <td>es_inglaterra</td>\n",
       "    </tr>\n",
       "    <tr>\n",
       "      <th>freq</th>\n",
       "      <td>179</td>\n",
       "      <td>164</td>\n",
       "    </tr>\n",
       "  </tbody>\n",
       "</table>\n",
       "</div>"
      ],
      "text/plain": [
       "              en             es\n",
       "count     711978         711978\n",
       "unique    356410         346572\n",
       "top     en_break  es_inglaterra\n",
       "freq         179            164"
      ]
     },
     "execution_count": 12,
     "metadata": {},
     "output_type": "execute_result"
    }
   ],
   "source": [
    "# initial stats\n",
    "pld.describe()"
   ]
  },
  {
   "cell_type": "code",
   "execution_count": 35,
   "metadata": {},
   "outputs": [
    {
     "data": {
      "text/plain": [
       "<matplotlib.axes._subplots.AxesSubplot at 0x7f9f1c3c42d0>"
      ]
     },
     "execution_count": 35,
     "metadata": {},
     "output_type": "execute_result"
    },
    {
     "data": {
      "image/png": "[encoded data removed]",
      "text/plain": [
       "<matplotlib.figure.Figure at 0x7f9f1cc74b50>"
      ]
     },
     "metadata": {},
     "output_type": "display_data"
    }
   ],
   "source": [
    "# multiword mappings\n",
    "en_translation_counts = pld.groupby(by='en').size()\n",
    "en_translation_counts[en_translation_counts > 10].hist(bins=100)"
   ]
  },
  {
   "cell_type": "code",
   "execution_count": 39,
   "metadata": {},
   "outputs": [
    {
     "data": {
      "text/plain": [
       "['es_abandonar',\n",
       " 'es_abatir',\n",
       " 'es_abertura',\n",
       " 'es_abrir',\n",
       " 'es_acu\\xc3\\xb1ar',\n",
       " 'es_agrietar',\n",
       " 'es_alterar',\n",
       " 'es_amanecer',\n",
       " 'es_amansar',\n",
       " 'es_amortiguar']"
      ]
     },
     "execution_count": 39,
     "metadata": {},
     "output_type": "execute_result"
    }
   ],
   "source": [
    "# really? 179 translations?\n",
    "es_break = list(pld[pld.en == 'en_break']['es'])\n",
    "es_break[:10]"
   ]
  },
  {
   "cell_type": "code",
   "execution_count": 40,
   "metadata": {},
   "outputs": [
    {
     "data": {
      "text/plain": [
       "380"
      ]
     },
     "execution_count": 40,
     "metadata": {},
     "output_type": "execute_result"
    }
   ],
   "source": [
    "# Words with more than 50 translations\n",
    "flex_words = en_translation_counts[en_translation_counts > 50]\n",
    "len(flex_words)"
   ]
  },
  {
   "cell_type": "code",
   "execution_count": 49,
   "metadata": {},
   "outputs": [
    {
     "name": "stdout",
     "output_type": "stream",
     "text": [
      "en\n",
      "en_break    179\n",
      "en_clear    131\n",
      "en_cover    158\n",
      "en_cut      144\n",
      "en_end      138\n",
      "en_get      137\n",
      "en_go       137\n",
      "en_hit      143\n",
      "en_pass     133\n",
      "en_place    155\n",
      "en_set      166\n",
      "en_stop     134\n",
      "en_take     133\n",
      "en_work     135\n",
      "dtype: int64\n"
     ]
    }
   ],
   "source": [
    "# Words with more than 130 translations\n",
    "super_flex_words = en_translation_counts[en_translation_counts > 130]\n",
    "print(flex_words)"
   ]
  },
  {
   "cell_type": "code",
   "execution_count": 66,
   "metadata": {},
   "outputs": [
    {
     "name": "stdout",
     "output_type": "stream",
     "text": [
      "Total: 268959 unique words\n"
     ]
    },
    {
     "data": {
      "text/plain": [
       "en\n",
       "en_swiss_grand_prix              1\n",
       "en_baby's_room                   1\n",
       "en_pharmacies                    1\n",
       "en_additional_hours              1\n",
       "en_haute_randonnée_pyrénéenne    1\n",
       "en_södermanland_county           1\n",
       "en_cabbalah                      1\n",
       "en_baden-wuerttemberg            1\n",
       "en_tecún_umán                    1\n",
       "en_tawny-shouldered_blackbird    1\n",
       "dtype: int64"
      ]
     },
     "execution_count": 66,
     "metadata": {},
     "output_type": "execute_result"
    }
   ],
   "source": [
    "# Words with just 1 translations\n",
    "inflex_words = en_translation_counts[en_translation_counts < 2]\n",
    "print(\"Total: {} unique words\".format(len(inflex_words)))\n",
    "inflex_words.sample(10)"
   ]
  },
  {
   "cell_type": "code",
   "execution_count": 71,
   "metadata": {},
   "outputs": [
    {
     "data": {
      "text/html": [
       "<div>\n",
       "<style>\n",
       "    .dataframe thead tr:only-child th {\n",
       "        text-align: right;\n",
       "    }\n",
       "\n",
       "    .dataframe thead th {\n",
       "        text-align: left;\n",
       "    }\n",
       "\n",
       "    .dataframe tbody tr th {\n",
       "        vertical-align: top;\n",
       "    }\n",
       "</style>\n",
       "<table border=\"1\" class=\"dataframe\">\n",
       "  <thead>\n",
       "    <tr style=\"text-align: right;\">\n",
       "      <th></th>\n",
       "      <th>en</th>\n",
       "      <th>es</th>\n",
       "    </tr>\n",
       "  </thead>\n",
       "  <tbody>\n",
       "    <tr>\n",
       "      <th>254742</th>\n",
       "      <td>en_freedom_of_mobile_multimedia_access</td>\n",
       "      <td>es_foma</td>\n",
       "    </tr>\n",
       "    <tr>\n",
       "      <th>385046</th>\n",
       "      <td>en_love_wave</td>\n",
       "      <td>es_depresión</td>\n",
       "    </tr>\n",
       "    <tr>\n",
       "      <th>385047</th>\n",
       "      <td>en_love_wave</td>\n",
       "      <td>es_zona_de_baja_presión</td>\n",
       "    </tr>\n",
       "    <tr>\n",
       "      <th>474608</th>\n",
       "      <td>en_peppermint_patty</td>\n",
       "      <td>es_pastelillo_de_menta</td>\n",
       "    </tr>\n",
       "    <tr>\n",
       "      <th>509387</th>\n",
       "      <td>en_pseudo-sophisticated</td>\n",
       "      <td>es_altanera</td>\n",
       "    </tr>\n",
       "    <tr>\n",
       "      <th>509388</th>\n",
       "      <td>en_pseudo-sophisticated</td>\n",
       "      <td>es_ostentoso</td>\n",
       "    </tr>\n",
       "    <tr>\n",
       "      <th>631105</th>\n",
       "      <td>en_tawny-shouldered_blackbird</td>\n",
       "      <td>es_agelaius_humeralis</td>\n",
       "    </tr>\n",
       "  </tbody>\n",
       "</table>\n",
       "</div>"
      ],
      "text/plain": [
       "                                            en                       es\n",
       "254742  en_freedom_of_mobile_multimedia_access                  es_foma\n",
       "385046                            en_love_wave             es_depresión\n",
       "385047                            en_love_wave  es_zona_de_baja_presión\n",
       "474608                     en_peppermint_patty   es_pastelillo_de_menta\n",
       "509387                 en_pseudo-sophisticated              es_altanera\n",
       "509388                 en_pseudo-sophisticated             es_ostentoso\n",
       "631105           en_tawny-shouldered_blackbird    es_agelaius_humeralis"
      ]
     },
     "execution_count": 71,
     "metadata": {},
     "output_type": "execute_result"
    }
   ],
   "source": [
    "# some fun words in this dictionary\n",
    "fun_list = [\"en_pseudo-sophisticated\", \"en_peppermint_patty\", \"en_tawny-shouldered_blackbird\",\n",
    "            \"en_freedom_of_mobile_multimedia_access\", \"en_love_wave\"]\n",
    "pld[pld.en.isin(fun_list)]"
   ]
  },
  {
   "cell_type": "code",
   "execution_count": null,
   "metadata": {
    "collapsed": true
   },
   "outputs": [],
   "source": []
  }
 ],
 "metadata": {
  "kernelspec": {
   "display_name": "Python 2",
   "language": "python",
   "name": "python2"
  },
  "language_info": {
   "codemirror_mode": {
    "name": "ipython",
    "version": 2
   },
   "file_extension": ".py",
   "mimetype": "text/x-python",
   "name": "python",
   "nbconvert_exporter": "python",
   "pygments_lexer": "ipython2",
   "version": "2.7.13"
  }
 },
 "nbformat": 4,
 "nbformat_minor": 2
}
