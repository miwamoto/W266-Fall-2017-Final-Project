{
 "cells": [
  {
   "cell_type": "markdown",
   "metadata": {},
   "source": [
    "# Initial Data Exploration\n",
    "__`w266 Final Project | MIDS Fall 2017`__\n",
    "\n",
    "This notebook contains the code to investigate the data available from Duong et al's repo plus an intial forray into the [PanLex API](https://dev.panlex.org/api/), and [Polyglot python package](http://polyglot.readthedocs.io/en/latest/Embeddings.html).\n",
    "\n",
    "## Contents\n",
    "* [Original Data](#Original-Data)\n",
    "* [Polyglot Embeddings](#Polyglot-Embeddings)\n",
    "* [Polyglot Wikipedia Dumps](#Polyglot-Wikipedia-Dumps)\n",
    "* [PanLex API](#PanLex-API)"
   ]
  },
  {
   "cell_type": "markdown",
   "metadata": {},
   "source": [
    "## Notebook Setup"
   ]
  },
  {
   "cell_type": "code",
   "execution_count": 1,
   "metadata": {
    "collapsed": true
   },
   "outputs": [],
   "source": [
    "# imports\n",
    "import pandas as pd"
   ]
  },
  {
   "cell_type": "markdown",
   "metadata": {},
   "source": [
    "# Original Data"
   ]
  },
  {
   "cell_type": "code",
   "execution_count": 5,
   "metadata": {
    "collapsed": false
   },
   "outputs": [
    {
     "name": "stdout",
     "output_type": "stream",
     "text": [
      "total 276336\n",
      "-rw-r--r--  1 mmillervedam  staff         1 Nov 12 14:01 README.md\n",
      "-rw-r--r--  1 mmillervedam  staff  30951284 Nov 12 14:01 en.de.panlex.all.processed\n",
      "-rw-r--r--  1 mmillervedam  staff   8626690 Nov 12 14:01 en.el.panlex.all.processed\n",
      "-rw-r--r--  1 mmillervedam  staff  26496021 Nov 12 14:01 en.es.panlex.all.processed\n",
      "-rw-r--r--  1 mmillervedam  staff  19429394 Nov 12 14:01 en.fi.panlex.all.processed\n",
      "-rw-r--r--  1 mmillervedam  staff  17820708 Nov 12 14:01 en.it.panlex.all.processed\n",
      "-rw-r--r--  1 mmillervedam  staff  24258057 Nov 12 14:01 en.ja.panlex.all.processed\n",
      "-rw-r--r--  1 mmillervedam  staff  12340490 Nov 12 14:01 en.nl.panlex.all.processed\n",
      "-rw-r--r--  1 mmillervedam  staff   1541535 Nov 12 14:01 en.sr.panlex.all.processed\n",
      "total 7328\n",
      "-rw-r--r--  1 mmillervedam  staff        1 Nov 12 14:01 README.md\n",
      "-rw-r--r--  1 mmillervedam  staff  3746786 Nov 12 14:01 en_it.shuf.10k\n"
     ]
    }
   ],
   "source": [
    "# What files are available?\n",
    "!ls -l ../XlingualEmb/data/dicts\n",
    "!ls -l ../XlingualEmb/data/mono"
   ]
  },
  {
   "cell_type": "code",
   "execution_count": 14,
   "metadata": {
    "collapsed": false
   },
   "outputs": [
    {
     "name": "stdout",
     "output_type": "stream",
     "text": [
      "en_0\tes_cero\r\n",
      "en_0_or_1_matches\tes_0_ó_1_coincidencias\r\n",
      "en_0_or_more_matches\tes_0_o_más_coincidencias\r\n",
      "en_1000000000000\tes_billón\r\n",
      "en_1000000000\tes_billón\r\n"
     ]
    }
   ],
   "source": [
    "# What do the panlex processsed files look like?\n",
    "!head -n 5 ../XlingualEmb/data/dicts/en.es.panlex.all.processed"
   ]
  },
  {
   "cell_type": "code",
   "execution_count": 17,
   "metadata": {
    "collapsed": false
   },
   "outputs": [
    {
     "name": "stdout",
     "output_type": "stream",
     "text": [
      "it_[[877881]]\r\n",
      "it_[[879362]]\r\n",
      "it_in it_un it_remoto it_passato it_aveva it_progettato it_, it_per it_conto it_dei it_demoniazzi it_silastici it_di it_striterax it_, it_una it_bomba it_in it_grado it_di it_collegare it_simultaneamente it_tutti it_i it_nuclei it_di it_tutte it_le it_stelle it_, it_creando it_così it_un'immensa it_supernova it_che it_avrebbe it_distrutto it_l'universo it_, it_secondo it_i it_desideri it_dei it_demoniazzi it_silastici it_.\r\n",
      "it_krikkitesi it_i it_krikkitesi it_sono it_una it_razza it_aliena it_che it_per it_miliardi it_di it_anni it_aveva it_vissuto it_senza it_la it_minima it_consapevolezza it_dell'esistenza it_di it_altri it_mondi it_o it_altre it_specie it_.\r\n",
      "en_as en_the en_patron en_of en_delphi en_( en_pythian en_apollo en_) en_, en_apollo en_was en_an en_oracular en_god en_— en_the en_prophetic en_deity en_of en_the en_delphic en_oracle en_.\r\n",
      "it_all'inizio it_del it_2006 it_ha it_pubblicato it_il it_suo it_primo it_singolo it_solista it_, it_nell'angolo it_, it_con it_la it_partecipazione it_dello it_stesso it_zero it_, it_che it_ha it_collaborato it_anche it_alla it_stesura it_del it_testo it_.\r\n",
      "en_medieval en_muslim en_scholars en_regularly en_described en_aristotle en_as en_the en_\" en_first en_teacher en_\" en_.\r\n",
      "it_[[876688]]\r\n"
     ]
    }
   ],
   "source": [
    "# What does the monolingual file look like?\n",
    "!head -n 8 ../XlingualEmb/data/mono/en_it.shuf.10k"
   ]
  },
  {
   "cell_type": "markdown",
   "metadata": {},
   "source": [
    "# Polyglot Wikipedia Dumps\n",
    "\n",
    "These files are made available from [Rami Al Rfou's website](https://sites.google.com/site/rmyeid/projects/polyglot#TOC-Download-Wikipedia-Text-Dumps) and are protected by a creative commons liscence in association with the following publication:  \n",
    "\n",
    "__Citation:__ [Polyglot: Distributed Word Representations for Multilingual NLP](http://www.aclweb.org/anthology/W13-3520), \n",
    "Rami Al-Rfou, Bryan Perozzi, and Steven Skiena. \n",
    "In Proceedings Seventeenth Conference on Computational Natural Language Learning (CoNLL 2013).\n",
    "> `@InProceedings{polyglot:2013:ACL-CoNLL,\n",
    "  author    = {Al-Rfou, Rami  and  Perozzi, Bryan  and  Skiena, Steven},\n",
    "  title     = {Polyglot: Distributed Word Representations for Multilingual NLP},\n",
    "  booktitle = {Proceedings of the Seventeenth Conference on Computational Natural Language Learning},\n",
    "  month     = {August},\n",
    "  year      = {2013},\n",
    "  address   = {Sofia, Bulgaria},\n",
    "  publisher = {Association for Computational Linguistics},\n",
    "  pages     = {183--192}, \n",
    "  url       = {http://www.aclweb.org/anthology/W13-3520}\n",
    "}`"
   ]
  },
  {
   "cell_type": "code",
   "execution_count": 20,
   "metadata": {
    "collapsed": false
   },
   "outputs": [],
   "source": [
    "# English: eng_wiki_text.tar.lzma.download\n",
    "!curl https://drive.google.com/a/berkeley.edu/uc?export=download&confirm=cKR9&id=0B5lWReQPSvmGOTNxdHo3b0lMc3c"
   ]
  },
  {
   "cell_type": "code",
   "execution_count": null,
   "metadata": {
    "collapsed": true
   },
   "outputs": [],
   "source": []
  },
  {
   "cell_type": "code",
   "execution_count": null,
   "metadata": {
    "collapsed": true
   },
   "outputs": [],
   "source": []
  },
  {
   "cell_type": "code",
   "execution_count": null,
   "metadata": {
    "collapsed": true
   },
   "outputs": [],
   "source": []
  },
  {
   "cell_type": "markdown",
   "metadata": {},
   "source": [
    "# Polyglot Embeddings"
   ]
  },
  {
   "cell_type": "code",
   "execution_count": null,
   "metadata": {
    "collapsed": true
   },
   "outputs": [],
   "source": []
  },
  {
   "cell_type": "markdown",
   "metadata": {},
   "source": [
    "# PanLex API"
   ]
  },
  {
   "cell_type": "code",
   "execution_count": null,
   "metadata": {
    "collapsed": true
   },
   "outputs": [],
   "source": []
  }
 ],
 "metadata": {
  "anaconda-cloud": {},
  "kernelspec": {
   "display_name": "Python [conda root]",
   "language": "python",
   "name": "conda-root-py"
  },
  "language_info": {
   "codemirror_mode": {
    "name": "ipython",
    "version": 3
   },
   "file_extension": ".py",
   "mimetype": "text/x-python",
   "name": "python",
   "nbconvert_exporter": "python",
   "pygments_lexer": "ipython3",
   "version": "3.5.2"
  }
 },
 "nbformat": 4,
 "nbformat_minor": 0
}
