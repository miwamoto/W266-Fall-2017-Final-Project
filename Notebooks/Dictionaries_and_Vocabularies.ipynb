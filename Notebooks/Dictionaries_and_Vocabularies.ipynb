{
 "cells": [
  {
   "cell_type": "markdown",
   "metadata": {},
   "source": [
    "# Dictionaries and Vocabularies\n",
    "`w266 Final Project: Crosslingual Word Embeddings`\n",
    "\n",
    "Saving Panlex dictionaries & Bilingual Vocabularies so that we don't have to do this over and over."
   ]
  },
  {
   "cell_type": "markdown",
   "metadata": {},
   "source": [
    "# Notebook Setup"
   ]
  },
  {
   "cell_type": "code",
   "execution_count": 64,
   "metadata": {},
   "outputs": [
    {
     "name": "stdout",
     "output_type": "stream",
     "text": [
      "The autoreload extension is already loaded. To reload it, use:\n",
      "  %reload_ext autoreload\n"
     ]
    }
   ],
   "source": [
    "# general imports\n",
    "from __future__ import print_function\n",
    "import time\n",
    "import pickle\n",
    "import numpy as np\n",
    "import pandas as pd\n",
    "import matplotlib.pyplot as plt\n",
    "\n",
    "# tell matplotlib not to open a new window\n",
    "%matplotlib inline\n",
    "\n",
    "# autoreload modules\n",
    "%load_ext autoreload\n",
    "%autoreload 2"
   ]
  },
  {
   "cell_type": "code",
   "execution_count": 65,
   "metadata": {
    "collapsed": true
   },
   "outputs": [],
   "source": [
    "## Maya's paths\n",
    "#BASE = '/home/mmillervedam' #'/Users/mmillervedam/Documents/MIDS/w266' #\n",
    "#PROJ = '/home/mmillervedam/ProjectRepo' #'/Users/mmillervedam/Documents/MIDS/w266/FinalProject'#\n",
    "\n",
    "## Roseanna's paths\n",
    "\n",
    "## Mona's gc paths\n",
    "BASE = '/home/miwamoto' #'/home/mmillervedam/Data'\n",
    "PROJ = '/home/miwamoto/W266-Fall-2017-Final-Project'#'/home/mmillervedam/ProjectRepo'\n",
    "\n",
    "## Mona's local paths\n",
    "#BASE = '/Users/mona/OneDrive/repos/Data' #'/home/mmillervedam/Data'\n",
    "#PROJ = '/Users/mona/OneDrive/repos/final_proj/W266-Fall-2017-Final-Project'#'/home/mmillervedam/ProjectRepo'"
   ]
  },
  {
   "cell_type": "code",
   "execution_count": 67,
   "metadata": {
    "collapsed": true
   },
   "outputs": [],
   "source": [
    "# Data\n",
    "EN_ES_DICT = PROJ +'/XlingualEmb/data/dicts/en.es.panlex.all.processed'\n",
    "EN_IT_DICT = PROJ +'/XlingualEmb/data/dicts/en.it.panlex.all.processed'\n",
    "EN_NL_DICT = PROJ +'/XlingualEmb/data/dicts/en.nl.panlex.all.processed'\n",
    "EN_JA_DICT = PROJ +'/XlingualEmb/data/dicts/en.ja.panlex.all.processed'\n",
    "FULL_EN_ES = \"/home/miwamoto/en_es_shuf.txt\"\n",
    "FULL_EN_IT = \"/home/miwamoto/en_it_shuf.txt\"\n",
    "FULL_EN_NL = \"/home/miwamoto/en_nl_shuf.txt\"\n",
    "FULL_EN_JA = \"/home/miwamoto/en_ja_shuf.txt\"\n",
    "\n",
    "EN_IT = PROJ + '/XlingualEmb/data/mono/en_it.shuf.10k'\n"
   ]
  },
  {
   "cell_type": "markdown",
   "metadata": {},
   "source": [
    "__Custom Modules__"
   ]
  },
  {
   "cell_type": "code",
   "execution_count": 68,
   "metadata": {
    "collapsed": true
   },
   "outputs": [],
   "source": [
    "from parsing import Corpus, Vocabulary, BilingualVocabulary, batch_generator"
   ]
  },
  {
   "cell_type": "markdown",
   "metadata": {},
   "source": [
    "# English - Spanish"
   ]
  },
  {
   "cell_type": "markdown",
   "metadata": {},
   "source": [
    "### Corpus"
   ]
  },
  {
   "cell_type": "code",
   "execution_count": null,
   "metadata": {
    "collapsed": true
   },
   "outputs": [],
   "source": [
    "# load corpus\n",
    "en_es_data = Corpus(FULL_EN_ES)"
   ]
  },
  {
   "cell_type": "code",
   "execution_count": null,
   "metadata": {
    "collapsed": true
   },
   "outputs": [],
   "source": [
    "# corpus stats\n",
    "!wc {FULL_EN_ES}"
   ]
  },
  {
   "cell_type": "markdown",
   "metadata": {},
   "source": [
    "### Panlex Dictionary"
   ]
  },
  {
   "cell_type": "code",
   "execution_count": null,
   "metadata": {
    "collapsed": true
   },
   "outputs": [],
   "source": [
    "# loading english-spanish dictionary\n",
    "pld = pd.read_csv(EN_ES_DICT, sep='\\t', names = ['en', 'es'], dtype=str)\n",
    "en_set = set(pld.en.unique())\n",
    "es_set = set(pld.es.unique())"
   ]
  },
  {
   "cell_type": "code",
   "execution_count": null,
   "metadata": {
    "collapsed": true,
    "scrolled": true
   },
   "outputs": [],
   "source": [
    "# dictionary vocab lengths:\n",
    "print('EN:', len(en_set))\n",
    "print('ES:', len(es_set))"
   ]
  },
  {
   "cell_type": "code",
   "execution_count": null,
   "metadata": {
    "collapsed": true
   },
   "outputs": [],
   "source": [
    "# Create dictionary for ease of runtime translation\n",
    "# WARNING this takes a sec to run\n",
    "bi_dict = pld.groupby(['en'])['es'].unique().to_dict()"
   ]
  },
  {
   "cell_type": "code",
   "execution_count": null,
   "metadata": {
    "collapsed": true
   },
   "outputs": [],
   "source": [
    "# add other direction\n",
    "# WARNING this takes another sec to run\n",
    "bi_dict.update(pld.groupby(['es'])['en'].unique().to_dict())"
   ]
  },
  {
   "cell_type": "markdown",
   "metadata": {},
   "source": [
    "Saving to file."
   ]
  },
  {
   "cell_type": "code",
   "execution_count": null,
   "metadata": {
    "collapsed": true
   },
   "outputs": [],
   "source": [
    "# pickle it - THIS TAKES A MIN\n",
    "with open(BASE + '/Data/panlex/en_es_dict.pkl','wb') as f:\n",
    "    pickle.dump(bi_dict, f, pickle.HIGHEST_PROTOCOL)"
   ]
  },
  {
   "cell_type": "code",
   "execution_count": null,
   "metadata": {
    "collapsed": true
   },
   "outputs": [],
   "source": [
    "# confirm it saved - THIS ALSO TAKES A MIN\n",
    "with open(BASE + '/Data/panlex/en_es_dict.pkl','rb') as f:\n",
    "    en_es_dict = pickle.load(f)"
   ]
  },
  {
   "cell_type": "markdown",
   "metadata": {},
   "source": [
    "Take a look."
   ]
  },
  {
   "cell_type": "code",
   "execution_count": null,
   "metadata": {
    "collapsed": true
   },
   "outputs": [],
   "source": [
    "# demo en to es\n",
    "en_es_dict['en_the'][:5]"
   ]
  },
  {
   "cell_type": "code",
   "execution_count": null,
   "metadata": {
    "collapsed": true
   },
   "outputs": [],
   "source": [
    "# demo it to en\n",
    "en_es_dict['es_palabra'][:5]"
   ]
  },
  {
   "cell_type": "markdown",
   "metadata": {},
   "source": [
    "### Vocabulary"
   ]
  },
  {
   "cell_type": "code",
   "execution_count": null,
   "metadata": {
    "collapsed": true
   },
   "outputs": [],
   "source": [
    "# reload corpus\n",
    "en_es_data = Corpus(FULL_EN_ES)"
   ]
  },
  {
   "cell_type": "code",
   "execution_count": null,
   "metadata": {
    "collapsed": true
   },
   "outputs": [],
   "source": [
    "# train multilingual Vocabulary\n",
    "en_es_vocab = BilingualVocabulary(en_es_data.gen_tokens(), \n",
    "                                  languages = ('en','es'), \n",
    "                                  size = 100000)"
   ]
  },
  {
   "cell_type": "code",
   "execution_count": null,
   "metadata": {
    "collapsed": true
   },
   "outputs": [],
   "source": [
    "# length of corpus vocabulary\n",
    "en_es_vocab.size"
   ]
  },
  {
   "cell_type": "code",
   "execution_count": null,
   "metadata": {
    "collapsed": true
   },
   "outputs": [],
   "source": [
    "for i in range (99980,100020):\n",
    "    print(en_es_vocab.index[i])"
   ]
  },
  {
   "cell_type": "code",
   "execution_count": null,
   "metadata": {
    "collapsed": true
   },
   "outputs": [],
   "source": [
    "# transition between words in the bilingual vocab\n",
    "idx1 = 3\n",
    "idx2 = (en_es_vocab.size - 3) / 2 + 3\n",
    "print(idx1 - 1 , en_es_vocab.index[idx1 - 1])\n",
    "print(idx1, en_es_vocab.index[idx1])\n",
    "print(idx2 - 1 , en_es_vocab.index[idx2 - 1])\n",
    "print(idx2, en_es_vocab.index[idx2])"
   ]
  },
  {
   "cell_type": "code",
   "execution_count": null,
   "metadata": {
    "collapsed": true
   },
   "outputs": [],
   "source": [
    "# overlap with dictionary vocabulary\n",
    "len([w for w in en_es_vocab.types if w in en_es_dict])"
   ]
  },
  {
   "cell_type": "markdown",
   "metadata": {},
   "source": [
    "__Sample of orphaned words:__"
   ]
  },
  {
   "cell_type": "code",
   "execution_count": 28,
   "metadata": {
    "collapsed": true
   },
   "outputs": [],
   "source": [
    "def print_orphans(vocab, bi_dict):\n",
    "    x = 1\n",
    "    for w in vocab:\n",
    "        if w not in bi_dict:\n",
    "            print(w)\n",
    "            x += 1\n",
    "        if x > 20:\n",
    "            break"
   ]
  },
  {
   "cell_type": "code",
   "execution_count": null,
   "metadata": {
    "collapsed": true
   },
   "outputs": [],
   "source": [
    "print_orphans(en_es_vocab.types, bi_dict)"
   ]
  },
  {
   "cell_type": "markdown",
   "metadata": {},
   "source": [
    "__Saving the trained vocabulary__"
   ]
  },
  {
   "cell_type": "code",
   "execution_count": null,
   "metadata": {
    "collapsed": true
   },
   "outputs": [],
   "source": [
    "# save the index to file\n",
    "with open(BASE + '/Data/vocab/en_es_index.pkl','wb') as f:\n",
    "    pickle.dump(en_es_vocab.index, f, pickle.HIGHEST_PROTOCOL)"
   ]
  },
  {
   "cell_type": "code",
   "execution_count": null,
   "metadata": {
    "collapsed": true
   },
   "outputs": [],
   "source": [
    "# confirm that it can be reloaded as a dictionary\n",
    "with open(BASE + '/Data/vocab/en_es_index.pkl','rb') as f:\n",
    "    en_es_index = pickle.load(f)"
   ]
  },
  {
   "cell_type": "code",
   "execution_count": null,
   "metadata": {
    "collapsed": true
   },
   "outputs": [],
   "source": [
    "# confirm we can re-create the Vocab object\n",
    "en_es_vocab2 = BilingualVocabulary([],languages=('en','es'))\n",
    "en_es_vocab2.load_from_index(en_es_index)"
   ]
  },
  {
   "cell_type": "code",
   "execution_count": null,
   "metadata": {
    "collapsed": true
   },
   "outputs": [],
   "source": [
    "en_es_vocab2.to_ids(['en_the', 'en_vocabulary', 'en_works'])"
   ]
  },
  {
   "cell_type": "code",
   "execution_count": null,
   "metadata": {
    "collapsed": true
   },
   "outputs": [],
   "source": []
  },
  {
   "cell_type": "markdown",
   "metadata": {},
   "source": [
    "---\n",
    "# English - Italian"
   ]
  },
  {
   "cell_type": "markdown",
   "metadata": {},
   "source": [
    "### Corpus"
   ]
  },
  {
   "cell_type": "code",
   "execution_count": 116,
   "metadata": {
    "collapsed": true
   },
   "outputs": [],
   "source": [
    "# load corpus\n",
    "en_it_data = Corpus(FULL_EN_IT)"
   ]
  },
  {
   "cell_type": "code",
   "execution_count": 117,
   "metadata": {},
   "outputs": [
    {
     "name": "stdout",
     "output_type": "stream",
     "text": [
      "  10000000  261678882 2270315455 /home/miwamoto/en_it_shuf.txt\r\n"
     ]
    }
   ],
   "source": [
    "# corpus stats\n",
    "!wc {FULL_EN_IT}"
   ]
  },
  {
   "cell_type": "markdown",
   "metadata": {},
   "source": [
    "### Panlex Dictionary"
   ]
  },
  {
   "cell_type": "code",
   "execution_count": null,
   "metadata": {
    "collapsed": true
   },
   "outputs": [],
   "source": [
    "# loading english-spanish dictionary\n",
    "pld = pd.read_csv(EN_IT_DICT, sep='\\t', names = ['en', 'it'], dtype=str)\n",
    "en_set = set(pld.en.unique())\n",
    "it_set = set(pld.it.unique())"
   ]
  },
  {
   "cell_type": "code",
   "execution_count": null,
   "metadata": {
    "collapsed": true
   },
   "outputs": [],
   "source": [
    "# dictionary vocab lengths:\n",
    "print('EN:', len(en_set))\n",
    "print('IT:', len(it_set))"
   ]
  },
  {
   "cell_type": "code",
   "execution_count": null,
   "metadata": {
    "collapsed": true
   },
   "outputs": [],
   "source": [
    "# Create dictionary for ease of runtime translation\n",
    "# WARNING this takes a sec to run\n",
    "bi_dict = pld.groupby(['en'])['it'].unique().to_dict()"
   ]
  },
  {
   "cell_type": "code",
   "execution_count": null,
   "metadata": {
    "collapsed": true
   },
   "outputs": [],
   "source": [
    "# add other direction\n",
    "# WARNING this takes another sec to run\n",
    "bi_dict.update(pld.groupby(['it'])['en'].unique().to_dict())"
   ]
  },
  {
   "cell_type": "markdown",
   "metadata": {},
   "source": [
    "__Save en-es Panlex Dict to file__"
   ]
  },
  {
   "cell_type": "code",
   "execution_count": null,
   "metadata": {
    "collapsed": true
   },
   "outputs": [],
   "source": [
    "# pickle it - THIS TAKES A MIN\n",
    "with open(BASE + '/Data/panlex/en_it_dict.pkl','wb') as f:\n",
    "    pickle.dump(bi_dict, f, pickle.HIGHEST_PROTOCOL)"
   ]
  },
  {
   "cell_type": "code",
   "execution_count": 118,
   "metadata": {
    "collapsed": true
   },
   "outputs": [],
   "source": [
    "# confirm it saved - THIS ALSO TAKES A MIN\n",
    "with open(BASE + '/Data/panlex/en_it_dict.pkl','rb') as f:\n",
    "    en_it_dict = pickle.load(f)"
   ]
  },
  {
   "cell_type": "markdown",
   "metadata": {},
   "source": [
    "__Demo Words__"
   ]
  },
  {
   "cell_type": "code",
   "execution_count": null,
   "metadata": {
    "collapsed": true
   },
   "outputs": [],
   "source": [
    "# demo en to it\n",
    "en_it_dict['en_the'][:5]"
   ]
  },
  {
   "cell_type": "code",
   "execution_count": null,
   "metadata": {
    "collapsed": true
   },
   "outputs": [],
   "source": [
    "# demo it to en\n",
    "en_it_dict['it_ciao'][:5]"
   ]
  },
  {
   "cell_type": "markdown",
   "metadata": {},
   "source": [
    "### Vocabulary"
   ]
  },
  {
   "cell_type": "code",
   "execution_count": null,
   "metadata": {
    "collapsed": true
   },
   "outputs": [],
   "source": [
    "en_it_data = Corpus(FULL_EN_IT)"
   ]
  },
  {
   "cell_type": "code",
   "execution_count": null,
   "metadata": {
    "collapsed": true
   },
   "outputs": [],
   "source": [
    "# train multilingual Vocabulary\n",
    "en_it_vocab = BilingualVocabulary(en_it_data.gen_tokens(), \n",
    "                                  languages = ('en','it'), \n",
    "                                  size = 100000)"
   ]
  },
  {
   "cell_type": "code",
   "execution_count": null,
   "metadata": {
    "collapsed": true
   },
   "outputs": [],
   "source": [
    "# length of corpus vocabulary\n",
    "en_it_vocab.size"
   ]
  },
  {
   "cell_type": "code",
   "execution_count": null,
   "metadata": {
    "collapsed": true
   },
   "outputs": [],
   "source": [
    "# transition between words in the bilingual vocab\n",
    "idx1 = 3\n",
    "idx2 = (en_it_vocab.size - 3) / 2 + 3\n",
    "print(idx1 - 1 , en_it_vocab.index[idx1 - 1])\n",
    "print(idx1, en_it_vocab.index[idx1])\n",
    "print(idx2 - 1 , en_it_vocab.index[idx2 - 1])\n",
    "print(idx2, en_it_vocab.index[idx2])"
   ]
  },
  {
   "cell_type": "code",
   "execution_count": null,
   "metadata": {
    "collapsed": true
   },
   "outputs": [],
   "source": [
    "# overlap with dictionary vocabulary\n",
    "len([w for w in en_it_vocab.types if w in en_it_dict])"
   ]
  },
  {
   "cell_type": "code",
   "execution_count": null,
   "metadata": {
    "collapsed": true
   },
   "outputs": [],
   "source": [
    "# take a look at orphaned words\n",
    "print_orphans(en_it_vocab.types, en_it_dict)"
   ]
  },
  {
   "cell_type": "markdown",
   "metadata": {},
   "source": [
    "__Saving the trained vocabulary__"
   ]
  },
  {
   "cell_type": "code",
   "execution_count": null,
   "metadata": {
    "collapsed": true
   },
   "outputs": [],
   "source": [
    "from parsing import BilingualVocabulary"
   ]
  },
  {
   "cell_type": "code",
   "execution_count": null,
   "metadata": {
    "collapsed": true
   },
   "outputs": [],
   "source": [
    "# save the index to file\n",
    "with open(BASE + '/Data/vocab/en_it_index.pkl','wb') as f:\n",
    "    pickle.dump(en_it_vocab.index, f, pickle.HIGHEST_PROTOCOL)"
   ]
  },
  {
   "cell_type": "code",
   "execution_count": null,
   "metadata": {
    "collapsed": true
   },
   "outputs": [],
   "source": [
    "# confirm that it can be reloaded as a dictionary\n",
    "with open(BASE + '/Data/vocab/en_it_index.pkl','rb') as f:\n",
    "    en_it_index = pickle.load(f)"
   ]
  },
  {
   "cell_type": "code",
   "execution_count": null,
   "metadata": {
    "collapsed": true
   },
   "outputs": [],
   "source": [
    "# confirm we can re-create the Vocab object\n",
    "en_it_vocab2 = BilingualVocabulary([],languages=('en','it'))\n",
    "en_it_vocab2.load_from_index(en_it_index)"
   ]
  },
  {
   "cell_type": "code",
   "execution_count": null,
   "metadata": {
    "collapsed": true
   },
   "outputs": [],
   "source": [
    "en_it_vocab2.size"
   ]
  },
  {
   "cell_type": "code",
   "execution_count": null,
   "metadata": {
    "collapsed": true
   },
   "outputs": [],
   "source": [
    "en_it_vocab2.to_ids(['en_the', 'en_vocabulary', 'en_works'])"
   ]
  },
  {
   "cell_type": "code",
   "execution_count": null,
   "metadata": {
    "collapsed": true
   },
   "outputs": [],
   "source": []
  },
  {
   "cell_type": "markdown",
   "metadata": {},
   "source": [
    "---\n",
    "# English - Italian 10K"
   ]
  },
  {
   "cell_type": "markdown",
   "metadata": {},
   "source": [
    "### Corpus"
   ]
  },
  {
   "cell_type": "code",
   "execution_count": 69,
   "metadata": {
    "collapsed": true
   },
   "outputs": [],
   "source": [
    "# load corpus\n",
    "en_it_data = Corpus(EN_IT)"
   ]
  },
  {
   "cell_type": "code",
   "execution_count": 70,
   "metadata": {},
   "outputs": [
    {
     "name": "stdout",
     "output_type": "stream",
     "text": [
      "  20000  430887 3746786 /home/miwamoto/W266-Fall-2017-Final-Project/XlingualEmb/data/mono/en_it.shuf.10k\r\n"
     ]
    }
   ],
   "source": [
    "# corpus stats\n",
    "!wc {EN_IT}"
   ]
  },
  {
   "cell_type": "markdown",
   "metadata": {},
   "source": [
    "### Panlex Dictionary"
   ]
  },
  {
   "cell_type": "code",
   "execution_count": 83,
   "metadata": {
    "collapsed": true
   },
   "outputs": [],
   "source": [
    "# loading english-spanish dictionary\n",
    "pld = pd.read_csv(EN_IT_DICT, sep='\\t', names = ['en', 'it'], dtype=str)\n",
    "en_set = set(pld.en.unique())\n",
    "it_set = set(pld.it.unique())"
   ]
  },
  {
   "cell_type": "code",
   "execution_count": 84,
   "metadata": {},
   "outputs": [
    {
     "name": "stdout",
     "output_type": "stream",
     "text": [
      "EN: 266450\n",
      "IT: 258641\n"
     ]
    }
   ],
   "source": [
    "# dictionary vocab lengths:\n",
    "print('EN:', len(en_set))\n",
    "print('IT:', len(it_set))"
   ]
  },
  {
   "cell_type": "code",
   "execution_count": 85,
   "metadata": {
    "collapsed": true
   },
   "outputs": [],
   "source": [
    "# Create dictionary for ease of runtime translation\n",
    "# WARNING this takes a sec to run\n",
    "bi_dict = pld.groupby(['en'])['it'].unique().to_dict()"
   ]
  },
  {
   "cell_type": "code",
   "execution_count": 86,
   "metadata": {
    "collapsed": true
   },
   "outputs": [],
   "source": [
    "# add other direction\n",
    "# WARNING this takes another sec to run\n",
    "bi_dict.update(pld.groupby(['it'])['en'].unique().to_dict())"
   ]
  },
  {
   "cell_type": "markdown",
   "metadata": {},
   "source": [
    "__Save en-es Panlex Dict to file__"
   ]
  },
  {
   "cell_type": "code",
   "execution_count": 87,
   "metadata": {
    "collapsed": true
   },
   "outputs": [],
   "source": [
    "# pickle it - THIS TAKES A MIN\n",
    "with open(BASE + '/Data/panlex/en_it_dict.pkl','wb') as f:\n",
    "    pickle.dump(bi_dict, f, pickle.HIGHEST_PROTOCOL)"
   ]
  },
  {
   "cell_type": "code",
   "execution_count": 88,
   "metadata": {
    "collapsed": true
   },
   "outputs": [],
   "source": [
    "# confirm it saved - THIS ALSO TAKES A MIN\n",
    "with open(BASE + '/Data/panlex/en_it_dict.pkl','rb') as f:\n",
    "    en_it_dict = pickle.load(f)"
   ]
  },
  {
   "cell_type": "markdown",
   "metadata": {},
   "source": [
    "__Demo Words__"
   ]
  },
  {
   "cell_type": "code",
   "execution_count": 89,
   "metadata": {},
   "outputs": [
    {
     "data": {
      "text/plain": [
       "array(['it_della', 'it_gli', 'it_i', 'it_il', 'it_la'], dtype=object)"
      ]
     },
     "execution_count": 89,
     "metadata": {},
     "output_type": "execute_result"
    }
   ],
   "source": [
    "# demo en to it\n",
    "en_it_dict['en_the'][:5]"
   ]
  },
  {
   "cell_type": "code",
   "execution_count": 90,
   "metadata": {},
   "outputs": [
    {
     "data": {
      "text/plain": [
       "array(['en_adieu', 'en_bye-bye', 'en_bye', 'en_cheerio', 'en_ciao'], dtype=object)"
      ]
     },
     "execution_count": 90,
     "metadata": {},
     "output_type": "execute_result"
    }
   ],
   "source": [
    "# demo it to en\n",
    "en_it_dict['it_ciao'][:5]"
   ]
  },
  {
   "cell_type": "markdown",
   "metadata": {},
   "source": [
    "### Vocabulary"
   ]
  },
  {
   "cell_type": "code",
   "execution_count": 91,
   "metadata": {
    "collapsed": true
   },
   "outputs": [],
   "source": [
    "en_it_data = Corpus(EN_IT)"
   ]
  },
  {
   "cell_type": "code",
   "execution_count": 92,
   "metadata": {
    "collapsed": true
   },
   "outputs": [],
   "source": [
    "# train multilingual Vocabulary\n",
    "en_it_vocab = BilingualVocabulary(en_it_data.gen_tokens(), \n",
    "                                  languages = ('en','it'), \n",
    "                                  size = 100000)"
   ]
  },
  {
   "cell_type": "code",
   "execution_count": 93,
   "metadata": {},
   "outputs": [
    {
     "data": {
      "text/plain": [
       "48579"
      ]
     },
     "execution_count": 93,
     "metadata": {},
     "output_type": "execute_result"
    }
   ],
   "source": [
    "# length of corpus vocabulary\n",
    "en_it_vocab.size"
   ]
  },
  {
   "cell_type": "code",
   "execution_count": 94,
   "metadata": {},
   "outputs": [
    {
     "name": "stdout",
     "output_type": "stream",
     "text": [
      "2 <unk>\n",
      "3 en_the\n",
      "24290 it_edizioni\n",
      "24291 it_quarto\n"
     ]
    }
   ],
   "source": [
    "# transition between words in the bilingual vocab\n",
    "idx1 = 3\n",
    "idx2 = (en_it_vocab.size - 3) / 2 + 3\n",
    "print(idx1 - 1 , en_it_vocab.index[idx1 - 1])\n",
    "print(idx1, en_it_vocab.index[idx1])\n",
    "print(idx2 - 1 , en_it_vocab.index[idx2 - 1])\n",
    "print(idx2, en_it_vocab.index[idx2])"
   ]
  },
  {
   "cell_type": "code",
   "execution_count": 107,
   "metadata": {},
   "outputs": [
    {
     "name": "stdout",
     "output_type": "stream",
     "text": [
      "en_atari\n",
      "en_10646\n",
      "en_cylindrical\n",
      "en_canyon\n",
      "en_ionia\n",
      "en_commodified\n",
      "it_,\n",
      "it_di\n",
      "it_.\n",
      "it_e\n",
      "it_il\n",
      "it_la\n",
      "it_\n",
      "it_in\n",
      "it_del\n",
      "it_a\n",
      "it_che\n",
      "it_della\n",
      "it_è\n",
      "it_un\n"
     ]
    }
   ],
   "source": [
    "for i in range (23220,23240):\n",
    "    print(en_it_vocab.index[i])"
   ]
  },
  {
   "cell_type": "code",
   "execution_count": 108,
   "metadata": {},
   "outputs": [
    {
     "data": {
      "text/plain": [
       "24176"
      ]
     },
     "execution_count": 108,
     "metadata": {},
     "output_type": "execute_result"
    }
   ],
   "source": [
    "# overlap with dictionary vocabulary\n",
    "len([w for w in en_it_vocab.types if w in en_it_dict])"
   ]
  },
  {
   "cell_type": "code",
   "execution_count": 109,
   "metadata": {},
   "outputs": [
    {
     "name": "stdout",
     "output_type": "stream",
     "text": [
      "it_spunti\n",
      "it_integrali\n",
      "en_manuscripts\n",
      "it_giostrando\n",
      "en_syro-hittite\n",
      "it_l'arco\n",
      "it_janue\n",
      "it_[[878172]]\n",
      "it_[[879051]]\n",
      "it_\")\n",
      "it_raffiguranti\n",
      "it_promettenti\n",
      "it_margaria\n",
      "en_western-hemisphere\n",
      "it_gallizio\n",
      "en_migrating\n",
      "en_conraua\n",
      "en_aretē\n",
      "en_tukey\n",
      "it_ripubblicate\n"
     ]
    }
   ],
   "source": [
    "# take a look at orphaned words\n",
    "print_orphans(en_it_vocab.types, en_it_dict)"
   ]
  },
  {
   "cell_type": "markdown",
   "metadata": {},
   "source": [
    "__Saving the trained vocabulary__"
   ]
  },
  {
   "cell_type": "code",
   "execution_count": 110,
   "metadata": {
    "collapsed": true
   },
   "outputs": [],
   "source": [
    "from parsing import BilingualVocabulary"
   ]
  },
  {
   "cell_type": "code",
   "execution_count": 111,
   "metadata": {
    "collapsed": true
   },
   "outputs": [],
   "source": [
    "# save the index to file\n",
    "with open(BASE + '/Data/vocab/en_it_10K_index.pkl','wb') as f:\n",
    "    pickle.dump(en_it_vocab.index, f, pickle.HIGHEST_PROTOCOL)"
   ]
  },
  {
   "cell_type": "code",
   "execution_count": 112,
   "metadata": {
    "collapsed": true
   },
   "outputs": [],
   "source": [
    "# confirm that it can be reloaded as a dictionary\n",
    "with open(BASE + '/Data/vocab/en_it_10K_index.pkl','rb') as f:\n",
    "    en_it_index = pickle.load(f)"
   ]
  },
  {
   "cell_type": "code",
   "execution_count": 113,
   "metadata": {
    "collapsed": true
   },
   "outputs": [],
   "source": [
    "# confirm we can re-create the Vocab object\n",
    "en_it_vocab2 = BilingualVocabulary([],languages=('en','it'))\n",
    "en_it_vocab2.load_from_index(en_it_index)"
   ]
  },
  {
   "cell_type": "code",
   "execution_count": 114,
   "metadata": {},
   "outputs": [
    {
     "data": {
      "text/plain": [
       "48579"
      ]
     },
     "execution_count": 114,
     "metadata": {},
     "output_type": "execute_result"
    }
   ],
   "source": [
    "en_it_vocab2.size"
   ]
  },
  {
   "cell_type": "code",
   "execution_count": 115,
   "metadata": {},
   "outputs": [
    {
     "data": {
      "text/plain": [
       "[3, 3979, 248]"
      ]
     },
     "execution_count": 115,
     "metadata": {},
     "output_type": "execute_result"
    }
   ],
   "source": [
    "en_it_vocab2.to_ids(['en_the', 'en_vocabulary', 'en_works'])"
   ]
  },
  {
   "cell_type": "code",
   "execution_count": null,
   "metadata": {
    "collapsed": true
   },
   "outputs": [],
   "source": []
  },
  {
   "cell_type": "markdown",
   "metadata": {},
   "source": [
    "---\n",
    "# English - Japanese"
   ]
  },
  {
   "cell_type": "markdown",
   "metadata": {},
   "source": [
    "### Corpus"
   ]
  },
  {
   "cell_type": "code",
   "execution_count": 11,
   "metadata": {
    "collapsed": true
   },
   "outputs": [],
   "source": [
    "# load corpus\n",
    "en_ja_data = Corpus(FULL_EN_JA)"
   ]
  },
  {
   "cell_type": "code",
   "execution_count": 12,
   "metadata": {},
   "outputs": [
    {
     "name": "stdout",
     "output_type": "stream",
     "text": [
      "  10000000  162715052 1447070927 /home/miwamoto/en_ja_shuf.txt\r\n"
     ]
    }
   ],
   "source": [
    "# corpus stats\n",
    "!wc {FULL_EN_JA}"
   ]
  },
  {
   "cell_type": "markdown",
   "metadata": {},
   "source": [
    "### Panlex Dictionary"
   ]
  },
  {
   "cell_type": "code",
   "execution_count": 14,
   "metadata": {
    "collapsed": true
   },
   "outputs": [],
   "source": [
    "# loading english-spanish dictionary\n",
    "pld = pd.read_csv(EN_JA_DICT, sep='\\t', names = ['en', 'ja'], dtype=str)\n",
    "en_set = set(pld.en.unique())\n",
    "ja_set = set(pld.ja.unique())"
   ]
  },
  {
   "cell_type": "code",
   "execution_count": 15,
   "metadata": {},
   "outputs": [
    {
     "name": "stdout",
     "output_type": "stream",
     "text": [
      "EN: 308933\n",
      "JA: 325772\n"
     ]
    }
   ],
   "source": [
    "# dictionary vocab lengths:\n",
    "print('EN:', len(en_set))\n",
    "print('JA:', len(ja_set))"
   ]
  },
  {
   "cell_type": "code",
   "execution_count": 16,
   "metadata": {
    "collapsed": true
   },
   "outputs": [],
   "source": [
    "# Create dictionary for ease of runtime translation\n",
    "# WARNING this takes a sec to run\n",
    "bi_dict = pld.groupby(['en'])['ja'].unique().to_dict()"
   ]
  },
  {
   "cell_type": "code",
   "execution_count": 17,
   "metadata": {
    "collapsed": true
   },
   "outputs": [],
   "source": [
    "# add other direction\n",
    "# WARNING this takes another sec to run\n",
    "bi_dict.update(pld.groupby(['ja'])['en'].unique().to_dict())"
   ]
  },
  {
   "cell_type": "markdown",
   "metadata": {},
   "source": [
    "__Save en-es Panlex Dict to file__"
   ]
  },
  {
   "cell_type": "code",
   "execution_count": 18,
   "metadata": {
    "collapsed": true
   },
   "outputs": [],
   "source": [
    "# pickle it - THIS TAKES A MIN\n",
    "with open(BASE + '/Data/panlex/en_ja_dict.pkl','wb') as f:\n",
    "    pickle.dump(bi_dict, f, pickle.HIGHEST_PROTOCOL)"
   ]
  },
  {
   "cell_type": "code",
   "execution_count": 19,
   "metadata": {
    "collapsed": true
   },
   "outputs": [],
   "source": [
    "# confirm it saved - THIS ALSO TAKES A MIN\n",
    "with open(BASE + '/Data/panlex/en_ja_dict.pkl','rb') as f:\n",
    "    en_ja_dict = pickle.load(f)"
   ]
  },
  {
   "cell_type": "markdown",
   "metadata": {},
   "source": [
    "__Demo Words__"
   ]
  },
  {
   "cell_type": "code",
   "execution_count": 20,
   "metadata": {},
   "outputs": [
    {
     "data": {
      "text/plain": [
       "array(['ja_\\xe3\\x82\\xb6', 'ja_\\xe5\\x85\\xb6\\xe3\\x81\\xae'], dtype=object)"
      ]
     },
     "execution_count": 20,
     "metadata": {},
     "output_type": "execute_result"
    }
   ],
   "source": [
    "# demo en to it\n",
    "en_ja_dict['en_the'][:5]"
   ]
  },
  {
   "cell_type": "code",
   "execution_count": 21,
   "metadata": {},
   "outputs": [
    {
     "data": {
      "text/plain": [
       "array(['en_it', 'en_that'], dtype=object)"
      ]
     },
     "execution_count": 21,
     "metadata": {},
     "output_type": "execute_result"
    }
   ],
   "source": [
    "# demo it to en\n",
    "en_ja_dict['ja_sore'][:5]"
   ]
  },
  {
   "cell_type": "markdown",
   "metadata": {},
   "source": [
    "### Vocabulary"
   ]
  },
  {
   "cell_type": "code",
   "execution_count": 22,
   "metadata": {
    "collapsed": true
   },
   "outputs": [],
   "source": [
    "en_ja_data = Corpus(FULL_EN_JA)"
   ]
  },
  {
   "cell_type": "code",
   "execution_count": 23,
   "metadata": {
    "collapsed": true
   },
   "outputs": [],
   "source": [
    "# train multilingual Vocabulary\n",
    "en_ja_vocab = BilingualVocabulary(en_ja_data.gen_tokens(), \n",
    "                                  languages = ('en','ja'), \n",
    "                                  size = 100000)"
   ]
  },
  {
   "cell_type": "code",
   "execution_count": 24,
   "metadata": {},
   "outputs": [
    {
     "data": {
      "text/plain": [
       "200003"
      ]
     },
     "execution_count": 24,
     "metadata": {},
     "output_type": "execute_result"
    }
   ],
   "source": [
    "# length of corpus vocabulary\n",
    "en_ja_vocab.size"
   ]
  },
  {
   "cell_type": "code",
   "execution_count": 25,
   "metadata": {},
   "outputs": [
    {
     "name": "stdout",
     "output_type": "stream",
     "text": [
      "2 <unk>\n",
      "3 en_the\n",
      "100002 en_espejo\n",
      "100003 ja_年\n"
     ]
    }
   ],
   "source": [
    "# transition between words in the bilingual vocab\n",
    "idx1 = 3\n",
    "idx2 = (en_ja_vocab.size - 3) / 2 + 3\n",
    "print(idx1 - 1 , en_ja_vocab.index[idx1 - 1])\n",
    "print(idx1, en_ja_vocab.index[idx1])\n",
    "print(idx2 - 1 , en_ja_vocab.index[idx2 - 1])\n",
    "print(idx2, en_ja_vocab.index[idx2])"
   ]
  },
  {
   "cell_type": "code",
   "execution_count": 26,
   "metadata": {},
   "outputs": [
    {
     "data": {
      "text/plain": [
       "87035"
      ]
     },
     "execution_count": 26,
     "metadata": {},
     "output_type": "execute_result"
    }
   ],
   "source": [
    "# overlap with dictionary vocabulary\n",
    "len([w for w in en_ja_vocab.types if w in en_ja_dict])"
   ]
  },
  {
   "cell_type": "code",
   "execution_count": 29,
   "metadata": {},
   "outputs": [
    {
     "name": "stdout",
     "output_type": "stream",
     "text": [
      "ja_vanilla\n",
      "en_deactivated\n",
      "en_hensley\n",
      "ja_タンチノープル\n",
      "ja_ロズベルグ\n",
      "en_sp1\n",
      "ja_末松\n",
      "en_intuitionistic\n",
      "ja_平泉\n",
      "ja_トトロ\n",
      "en_dilys\n",
      "en_haters\n",
      "en_migrating\n",
      "en_30-27\n",
      "ja_静内川\n",
      "en_parris\n",
      "ja_山科\n",
      "ja_eating\n",
      "ja_オルバッツァーノ\n",
      "en_time-travel\n"
     ]
    }
   ],
   "source": [
    "# take a look at orphaned words\n",
    "print_orphans(en_ja_vocab.types, en_ja_dict)"
   ]
  },
  {
   "cell_type": "markdown",
   "metadata": {},
   "source": [
    "__Saving the trained vocabulary__"
   ]
  },
  {
   "cell_type": "code",
   "execution_count": 30,
   "metadata": {
    "collapsed": true
   },
   "outputs": [],
   "source": [
    "# save the index to file\n",
    "with open(BASE + '/Data/vocab/en_ja_index.pkl','wb') as f:\n",
    "    pickle.dump(en_ja_vocab.index, f, pickle.HIGHEST_PROTOCOL)"
   ]
  },
  {
   "cell_type": "code",
   "execution_count": 31,
   "metadata": {
    "collapsed": true
   },
   "outputs": [],
   "source": [
    "# confirm that it can be reloaded as a dictionary\n",
    "with open(BASE + '/Data/vocab/en_ja_index.pkl','rb') as f:\n",
    "    en_ja_index = pickle.load(f)"
   ]
  },
  {
   "cell_type": "code",
   "execution_count": 33,
   "metadata": {
    "collapsed": true
   },
   "outputs": [],
   "source": [
    "# confirm we can re-create the Vocab object\n",
    "en_ja_vocab2 = BilingualVocabulary([],languages=('en','ja'))\n",
    "en_ja_vocab2.load_from_index(en_ja_index)"
   ]
  },
  {
   "cell_type": "code",
   "execution_count": 34,
   "metadata": {},
   "outputs": [
    {
     "data": {
      "text/plain": [
       "200003"
      ]
     },
     "execution_count": 34,
     "metadata": {},
     "output_type": "execute_result"
    }
   ],
   "source": [
    "en_ja_vocab2.size"
   ]
  },
  {
   "cell_type": "code",
   "execution_count": 35,
   "metadata": {},
   "outputs": [
    {
     "data": {
      "text/plain": [
       "[3, 10672, 353]"
      ]
     },
     "execution_count": 35,
     "metadata": {},
     "output_type": "execute_result"
    }
   ],
   "source": [
    "en_ja_vocab2.to_ids(['en_the', 'en_vocabulary', 'en_works'])"
   ]
  },
  {
   "cell_type": "code",
   "execution_count": null,
   "metadata": {
    "collapsed": true
   },
   "outputs": [],
   "source": []
  },
  {
   "cell_type": "markdown",
   "metadata": {},
   "source": [
    "---\n",
    "# English - Dutch"
   ]
  },
  {
   "cell_type": "markdown",
   "metadata": {},
   "source": [
    "### Corpus"
   ]
  },
  {
   "cell_type": "code",
   "execution_count": 37,
   "metadata": {
    "collapsed": true
   },
   "outputs": [],
   "source": [
    "# load corpus\n",
    "en_nl_data = Corpus(FULL_EN_NL)"
   ]
  },
  {
   "cell_type": "code",
   "execution_count": 38,
   "metadata": {},
   "outputs": [
    {
     "name": "stdout",
     "output_type": "stream",
     "text": [
      "   9997288  218679772 1885752438 /home/miwamoto/en_nl_shuf.txt\r\n"
     ]
    }
   ],
   "source": [
    "# corpus stats\n",
    "!wc {FULL_EN_NL}"
   ]
  },
  {
   "cell_type": "markdown",
   "metadata": {},
   "source": [
    "### Panlex Dictionary"
   ]
  },
  {
   "cell_type": "code",
   "execution_count": 39,
   "metadata": {
    "collapsed": true
   },
   "outputs": [],
   "source": [
    "# loading english-spanish dictionary\n",
    "pld = pd.read_csv(EN_NL_DICT, sep='\\t', names = ['en', 'nl'], dtype=str)\n",
    "en_set = set(pld.en.unique())\n",
    "nl_set = set(pld.nl.unique())"
   ]
  },
  {
   "cell_type": "code",
   "execution_count": 40,
   "metadata": {},
   "outputs": [
    {
     "name": "stdout",
     "output_type": "stream",
     "text": [
      "EN: 220439\n",
      "NL: 217492\n"
     ]
    }
   ],
   "source": [
    "# dictionary vocab lengths:\n",
    "print('EN:', len(en_set))\n",
    "print('NL:', len(nl_set))"
   ]
  },
  {
   "cell_type": "code",
   "execution_count": 41,
   "metadata": {
    "collapsed": true
   },
   "outputs": [],
   "source": [
    "# Create dictionary for ease of runtime translation\n",
    "# WARNING this takes a sec to run\n",
    "bi_dict = pld.groupby(['en'])['nl'].unique().to_dict()"
   ]
  },
  {
   "cell_type": "code",
   "execution_count": 42,
   "metadata": {
    "collapsed": true
   },
   "outputs": [],
   "source": [
    "# add other direction\n",
    "# WARNING this takes another sec to run\n",
    "bi_dict.update(pld.groupby(['nl'])['en'].unique().to_dict())"
   ]
  },
  {
   "cell_type": "markdown",
   "metadata": {},
   "source": [
    "__Save en-es Panlex Dict to file__"
   ]
  },
  {
   "cell_type": "code",
   "execution_count": 43,
   "metadata": {
    "collapsed": true
   },
   "outputs": [],
   "source": [
    "# pickle it - THIS TAKES A MIN\n",
    "with open(BASE + '/Data/panlex/en_nl_dict.pkl','wb') as f:\n",
    "    pickle.dump(bi_dict, f, pickle.HIGHEST_PROTOCOL)"
   ]
  },
  {
   "cell_type": "code",
   "execution_count": 47,
   "metadata": {
    "collapsed": true
   },
   "outputs": [],
   "source": [
    "# confirm it saved - THIS ALSO TAKES A MIN\n",
    "with open(BASE + '/Data/panlex/en_nl_dict.pkl','rb') as f:\n",
    "    en_nl_dict = pickle.load(f)"
   ]
  },
  {
   "cell_type": "markdown",
   "metadata": {},
   "source": [
    "__Demo Words__"
   ]
  },
  {
   "cell_type": "code",
   "execution_count": 48,
   "metadata": {},
   "outputs": [
    {
     "data": {
      "text/plain": [
       "array(['nl_aan_de', 'nl_aan_het', 'nl_de', 'nl_des_te', 'nl_die'], dtype=object)"
      ]
     },
     "execution_count": 48,
     "metadata": {},
     "output_type": "execute_result"
    }
   ],
   "source": [
    "# demo en to it\n",
    "en_nl_dict['en_the'][:5]"
   ]
  },
  {
   "cell_type": "code",
   "execution_count": 49,
   "metadata": {},
   "outputs": [
    {
     "data": {
      "text/plain": [
       "array(['en_he', 'en_him', 'en_him_y', 'en_i', 'en_it'], dtype=object)"
      ]
     },
     "execution_count": 49,
     "metadata": {},
     "output_type": "execute_result"
    }
   ],
   "source": [
    "# demo it to en\n",
    "en_nl_dict['nl_hij'][:5]"
   ]
  },
  {
   "cell_type": "markdown",
   "metadata": {},
   "source": [
    "### Vocabulary"
   ]
  },
  {
   "cell_type": "code",
   "execution_count": 50,
   "metadata": {
    "collapsed": true
   },
   "outputs": [],
   "source": [
    "en_nl_data = Corpus(FULL_EN_NL)"
   ]
  },
  {
   "cell_type": "code",
   "execution_count": 51,
   "metadata": {
    "collapsed": true
   },
   "outputs": [],
   "source": [
    "# train multilingual Vocabulary\n",
    "en_nl_vocab = BilingualVocabulary(en_nl_data.gen_tokens(), \n",
    "                                  languages = ('en','nl'), \n",
    "                                  size = 100000)"
   ]
  },
  {
   "cell_type": "code",
   "execution_count": 52,
   "metadata": {},
   "outputs": [
    {
     "data": {
      "text/plain": [
       "200003"
      ]
     },
     "execution_count": 52,
     "metadata": {},
     "output_type": "execute_result"
    }
   ],
   "source": [
    "# length of corpus vocabulary\n",
    "en_nl_vocab.size"
   ]
  },
  {
   "cell_type": "code",
   "execution_count": 53,
   "metadata": {},
   "outputs": [
    {
     "name": "stdout",
     "output_type": "stream",
     "text": [
      "2 <unk>\n",
      "3 en_the\n",
      "100002 en_espejo\n",
      "100003 nl_de\n"
     ]
    }
   ],
   "source": [
    "# transition between words in the bilingual vocab\n",
    "idx1 = 3\n",
    "idx2 = (en_nl_vocab.size - 3) / 2 + 3\n",
    "print(idx1 - 1 , en_nl_vocab.index[idx1 - 1])\n",
    "print(idx1, en_nl_vocab.index[idx1])\n",
    "print(idx2 - 1 , en_nl_vocab.index[idx2 - 1])\n",
    "print(idx2, en_nl_vocab.index[idx2])"
   ]
  },
  {
   "cell_type": "code",
   "execution_count": 56,
   "metadata": {},
   "outputs": [
    {
     "data": {
      "text/plain": [
       "70475"
      ]
     },
     "execution_count": 56,
     "metadata": {},
     "output_type": "execute_result"
    }
   ],
   "source": [
    "# overlap with dictionary vocabulary\n",
    "len([w for w in en_nl_vocab.types if w in en_nl_dict])"
   ]
  },
  {
   "cell_type": "code",
   "execution_count": 57,
   "metadata": {},
   "outputs": [
    {
     "name": "stdout",
     "output_type": "stream",
     "text": [
      "nl_||-||-||-||\n",
      "nl_klippen\n",
      "en_deactivated\n",
      "nl_conescharellina\n",
      "nl_sericeus\n",
      "nl_meededen\n",
      "nl_falcata\n",
      "nl_bierman\n",
      "en_sp1\n",
      "en_intuitionistic\n",
      "en_androids\n",
      "nl_silke\n",
      "en_dilys\n",
      "en_haters\n",
      "en_migrating\n",
      "en_30-27\n",
      "en_downplay\n",
      "en_gravelly\n",
      "nl_onderduikadres\n",
      "nl_outsider\n"
     ]
    }
   ],
   "source": [
    "# take a look at orphaned words\n",
    "print_orphans(en_nl_vocab.types, en_nl_dict)"
   ]
  },
  {
   "cell_type": "markdown",
   "metadata": {},
   "source": [
    "__Saving the trained vocabulary__"
   ]
  },
  {
   "cell_type": "code",
   "execution_count": 58,
   "metadata": {
    "collapsed": true
   },
   "outputs": [],
   "source": [
    "from parsing import BilingualVocabulary"
   ]
  },
  {
   "cell_type": "code",
   "execution_count": 59,
   "metadata": {
    "collapsed": true
   },
   "outputs": [],
   "source": [
    "# save the index to file\n",
    "with open(BASE + '/Data/vocab/en_nl_index.pkl','wb') as f:\n",
    "    pickle.dump(en_nl_vocab.index, f, pickle.HIGHEST_PROTOCOL)"
   ]
  },
  {
   "cell_type": "code",
   "execution_count": 60,
   "metadata": {
    "collapsed": true
   },
   "outputs": [],
   "source": [
    "# confirm that it can be reloaded as a dictionary\n",
    "with open(BASE + '/Data/vocab/en_nl_index.pkl','rb') as f:\n",
    "    en_nl_index = pickle.load(f)"
   ]
  },
  {
   "cell_type": "code",
   "execution_count": 61,
   "metadata": {
    "collapsed": true
   },
   "outputs": [],
   "source": [
    "# confirm we can re-create the Vocab object\n",
    "en_nl_vocab2 = BilingualVocabulary([],languages=('en','nl'))\n",
    "en_nl_vocab2.load_from_index(en_nl_index)"
   ]
  },
  {
   "cell_type": "code",
   "execution_count": 62,
   "metadata": {},
   "outputs": [
    {
     "data": {
      "text/plain": [
       "200003"
      ]
     },
     "execution_count": 62,
     "metadata": {},
     "output_type": "execute_result"
    }
   ],
   "source": [
    "en_nl_vocab2.size"
   ]
  },
  {
   "cell_type": "code",
   "execution_count": 63,
   "metadata": {},
   "outputs": [
    {
     "data": {
      "text/plain": [
       "[3, 10672, 353]"
      ]
     },
     "execution_count": 63,
     "metadata": {},
     "output_type": "execute_result"
    }
   ],
   "source": [
    "en_nl_vocab2.to_ids(['en_the', 'en_vocabulary', 'en_works'])"
   ]
  },
  {
   "cell_type": "markdown",
   "metadata": {
    "collapsed": true
   },
   "source": [
    "## Get Common Words"
   ]
  },
  {
   "cell_type": "code",
   "execution_count": 147,
   "metadata": {},
   "outputs": [],
   "source": [
    "# Test returning a set of common words in a vocabulary and\n",
    "# corresponding Ground Truth files\n",
    "\n",
    "from parsing import get_common_words\n",
    "\n",
    "# Test with\n",
    "with open(BASE + '/Data/vocab/en_it_index.pkl','rb') as f:\n",
    "    en_it_index = pickle.load(f)\n",
    "\n",
    "en_it_vocab2 = BilingualVocabulary([],languages=('en','it'))\n",
    "en_it_vocab2.load_from_index(en_it_index)\n",
    "\n",
    "common_words = get_common_words(en_it_vocab2)"
   ]
  },
  {
   "cell_type": "code",
   "execution_count": 148,
   "metadata": {
    "scrolled": true
   },
   "outputs": [
    {
     "name": "stdout",
     "output_type": "stream",
     "text": [
      "27107\n"
     ]
    }
   ],
   "source": [
    "print(len(truth))"
   ]
  },
  {
   "cell_type": "code",
   "execution_count": 146,
   "metadata": {},
   "outputs": [
    {
     "name": "stdout",
     "output_type": "stream",
     "text": [
      "set(['en_manuscripts', 'it_portellone', 'en_awe', 'it_lentamente', 'it_promettenti', 'it_cellulosa', 'it_raffigurante', 'en_biceps', 'en_southwest', 'en_migrating', 'it_cadavere', 'it_catture', 'it_cattura', 'en_storms', 'en_mechanic', 'it_intonaco', 'it_concorrenza', 'en_charles', 'it_cuori', 'en_bottom', 'it_cuore', 'en_stefan', 'it_dossier', 'it_contemporanea', 'it_contemporanei', 'it_lovecraft', 'it_contemporaneo', 'it_frode', 'en_hitting', 'en_trustees', 'it_astrologia', 'it_anfibi', 'it_compiti', 'en_church', 'it_artbook', 'en_prospects', 'it_psichiatrico', 'en_privileges', 'en_resembles', 'en_africa', 'it_libico', 'it_trad', 'it_cugini', 'en_sch\\xc3\\xbcttler', 'it_centimetri', 'it_meglio', 'it_tram', 'it_cugino', 'en_amniotic', 'it_qualificato', 'en_threatened', 'it_qualificata', 'it_ravenna', 'en_globally', 'en_fulfill', 'it_estinguere', 'it_sottofamiglia', 'it_sottofamiglie', 'en_extended', 'en_fame', 'en_glutamate', 'it_archeologia', 'en_seabrook', 'en_blankets', 'it_fave', 'en_ptolemaic', 'it_duett\\xc3\\xb2', 'it_forte', 'it_forti', 'en_game', 'en_provision', 'it_progressivamente', 'it_narcisista', 'en_nestor', 'it_fascista', 'en_souad', 'it_consegnati', 'en_soil', 'it_consegnato', 'en_cosmetics', 'en_heterosexual', 'en_nist', 'en_literal', 'it_constantin', 'en_taxes', 'en_importance', 'en_nostalgia', 'en_bitterly', 'en_october', 'it_vegetazione', 'en_appreciated', 'it_entusiasta', 'it_jonze', 'en_commission', 'en_waiting', 'en_atonement', 'it_sardegna', 'en_restoration', 'it_verticale', 'it_caff\\xc3\\xa8', 'it_tessili', 'en_utopian', 'it_sabu', 'en_nomad', 'it_assegnazione', 'it_saba', 'en_vision', 'it_misurare', 'it_polvere', 'it_primitiva', 'it_sciolta', 'it_originarie', 'en_maritime', 'it_originario', 'it_sciolto', 'en_pluralism', 'it_muscolo', 'en_oxidized', 'en_boil', 'en_courage', 'it_oltremare', 'en_spent', 'it_cinquantesimo', 'it_gonfi', 'en_spend', 'en_oxy', 'it_once', 'it_virtuale', 'it_istituto', 'it_istituti', 'en_thanatos', 'en_residual', 'en_violin', 'en_pathogen', 'it_derivata', 'it_derivato', 'it_blanc', 'it_derivati', 'en_booth', 'en_boundary', 'en_negatively', 'en_mendes', 'en_orel', 'en_ores', 'en_mendel', 'en_ellipse', 'en_archeological', 'it_joris', 'en_skyros', 'it_thermos', 'en_identifying', 'en_commercial', 'en_assimilated', 'it_maglev', 'it_racconti', 'en_reprisals', 'it_racconta', 'en_bitter', 'en_tropics', 'it_invocato', 'en_carbonic', 'en_flattened', 'en_guidelines', 'en_threatening', 'en_during', 'en_survival', 'en_malek', 'en_leonard', 'en_defend', 'it_mincio', 'en_carnegie', 'en_financial', 'en_freedoms', 'en_windows', 'en_independence', 'it_sacchetti', 'en_casualties', 'it_alternati', 'en_author', 'it_hands', 'it_cattolica', 'it_cattolico', 'en_nation', 'en_avicenna', 'en_realities', 'en_cadaver', 'en_optic', 'en_sumner', 'it_grunwald', 'en_arrhenius', 'en_memorable', 'en_atmospheric', 'en_prologue', 'en_caster', 'en_telephoto', 'it_asti', 'it_prenotati', 'en_earnings', 'en_medals', 'en_resultant', 'en_organised', 'it_cina', 'it_eye', 'en_termites', 'it_master', 'en_fox', 'it_sion', 'en_for', 'en_harpalus', 'en_pebbles', 'en_christmas', 'en_repeal', 'en_government', 'en_repeat', 'en_rostand', 'it_straordinaria', 'en_suggestion', 'en_alpine', 'it_rettangolare', 'it_intrattenuto', 'en_definition', 'en_assessors', 'en_plasma', 'en_compose', 'it_amour', 'en_strengthen', 'en_module', 'en_compost', 'it_distruzione', 'en_nanak', 'it_rottami', 'en_councillors', 'en_evening', 'it_ozzy', 'en_custom', 'en_bibliographies', 'it_selvaggia', 'it_laureata', 'it_tratti', 'it_laureato', 'it_selvaggio', 'en_christiania', 'it_compattezza', 'en_marsh', 'en_immortality', 'en_goya', 'it_hubert', 'en_consisting', 'it_luciano', 'it_ippodromi', 'it_ippodromo', 'en_connecting', 'it_beatrice', 'en_pleased', 'en_negotiated', 'it_scarto', 'en_barking', 'en_ferrer', 'en_matrix', 'en_culmination', 'en_spiritual', 'it_pasci\\xc3\\xa0', 'en_town', 'it_denuncia', 'en_lipari', 'it_altrimenti', 'en_overview', 'en_picture', 'en_improved', 'en_luther', 'en_spokesman', 'it_wisconsin', 'en_kanner', 'it_infiorescenze', 'en_royalties', 'en_borman', 'it_biologico', 'it_champions', 'it_biologica', 'en_statistics', 'it_differenziare', 'it_glam', 'en_duhamel', 'en_influenced', 'en_tecumseh', 'it_louise', 'en_influences', 'it_pipistrelli', 'it_pipistrello', 'en_rupture', 'it_piramo', 'en_leviticus', 'en_giant', 'en_removes', 'en_costume', 'en_removed', 'en_bombardment', 'en_perfectly', 'it_pink', 'en_static', 'it_stadio', 'en_vii', 'en_pagan', 'en_via', 'en_grip', 'en_viz', 'en_viscount', 'it_marocchina', 'it_dritto', 'en_wesley', 'en_departure', 'en_acre', 'it_essendo', 'it_orecchie', 'it_canti', 'it_canto', 'en_resigning', 'it_salerno', 'en_backhand', 'en_could', 'en_xavier', 'en_slate', 'en_pixar', 'en_piece', 'en_defiantly', 'it_pegno', 'en_presiding', 'en_outposts', 'it_prossimit\\xc3\\xa0', 'it_tomografia', 'en_lepage', 'it_collaboratori', 'it_bartolomeo', 'en_opposites', 'en_anchored', 'en_toledo', 'en_colleague', 'it_osama', 'en_springs', 'it_mulino', 'en_apartment', 'it_mulini', 'it_generale', 'it_greve', 'en_century', 'en_geoid', 'it_iscrizioni', 'it_iscrizione', 'it_generali', 'it_avorio', 'it_prefettura', 'it_curioso', 'it_vespe', 'en_troubles', 'it_vespa', 'en_organ', 'en_mediated', 'en_troubled', 'en_ukrainian', 'it_lhc', 'en_jones', 'it_esistiti', 'it_aree', 'en_enthusiastic', 'it_area', 'it_evolutiva', 'en_experimenting', 'it_ares', 'en_joystick', 'it_sperava', 'it_proporzionale', 'en_tolerable', 'it_beatitudine', 'it_proporzionali', 'en_replica', 'en_tides', 'en_secker', 'en_pump', 'it_sbloccare', 'en_majority', 'it_rotta', 'it_rotte', 'it_santuario', 'en_centennial', 'it_comandante', 'it_emigranti', 'it_comandanti', 'it_incontri', 'it_emerse', 'it_incontro', 'it_perfetta', 'it_riunito', 'it_incontra', 'it_riuniti', 'en_industrialisation', 'en_corporals', 'en_mixture', 'it_riposa', 'it_riposo', 'en_gerard', 'en_scans', 'it_sorella', 'it_sorelle', 'it_wong', 'en_intra', 'it_conosciuto', 'it_conosciuta', 'it_disperse', 'en_commemorate', 'it_battute', 'en_derive', 'en_concession', 'it_dispersi', 'en_ounce', 'it_nazionale', 'en_gregorian', 'en_aggression', 'en_carry', 'it_confusione', 'it_franchi', 'en_domingo', 'en_flake', 'it_urlando', 'it_topologia', 'en_hypothermia', 'it_dmz', 'en_successes', 'en_lethal', 'en_adjoining', 'en_except', 'en_units', 'it_esisteva', 'it_contemporaneamente', 'en_unity', 'it_storicamente', 'en_floating', 'en_chinese', 'it_beauce', 'it_ministeriale', 'en_rerouted', 'it_pescatore', 'en_feeds', 'it_deitch', 'en_bracelets', 'en_crimes', 'it_tastierista', 'it_cappuccio', 'it_bernard', 'en_margin', 'en_crimea', 'en_clinch', 'en_voices', 'en_diffuse', 'it_proprietaria', 'en_invoking', 'en_quest', 'it_rischio', 'it_nutrito', 'it_stress', 'it_conferisce', 'en_institutions', 'it_localit\\xc3\\xa0', 'it_significati', 'it_significato', 'en_evaluation', 'it_cotone', 'en_strategies', 'en_aqua', 'en_commissioners', 'en_biodiesel', 'en_earth', 'en_lambert', 'en_aborted', 'it_casin\\xc3\\xb2', 'en_admit', 'en_downtown', 'it_finmeccanica', 'en_mission', 'en_ebook', 'it_meridionale', 'en_christianity', 'it_mckenna', 'en_mosquito', 'it_presto', 'en_crush', 'it_stefan', 'it_guillemin', 'en_uncontrolled', 'en_protector', 'en_crust', 'en_records', 'it_gastro', 'it_rende', 'it_valigetta', 'it_morfologiche', 'en_hearth', 'it_cieli', 'it_cielo', 'en_hearts', 'en_combining', 'en_digit', 'it_buenos', 'en_forests', 'it_dover', 'en_wishing', 'it_assimilazione', 'en_biblical', 'it_acquisito', 'en_generalizes', 'it_acquisiti', 'en_wealth', 'en_philosophers', 'it_acquisita', 'it_steger', 'en_must', 'it_attorno', 'en_simulators', 'en_musk', 'en_muse', 'it_retro', 'it_immobilizzato', 'en_mon', 'en_mob', 'en_certificate', 'en_macon', 'it_cavalieri', 'en_blazers', 'it_incarichi', 'en_hypotheses', 'it_cavaliere', 'en_recessive', 'it_cessione', 'it_contaminazioni', 'it_breck', 'en_thrown', 'en_statism', 'it_contaminazione', 'en_cancers', 'it_festeggiato', 'it_kebir', 'it_semper', 'en_humble', 'en_ancestors', 'it_accuratamente', 'it_gengis', 'en_aerosol', 'it_particolare', 'it_mecenate', 'it_sandwich', 'it_vga', 'en_massachusetts', 'en_rupert', 'en_others', 'en_dictate', 'it_peli', 'en_conflict', 'en_vague', 'en_analytic', 'en_standalone', 'en_haldeman', 'en_announces', 'en_neck', 'en_defending', 'en_announced', 'it_deep', 'it_slave', 'en_denouncing', 'it_slavi', 'en_coin', 'en_coil', 'en_trial', 'en_triad', 'it_installare', 'it_deen', 'it_discriminazione', 'it_prolungato', 'en_mammals', 'en_slayer', 'en_another', 'en_ultrasound', 'en_micrograms', 'en_coordinated', 'it_dvd', 'en_ions', 'it_scrittore', 'en_ritchie', 'en_leaks', 'en_coordinates', 'en_interchangeable', 'en_siren', 'it_odio', 'en_victims', 'it_odia', 'it_castronovo', 'it_daria', 'en_steiner', 'en_incarcerated', 'it_fabio', 'it_transizione', 'en_duplicates', 'en_pumps', 'en_dysfunction', 'en_hire', 'en_interpreted', 'en_file', 'en_fill', 'en_film', 'it_emergere', 'en_homeland', 'it_oranje', 'en_deciduous', 'it_abbellire', 'it_segu\\xc3\\xac', 'en_obscure', 'en_propagandists', 'it_comunicazione', 'it_romeo', 'en_vanderbilt', 'en_ulysses', 'en_vegetarians', 'it_sentire', 'it_lamellare', 'en_grains', 'en_attracts', 'en_recommends', 'en_dreamworks', 'en_louvre', 'en_precious', 'it_consolida', 'it_coetanei', 'en_rejects', 'it_verona', 'en_reactive', 'it_blues', 'en_spread', 'it_hartree', 'it_permanenza', 'it_radici', 'en_recruits', 'en_caution', 'it_poesie', 'it_bella', 'it_belle', 'en_dunes', 'en_consistently', 'en_invading', 'it_tessuto', 'it_tessuti', 'it_xfce', 'it_convogli', 'en_arid', 'en_wisdom', 'en_idealized', 'en_nitrogenous', 'en_melanin', 'it_composti', 'en_finger', 'it_giocattoli', 'it_composto', 'en_frequented', 'it_appartato', 'en_inhabitants', 'it_ernest', 'en_dairy', 'en_trophies', 'en_rulers', 'en_guerrillas', 'it_offuscato', 'it_sussidio', 'it_odessa', 'it_tosto', 'en_dragon', 'it_tessile', 'it_piloni', 'en_rigged', 'en_refuse', 'it_monasteri', 'it_monastero', 'en_merry', 'it_born', 'it_renzo', 'it_homeland', 'en_sacrificing', 'it_adesione', 'en_singular', 'en_taste', 'it_brasiliana', 'en_her', 'en_hex', 'it_identico', 'it_normanni', 'it_identica', 'it_stanis\\xc5\\x82aw', 'en_cadmium', 'it_ford', 'en_purify', 'it_monte', 'it_monti', 'it_fort', 'it_polveri', 'en_ian', 'en_sums', 'en_terms', 'en_percentages', 'en_organon', 'en_viewer', 'en_adapted', 'it_rilevare', 'en_disclose', 'en_cucumber', 'en_viewed', 'it_purtroppo', 'it_introduzione', 'en_procreation', 'it_occhi', 'en_durham', 'en_honour', 'en_vacuum', 'it_dove', 'it_icona', 'en_contradiction', 'it_gara', 'it_fanteria', 'it_gare', 'en_tantric', 'it_gary', 'it_pini', 'it_pino', 'it_primitivi', 'it_pina', 'it_ping', 'it_remoto', 'it_gerald', 'it_run', 'it_comprendere', 'it_rud', 'it_fred', 'it_nin', 'it_colonnello', 'it_piazzale', 'en_tissues', 'it_ruy', 'it_primitivo', 'en_pain', 'en_ventures', 'en_paid', 'it_patente', 'it_brigham', 'en_chuck', 'en_pair', 'it_theodor', 'en_responsive', 'it_rovigo', 'it_messaggistica', 'it_salvador', 'en_omens', 'en_baja', 'it_peregrinazioni', 'en_codes', 'en_review', 'en_resonator', 'it_tolleranza', 'en_garbage', 'it_thayer', 'it_quarzo', 'it_alloggio', 'en_call', 'it_segura', 'en_craftsmen', 'en_dental', 'it_feriali', 'it_vantare', 'it_vergogna', 'en_madame', 'it_entit\\xc3\\xa0', 'en_braille', 'en_defining', 'en_economy', 'en_incorruptible', 'en_preschool', 'en_wanted', 'it_roach', 'it_trasmesso', 'en_graphically', 'it_firmato', 'en_considers', 'it_firmata', 'it_ipocrita', 'en_neuropsychology', 'en_derived', 'en_leagues', 'it_cro', 'it_telaio', 'en_prefers', 'it_sorprendentemente', 'it_cry', 'en_receipts', 'it_germano', 'it_piedi', 'en_hopefully', 'en_powered', 'it_salvataggi', 'it_showman', 'en_electronic', 'it_mandalay', 'en_strongly', 'en_totally', 'en_objective', 'it_ricostruito', 'en_disproportionate', 'en_brigade', 'en_sponsoring', 'it_semina', 'it_odonata', 'it_cz\\xc4\\x99stochowa', 'it_raffigurazioni', 'en_alain', 'it_magno', 'it_magna', 'it_lucido', 'en_detached', 'it_sherlock', 'it_confermando', 'en_holzer', 'it_capitol\\xc3\\xb2', 'en_shapes', 'it_scende', 'en_sentiment', 'it_stato', 'it_stati', 'en_abused', 'en_alba', 'it_miti', 'it_mito', 'it_amante', 'it_hobbit', 'it_vom', 'it_tragedia', 'en_recast', 'it_tragedie', 'it_scambi', 'en_influx', 'en_calculator', 'it_hamilton', 'it_stephen', 'en_harry', 'it_sergente', 'it_leyva', 'it_ffs', 'en_confinement', 'it_acuminata', 'it_rivelando', 'it_velluto', 'en_sediments', 'it_commercio', 'it_levante', 'it_aleksej', 'en_polarity', 'en_cynic', 'en_harmonious', 'it_gratis', 'en_sectarian', 'it_heaven', 'en_hydrochloric', 'it_hong', 'en_treatment', 'en_recommend', 'en_coated', 'en_marketplace', 'it_conmebol', 'en_horrors', 'en_despise', 'en_irregular', 'it_libero', 'it_sauli', 'it_liberi', 'it_libera', 'en_buckley', 'en_factions', 'en_friendship', 'it_cosacco', 'en_visual', 'en_drawing', 'en_experiences', 'en_experienced', 'it_dolori', 'en_contiguous', 'it_praticare', 'en_corrupted', 'it_cult', 'en_tampa', 'it_pianeta', 'it_modello', 'en_cloud', 'en_rural', 'it_ren\\xc3\\xa9e', 'en_celebrated', 'en_patriot', 'en_exercised', 'en_maintained', 'en_authorities', 'en_celebrates', 'en_editions', 'en_spite', 'it_aeroporti', 'en_loved', 'en_tetrapod', 'en_modeled', 'it_salvataggio', 'en_lover', 'en_loves', 'en_obedience', 'en_exercises', 'en_unconstitutional', 'it_cervello', 'it_labbra', 'it_protestanti', 'en_represents', 'it_duisburg', 'en_garments', 'en_davy', 'it_incrocio', 'it_pablito', 'it_attribuibile', 'it_posta', 'it_poste', 'it_posti', 'it_posto', 'en_contents', 'en_finished', 'en_ppm', 'en_japan', 'en_pumped', 'it_colata', 'en_intelligent', 'en_sudden', 'en_cuneiform', 'it_impostazioni', 'en_robespierre', 'it_impostazione', 'en_champions', 'en_citrus', 'en_formed', 'en_abdelkader', 'it_vipera', 'en_spray', 'en_libertarianism', 'en_relaxation', 'en_former', 'it_rango', 'it_rapporti', 'en_varied', 'it_range', 'en_shining', 'en_modelled', 'it_cinque', 'en_equivalence', 'en_versailles', 'en_profile', 'en_archaeologists', 'it_perdendo', 'en_transmutation', 'it_insolvenza', 'en_performers', 'en_cultivated', 'it_cimitero', 'it_complessit\\xc3\\xa0', 'it_troppo', 'en_timeless', 'it_elemento', 'it_elementi', 'it_racconto', 'it_desideri', 'it_validit\\xc3\\xa0', 'it_canoni', 'it_selezionati', 'it_selezionato', 'it_anche', 'it_abominevole', 'it_selezionata', 'en_cornelius', 'it_esprimere', 'it_fantascienza', 'en_stability', 'en_andante', 'en_disputing', 'en_depended', 'it_pubblicate', 'en_self', 'it_pubblicata', 'it_baie', 'it_paxton', 'en_alonzo', 'en_crews', 'en_sell', 'it_streisand', 'en_plotted', 'it_altre', 'en_sensors', 'en_announce', 'en_sensory', 'it_altro', 'it_curve', 'en_tradition', 'it_spingere', 'it_curva', 'it_primi', 'it_primo', 'en_unpublished', 'it_prime', 'it_dahlia', 'it_villa', 'en_thorium', 'en_disability', 'it_cassero', 'it_riunioni', 'it_fisionomia', 'it_riunione', 'en_dementia', 'en_xlvii', 'en_birds', 'en_honorary', 'en_tribal', 'en_inadequate', 'en_clade', 'en_harmon', 'it_coniglietta', 'it_conversione', 'en_asexual', 'en_believed', 'it_introdusse', 'en_cereal', 'en_believes', 'en_violate', 'it_espressionismo', 'it_i\\xc3\\xb1\\xc3\\xa1rritu', 'it_volont\\xc3\\xa0', 'en_nbc', 'en_oxygenated', 'en_melts', 'en_dialect', 'it_lumezzane', 'it_femminili', 'it_aggiornati', 'en_cohesive', 'it_femminile', 'en_mortuary', 'en_alford', 'en_instrumental', 'it_zsolt', 'en_allowances', 'en_matches', 'it_include', 'it_kenya', 'it_primera', 'it_estasi', 'en_immersed', 'en_severely', 'en_championships', 'it_leggendario', 'it_frattempo', 'it_josef', 'it_leggendaria', 'it_luglio', 'it_feedback', 'it_campinas', 'en_soap', 'it_salto', 'it_passaggio', 'en_mice', 'en_brenda', 'en_nights', 'it_stimati', 'it_stimato', 'en_wickedness', 'en_impulses', 'en_methyl', 'it_zariski', 'en_rise', 'en_index', 'en_risk', 'en_parachutes', 'it_convegno', 'it_flagello', 'it_convegni', 'it_goch', 'it_napolitano', 'en_noting', 'en_administrator', 'en_collaborative', 'it_investitori', 'it_soccorso', 'it_influenti', 'en_manufacturer', 'en_reactivity', 'it_bengasi', 'en_knowles', 'en_tripod', 'en_barack', 'en_manufactured', 'it_tre', 'en_cavalry', 'it_sicuro', 'it_dettagliati', 'it_barba', 'en_theology', 'en_buell', 'en_specialist', 'it_ancona', 'it_consentita', 'en_like', 'it_redazione', 'en_opera', 'it_sottomessi', 'it_campari', 'en_sharing', 'it_conta', 'it_moderne', 'it_conte', 'it_moderni', 'it_conti', 'it_moderno', 'it_conto', 'en_injunction', 'it_pubblicano', 'en_beardless', 'it_bianche', 'en_inflections', 'it_marino', 'en_nomination', 'it_emotiva', 'en_scramble', 'it_angeles', 'en_permian', 'it_iconografico', 'it_roulotte', 'it_loyd', 'en_categorized', 'it_evidente', 'it_antagonista', 'en_reduce', 'en_jean', 'it_evidenti', 'en_moors', 'it_scoppiare', 'it_myl\\xc3\\xa8ne', 'en_engineer', 'it_successivamente', 'it_aggiunge', 'en_probe', 'en_tom', 'en_street', 'it_fatale', 'en_signed', 'it_gruber', 'it_dobzhansky', 'en_missions', 'it_avviato', 'en_merchants', 'en_dishonored', 'en_processes', 'it_zidane', 'en_colloid', 'en_processed', 'en_astrology', 'en_worked', 'it_cattolici', 'en_zhuangzi', 'it_kempes', 'en_compensated', 'en_worker', 'it_segreteria', 'en_keratin', 'en_epilepsy', 'it_ventura', 'en_patroclus', 'en_cemetery', 'it_corriere', 'en_plowing', 'en_faction', 'en_myopia', 'en_silicone', 'it_cancelleria', 'en_possessed', 'en_antifascist', 'it_controllare', 'en_peak', 'it_godere', 'it_monofiletico', 'en_formulate', 'it_rinomata', 'en_peas', 'it_definire', 'en_alienation', 'en_spot', 'en_desperate', 'it_altuna', 'it_diavolo', 'it_generici', 'it_diavoli', 'en_secreted', 'en_rivals', 'en_about', 'en_negotiate', 'it_generica', 'en_trotskyism', 'en_disciplinary', 'en_helium', 'it_gazala', 'it_mafia', 'en_province', 'en_tuan', 'it_solchi', 'it_duello', 'it_carla', 'en_carmen', 'it_problematico', 'en_recording', 'en_technically', 'en_tissue', 'en_lights', 'it_gennaio', 'en_defensive', 'it_dedicando', 'it_architetto', 'it_anidride', 'it_codici', 'it_architetti', 'it_codice', 'it_baciata', 'en_navigator', 'it_baciato', 'it_moretti', 'en_generals', 'en_storing', 'en_analogous', 'en_tsimshian', 'en_chosen', 'it_casco', 'it_stratigrafica', 'en_symbols', 'en_floods', 'en_morning', 'it_sopravvissuti', 'it_atta', 'it_sopravvissuto', 'it_annualmente', 'it_atti', 'it_atto', 'it_kessler', 'it_aste', 'it_adventures', 'en_magee', 'en_constructive', 'en_subtraction', 'en_dreams', 'en_genome', 'en_lapel', 'it_mobilit\\xc3\\xa0', 'it_annunciatore', 'it_pesato', 'it_festeggiamenti', 'it_spiegare', 'en_genuine', 'it_oregon', 'it_negato', 'en_conquering', 'it_speaker', 'it_finanza', 'it_reali', 'it_finanze', 'it_ceramica', 'it_bollettino', 'en_debussy', 'en_nietzsche', 'it_pepper', 'en_octopus', 'en_purple', 'en_cancer', 'it_sorrentino', 'en_affinity', 'it_piazza', 'it_nerima', 'en_decompose', 'en_reticulata', 'en_alberta', 'en_confined', 'it_cassettoni', 'en_genus', 'it_specchio', 'en_learns', 'it_globe', 'it_governa', 'it_governo', 'it_globo', 'it_governi', 'it_omaggio', 'en_baskets', 'en_nationale', 'it_arcivescovo', 'en_winfield', 'en_expecting', 'en_voter', 'en_votes', 'it_massive', 'en_feasibility', 'en_voted', 'en_bench', 'en_ephesus', 'it_consultazione', 'en_cowboy', 'it_conservata', 'it_conservate', 'it_conservato', 'it_poeti', 'it_epicentro', 'it_poeta', 'en_immediately', 'en_reforms', 'it_ogivale', 'en_troad', 'it_uzbekistan', 'it_brooks', 'en_earthquake', 'en_overlapping', 'en_accomplished', 'it_armi', 'en_guarded', 'it_arma', 'it_difese', 'it_sono', 'en_festivities', 'it_difesa', 'it_song', 'it_difeso', 'it_sony', 'it_operazioni', 'it_operazione', 'it_democrazia', 'it_concentrici', 'en_confession', 'en_their', 'en_wheeler', 'it_individualmente', 'en_balinese', 'en_medicine', 'it_tonni', 'it_tonno', 'it_strisce', 'it_formosa', 'en_corporate', 'it_giustificare', 'en_bulgarian', 'en_metals', 'it_mangiatoia', 'it_realizzando', 'it_kazan', 'en_flach', 'en_senators', 'en_inhibit', 'it_kevlar', 'it_silvestro', 'it_jennings', 'en_improvements', 'en_divide', 'it_eduard', 'en_presidents', 'en_stanis\\xc5\\x82aw', 'en_liability', 'en_selfishness', 'it_sacra', 'it_sacre', 'it_america', 'en_monastic', 'en_legion', 'it_sacro', 'en_dangers', 'en_species', 'en_discus', 'en_complexity', 'en_berkeley', 'it_messa', 'it_appassionata', 'it_appassionato', 'it_messi', 'it_messo', 'en_hooks', 'it_declino', 'it_modesta', 'it_coleman', 'en_correspond', 'it_modesti', 'it_debuttante', 'it_dimostrativo', 'it_modesto', 'en_roads', 'en_original', 'en_returns', 'en_recruitment', 'it_serie', 'it_wolfgang', 'it_raffigura', 'en_experimentation', 'it_mattoni', 'it_meccanizzata', 'it_tattile', 'en_chiral', 'en_knew', 'en_waterloo', 'en_knee', 'en_salvation', 'en_prolongation', 'en_terminals', 'en_maintenance', 'it_aveva', 'en_assuming', 'en_suborder', 'it_imperiale', 'en_labels', 'en_verse', 'en_hangar', 'it_memorizzare', 'en_versa', 'it_ariston', 'it_allineati', 'en_fees', 'it_palestina', 'it_accumulato', 'en_hyundai', 'it_accumulati', 'en_emphasized', 'en_locomotion', 'en_rocky', 'en_feed', 'en_management', 'en_rocks', 'en_feel', 'en_return', 'en_incompatible', 'it_ultimate', 'it_muro', 'it_paperino', 'it_muri', 'en_feminists', 'en_marine', 'it_mura', 'en_realized', 'it_elefante', 'en_los', 'en_study', 'en_low', 'en_lot', 'en_log', 'en_marginally', 'en_rockies', 'it_iorio', 'it_prontezza', 'it_banchetti', 'it_banchetto', 'it_sovente', 'it_passant', 'en_minted', 'it_asiatico', 'it_asiatici', 'it_veselin', 'en_inform', 'it_asiatica', 'it_chiarelli', 'en_arrivals', 'en_extensively', 'en_mgm', 'it_editoria', 'en_breaker', 'en_contribution', 'en_fascists', 'it_osservato', 'it_osservate', 'it_osservata', 'it_fantasia', 'it_ponce', 'en_miscible', 'en_propionic', 'en_rewarded', 'it_sinistra', 'it_sinistro', 'it_vallese', 'en_educated', 'it_indicando', 'en_curie', 'en_mitchell', 'it_capitani', 'it_capitano', 'it_millimetro', 'en_underwater', 'en_disgusting', 'en_excise', 'it_voi', 'en_xyz', 'it_von', 'en_chiao', 'it_vol', 'it_solidi', 'it_cms', 'it_ingresso', 'it_derby', 'it_revival', 'en_lucy', 'it_guerre', 'it_guerra', 'en_luck', 'it_confini', 'en_voice', 'en_iec', 'en_using', 'it_impegni', 'it_gregori', 'it_impegno', 'it_impegna', 'en_content', 'en_degrees', 'it_gps', 'en_fortieth', 'en_bureau', 'en_angeles', 'en_employees', 'it_valona', 'en_atmosphere', 'en_entrepreneurs', 'en_grandmother', 'it_inferno', 'en_repeatedly', 'en_pores', 'en_coat', 'en_coal', 'it_etnie', 'it_etnia', 'it_javier', 'it_misterioso', 'it_risentimento', 'it_padrone', 'it_padroni', 'en_helmholtz', 'it_misteriosa', 'en_ludlow', 'en_procedures', 'en_prussian', 'en_irrigation', 'en_pastry', 'it_algeria', 'en_removing', 'it_quantistica', 'en_exceptions', 'it_idiota', 'it_tratto', 'en_introduced', 'en_attack', 'it_europa', 'en_curiosities', 'en_machinery', 'en_opponent', 'en_introduces', 'en_priam', 'it_petit', 'it_scioglimento', 'it_barbari', 'it_asini', 'en_patented', 'it_fotografie', 'it_make', 'it_fotografia', 'it_nascosto', 'en_expose', 'en_warrants', 'en_relations', 'it_altruismo', 'it_disattenzione', 'en_johan', 'en_diversify', 'en_anaerobic', 'it_miani', 'it_fido', 'it_castillo', 'en_economist', 'en_solution', 'it_delegati', 'it_tristezza', 'en_yearly', 'it_oppure', 'en_entrance', 'en_countless', 'en_haddad', 'it_elettrodomestici', 'it_predator', 'it_tony', 'it_segretario', 'en_dentistry', 'en_albedo', 'it_toni', 'it_castellani', 'it_tono', 'it_castellana', 'it_avversione', 'it_lupi', 'en_oils', 'en_accusation', 'it_mosca', 'en_epic', 'en_corresponding', 'en_recaptured', 'en_lumber', 'it_atlantico', 'en_inexperience', 'it_zeno', 'en_boris', 'en_jabir', 'it_zhu', 'en_gains', 'en_landfills', 'en_flourished', 'en_rumors', 'en_regain', 'en_omission', 'it_frequentato', 'it_maturazione', 'en_occupations', 'it_frequentate', 'it_frequentata', 'en_collect', 'en_maps', 'en_oxidation', 'it_comore', 'it_paterson', 'it_extra', 'en_operated', 'en_worlds', 'en_repaired', 'it_riflettere', 'en_dred', 'en_researcher', 'it_gigante', 'en_swami', 'en_drew', 'it_zucco', 'en_excellence', 'en_community', 'en_enemy', 'en_equipped', 'it_formidabile', 'it_catarina', 'it_messaggio', 'it_impossibile', 'en_iii', 'it_eroica', 'it_dispositivi', 'en_teleprinters', 'it_dispositivo', 'it_sperimentazione', 'en_hydroxy', 'en_antietam', 'en_marriage', 'en_laevis', 'it_realismo', 'en_symbol', 'it_ragusa', 'it_esclusione', 'it_travolta', 'it_peste', 'en_floor', 'en_evoked', 'it_dedica', 'it_affidabili', 'it_pellicola', 'it_skid', 'it_pellicole', 'en_evokes', 'en_fruit', 'it_eleva', 'it_schierata', 'it_schierato', 'it_longitudine', 'it_nai', 'it_hampshire', 'en_aeneid', 'it_espulsi', 'it_espulso', 'en_ponds', 'en_try', 'it_espulsa', 'en_milky', 'it_caratterizza', 'en_unreasonable', 'en_already', 'en_pictogram', 'it_tomba', 'it_colera', 'en_arm\\xc3\\xa9e', 'it_scarti', 'en_biscayne', 'en_vitus', 'en_hybrids', 'en_warriors', 'it_neil', 'it_possibilit\\xc3\\xa0', 'en_saharan', 'it_sincero', 'it_ampio', 'en_makes', 'it_ampia', 'it_norman', 'en_marshall', 'it_dieci', 'en_proposal', 'it_assorbe', 'en_granting', 'it_replica', 'it_palacio', 'en_objections', 'it_road', 'en_profound', 'en_guava', 'it_medioevale', 'it_norvegese', 'en_manage', 'en_hollande', 'en_outback', 'it_bomba', 'it_bombe', 'en_sanctuary', 'en_parent', 'en_nearly', 'en_mobility', 'it_longitudinalmente', 'en_discomfort', 'en_attended', 'en_spatially', 'it_sioux', 'en_foix', 'en_alasdair', 'en_declaring', 'en_longevity', 'en_living', 'en_piloting', 'en_births', 'it_abusi', 'it_abuso', 'en_neutralized', 'en_kodak', 'en_bodies', 'en_baby', 'en_beautiful', 'it_oswald', 'en_qualifying', 'en_freight', 'en_presley', 'en_appreciating', 'it_degradata', 'en_nailed', 'en_pacino', 'en_unbalanced', 'en_cyrillic', 'it_adolescenziale', 'en_graph', 'en_grape', 'en_lauderdale', 'en_angered', 'en_abuse', 'en_fungi', 'it_difendibile', 'it_sue', 'en_topic', 'en_patch', 'it_privato', 'it_privata', 'it_tarquini', 'it_private', 'en_vapour', 'it_contaminate', 'it_contaminati', 'en_chickens', 'en_letterman', 'it_borromeo', 'it_economico', 'it_economici', 'it_alberghi', 'it_montato', 'en_extreme', 'en_palpable', 'en_detected', 'en_interpret', 'it_scozzese', 'en_withdrawals', 'en_commandments', 'en_mistreatment', 'it_ventrale', 'it_phil', 'en_ito', 'en_guildford', 'it_stratega', 'en_tetrahedron', 'it_mensile', 'en_river', 'it_indirettamente', 'it_discernere', 'en_sponsors', 'en_rudolf', 'en_illinois', 'en_pierre', 'en_trotsky', 'en_oregon', 'it_vacante', 'en_backgrounds', 'it_chris', 'en_ivory', 'it_divide', 'en_cbs', 'en_projects', 'it_femore', 'it_eseguiti', 'en_texts', 'en_ornamental', 'it_esente', 'it_prostituta', 'en_filling', 'it_thailandia', 'en_lengths', 'it_iccf', 'it_rioja', 'en_methodius', 'en_decay', 'en_subsets', 'en_aggregate', 'en_esoteric', 'en_richly', 'en_stomachs', 'en_quechua', 'en_remote', 'en_density', 'it_sdb', 'it_saratoga', 'en_sport', 'en_jelly', 'en_celebrate', 'en_text', 'en_spore', 'it_varzi', 'it_maestosa', 'en_treasurer', 'en_elects', 'it_maestoso', 'en_alcohols', 'en_tilton', 'en_gelatinous', 'en_decreases', 'en_ticket', 'en_sirens', 'it_cerchio', 'it_carestie', 'it_blanton', 'it_mgm', 'it_arrigoni', 'en_association', 'en_amounts', 'en_nathaniel', 'en_individualism', 'en_individualist', 'en_indicative', 'en_agnostic', 'it_flavus', 'en_faded', 'it_virale', 'en_illuminate', 'en_breast', 'en_crowds', 'en_stands', 'it_gilda', 'it_meno', 'it_mastroianni', 'it_joe', 'it_promontorio', 'it_jon', 'en_jack', 'en_winstanley', 'it_tastiere', 'en_label', 'it_kaiserliche', 'it_cercare', 'en_surveyor', 'en_methodist', 'it_riuscito', 'it_israeliano', 'it_trophy', 'en_nicky', 'it_riuscita', 'it_israeliani', 'en_strathairn', 'it_leggeri', 'it_riforme', 'it_leggere', 'en_through', 'it_riforma', 'it_tariffe', 'en_ago', 'en_storm', 'en_endure', 'en_consonant', 'en_byte', 'en_isosceles', 'en_store', 'en_story', 'it_simmetrica', 'it_cappuccino', 'it_simmetrico', 'it_cappuccini', 'en_wanting', 'en_kurdish', 'it_rover', 'en_cases', 'it_ventesimo', 'it_demolizione', 'it_unesco', 'en_opinions', 'en_circa', 'it_affidabilit\\xc3\\xa0', 'it_spettrometro', 'en_hinterland', 'en_massacre', 'it_fontane', 'it_parigi', 'it_fontana', 'en_year', 'it_lady', 'it_repubblica', 'it_navigatori', 'it_redattore', 'it_omaha', 'en_delacroix', 'it_fse', 'it_defecare', 'it_demolire', 'it_cyril', 'it_fecondazione', 'en_blair', 'it_assalto', 'it_risolto', 'it_assalti', 'en_allies', 'en_secret', 'it_accademia', 'it_accademie', 'en_allied', 'it_unificare', 'en_leroy', 'en_uniforms', 'en_expressing', 'en_exothermic', 'en_nick', 'en_sights', 'it_delicato', 'en_illuminating', 'en_california', 'it_delicate', 'it_francesca', 'en_harper', 'it_delicata', 'it_telecinco', 'en_directors', 'en_center', 'en_directory', 'it_merlata', 'it_nuoto', 'it_superato', 'it_superata', 'it_saudita', 'en_variance', 'it_lamentarsi', 'it_beduini', 'en_parks', 'it_apeldoorn', 'en_sensitive', 'en_shifts', 'en_slaughtered', 'en_sickness', 'it_scandinavia', 'en_eighteen', 'en_credited', 'en_ammon', 'en_alisa', 'it_poliomielite', 'en_administrative', 'en_skeptic', 'en_narrated', 'en_chloroplasts', 'en_trades', 'it_fiume', 'en_nucleons', 'en_contradictory', 'it_tipiche', 'en_meiosis', 'en_layers', 'en_brooding', 'it_sembra', 'en_goulet', 'en_insisted', 'en_benefits', 'it_scaccia', 'it_basten', 'en_remain', 'it_sopra', 'it_salma', 'it_svedese', 'it_svedesi', 'it_tenda', 'it_tende', 'en_pet', 'en_score', 'it_calendario', 'it_consorzi', 'en_pen', 'en_pea', 'en_serve', 'en_maximizing', 'en_resident', 'it_istantanea', 'en_gateway', 'it_chili', 'it_malvagio', 'en_exaggerated', 'en_bosses', 'en_domestic', 'it_thompson', 'en_sparta', 'en_disagreement', 'it_ospitava', 'it_spike', 'en_bidirectional', 'en_pedagogical', 'en_identification', 'en_medicus', 'en_barbecue', 'en_list', 'en_cruise', 'en_kills', 'it_russi', 'en_correspondent', 'en_lisa', 'it_russa', 'en_liberalism', 'it_field', 'it_tuta', 'it_tute', 'en_detect', 'en_minister', 'it_controversi', 'it_like', 'en_monstrous', 'it_controversa', 'en_comparative', 'en_mike', 'en_mathematical', 'en_converted', 'en_documentary', 'en_boys', 'en_lewis', 'it_impatto', 'en_constraints', 'en_yazid', 'it_popolarit\\xc3\\xa0', 'en_acknowledge', 'en_arboreal', 'en_romance', 'en_phytoplankton', 'it_lully', 'it_verificata', 'it_quest', 'it_verificato', 'it_verificati', 'en_binary', 'en_administrations', 'en_machine', 'en_pipe', 'en_vostok', 'it_gradi', 'it_progressiva', 'it_napoli', 'en_darnell', 'en_locally', 'en_ugarit', 'en_m\\xc3\\xbasica', 'it_spaziosa', 'it_factor', 'it_indicata', 'en_psychologists', 'it_naturalezza', 'en_terrible', 'en_department', 'it_volentieri', 'it_ligure', 'en_contest', 'en_initiated', 'en_sharp', 'it_marocchini', 'en_restricted', 'en_ecumenical', 'en_shark', 'en_november', 'en_share', 'en_naturist', 'en_fugitive', 'it_vallate', 'it_calendari', 'en_icons', 'it_leeds', 'en_ditko', 'it_force', 'it_mystic', 'it_trastevere', 'en_abandonment', 'it_precedente', 'it_rampa', 'it_adolescenti', 'en_asserted', 'it_adolescente', 'it_precedenti', 'it_noam', 'it_inesattezze', 'it_definitivamente', 'en_personification', 'en_ovulation', 'en_decreasing', 'it_semifinale', 'en_domesticated', 'en_choices', 'en_biting', 'it_bir', 'it_bit', 'it_terrore', 'en_profoundly', 'it_mercatini', 'it_figlio', 'it_bin', 'it_figlia', 'it_big', 'it_figlie', 'en_selective', 'it_rush', 'en_athabasca', 'it_bilancio', 'en_annoyed', 'it_parla', 'en_details', 'en_petersburg', 'en_beryllium', 'en_preside', 'it_inseguitori', 'en_measurements', 'it_chiacchierato', 'en_fleet', 'en_arnau', 'it_kakashi', 'it_ubicazione', 'en_legislature', 'en_philosophical', 'en_a\\xc3\\xa9ronautique', 'en_spontaneity', 'en_hydrocarbons', 'en_obligations', 'it_difettosa', 'it_marchionni', 'it_gottfried', 'en_drilling', 'it_incluse', 'en_victories', 'it_inclusa', 'it_sieben', 'it_incapsulati', 'it_inclusi', 'en_aggregates', 'it_carcere', 'it_arcangelo', 'en_zeta', 'en_paints', 'it_prematuro', 'it_ottimali', 'en_legitimacy', 'it_prematura', 'en_heidelberg', 'en_efficacy', 'en_convergent', 'en_south', 'it_megadeth', 'it_coito', 'it_linux', 'it_paper', 'en_erecting', 'it_salva', 'it_salvo', 'en_uncle', 'en_stabilisation', 'it_rago', 'en_youngblood', 'en_methodologies', 'en_altitude', 'en_transactions', 'en_lucius', 'it_steven', 'it_infezioni', 'it_scopi', 'it_scopo', 'en_bureaucracies', 'it_fiorello', 'it_impiegata', 'it_rotaia', 'it_guidotti', 'it_favorite', 'it_coru\\xc3\\xb1a', 'en_ribbon', 'en_sunrise', 'en_connected', 'it_neri', 'en_esotericism', 'it_nero', 'it_nera', 'it_argomentazioni', 'it_ellington', 'en_meteorology', 'en_speeds', 'en_detailed', 'it_ipa', 'it_live', 'en_cried', 'en_unesco', 'en_consciously', 'en_ordering', 'en_sca', 'en_negligence', 'en_fragment', 'en_neuron', 'en_sch', 'it_trasmissione', 'en_body', 'en_money', 'it_trasmissioni', 'en_titration', 'en_deletions', 'en_ineffectiveness', 'en_mountains', 'en_jail', 'it_modifiche', 'en_horsetail', 'en_truly', 'en_fences', 'it_heise', 'it_complutense', 'en_bronislaw', 'en_blackton', 'it_artistica', 'en_allen', 'it_artistico', 'it_georgie', 'it_assemblati', 'it_letale', 'it_lodi', 'en_alley', 'en_guy', 'it_balestre', 'en_outskirts', 'en_foundry', 'en_director', 'en_rhetorical', 'en_czech', 'it_higgs', 'en_marcel', 'en_neurological', 'en_retirement', 'it_emblema', 'it_conservazione', 'it_emblemi', 'en_dwight', 'en_autobiographical', 'it_busi', 'en_respective', 'en_iphigenia', 'en_morrill', 'it_valutazione', 'it_sicilia', 'it_orangeburg', 'it_valutazioni', 'it_rimaneva', 'en_every', 'en_aquae', 'en_pythagoras', 'en_morocco', 'it_motociclista', 'it_bardia', 'it_abissi', 'en_warm', 'en_warn', 'en_ward', 'it_cilindri', 'en_married', 'it_fanti', 'it_missouri', 'en_tunnel', 'it_maometto', 'en_ecosystems', 'it_piattaforma', 'it_pagine', 'en_artificially', 'it_pagina', 'en_inconclusive', 'it_campanile', 'it_asia', 'en_realistic', 'it_rivalutazione', 'en_statistical', 'en_resin', 'en_gallon', 'en_encounters', 'en_gore', 'it_crossway', 'it_raffinati', 'en_operators', 'en_benzoic', 'it_super', 'it_empirica', 'en_reconsider', 'it_riflessioni', 'it_riflessione', 'it_cinetica', 'it_rifornimento', 'it_maledizione', 'en_wilson', 'it_giugliano', 'en_helpless', 'en_ruminant', 'it_ecclesiastica', 'it_ximenes', 'it_segale', 'it_emanuele', 'it_commissario', 'it_ricambi', 'en_toby', 'en_enrolled', 'en_accelerating', 'it_duke', 'it_pieghe', 'en_ritual', 'it_parkinson', 'it_sposata', 'en_parish', 'en_guests', 'it_giuliano', 'it_sposato', 'en_ligatures', 'en_resist', 'en_akkadian', 'en_question', 'en_corresponded', 'en_lombardi', 'it_serbatoi', 'en_replacements', 'it_vene', 'en_parcels', 'it_vena', 'it_moresco', 'en_debate', 'en_lanes', 'it_affettuosamente', 'it_santacroce', 'en_adkins', 'en_restaurants', 'it_hausdorff', 'en_negligible', 'en_rhubarb', 'it_mozambico', 'it_amu', 'it_precisa', 'en_stay', 'it_preciso', 'en_penal', 'en_inhibited', 'en_awakening', 'en_gases', 'en_anarcho', 'en_harold', 'en_preparatory', 'en_anarchy', 'it_tubature', 'en_edna', 'en_urgell', 'en_mosque', 'en_overnight', 'it_citato', 'it_zapatero', 'it_citati', 'it_citate', 'it_citata', 'it_individuato', 'it_convertito', 'it_immediato', 'it_immediati', 'en_metabolic', 'it_sessuale', 'it_immediate', 'it_individuate', 'en_sway', 'it_convertita', 'en_hosts', 'it_individuata', 'en_swan', 'en_burrows', 'it_business', 'en_desolation', 'it_barriere', 'en_much', 'it_barriera', 'it_pong', 'en_protocols', 'it_fantasy', 'en_protect', 'it_camionista', 'it_eretta', 'en_unpleasant', 'it_nieuw', 'it_chickasaw', 'it_potsdam', 'it_antrace', 'it_pay', 'it_pax', 'it_pas', 'en_memoirs', 'it_centrocampo', 'it_cristiana', 'en_purchased', 'it_cristiano', 'it_fattibilit\\xc3\\xa0', 'it_cristiani', 'en_matinee', 'it_tunisia', 'en_seasons', 'en_fragmentary', 'it_spingendo', 'en_watts', 'it_rinunciare', 'en_reacts', 'en_wafers', 'en_proclaiming', 'it_calcificazione', 'it_quadrangolare', 'en_inside', 'it_divertente', 'en_hawaii', 'it_domanda', 'en_psychedelic', 'it_domande', 'it_attentamente', 'it_sonetti', 'it_eccellenti', 'it_cresce', 'it_eccellente', 'en_buddhist', 'en_nest', 'en_denominator', 'en_apostle', 'it_interiore', 'it_spinoza', 'it_bontempi', 'en_buddhism', 'en_metallic', 'it_caf\\xc3\\xa9', 'it_caf\\xc3\\xa8', 'en_rodent', 'en_chronological', 'en_quiet', 'en_negotiations', 'it_hall', 'it_halo', 'en_proposing', 'en_flatter', 'it_grandi', 'en_glorification', 'it_grande', 'en_exported', 'it_sfortunati', 'it_correre', 'en_types', 'it_sfortunata', 'en_ivey', 'en_incarnate', 'en_oxygen', 'it_darya', 'en_artemis', 'en_heliocentric', 'en_familiar', 'it_maurizio', 'en_sumatra', 'it_promossa', 'it_dilagante', 'it_promosso', 'en_stern', 'it_scienze', 'it_scienza', 'it_dominio', 'it_chitarre', 'en_etymologies', 'en_initiative', 'en_blackboard', 'it_rublev', 'it_addebitato', 'it_aiutare', 'it_emersi', 'en_abnormality', 'en_residue', 'it_geo', 'it_cavalleria', 'en_bush', 'it_predecessori', 'it_perfetti', 'en_steele', 'en_rituals', 'en_busy', 'en_inappropriate', 'it_commentatori', 'it_commentatore', 'it_entra', 'it_entre', 'it_crispi', 'it_esattamente', 'en_reichenbach', 'en_charity', 'en_curious', 'it_palazzo', 'en_belong', 'it_cazzo', 'it_palazzi', 'it_finta', 'en_games', 'en_virginia', 'it_jacob', 'en_classic', 'en_undisturbed', 'en_fuse', 'it_inviare', 'it_futura', 'it_wind', 'it_distratto', 'it_futuri', 'it_futuro', 'en_majestic', 'en_medusa', 'en_gaynor', 'en_shingle', 'en_stamp', 'it_wilson', 'en_insect', 'it_opinione', 'en_sacrifice', 'it_opinioni', 'it_famoso', 'it_famosi', 'en_motivated', 'en_variability', 'it_famosa', 'en_shutdown', 'en_motivates', 'en_coding', 'en_county', 'en_protested', 'en_lukewarm', 'it_brockovich', 'it_azoto', 'it_abrasivi', 'en_auditory', 'it_banks', 'it_ritirate', 'it_leader', 'it_coraggioso', 'it_giornalistica', 'it_coraggiosi', 'it_inattivo', 'it_ain', 'it_air', 'en_departed', 'it_professionalit\\xc3\\xa0', 'it_diffusa', 'en_decades', 'it_diffuse', 'it_diffusi', 'it_diffuso', 'en_enthusiastically', 'en_truncata', 'it_filiberto', 'en_doubling', 'en_innumerable', 'en_scriptures', 'en_nemesis', 'it_ambidestro', 'it_tecnologico', 'it_kagoshima', 'it_garofano', 'en_flows', 'it_richiede', 'en_flown', 'en_fredericksburg', 'it_introduce', 'en_libration', 'en_reject', 'en_organizer', 'en_hector', 'en_dye', 'en_organized', 'en_sanctions', 'en_core', 'en_tang', 'en_amphion', 'en_corn', 'en_carnes', 'it_seduto', 'en_volatility', 'en_conference', 'it_latitudine', 'it_mondi', 'en_supposition', 'it_dolls', 'en_biographers', 'en_contact', 'it_giunta', 'en_hooker', 'it_giunti', 'it_juliette', 'it_distinguibili', 'it_ferita', 'en_installation', 'it_ferite', 'en_rhetorically', 'it_feriti', 'it_ferito', 'en_play', 'it_rilascia', 'en_jersey', 'en_hubris', 'en_colonial', 'it_fabbricanti', 'en_transfers', 'en_jason', 'en_revenues', 'it_petto', 'it_voglia', 'it_timuride', 'en_territorial', 'en_tartaric', 'en_museum', 'en_fighting', 'it_smash', 'en_proletariat', 'en_rocker', 'en_rocket', 'en_emission', 'it_mesoni', 'it_rouge', 'it_profeta', 'it_prendere', 'it_rhys', 'en_laser', 'en_foam', 'it_simbolico', 'it_cbs', 'it_cbt', 'it_parenchima', 'en_modernise', 'en_waterproofing', 'it_prematuramente', 'it_ispirazione', 'it_ispirazioni', 'it_eterna', 'en_cauchy', 'en_crowded', 'en_tricked', 'it_tubercolosi', 'it_legge', 'en_boulder', 'it_leggi', 'it_fenchurch', 'en_pragmatic', 'en_flamel', 'it_montaldo', 'en_flag', 'it_castellammare', 'it_stazioni', 'it_trovati', 'it_trovato', 'en_fisheries', 'it_trovata', 'en_flaw', 'it_stazione', 'it_trovate', 'en_alcohol', 'en_pennsylvania', 'it_migliorare', 'it_lubin', 'en_conditions', 'it_vulnerabilit\\xc3\\xa0', 'en_dictatorship', 'en_plaintiff', 'en_editor', 'en_baptist', 'it_cronaca', 'it_nassau', 'en_acres', 'en_inspection', 'it_deflazione', 'it_culturale', 'en_schuster', 'it_boys', 'en_journey', 'en_oxides', 'it_istituzioni', 'en_bamboo', 'it_discendenza', 'en_mangoes', 'en_unite', 'en_miguel', 'it_solista', 'it_villaggi', 'en_environments', 'it_solisti', 'en_theorized', 'en_seals', 'it_promuovere', 'en_metabolism', 'en_mexican', 'en_incarceration', 'it_ivrea', 'en_projection', 'en_established', 'it_maschile', 'it_utilizzata', 'en_capacity', 'it_gregoriano', 'en_kerosene', 'it_utilizzato', 'it_onorari', 'it_fondamentale', 'en_clarke', 'en_neighbourhood', 'en_seller', 'en_thalberg', 'en_zoologist', 'it_guglielmo', 'en_merge', 'it_lagune', 'en_ogden', 'it_laguna', 'it_strage', 'en_brandy', 'en_oliver', 'en_olives', 'it_stadi', 'en_brando', 'en_spores', 'en_depression', 'en_bertrand', 'it_milioni', 'en_assisted', 'it_rosette', 'en_brea', 'en_fielding', 'en_bred', 'en_dynamite', 'en_gollancz', 'it_condividere', 'it_kandinsky', 'en_directions', 'en_pieces', 'it_inquisizione', 'en_reef', 'en_reed', 'en_reel', 'en_occupying', 'it_circoscritto', 'it_teatrale', 'en_fundamentally', 'en_marathon', 'en_autoantibodies', 'en_flannery', 'en_fargo', 'en_beings', 'it_commessi', 'en_disseminate', 'it_ricoverato', 'en_adept', 'en_prizes', 'it_fisici', 'it_fisico', 'it_fisica', 'en_trevisan', 'en_plentiful', 'it_virt\\xc3\\xb9', 'en_castilian', 'en_links', 'en_differentiated', 'it_muoversi', 'en_hague', 'it_interessante', 'it_sanzione', 'en_invasion', 'it_tini', 'it_pier', 'it_stabilit\\xc3\\xa0', 'it_interessanti', 'it_sanzioni', 'it_capi', 'en_editors', 'it_moi', 'it_capo', 'en_webb', 'en_surrounded', 'it_guardando', 'it_meccanico', 'it_carlone', 'en_carson', 'it_bolognese', 'it_bolognesi', 'en_exempt', 'it_chien', 'en_disgruntled', 'en_breaks', 'it_chief', 'en_trouble', 'en_sylvanus', 'en_distinguishing', 'en_ghost', 'it_ripercussioni', 'en_times', 'it_simpatia', 'en_intestine', 'en_reasons', 'it_vicario', 'it_registrati', 'en_telephus', 'it_hyde', 'it_specialmente', 'en_interview', 'en_pesticides', 'it_barbra', 'en_voskhod', 'en_commands', 'it_ricordando', 'en_alphabets', 'en_flights', 'en_officer', 'en_offices', 'en_levied', 'en_error', 'en_psychiatric', 'it_empire', 'en_suppose', 'it_missione', 'en_aristotelianism', 'en_levies', 'it_fans', 'en_participates', 'en_xxxv', 'en_merovingian', 'en_randomly', 'en_participated', 'it_proprietario', 'en_performing', 'en_taifa', 'en_square', 'en_salaries', 'it_scambiatore', 'it_generoso', 'it_aleksandr', 'it_generose', 'en_steps', 'it_generosa', 'en_tornado', 'en_possible', 'it_consecutiva', 'en_sedentary', 'en_collar', 'it_terrazze', 'it_terrazza', 'it_apprezzare', 'it_fratelli', 'en_backward', 'it_fratello', 'en_dionysius', 'en_doubted', 'en_educator', 'en_delivering', 'it_ficus', 'it_triforio', 'it_conversazione', 'it_seattle', 'en_circulatory', 'en_narrators', 'en_losing', 'en_triumphed', 'en_nike', 'en_theory', 'en_brother', 'en_legacy', 'en_chattanooga', 'en_neopaganism', 'it_hendrix', 'it_roy', 'en_actress', 'en_vigorous', 'en_ceremony', 'en_mapping', 'en_causality', 'en_agent', 'en_starch', 'en_place', 'it_convenienti', 'en_ecologists', 'en_asks', 'en_web', 'en_likely', 'en_guam', 'en_wed', 'it_amburgo', 'en_representative', 'it_abitante', 'it_vettore', 'it_abitanti', 'en_hiring', 'it_ricorrenti', 'it_iveco', 'it_solvibilit\\xc3\\xa0', 'it_esperia', 'it_mediazione', 'it_ricorrente', 'en_elis', 'en_guided', 'en_grows', 'en_grown', 'it_propria', 'en_guides', 'en_horse', 'en_hydroxide', 'it_definizione', 'it_puglia', 'en_margarita', 'en_indus', 'en_sidon', 'it_ritirarsi', 'en_semyon', 'it_clandestina', 'en_rice', 'en_loan', 'it_clandestine', 'en_annie', 'en_organisational', 'en_rich', 'en_somali', 'en_load', 'en_rationalism', 'en_deficiencies', 'en_stadium', 'it_montecassino', 'en_rationalist', 'en_recruit', 'en_grouping', 'it_fuji', 'en_mackey', 'en_house', 'it_hugo', 'en_ranking', 'it_gerusalemme', 'en_breakage', 'it_contribuisce', 'en_inches', 'it_barry', 'en_problem', 'en_inconveniences', 'en_ernest', 'it_pietsch', 'it_conseguente', 'en_steffi', 'it_lituano', 'en_apuleius', 'it_spin', 'it_lituani', 'en_suicide', 'it_spareggio', 'en_cereals', 'it_taxa', 'it_collegamento', 'en_wales', 'en_perpendicular', 'it_pensato', 'it_pensate', 'it_violet', 'en_thyroxine', 'it_pollo', 'it_rimet', 'it_polli', 'it_showgirl', 'en_camels', 'en_available', 'it_burgos', 'it_minuscola', 'en_reused', 'en_continues', 'it_minuscolo', 'it_lunatico', 'en_blaine', 'en_ineffective', 'it_chuck', 'en_continued', 'it_zola', 'it_costola', 'en_feminist', 'en_used', 'en_suffer', 'en_feminism', 'en_botany', 'en_stuttgart', 'it_recherches', 'it_islamica', 'it_inattivit\\xc3\\xa0', 'en_centralist', 'en_illustrate', 'en_seat', 'en_sulphur', 'en_ribosome', 'en_seas', 'it_rendimenti', 'en_bunting', 'en_greco', 'it_rendimento', 'it_ossidazione', 'it_susa', 'en_seal', 'en_traders', 'en_sean', 'it_eau', 'it_commissione', 'en_subscribed', 'en_competition', 'it_playoff', 'en_raised', 'en_godwin', 'en_imposing', 'en_cropping', 'en_raises', 'it_groovy', 'it_noir', 'it_moglie', 'en_barrow', 'it_full', 'it_burattino', 'it_passivit\\xc3\\xa0', 'it_meridionali', 'en_ditch', 'it_conquistata', 'it_naturalizzato', 'en_ratified', 'it_orochimaru', 'it_reuben', 'it_inventato', 'en_advantageous', 'it_inventata', 'it_inventate', 'it_bar', 'en_alone', 'it_bad', 'en_jima', 'it_baj', 'it_coxa', 'en_hardly', 'en_publishers', 'it_cuochi', 'it_anarchici', 'it_elettrodebole', 'en_corals', 'it_pinocchio', 'it_biblioteca', 'en_britt', 'it_riaperto', 'it_trailer', 'it_party', 'it_combinazione', 'it_parte', 'en_covers', 'en_summerhill', 'it_parto', 'it_firma', 'it_halford', 'it_combinazioni', 'it_parti', 'en_extension', 'en_hurt', 'it_repubblicano', 'it_repubblicani', 'en_issuance', 'en_juror', 'it_repubblicana', 'it_stallo', 'en_hurd', 'en_anniversary', 'it_lettera', 'it_lettere', 'en_node', 'en_receives', 'it_rodrigo', 'it_williams', 'en_expected', 'en_whale', 'en_received', 'en_luc\\xc3\\xada', 'it_abbassamento', 'it_cancellare', 'it_falcone', 'en_apply', 'it_stagione', 'en_lyndon', 'en_painters', 'it_stagioni', 'en_postscript', 'en_ginsberg', 'en_breathing', 'en_inner', 'en_posture', 'en_yeasts', 'en_doctorate', 'en_chilton', 'it_preliminare', 'en_ask', 'it_preliminari', 'it_salvaguardia', 'it_protezione', 'it_guerriglieri', 'en_succession', 'en_showcase', 'it_dahl', 'en_rhythms', 'it_copertine', 'en_theocracy', 'en_constant', 'en_evaluated', 'en_archaic', 'it_calma', 'it_centurione', 'en_thuringiensis', 'en_achelous', 'en_peanuts', 'it_marvel', 'en_package', 'it_esplorare', 'en_chemists', 'en_abstraction', 'it_combatt\\xc3\\xa9', 'en_lehrer', 'it_incompleto', 'en_plates', 'it_incomplete', 'en_destroyed', 'en_capitalism', 'it_originari', 'en_simplifications', 'en_colorado', 'it_nazareno', 'en_noi', 'en_rosewall', 'en_not', 'en_now', 'en_nor', 'en_radioactivity', 'en_kamma', 'it_sabbia', 'en_intensity', 'it_rigidamente', 'it_operativa', 'it_operative', 'it_operativi', 'it_zanesville', 'it_techno', 'en_roger', 'en_hurricane', 'en_snowmobile', 'en_repel', 'it_mutua', 'it_difensiva', 'en_bold', 'en_goodman', 'it_rispettare', 'en_depth', 'it_difensivo', 'it_fagiolo', 'en_bolt', 'en_crime', 'it_tuvalu', 'en_sky', 'en_this', 'en_expressway', 'en_chaste', 'it_gonzalez', 'en_beylerbey', 'en_thin', 'it_strategici', 'en_gherman', 'en_centralized', 'it_strategica', 'en_babylon', 'it_dorso', 'en_guarantee', 'it_josephson', 'it_oro', 'it_ori', 'it_ore', 'it_lola', 'it_ora', 'en_displaced', 'it_hagiwara', 'it_truppe', 'en_time', 'en_caught', 'it_consenzienti', 'en_foundation', 'en_logo', 'it_top', 'it_tom', 'it_ton', 'it_toi', 'en_cernan', 'en_mainstream', 'it_fiorentina', 'en_easily', 'it_fiorentino', 'en_experience', 'en_kong', 'en_villages', 'it_billy', 'en_pocket', 'en_cotton', 'en_walks', 'it_colleghi', 'it_this', 'it_note', 'it_ugo', 'it_nota', 'en_epidemic', 'it_noto', 'it_noti', 'it_ugt', 'en_distributions', 'en_augustan', 'it_vendetta', 'en_disagree', 'en_guilty', 'en_overlays', 'en_preference', 'en_rafts', 'en_morgan', 'en_zakaria', 'it_banchi', 'en_heywood', 'en_putin', 'it_banche', 'en_spontaneous', 'it_voluta', 'it_creativit\\xc3\\xa0', 'en_pete', 'en_tension', 'en_freely', 'it_scolpito', 'en_shuttleworth', 'en_petr', 'it_scolpita', 'en_wounded', 'it_debitore', 'en_burner', 'en_gobind', 'it_saccheggi', 'en_slaying', 'it_piatto', 'en_andalusian', 'en_touchdown', 'it_rappresentanza', 'en_unrecognizable', 'en_canaveral', 'en_plural', 'en_phoenician', 'it_prevedeva', 'it_chiosco', 'it_probabile', 'it_utili', 'en_tuned', 'it_utile', 'en_seminal', 'en_ministers', 'it_dorato', 'en_kilogram', 'en_flash', 'en_radically', 'en_doubtful', 'it_male', 'it_pugliese', 'it_soccer', 'en_cakes', 'it_marcatura', 'en_shirley', 'it_autostrada', 'it_refrigerazione', 'en_significance', 'en_audacity', 'en_lacked', 'en_frequencies', 'it_poligoni', 'it_poligono', 'en_purposes', 'en_thief', 'it_leopoli', 'en_habitually', 'it_sloveno', 'it_uccisi', 'it_preparare', 'it_springer', 'it_gioielli', 'en_stories', 'it_duca', 'it_duce', 'en_acted', 'en_henri', 'en_grinding', 'it_dominato', 'en_henry', 'en_gozo', 'en_motion', 'it_giornale', 'it_legislatura', 'it_giornali', 'en_playboy', 'en_international', 'it_bazooka', 'en_tackle', 'en_migrants', 'it_espropriazioni', 'en_figurative', 'it_eliminare', 'en_kabul', 'en_perspective', 'en_partitioning', 'en_scout', 'en_orchid', 'en_equations', 'en_exchange', 'en_intolerance', 'it_anquetil', 'en_nkvd', 'it_serafini', 'en_jim', 'en_pulmonary', 'it_svanito', 'it_insiemi', 'it_insieme', 'it_aversa', 'it_internazionali', 'en_between', 'it_zamora', 'en_millay', 'en_hohenheim', 'en_lignite', 'en_technicians', 'en_formally', 'en_remainder', 'it_interpreta', 'en_mixtures', 'en_clinics', 'en_ken', 'it_thunderbirds', 'en_conventions', 'en_swim', 'en_dolly', 'it_rinnovare', 'it_psichiatri', 'en_key', 'en_kev', 'it_terni', 'it_devastazione', 'it_solitudine', 'it_distinzione', 'it_distinti', 'en_fiber', 'en_asian', 'en_anthropological', 'it_distinto', 'it_individuali', 'it_oceano', 'it_lafayette', 'it_league', 'en_effectively', 'en_dump', 'en_uda', 'en_miletus', 'en_stabilizing', 'en_success', 'en_emotion', 'en_celebrities', 'it_picchiato', 'en_selections', 'it_comunica', 'it_tecniche', 'en_ethiopia', 'it_pip', 'it_piz', 'it_vegas', 'it_pie', 'it_pia', 'it_pio', 'en_compact', 'it_pil', 'it_cavit\\xc3\\xa0', 'it_transalpino', 'it_orano', 'en_admitted', 'it_samurai', 'en_tuberculosis', 'en_cushion', 'en_widely', 'en_vivid', 'it_fonti', 'it_soci', 'it_fonte', 'it_svizzera', 'it_muffin', 'en_cyber', 'it_planum', 'it_montolivo', 'en_missionary', 'it_atene', 'it_terracotta', 'en_hungarians', 'it_soliti', 'it_solito', 'it_rima', 'it_imposta', 'it_gentiluomo', 'en_plaster', 'it_rime', 'it_imposte', 'it_imposto', 'en_hammond', 'en_inert', 'en_semifinal', 'it_positiva', 'en_indirect', 'it_icardi', 'en_neighbour', 'it_monster', 'en_junior', 'en_global', 'en_derivation', 'it_cittadini', 'it_cittadino', 'en_ivani\\xc5\\xa1evi\\xc4\\x87', 'it_climi', 'en_including', 'it_clima', 'en_longman', 'en_volatile', 'en_direct', 'en_dolphins', 'it_rocco', 'en_phase', 'it_sperimentale', 'it_rocce', 'en_believing', 'it_rocca', 'it_studiando', 'en_indefinitely', 'it_centinaia', 'it_marchio', 'en_miners', 'en_conducted', 'it_crociate', 'it_natura', 'it_crociata', 'it_follicoli', 'en_enabled', 'it_felice', 'it_felici', 'en_lithium', 'it_abitazioni', 'it_foglie', 'en_cheek', 'it_foglio', 'en_swallowing', 'en_vogue', 'en_methodological', 'it_conformazione', 'en_parabolic', 'it_comic', 'en_shorten', 'it_atlantic', 'en_rakesh', 'it_dialetto', 'en_consume', 'en_otter', 'en_rudra', 'it_traversa', 'it_traverse', 'it_dispute', 'it_disputa', 'en_considered', 'en_movement', 'it_scommessa', 'it_filiale', 'en_bladder', 'it_fiore', 'it_acido', 'en_breeds', 'it_piani', 'en_sacral', 'it_intrusioni', 'en_quantification', 'it_lilla', 'en_taiwan', 'it_dnc', 'en_saving', 'en_better', 'it_squadriglia', 'en_lavoisier', 'en_operate', 'en_arrival', 'en_composting', 'en_cedric', 'en_emulsion', 'it_andina', 'en_damaging', 'it_fondere', 'en_vans', 'en_extraordinarily', 'it_dimostrazione', 'it_naviga', 'en_slow', 'it_classifica', 'it_dimostrazioni', 'en_pancho', 'en_viewing', 'en_timbers', 'en_melrose', 'en_delia', 'en_unprepared', 'it_dominare', 'en_probable', 'en_implications', 'en_probably', 'en_defendant', 'en_russians', 'it_sicurezza', 'it_correggere', 'en_trees', 'en_bystanders', 'it_sacerdote', 'en_arisen', 'en_limiting', 'en_lowered', 'it_montgomery', 'it_pre', 'en_socioeconomic', 'it_pro', 'en_spiritualism', 'it_comparazione', 'it_tollerato', 'en_sensu', 'it_sospesa', 'it_banca', 'en_drum', 'en_nutini', 'en_republicanism', 'it_sospesi', 'en_drug', 'en_shumway', 'it_sospeso', 'it_banco', 'it_risiedeva', 'it_medusa', 'it_groenlandia', 'it_marchetti', 'it_condoni', 'en_reproduction', 'en_evolution', 'it_spesa', 'it_arretrati', 'en_necessity', 'it_arretrato', 'it_hop', 'it_hot', 'it_how', 'it_enrico', 'it_australiana', 'it_ritornello', 'it_australiano', 'it_enrica', 'en_diatoms', 'en_milton', 'en_stabbing', 'en_hamlet', 'en_frederico', 'en_frederick', 'it_stratagemma', 'en_amparo', 'it_cieca', 'it_imperfezioni', 'it_vetraio', 'en_cedar', 'en_nadal', 'it_avanzare', 'en_choy', 'it_promozionale', 'it_dallas', 'en_monsieur', 'it_lesione', 'en_denial', 'it_lesioni', 'en_spurious', 'en_poisoning', 'it_percentuali', 'it_pisano', 'it_percentuale', 'en_sandford', 'en_titanic', 'en_keen', 'en_keep', 'en_hippies', 'en_sample', 'en_punching', 'en_missing', 'en_giddings', 'it_cena', 'en_continuing', 'en_still', 'en_miniature', 'en_wright', 'en_auto', 'en_cato', 'en_fish', 'it_formiche', 'en_subdued', 'it_invia', 'it_again', 'it_riferendosi', 'it_motivo', 'it_prototipi', 'it_motivi', 'it_zoologia', 'en_collective', 'en_provide', 'it_dum\\xc3\\xa9ril', 'en_maghrib', 'en_urea', 'en_dar', 'en_day', 'it_solenni', 'en_atria', 'en_dan', 'en_adequate', 'en_deductions', 'en_denitrification', 'it_cecchino', 'en_messages', 'it_tutore', 'en_militarism', 'it_piast', 'en_olympus', 'en_dentures', 'it_capaldi', 'it_particolarmente', 'en_contours', 'en_happening', 'en_young', 'en_surprise', 'en_bufo', 'it_galleria', 'it_patern\\xc3\\xb2', 'en_eel', 'en_bare', 'it_frequenza', 'en_predictable', 'en_childbirth', 'en_filed', 'en_codified', 'it_adeguamento', 'en_adhesive', 'en_files', 'it_cruciale', 'it_sequel', 'en_painting', 'it_medinaceli', 'en_ergonomic', 'it_capelli', 'en_four', 'it_malcontento', 'en_wilshire', 'it_sommossa', 'it_produce', 'en_fund', 'en_funk', 'en_lichtenberg', 'it_dario', 'en_timber', 'en_space', 'en_renewable', 'it_odin', 'en_tensor', 'en_bellona', 'it_cameron', 'it_lavora', 'it_preso', 'it_schwerin', 'it_annessi', 'it_pryor', 'it_lavori', 'en_calhoun', 'it_liliana', 'en_fairbanks', 'it_annessa', 'it_lavoro', 'it_meritato', 'en_assured', 'en_connecticut', 'it_valsecchi', 'en_winning', 'en_assures', 'en_melbourne', 'it_contribuito', 'it_distinguono', 'it_latente', 'en_depleted', 'en_fatalities', 'en_dick', 'en_flowed', 'it_vescicole', 'en_flower', 'it_mezza', 'en_athlete', 'it_mezzi', 'it_mezzo', 'en_athletics', 'en_tetrapods', 'it_sparsi', 'en_algeria', 'en_helped', 'it_israele', 'it_chiaro', 'en_billions', 'en_ide', 'en_ida', 'it_chiara', 'it_tuono', 'it_machen', 'it_presidente', 'en_invariant', 'it_presidenti', 'en_recently', 'it_eccessivo', 'it_compagne', 'it_compagna', 'it_compagno', 'en_chicago', 'it_compagni', 'en_bering', 'it_programmi', 'en_suffered', 'it_prevalere', 'it_tribali', 'en_rosa', 'en_cues', 'it_programma', 'en_secretary', 'en_retrograde', 'en_momentum', 'en_ross', 'it_cessazione', 'it_rivela', 'en_reality', 'en_triggered', 'en_description', 'en_withdraw', 'en_admitting', 'it_residenti', 'it_soldi', 'en_pale', 'en_barbara', 'en_altar', 'en_gustav', 'en_palm', 'it_enologia', 'en_barbary', 'en_versions', 'en_mainland', 'en_charlesworth', 'en_witness', 'it_infine', 'it_antisportivo', 'en_lipid', 'en_overlooked', 'it_diversit\\xc3\\xa0', 'en_realignment', 'it_astronauta', 'it_astronauti', 'en_suppression', 'en_commentator', 'en_halicarnassus', 'en_peachy', 'it_correzioni', 'en_tortured', 'it_correzione', 'it_assenza', 'it_tortosa', 'en_leyden', 'en_damrosch', 'en_mongols', 'it_antichi', 'it_heat', 'it_girolamo', 'it_antiche', 'en_saxon', 'it_superfamiglia', 'en_emphasis', 'en_refresh', 'en_specialties', 'it_divenire', 'en_explanation', 'it_conducente', 'it_tiff', 'en_runes', 'en_spirits', 'it_agglomerazione', 'en_tall', 'en_blessed', 'en_daily', 'en_cry', 'it_harvard', 'it_ovviamente', 'en_demonstrations', 'en_elapsed', 'en_truth', 'en_prevents', 'en_styles', 'it_interasse', 'en_altruism', 'it_conquista', 'en_cooperation', 'en_mathematics', 'it_cosma', 'it_cosmo', 'it_sedimentazione', 'en_charitable', 'en_enriched', 'en_ilan', 'it_prosegue', 'it_abolita', 'it_abolite', 'it_semplificazione', 'en_bail', 'it_cut', 'it_viaggi', 'it_albany', 'it_lanciata', 'it_sts', 'en_adding', 'it_lanciato', 'it_albani', 'en_reconciliation', 'en_indecision', 'en_tempted', 'en_survey', 'en_regrow', 'en_meaning', 'en_magnetic', 'en_british', 'it_creare', 'en_perpignan', 'it_creazioni', 'it_rapidamente', 'en_desirable', 'it_integrazione', 'en_subdivided', 'it_barcellona', 'en_suspect', 'en_leto', 'en_andrzej', 'en_spines', 'it_volo', 'it_voli', 'en_elliptical', 'en_musculature', 'it_rivelazione', 'it_incrementi', 'it_incremento', 'en_naked', 'it_rivelazioni', 'it_martina', 'it_diminuita', 'it_martine', 'en_herbs', 'it_martini', 'it_martino', 'en_grazed', 'en_madness', 'it_sottostante', 'en_regressive', 'en_cohen', 'it_descrittiva', 'it_catturato', 'it_catturati', 'en_identical', 'en_entity', 'it_catturata', 'en_discharge', 'it_bruegel', 'it_pioppi', 'it_moon', 'it_utilizzabile', 'it_inox', 'it_ginnastica', 'en_naturalized', 'it_chiama', 'en_bilingual', 'en_emma', 'en_organometallic', 'en_newsgroup', 'it_reazione', 'en_rotoscoping', 'it_reazioni', 'en_emmy', 'en_alan', 'it_quotazione', 'en_assa', 'en_addressed', 'it_brescia', 'en_alas', 'it_lato', 'it_lati', 'en_mccandless', 'it_lata', 'en_thumbs', 'it_inevitabile', 'it_intenzionalmente', 'en_immune', 'en_federations', 'en_northeastern', 'it_esercitate', 'en_phoenix', 'it_biopsia', 'it_imperialismo', 'it_abside', 'en_waxes', 'en_prints', 'en_matthias', 'it_absidi', 'en_ficino', 'it_violazione', 'it_frontale', 'it_violazioni', 'en_regeneration', 'en_balloons', 'en_delphic', 'en_statutory', 'it_califfo', 'it_download', 'en_selectively', 'it_cremona', 'en_acquaintances', 'en_strugatsky', 'en_lois', 'en_trojans', 'it_trasforma', 'en_conversations', 'it_specifiche', 'en_celebrating', 'en_steady', 'en_papyri', 'it_sottogruppo', 'it_tristemente', 'en_donating', 'it_perfettamente', 'it_circondario', 'it_pronunciata', 'en_diligent', 'en_settlements', 'en_designs', 'en_manipulating', 'it_poesia', 'it_pronunciato', 'it_protagoniste', 'en_orthostatic', 'it_protagonista', 'en_catalan', 'en_second', 'it_protagonisti', 'en_classification', 'en_alice', 'en_paragraph', 'en_sounds', 'it_saturnia', 'it_bagaglio', 'en_bleuler', 'it_filosofia', 'it_ogura', 'it_classici', 'en_avoided', 'en_argument', 'en_sawyer', 'it_popolarmente', 'en_handle', 'en_moscow', 'it_soo', 'it_sol', 'en_tech', 'en_teco', 'it_ghiacciai', 'it_antiuomo', 'en_flooding', 'it_cortometraggi', 'en_dudley', 'en_put', 'it_spermatozoi', 'en_coordinating', 'en_confer', 'en_factors', 'en_competitor', 'it_stelle', 'it_ferdinando', 'en_factory', 'it_hamed', 'en_arc', 'en_memory', 'it_fosse', 'it_dichiarano', 'en_ark', 'en_arm', 'it_pranzo', 'en_arr', 'en_art', 'en_pantheon', 'en_ary', 'it_halliday', 'en_dynasties', 'en_covalently', 'it_impedisce', 'it_prince', 'it_innovativi', 'it_innovativo', 'en_clocks', 'it_fotografica', 'en_dionysus', 'en_eugene', 'en_inequality', 'en_crete', 'it_degno', 'it_degni', 'it_esistevano', 'it_realizzazione', 'en_exposing', 'en_explosive', 'en_frustrated', 'en_connotation', 'it_forse', 'it_spostato', 'it_spostati', 'en_brutal', 'en_destroys', 'it_rimpatriati', 'en_sanskrit', 'en_insignia', 'en_illustrates', 'en_clot', 'it_servizi', 'it_inedito', 'en_illustrated', 'en_friedman', 'it_inediti', 'it_fedelt\\xc3\\xa0', 'en_openness', 'en_faithful', 'it_circuiti', 'it_circuito', 'en_revenue', 'en_criteria', 'it_fumettisti', 'en_ruled', 'en_jeffrey', 'it_staunton', 'en_atheist', 'it_durante', 'it_irriducibile', 'en_eliminate', 'en_synthesis', 'en_reports', 'it_instancabilmente', 'it_dimissioni', 'it_carriere', 'en_atheism', 'it_carriera', 'en_turks', 'en_intersection', 'en_komarov', 'en_thrusters', 'it_prepararsi', 'it_oglio', 'en_mutilated', 'en_replicated', 'it_lucarelli', 'en_warms', 'it_rotelle', 'it_distintivo', 'it_distintivi', 'en_prefer', 'it_capire', 'en_sultan', 'it_strutturata', 'en_chromium', 'en_surroundings', 'it_strutturato', 'it_linee', 'it_linea', 'en_interactions', 'it_reichstag', 'en_horny', 'it_farmacia', 'en_horns', 'en_claim', 'en_migrant', 'en_subatomic', 'en_quaternary', 'en_citing', 'it_congelamento', 'en_structures', 'en_animate', 'it_diablo', 'en_processing', 'en_connects', 'en_universal', 'en_lots', 'it_medici', 'it_medico', 'en_standardization', 'en_differential', 'it_siria', 'en_programmed', 'en_with', 'en_programmes', 'en_programmer', 'en_grazing', 'it_edouard', 'it_saga', 'en_ceases', 'en_budget', 'en_unicellular', 'en_hepatitis', 'en_ceased', 'en_suffering', 'it_ibiza', 'it_pericolo', 'en_economies', 'en_noll', 'en_italics', 'it_helsing', 'en_beating', 'en_life', 'it_canonico', 'en_mimoun', 'en_lift', 'en_existed', 'it_massicci', 'en_defect', 'it_rivista', 'en_roles', 'it_riviste', 'en_bottles', 'it_indian', 'en_ministry', 'it_stuyvesant', 'it_life', 'en_than', 'en_thai', 'en_tally', 'it_galles', 'en_both', 'en_that', 'en_thaw', 'en_correlation', 'it_another', 'it_versione', 'it_versioni', 'it_concentrati', 'en_declare', 'it_baldo', 'en_orbiter', 'it_rimorchi', 'it_festival', 'it_parlare', 'en_obligated', 'en_neural', 'it_arenaria', 'en_morphogenesis', 'it_formalizzare', 'it_stalinismo', 'en_manufacturers', 'en_deke', 'it_avionica', 'en_ties', 'en_usage', 'en_cypress', 'en_tied', 'it_two', 'it_tecnici', 'it_tecnico', 'en_dynasty', 'en_hmong', 'en_electrolysis', 'en_grassy', 'it_achille', 'en_construct', 'en_cites', 'en_annually', 'en_heartbeat', 'it_walter', 'it_primaria', 'it_bandiera', 'en_cited', 'it_accessori', 'en_operation', 'en_adults', 'en_conditioning', 'it_attraversato', 'en_biofuels', 'en_combine', 'it_minacciata', 'it_minacciati', 'en_sioux', 'en_expertise', 'en_sir', 'it_primario', 'en_urbanized', 'en_haines', 'it_birreria', 'en_fluids', 'en_achievements', 'en_weigh', 'it_balzo', 'en_affects', 'it_sviluppata', 'en_ecology', 'en_preparation', 'it_ovale', 'en_injective', 'it_personaggio', 'en_boldly', 'it_parco', 'en_soiled', 'en_epicenter', 'it_setole', 'en_grooves', 'en_bafta', 'it_asserisce', 'en_interstellar', 'en_prayer', 'it_alatri', 'it_palladino', 'en_prayed', 'en_imperialism', 'it_buca', 'en_displayed', 'it_aviatori', 'en_ayin', 'en_regions', 'en_port', 'it_inesplorata', 'en_sanchez', 'it_bortolo', 'it_obbliga', 'it_straniera', 'it_straniero', 'en_ouzou', 'it_obbligo', 'it_bastone', 'it_madrid', 'en_leed', 'en_afghan', 'it_facolt\\xc3\\xa0', 'it_scandalo', 'en_library', 'en_lazarus', 'en_quebec', 'en_audio', 'it_credenze', 'it_parzialmente', 'it_feci', 'it_orologi', 'en_offer', 'it_svenimento', 'it_vincent', 'en_thirteen', 'it_credenza', 'en_communes', 'en_francisco', 'en_rescued', 'it_africana', 'it_africane', 'en_canceled', 'en_tobacco', 'it_africano', 'en_madrid', 'en_banner', 'it_partecipato', 'it_eagle', 'en_banned', 'en_spring', 'en_jurassic', 'en_suddenly', 'it_giornata', 'it_giornate', 'en_doubles', 'en_abort', 'en_graze', 'en_kansas', 'it_copyright', 'en_goodkind', 'en_ensure', 'it_cocaina', 'en_continuous', 'en_punishment', 'en_fourth', 'it_partica', 'en_preferred', 'en_unconsciously', 'en_privatization', 'it_poitiers', 'it_interruzioni', 'en_bills', 'en_naturally', 'it_indizi', 'en_pryor', 'it_parafiletico', 'it_accusa', 'en_jaz', 'en_jay', 'it_accuse', 'en_libby', 'en_choctaw', 'en_jan', 'en_focus', 'it_settori', 'it_castiglia', 'en_gita', 'it_settore', 'en_conscience', 'it_confermato', 'it_metropolitana', 'en_diacritical', 'it_basileus', 'it_reggina', 'it_fede', 'en_indigenous', 'en_tore', 'en_prosperity', 'it_segnalato', 'en_ideologies', 'it_separatamente', 'en_ironically', 'it_segnalata', 'en_segment', 'en_assassinated', 'en_passes', 'en_fights', 'it_asamiya', 'en_passed', 'it_truffe', 'en_pest', 'en_seven', 'en_daedalus', 'en_create', 'en_ulf', 'it_confederati', 'en_thompson', 'en_typing', 'en_sugars', 'en_assembly', 'en_reception', 'en_pioneering', 'it_tarocchi', 'it_nemi', 'en_duel', 'en_writings', 'it_lee', 'it_led', 'it_ballata', 'it_ballate', 'it_lei', 'it_organizzati', 'it_giorno', 'it_les', 'it_organizzato', 'it_giorni', 'it_organizzata', 'en_animations', 'en_fur', 'en_pigment', 'it_espansiva', 'it_orafa', 'it_calciatore', 'en_closing', 'it_calciatori', 'it_onorificenze', 'it_volkov', 'it_notturno', 'en_mauretania', 'en_oceanic', 'it_modern', 'it_considera', 'en_reviewer', 'en_usurpation', 'en_novels', 'it_inconvenienti', 'it_animata', 'en_progressive', 'en_rebelled', 'it_animati', 'en_sculpture', 'it_animato', 'it_finanziato', 'it_economia', 'it_discesa', 'en_torsion', 'en_acquired', 'en_primates', 'en_speaking', 'it_sintomi', 'it_albi', 'it_legislativo', 'it_pel\\xc3\\xa9', 'it_pinot', 'en_invents', 'en_resolution', 'en_culminated', 'it_webster', 'en_defeating', 'en_adapter', 'en_zoos', 'it_marce', 'it_marca', 'it_marco', 'en_archaism', 'it_march', 'en_reflects', 'en_vibrating', 'it_tempesta', 'en_phylum', 'en_samizdat', 'en_campaign', 'en_observatory', 'en_cent', 'en_knight', 'it_vescovi', 'it_vescovo', 'en_salt', 'en_vice', 'en_bridge', 'en_diversification', 'it_rapper', 'en_radiology', 'en_admire', 'en_chartered', 'it_caetani', 'en_sturdy', 'en_slender', 'en_enlightened', 'it_settembre', 'en_isomers', 'it_bosnia', 'it_combattimenti', 'it_corsia', 'it_combattimento', 'en_acropolis', 'it_cortigiano', 'it_ludacris', 'it_sociologia', 'en_schemes', 'it_entusiasmo', 'it_accrescitivo', 'en_collaborator', 'en_facial', 'it_server', 'en_mobile', 'it_eckstine', 'en_apparent', 'en_nevada', 'en_strategy', 'en_banished', 'en_denotes', 'en_chihiro', 'en_presentations', 'it_piemontese', 'it_aderisce', 'en_perfection', 'en_durable', 'en_remodeling', 'it_danneggiata', 'it_danneggiato', 'en_heavenly', 'it_dogana', 'en_obscured', 'en_option', 'en_gaetano', 'it_meeting', 'it_occidente', 'en_compton', 'it_remota', 'it_decenni', 'en_prolonged', 'en_buchanan', 'en_witches', 'en_anions', 'it_progettata', 'it_gian', 'en_consumed', 'it_progettati', 'en_forms', 'it_progettato', 'en_otters', 'en_destabilise', 'en_consumes', 'en_consumer', 'en_marian', 'en_sunset', 'en_delay', 'it_rullaggio', 'en_isolated', 'en_pilot', 'it_etimologicamente', 'en_gardener', 'en_promote', 'it_insolito', 'en_diary', 'en_field', 'en_cameron', 'en_wayne', 'en_decarboxylation', 'it_dreier', 'en_anion', 'en_integrated', 'en_oakland', 'en_integrates', 'en_normal', 'en_norman', 'it_onorio', 'it_generare', 'it_free', 'it_tradire', 'en_zebulon', 'it_giardini', 'it_giardino', 'en_leaching', 'it_gallo', 'en_erosion', 'it_galli', 'it_difendere', 'it_oasi', 'it_galle', 'it_porro', 'it_interurbano', 'it_disaccordi', 'it_wilhelm', 'it_rappresentazione', 'it_rappresentazioni', 'en_gaseous', 'en_tonino', 'en_coming', 'it_adagio', 'en_examination', 'en_eruption', 'en_immense', 'en_futures', 'en_proportions', 'en_delaware', 'en_pathogenesis', 'it_officine', 'it_soria', 'it_conglomerati', 'it_carnot', 'en_institution', 'it_giurato', 'en_voids', 'it_inevitabilmente', 'it_ostilit\\xc3\\xa0', 'it_kabuto', 'en_inactive', 'en_shorthand', 'en_francesc', 'it_asfissia', 'en_reformers', 'en_mute', 'en_average', 'it_moderna', 'en_periods', 'en_dalai', 'it_rilevatori', 'it_rilevatore', 'en_blob', 'it_saltare', 'en_ethnographers', 'it_jeff', 'it_posizionamento', 'en_privately', 'it_formando', 'en_satisfaction', 'it_carlino', 'it_capienza', 'en_secretions', 'it_luigi', 'it_circostanza', 'it_felipe', 'en_subfield', 'it_circostanze', 'it_ingegneri', 'en_neutron', 'en_borneo', 'en_ruin', 'it_ingegnere', 'it_tanti', 'it_omega', 'it_terrorizzano', 'en_surplus', 'en_symmetry', 'it_prescritti', 'it_equipaggiata', 'it_trofici', 'it_realizzato', 'en_greatness', 'it_realizzata', 'it_secreto', 'en_dim', 'en_die', 'en_dig', 'it_arrivare', 'en_dib', 'it_errori', 'en_collecting', 'it_vasilij', 'en_misdirection', 'it_otsego', 'it_errore', 'en_liturgical', 'it_perch\\xc3\\xa9', 'en_bought', 'en_iterative', 'it_lontananza', 'it_dizionario', 'it_sbarchi', 'it_equivalente', 'en_enhancements', 'it_iran', 'it_iraq', 'it_castro', 'en_rewritten', 'en_mondays', 'it_datato', 'it_datati', 'en_persuade', 'en_airlines', 'it_datata', 'it_luoghi', 'it_nerastro', 'en_kicking', 'it_dsc', 'en_funded', 'it_doccia', 'en_films', 'en_devise', 'en_section', 'it_oddi', 'en_sealing', 'en_statues', 'en_hardened', 'it_ifans', 'it_borromini', 'en_sporting', 'it_mulo', 'it_lena', 'it_horwitz', 'en_devonian', 'it_capitan', 'it_paulista', 'en_interpretations', 'en_staff', 'it_venerabile', 'it_difetto', 'it_ammaraggio', 'it_difetti', 'it_faulkner', 'en_hand', 'en_sociologist', 'en_organisers', 'it_coscienza', 'it_street', 'en_danube', 'en_sindhi', 'it_documentario', 'en_transcribe', 'en_modest', 'en_concentric', 'en_mohamed', 'en_players', 'it_sostenere', 'en_isotope', 'en_waals', 'en_siege', 'en_exclusivity', 'it_dice', 'it_riprende', 'it_libro', 'it_visp', 'en_metal', 'it_locri', 'en_zoning', 'it_morfologicamente', 'it_salado', 'en_beard', 'en_bears', 'en_incompetence', 'it_borsa', 'en_rye', 'it_disabitata', 'en_skilled', 'it_potenza', 'it_clacson', 'en_assessment', 'en_desperation', 'it_disparati', 'en_anonymous', 'en_ship', 'it_dettagliate', 'it_ristrutturata', 'it_trasposizione', 'en_benefited', 'en_shia', 'it_auto', 'en_level', 'it_argomenti', 'it_argomento', 'it_axel', 'it_analfabeta', 'en_hbr', 'en_arpanet', 'it_analfabeti', 'it_bianchi', 'it_aquile', 'en_too', 'it_aquila', 'en_darkness', 'en_desertification', 'en_bible', 'en_toe', 'en_toy', 'en_path', 'it_darwin', 'en_top', 'it_devia', 'it_rabbia', 'en_reus', 'en_statuettes', 'it_rinomati', 'en_optimization', 'it_union', 'en_proceeds', 'en_gained', 'it_filogenesi', 'it_grafico', 'it_cardona', 'it_difficile', 'it_adf', 'it_adi', 'it_difficili', 'it_adv', 'en_sure', 'en_ill', 'en_compromise', 'it_roll', 'it_sebastiano', 'it_sebastiani', 'en_jupiter', 'it_edoardo', 'en_were', 'en_vows', 'en_sighted', 'en_rogers', 'it_attesa', 'en_taoist', 'en_magazine', 'it_atteso', 'en_priority', 'en_manufacture', 'it_leggibile', 'it_sangue', 'it_farina', 'en_hosted', 'en_accuse', 'en_ilia', 'it_navigabili', 'it_rinforzato', 'en_commenting', 'en_archaeology', 'it_neumann', 'it_impellitteri', 'en_ordered', 'it_financial', 'en_jacobin', 'en_calling', 'it_talpa', 'en_hyoid', 'it_mah\\xc3\\xa9', 'en_epa', 'it_schiena', 'it_boutonnat', 'en_tactile', 'it_reinhard', 'en_dinner', 'en_rated', 'en_globalization', 'it_serbia', 'en_rates', 'it_configurazione', 'en_schools', 'en_grams', 'en_allegro', 'it_labirinto', 'en_taggart', 'en_therapists', 'en_trustee', 'en_trusted', 'en_payment', 'en_january', 'en_tightening', 'it_sotto', 'it_alien', 'it_abbastanza', 'it_potocki', 'it_tassonomico', 'en_facilitate', 'en_programs', 'en_gathering', 'en_conviction', 'en_reserve', 'en_development', 'en_sissi', 'en_sites', 'it_acquedotto', 'en_transmission', 'it_garantendo', 'it_bivio', 'en_engines', 'en_flowers', 'en_athletes', 'it_eseguito', 'it_eseguita', 'it_codificati', 'en_morley', 'it_mucchi', 'en_algiers', 'it_voti', 'en_lgbt', 'en_asymmetric', 'en_carpenter', 'en_needed', 'it_sailor', 'it_ispira', 'it_presentati', 'en_glimpse', 'en_reinforcing', 'it_spettrometri', 'it_presentato', 'it_morendo', 'en_assignments', 'it_firmati', 'en_curb', 'en_cure', 'it_concerto', 'en_ketones', 'en_shielding', 'it_concerti', 'en_synagogue', 'it_armena', 'it_malattia', 'it_malattie', 'en_tokyo', 'it_debolmente', 'en_vapors', 'it_brucia', 'en_garnet', 'en_garner', 'it_politica', 'it_politico', 'it_motorizzazione', 'en_suffrage', 'it_woody', 'en_dictator', 'it_neofiti', 'en_bernard', 'it_uniti', 'en_obtaining', 'en_softness', 'it_portato', 'en_expressive', 'it_indirizzo', 'en_button', 'en_iww', 'en_apparel', 'en_spartan', 'it_deluxe', 'it_sound', 'it_bosso', 'en_inserting', 'it_bossa', 'it_tuttavia', 'en_existence', 'en_aviation', 'en_intersect', 'it_alluvione', 'it_alluvioni', 'en_adoption', 'it_comprare', 'en_screen', 'en_eligibility', 'en_client', 'it_pedonale', 'it_pretty', 'it_ron', 'en_can', 'en_cal', 'en_catalysis', 'it_rob', 'en_suborders', 'en_entities', 'it_trento', 'en_car', 'it_trenta', 'en_cap', 'en_cyclic', 'it_mesi', 'it_indicatori', 'it_wagener', 'it_mese', 'it_descrivere', 'it_rispettivi', 'it_rispettive', 'it_esp\\xc3\\xadritu', 'en_pheromone', 'it_altitudine', 'en_parallel', 'en_japanese', 'en_days', 'it_eziologia', 'en_diocese', 'en_copper', 'en_ruminants', 'en_thigh', 'en_illuminated', 'it_napoletana', 'it_damien', 'it_napoletano', 'it_specificati', 'en_tears', 'en_feces', 'en_dillingham', 'it_exclave', 'it_condensatori', 'en_panacea', 'en_omphalos', 'en_sousse', 'en_biography', 'it_paragonabile', 'it_mediocrit\\xc3\\xa0', 'it_rilascio', 'it_parrocchia', 'it_vigilia', 'en_fence', 'it_nervoso', 'en_ascorbic', 'it_prevalentemente', 'en_blocked', 'it_shift', 'en_gaza', 'en_mislead', 'en_mounted', 'en_tender', 'it_sottordine', 'en_disaster', 'en_neglected', 'en_symmetric', 'en_blade', 'it_stirling', 'it_brusca', 'it_sentimentale', 'it_beano', 'it_sentimentali', 'en_software', 'en_paralympic', 'it_servire', 'en_continuum', 'it_protoni', 'en_patient', 'it_mimetismo', 'it_deragliamento', 'en_tusks', 'it_keener', 'en_injections', 'en_accepting', 'en_canon', 'en_labyrinth', 'en_workers', 'it_becker', 'it_modifica', 'it_identifica', 'it_tenente', 'en_phosphoric', 'it_tenenti', 'it_mogli', 'it_rivers', 'it_robbins', 'it_ricostruita', 'it_rospi', 'en_historical', 'en_attitudes', 'it_mine', 'it_mind', 'it_ming', 'it_mina', 'en_susan', 'it_mini', 'en_dionysian', 'en_johann', 'it_proliferazione', 'en_gates', 'it_taxi', 'en_marketed', 'en_graduates', 'en_topics', 'it_maurits', 'en_graduated', 'en_traceable', 'it_paga', 'en_tablets', 'it_assembler', 'en_addition', 'it_riprese', 'it_esperti', 'it_sidewinder', 'it_assemblee', 'it_esperto', 'it_assemblea', 'it_caratterizzate', 'it_caratterizzata', 'it_caratterizzato', 'it_manzoni', 'en_distillation', 'en_souls', 'it_caratterizzati', 'en_assumes', 'en_assumed', 'en_soule', 'en_communicate', 'en_steppe', 'en_shoals', 'it_allineamenti', 'it_allineamento', 'en_austronesian', 'en_enzymes', 'en_animals', 'it_volantino', 'it_vetro', 'it_cordiale', 'en_mathematician', 'it_gelosa', 'en_volvo', 'en_cable', 'en_stylization', 'it_sottocategorie', 'en_note', 'it_tagli', 'en_technical', 'en_sync', 'en_simulated', 'it_illecito', 'en_who', 'en_tells', 'it_pratiche', 'en_why', 'en_battle', 'it_periodici', 'it_idol', 'it_ling', 'en_southerners', 'en_shakespeare', 'en_gazelle', 'en_ogg', 'it_chiapas', 'en_subset', 'it_coassiale', 'en_abbreviated', 'en_offenders', 'en_overcome', 'en_elementary', 'it_ballo', 'en_milk', 'en_tibetan', 'it_balli', 'it_balle', 'en_mild', 'en_dioxide', 'en_projections', 'en_angels', 'en_angela', 'en_relative', 'en_follows', 'it_provviste', 'en_sixties', 'en_kurosawa', 'en_deck', 'en_deco', 'en_knightsbridge', 'en_gif', 'en_double', 'en_daphne', 'it_shah', 'en_complaining', 'en_deaths', 'it_shan', 'it_quelle', 'en_dvds', 'en_mystical', 'it_attraverso', 'en_slaves', 'it_quelli', 'en_minus', 'it_rimuovere', 'en_gim', 'en_lind', 'en_line', 'en_andre', 'en_link', 'it_famagosta', 'en_dollars', 'en_specifying', 'it_allenatori', 'en_seedlings', 'en_wimbledon', 'it_liguria', 'en_propellants', 'en_statisticians', 'en_zoological', 'en_thermometers', 'it_fratellanza', 'en_communicated', 'en_ceremonial', 'en_powell', 'it_nodo', 'en_ussr', 'it_nodi', 'it_giordano', 'en_famous', 'it_tabella', 'it_allenatore', 'it_uomini', 'it_tabelle', 'it_sconfiggendo', 'en_executed', 'en_terracotta', 'en_television', 'it_margarete', 'it_filosofi', 'it_vialetti', 'it_filosofo', 'en_hunter', 'it_colorare', 'it_sfidato', 'it_soprannominato', 'it_incide', 'it_alimentato', 'en_concluded', 'en_rolls', 'en_militias', 'en_concludes', 'it_tradotto', 'it_tradotta', 'it_mccourt', 'it_tradotte', 'en_transient', 'en_alkylation', 'it_creativi', 'en_before', 'en_cream', 'en_biogas', 'en_nevsky', 'en_intestines', 'it_microsoft', 'it_luogo', 'en_patina', 'en_jurisdictions', 'en_moderately', 'it_madras', 'en_allegories', 'en_manuscript', 'en_filtered', 'it_siti', 'it_cromatica', 'en_hoffmann', 'en_restored', 'en_arteries', 'en_freeman', 'it_tartari', 'it_malavita', 'it_monete', 'it_moneta', 'it_longhi', 'en_planet', 'en_planes', 'en_memo', 'en_toxins', 'it_abete', 'en_fantasy', 'en_arthur', 'it_lorena', 'en_membranes', 'en_material', 'en_updated', 'en_nostrils', 'en_ever', 'it_thomas', 'it_arrestato', 'it_biagi', 'en_even', 'en_media', 'en_naive', 'en_jaden', 'en_shallow', 'en_awake', 'en_billy', 'it_informazioni', 'it_snipes', 'it_informazione', 'en_confessed', 'it_metropolitane', 'en_programming', 'it_soprattutto', 'it_memorabili', 'en_nicobar', 'en_jewel', 'en_allegory', 'en_charge', 'it_inseminazione', 'en_dvorak', 'en_replace', 'en_styx', 'en_unanimous', 'en_critics', 'it_prevede', 'en_nominees', 'en_recover', 'it_ardente', 'en_mandatory', 'it_carenza', 'en_greenhouse', 'en_washers', 'en_insufficient', 'it_meteo', 'en_kingdom', 'en_introduction', 'en_analyzing', 'it_manutenzione', 'en_whenever', 'it_gallico', 'en_xylophone', 'en_really', 'it_notarile', 'en_restrictions', 'it_logo', 'it_cyber', 'it_reims', 'en_division', 'it_appositamente', 'en_catechism', 'en_farmers', 'en_utc', 'en_begin', 'en_cathedral', 'en_reunited', 'it_susanna', 'en_bloc', 'it_acquario', 'it_contendente', 'it_tensione', 'it_sottrarre', 'it_rurale', 'it_tensioni', 'en_blow', 'en_hastily', 'it_eredit\\xc3\\xa0', 'it_maggio', 'it_oneroso', 'it_neue', 'it_mancata', 'it_neuf', 'it_mancato', 'it_mancati', 'it_orografico', 'en_hyde', 'en_speech', 'en_baron', 'it_rione', 'en_compass', 'en_fungus', 'it_armatura', 'en_eisenhower', 'en_carnivorous', 'en_decorative', 'it_souviens', 'it_vento', 'it_ideologica', 'it_standard', 'en_cremated', 'it_rivelare', 'en_consecutive', 'it_petrolio', 'it_emilia', 'it_tonic', 'en_toxicity', 'it_glaxo', 'it_qualitativo', 'en_efficiency', 'en_minorities', 'en_lawyers', 'en_gabriel', 'en_kingdoms', 'en_sampras', 'en_newbury', 'en_cease', 'it_bandini', 'en_typically', 'en_mnemonic', 'it_greci', 'it_greco', 'en_persis', 'it_greca', 'it_antico', 'en_sequences', 'it_antica', 'en_situationist', 'en_ethology', 'en_caron', 'it_modificare', 'it_alessandro', 'en_trifluoride', 'en_strips', 'it_ripresi', 'en_given', 'it_woodstock', 'en_grind', 'en_meets', 'en_mastering', 'it_cause', 'en_recent', 'en_gives', 'it_corsica', 'it_abbigliamento', 'it_periodico', 'it_invariata', 'en_centuries', 'it_planet', 'en_drilled', 'en_governor', 'en_when', 'it_animali', 'en_despot', 'it_anand', 'en_implementations', 'it_archivi', 'it_animale', 'it_fondo', 'it_assegnati', 'it_assegnato', 'it_fondi', 'en_gil', 'it_assegnata', 'it_fonda', 'en_cells', 'it_guillermo', 'en_ansi', 'it_effettivi', 'en_consolation', 'it_giovinezza', 'it_linate', 'en_garbo', 'it_maatschappij', 'en_rewrite', 'it_antieconomico', 'it_affari', 'it_fenice', 'it_stilistica', 'en_cations', 'it_prelievi', 'en_ipod', 'it_baglioni', 'it_historia', 'en_leonov', 'it_piazzole', 'it_piazzola', 'en_corporations', 'it_rischi', 'it_justin', 'en_condition', 'en_deserts', 'en_cretan', 'en_barret', 'it_secondari', 'it_sandro', 'en_plateau', 'en_accreditation', 'en_imperial', 'en_aleksandr', 'en_distortions', 'it_perversi', 'it_perverso', 'it_perversa', 'en_perish', 'en_sophocles', 'en_purging', 'en_coffee', 'en_toad', 'it_corrisponde', 'it_cecchi', 'en_console', 'en_prometheus', 'it_berti', 'it_nefrite', 'en_therefore', 'en_streamlining', 'en_harvest', 'en_capitol', 'en_comeback', 'en_redstone', 'it_ristrutturazione', 'en_distant', 'it_prolungata', 'en_comparable', 'it_noviziato', 'it_decidendo', 'it_sceneggiatura', 'it_riflessa', 'en_divisible', 'en_friendships', 'it_riflessi', 'it_sistemi', 'it_sistema', 'en_bitumen', 'en_insulted', 'en_manifestation', 'en_stalinism', 'it_statistica', 'en_over', 'it_continentale', 'en_parmenides', 'en_accidentally', 'en_bunsen', 'en_barry', 'en_overload', 'it_ospitalieri', 'en_orleans', 'en_snakes', 'en_substitutes', 'it_riccardo', 'en_adjustments', 'it_ottagonale', 'it_sterlina', 'en_substituted', 'it_strange', 'en_glacier', 'en_called', 'en_tripping', 'en_sizes', 'it_qualcuno', 'en_taylor', 'it_magistralmente', 'en_girdles', 'it_samuel', 'en_curling', 'it_antonietta', 'en_ehret', 'en_indications', 'it_deris', 'en_lung', 'en_luna', 'en_trivia', 'it_provvisorio', 'it_provvisoria', 'en_worthless', 'en_possibility', 'en_sweden', 'en_storage', 'it_delinea', 'it_rigide', 'it_rigida', 'it_casualmente', 'en_woman', 'it_colonizzazione', 'it_vicinale', 'it_utilitaria', 'en_mule', 'en_seismograph', 'it_autobus', 'en_nihilist', 'it_inferiori', 'it_saldato', 'en_adipose', 'en_animism', 'it_erigere', 'en_anarchist', 'en_disposed', 'it_timpano', 'it_immersa', 'en_running', 'en_visionary', 'it_proponendo', 'en_nineteen', 'en_fluid', 'it_reciproci', 'en_isolation', 'it_rossore', 'en_clover', 'it_pitti', 'en_disdain', 'it_complesse', 'it_complessa', 'en_deviation', 'it_complesso', 'it_complessi', 'en_galena', 'it_breve', 'en_germany', 'en_vomited', 'en_length', 'en_philadelphia', 'it_riefenstahl', 'en_until', 'en_crater', 'en_repair', 'it_controproducente', 'en_asylum', 'it_famiglia', 'en_judah', 'it_famiglie', 'en_molecule', 'it_superga', 'en_pride', 'it_sassetti', 'it_comunemente', 'en_round', 'it_informale', 'it_thrash', 'it_herwig', 'en_ravages', 'en_apical', 'en_valence', 'en_searches', 'en_tibet', 'en_searched', 'en_rational', 'en_additional', 'en_regional', 'en_handful', 'it_onorario', 'en_sixteen', 'en_expert', 'en_enacted', 'en_wood', 'it_sharman', 'en_wool', 'en_troy', 'it_ricchi', 'it_joan', 'en_converting', 'en_devil', 'en_lizards', 'en_valley', 'en_misfortune', 'it_bayou', 'en_character', 'en_absent', 'en_ticking', 'it_letterari', 'en_spasm', 'it_sapir', 'en_change', 'en_industrialization', 'it_intuito', 'en_chawla', 'it_girato', 'it_egizi', 'it_stringa', 'en_ultimate', 'en_frame', 'en_stand', 'en_saying', 'en_queen', 'en_briefly', 'en_dissolve', 'en_marry', 'it_raccomandati', 'it_gigantesco', 'it_aspettative', 'it_aspettativa', 'it_gigantesca', 'en_signing', 'it_piace', 'en_qal', 'it_vendita', 'en_basins', 'en_amalgam', 'it_maastricht', 'it_digitale', 'en_interpreting', 'it_parrish', 'it_parcheggi', 'en_against', 'it_medioevo', 'it_preferenza', 'en_strand', 'en_mississippi', 'en_imitations', 'en_ppk', 'it_dotati', 'it_leva', 'en_manioc', 'it_inferiorit\\xc3\\xa0', 'it_dotata', 'en_image', 'en_stainless', 'en_monsoon', 'it_levy', 'en_lama', 'en_ray', 'en_kabbalah', 'en_raw', 'en_invincible', 'en_summa', 'it_settantesimo', 'en_employs', 'en_ran', 'it_arcata', 'en_lamp', 'en_rai', 'en_worshipped', 'it_habitat', 'it_considerati', 'it_considerato', 'en_fought', 'en_failure', 'it_ghiandola', 'en_rock', 'en_little', 'en_interim', 'it_royce', 'en_exact', 'en_flora', 'en_wilkes', 'en_grandson', 'en_sprays', 'en_probes', 'en_infrared', 'en_failed', 'en_billingham', 'it_arabia', 'en_individuals', 'en_disk', 'it_teano', 'it_evoca', 'it_aspettare', 'it_figura', 'en_disc', 'it_figure', 'it_passati', 'it_passato', 'it_culmina', 'it_culmine', 'en_professional', 'it_uniformemente', 'en_facts', 'en_tait', 'en_cows', 'it_dovuto', 'en_tail', 'it_dovuta', 'it_mckim', 'it_ciclo', 'it_cicli', 'it_assume', 'it_diacono', 'en_bavaria', 'en_oxide', 'it_forchette', 'en_salamis', 'en_observable', 'it_forchetta', 'en_anthropologists', 'it_corail', 'en_honored', 'en_philosopher', 'it_rimozione', 'it_costernazione', 'it_alt', 'en_exterior', 'it_ali', 'it_ala', 'it_insegnare', 'it_cenci', 'it_superiori', 'it_superiore', 'en_acculturation', 'it_trieste', 'en_enhance', 'it_marsiglia', 'en_reisch', 'en_around', 'en_booklet', 'it_mediaset', 'en_pahlavi', 'it_palestra', 'en_mujeres', 'en_grants', 'it_nobel', 'it_petkov', 'it_oriente', 'en_nahuatl', 'en_frantz', 'en_views', 'en_impending', 'en_granth', 'en_gertie', 'en_agonies', 'en_jaeger', 'it_occupare', 'en_bacteria', 'it_cee', 'it_cef', 'it_metalcore', 'en_enjoy', 'en_offenses', 'en_unintended', 'en_interviewed', 'en_baya', 'en_wolves', 'en_resurrection', 'en_salient', 'en_lowering', 'it_edda', 'en_macrocosm', 'it_alfonso', 'en_na\\xc3\\xafve', 'it_rodi', 'it_padova', 'en_diana', 'en_serious', 'it_manca', 'it_bevan', 'en_ethane', 'en_direction', 'en_wife', 'it_shiloh', 'en_copying', 'en_attacked', 'en_transverse', 'it_aderenti', 'en_attacker', 'it_aniston', 'it_retrocessione', 'it_desiderato', 'en_ability', 'it_gruppi', 'it_gruppo', 'it_traduttore', 'it_magica', 'it_conifere', 'en_into', 'it_rinnovabili', 'en_carolyn', 'it_risiedono', 'it_contestato', 'en_short', 'en_fold', 'en_folk', 'it_everlast', 'it_infortunio', 'it_identificabile', 'en_shuttle', 'it_connell', 'it_alphonse', 'it_verbalmente', 'en_champion', 'it_etanolo', 'it_parrucche', 'en_projectile', 'en_protestants', 'it_siena', 'en_homer', 'it_performance', 'en_metre', 'en_influential', 'it_bere', 'en_join', 'en_costly', 'en_compatible', 'it_bert', 'en_comte', 'it_camicia', 'it_aristotele', 'it_mantenuto', 'it_nonnismo', 'it_dodo', 'en_manipulated', 'it_mantenuta', 'en_fallow', 'en_ankle', 'it_amministrato', 'en_touching', 'en_mcauliffe', 'it_idealmente', 'it_fuorviante', 'en_nuclide', 'it_woolf', 'it_abbreviazioni', 'it_politika', 'it_rigidi', 'it_sperimentalmente', 'en_style', 'en_colonies', 'en_compound', 'en_bavarian', 'en_standards', 'en_lynch', 'it_lovato', 'en_february', 'it_jumper', 'it_propone', 'en_analogy', 'en_explanations', 'en_bypass', 'en_unionists', 'it_etrusca', 'en_regicide', 'en_republic', 'it_afidi', 'en_modernised', 'en_hoisted', 'en_administered', 'en_snider', 'en_mayor', 'it_mortale', 'en_watching', 'it_pettiford', 'en_beggars', 'en_emre', 'en_block', 'it_gram', 'it_gran', 'en_bee', 'en_bed', 'it_gray', 'en_ben', 'en_cannon', 'en_axes', 'it_funzionali', 'en_cnrs', 'en_universality', 'en_coiled', 'it_fini', 'it_time', 'it_finn', 'it_fino', 'en_asking', 'en_institute', 'it_fine', 'en_descending', 'it_qualificazioni', 'it_pendio', 'en_florida', 'en_quantitative', 'en_engagement', 'en_gripping', 'it_qualificazione', 'en_guys', 'it_rgb', 'en_misunderstood', 'en_suspended', 'en_cir', 'en_contradict', 'en_disbanded', 'it_bonheur', 'en_page', 'it_bosone', 'it_ochs', 'it_brillanti', 'en_mummy', 'it_riconversione', 'it_brillante', 'en_copulate', 'en_labelled', 'en_hundreds', 'en_rhode', 'en_hold', 'it_minuti', 'it_minuto', 'en_denmark', 'it_geografia', 'en_populous', 'en_industrialists', 'en_densmore', 'en_homogeneity', 'en_works', 'it_forze', 'en_ideas', 'it_inferiore', 'it_poche', 'en_lakhdar', 'en_ideal', 'it_king', 'it_pochi', 'en_varma', 'en_pigs', 'en_geocentric', 'en_obesity', 'en_vandals', 'it_jake', 'en_induced', 'it_decorazioni', 'it_decorazione', 'en_ninth', 'it_pressione', 'en_violated', 'it_hell', 'en_opposite', 'en_condemnation', 'en_aba', 'en_unusable', 'en_racial', 'en_abo', 'en_poisonous', 'it_piaggio', 'en_higher', 'en_borrowings', 'it_pioneer', 'it_associare', 'en_mcdivitt', 'en_delegation', 'it_trascurabile', 'it_velocit\\xc3\\xa0', 'en_seldom', 'en_arnaud', 'en_clarity', 'it_riparazione', 'en_thunderstorms', 'en_breath', 'it_riparazioni', 'en_cooperate', 'en_vicksburg', 'it_controparte', 'en_positive', 'it_botvinnik', 'en_banquet', 'en_pasha', 'en_articles', 'it_camerlengo', 'it_apiaceae', 'en_cottage', 'it_sistematici', 'en_justice', 'en_attraction', 'it_vigneto', 'it_vigneti', 'it_petardo', 'en_hazardous', 'en_logically', 'en_fertile', 'it_trucco', 'en_illegal', 'it_circonferenza', 'it_gameplay', 'it_attrezzature', 'it_inter', 'en_benign', 'en_yucat\\xc3\\xa1n', 'it_attrezzatura', 'it_espulsioni', 'it_concava', 'it_organizzativa', 'it_corpulento', 'it_artificiale', 'it_espulsione', 'en_myriad', 'en_bedford', 'en_acquittal', 'en_felix', 'en_clarus', 'en_ashe', 'it_avellino', 'en_fernando', 'en_alto', 'en_garden', 'en_th\\xc3\\xa9odore', 'en_occupant', 'it_conferma', 'it_venerato', 'it_maradona', 'it_sardina', 'it_weiser', 'it_senna', 'en_elisabeth', 'en_bursts', 'en_heroes', 'en_verdict', 'it_consentito', 'en_garn', 'en_christians', 'en_gary', 'it_calcoli', 'it_calcolo', 'en_sort', 'en_carried', 'en_elle', 'en_sore', 'en_carrier', 'en_carries', 'en_extend', 'it_ciclismo', 'en_noises', 'en_implied', 'it_larghezza', 'it_operare', 'en_dense', 'en_nine', 'en_implies', 'it_professione', 'it_bauhaus', 'en_pairs', 'en_rifle', 'it_istituito', 'en_stimuli', 'en_document', 'it_fumo', 'it_brothers', 'en_protecting', 'it_dialettica', 'it_dialettico', 'it_improvvisata', 'en_archetypes', 'en_meredith', 'en_deceive', 'en_bottle', 'it_tempio', 'en_stoicism', 'en_asked', 'it_gomma', 'en_allowed', 'en_mythological', 'it_brian', 'en_dosages', 'it_coerentemente', 'en_geologists', 'it_prevalgono', 'it_nordovest', 'en_deduction', 'it_occupa', 'it_memorandum', 'it_ornato', 'en_collections', 'en_tend', 'en_singer', 'it_altari', 'en_functioning', 'en_ointment', 'it_altare', 'en_evident', 'en_tent', 'en_biltmore', 'en_tens', 'en_separable', 'en_national', 'en_prevalent', 'en_borgen', 'en_letters', 'en_exited', 'it_vale', 'en_pathophysiology', 'it_muratori', 'it_muratore', 'en_relentlessly', 'en_frost', 'it_personalmente', 'it_svantaggio', 'en_fashion', 'en_ideological', 'en_gillespie', 'it_udinese', 'en_stretch', 'en_fatigue', 'en_health', 'en_whittier', 'it_lituania', 'en_existing', 'it_prontamente', 'en_borrowing', 'en_agar', 'it_ampiamente', 'en_harris', 'en_live', 'en_overturning', 'en_hittite', 'en_broek', 'it_nola', 'it_agrumi', 'it_trascurando', 'it_parametri', 'en_concentrate', 'it_antisimmetrica', 'it_scontri', 'it_ronaldinho', 'it_dietro', 'it_scambiato', 'it_credere', 'it_scambiati', 'en_euphrates', 'it_pubblicato', 'it_scontro', 'it_meccanismo', 'it_meccanismi', 'en_irrational', 'it_baia', 'en_stalingrad', 'en_overthrew', 'it_distruggere', 'en_chronic', 'it_pubblicati', 'it_socialista', 'en_domination', 'en_audience', 'en_clothes', 'en_carnival', 'it_dalla', 'en_weights', 'en_wounds', 'it_michael', 'en_hume', 'en_kruskal', 'en_spectroscopic', 'it_sensi', 'it_senso', 'it_livorno', 'en_meant', 'it_part', 'en_means', 'it_fallimenti', 'it_fallimento', 'en_december', 'it_sineddoche', 'it_applicando', 'it_maldini', 'it_elm', 'it_sottraendo', 'it_elo', 'it_etimologia', 'en_wings', 'en_guillaume', 'en_nested', 'it_ridurre', 'en_soon', 'en_breckenridge', 'it_westland', 'en_soot', 'en_action', 'en_traitor', 'en_considerations', 'en_puppies', 'it_altri', 'en_juniper', 'it_ninja', 'it_biografico', 'en_yale', 'en_gotthelf', 'it_edificio', 'en_andrews', 'en_meek', 'en_principal', 'it_corre', 'it_fujishima', 'it_italia', 'it_informali', 'en_almoravids', 'en_hotels', 'it_influenzare', 'en_application', 'en_firmly', 'it_met\\xc3\\xa0', 'it_gupta', 'it_prima', 'it_procedimento', 'en_religions', 'en_fourteen', 'en_subfamily', 'it_rotary', 'it_orologio', 'en_anionic', 'it_terrestri', 'it_terrestre', 'en_agrarian', 'it_crocifissi', 'en_rotated', 'it_kasparov', 'en_wilde', 'en_destroyers', 'en_expands', 'it_huysmans', 'en_recipient', 'en_theatrical', 'it_pausa', 'it_perlman', 'en_ecstasy', 'en_organizations', 'it_succede', 'it_naufraghi', 'en_aghlabids', 'en_libre', 'en_runs', 'it_estremamente', 'en_ore', 'it_esempi', 'en_shatter', 'en_boom', 'en_book', 'it_cr\\xc3\\xb3nicas', 'en_customers', 'en_sarah', 'it_scoppio', 'it_blade', 'it_conclusione', 'en_briseis', 'en_humanistic', 'en_blind', 'it_flammarion', 'en_stylistic', 'en_sharks', 'en_nymph', 'en_phenomena', 'it_soluzione', 'it_maddalena', 'it_soluzioni', 'it_lanterna', 'en_accelerate', 'en_arrive', 'en_doses', 'it_trasbordo', 'en_aleksander', 'en_predominantly', 'en_ambystoma', 'it_bologna', 'it_epoca', 'en_beaches', 'en_formentera', 'en_favourable', 'it_mancala', 'it_collegati', 'en_critic', 'it_apparente', 'en_burke', 'it_apparenti', 'it_deterioramento', 'it_indie', 'it_prodi', 'en_neoplatonism', 'en_struggles', 'en_mouse', 'it_normali', 'it_normale', 'en_struggled', 'it_friburgo', 'en_rally', 'en_jerry', 'it_attaccante', 'en_inland', 'it_trivella', 'en_artery', 'en_inventory', 'it_canal', 'en_anglo', 'en_gradual', 'en_angle', 'it_tortura', 'en_camera', 'it_autonomie', 'it_diesel', 'it_autonomia', 'it_bulgaro', 'it_diplomatico', 'en_truce', 'it_efficiente', 'it_bulgari', 'it_piccoli', 'it_efficienti', 'it_piccole', 'en_truck', 'it_hanno', 'it_diplomatica', 'en_marginal', 'en_malinowski', 'it_christian', 'en_shortened', 'it_dramma', 'en_balto', 'it_square', 'it_castelli', 'it_castello', 'en_appomattox', 'it_criminali', 'en_nitrate', 'it_criminale', 'en_slightly', 'it_immigrazione', 'it_eccessivamente', 'it_dimostrate', 'en_monkey', 'en_brunel', 'it_dimostrato', 'en_recalls', 'en_sheridan', 'it_fatiscente', 'it_fascino', 'it_misura', 'en_chester', 'it_misure', 'en_notable', 'en_few', 'it_luo', 'it_brigata', 'en_fee', 'en_fed', 'it_lui', 'en_zeno', 'it_eventi', 'it_evento', 'en_displacement', 'en_identify', 'it_pappagalli', 'en_yorktown', 'en_uniformity', 'en_initially', 'en_tarkovsky', 'it_airplay', 'en_calls', 'it_detrattori', 'en_autobiography', 'it_abituale', 'it_feng', 'en_crawl', 'en_inheritance', 'it_sesso', 'en_visa', 'it_sessi', 'it_determinato', 'en_pups', 'it_determinata', 'en_amphibian', 'en_coachman', 'en_gas', 'en_gap', 'it_detriti', 'it_uguale', 'it_empoli', 'it_uguali', 'it_girini', 'en_final', 'it_dualit\\xc3\\xa0', 'it_ritornato', 'it_maxim', 'en_umayyad', 'en_bastiat', 'it_mclean', 'en_chamberlain', 'en_pernfors', 'en_exhibited', 'en_gagarin', 'en_hatch', 'en_careful', 'en_gathered', 'it_riccione', 'en_experiment', 'it_processi', 'it_lewis', 'en_anywhere', 'it_processo', 'en_table', 'it_prealpi', 'it_xii', 'it_dream', 'it_fastidioso', 'it_murfreesboro', 'en_battalion', 'en_satisfied', 'it_xix', 'it_xiv', 'en_hypertension', 'it_fastidiosa', 'en_eternity', 'en_blackmail', 'en_assistants', 'en_structuralist', 'it_consisteva', 'en_magistrates', 'en_hospitals', 'en_cargo', 'en_exploited', 'it_marsa', 'en_rigorous', 'en_ethically', 'it_marsh', 'it_duratura', 'it_vincitrice', 'it_forum', 'en_solve', 'en_sub', 'en_sun', 'en_sum', 'it_epoche', 'en_pheromones', 'it_artiglieria', 'it_masse', 'it_massa', 'it_scorte', 'en_mountaineer', 'it_scorta', 'en_parity', 'it_guercio', 'it_jonathan', 'it_metro', 'en_galen', 'it_politicamente', 'it_metri', 'it_aggiornato', 'en_skip', 'en_skin', 'en_reductions', 'it_coinvolge', 'en_jurisdiction', 'en_launches', 'it_madre', 'it_gregorio', 'it_affiliato', 'en_joseph', 'en_launched', 'it_passo', 'en_singers', 'it_conway', 'it_passa', 'it_rubrica', 'it_aggiornata', 'en_theophrastus', 'en_egyptians', 'it_villafranca', 'it_indecisione', 'en_toyota', 'en_medium', 'en_research', 'it_agraria', 'it_zu\\xc3\\xb1iga', 'en_ripley', 'en_predictions', 'en_judicial', 'en_fractions', 'it_taverna', 'en_again', 'en_von', 'en_acts', 'it_cardine', 'en_nuances', 'en_started', 'it_grimaldi', 'en_paterson', 'en_indifference', 'en_personal', 'en_moseley', 'it_smolensk', 'en_honoring', 'en_brazil', 'it_terme', 'en_lighting', 'en_kaplan', 'it_cellulare', 'it_verbale', 'en_mercedes', 'en_jerusalem', 'en_declaration', 'it_gioia', 'it_mangiare', 'it_complessivamente', 'en_workforce', 'it_squilibri', 'it_obbligati', 'en_politicians', 'it_obbligato', 'en_finance', 'it_obbligate', 'en_controlled', 'en_mri', 'en_etruscan', 'en_mra', 'en_hirschfeld', 'it_ruotare', 'en_titicaca', 'en_tanks', 'en_potomac', 'en_ferreira', 'en_silver', 'it_turbante', 'en_readily', 'it_progenie', 'it_chigorin', 'it_hawke', 'en_renamed', 'en_meeks', 'en_vine', 'en_offered', 'it_sipario', 'en_says', 'it_artista', 'it_artisti', 'it_derivazione', 'it_architettura', 'it_architetture', 'it_separare', 'en_ladder', 'en_expense', 'it_visione', 'en_rightly', 'it_capitoli', 'en_dyeing', 'it_capitolo', 'en_prisoners', 'en_agamemnon', 'en_anonymously', 'en_fifteenth', 'it_indicazione', 'it_avram', 'en_anxious', 'it_indicazioni', 'en_sunday', 'it_riunire', 'en_imagination', 'en_stampede', 'en_generating', 'en_ruined', 'en_flame', 'en_inflatable', 'en_setback', 'en_agronomic', 'en_neuroscience', 'en_pastor', 'en_ester', 'en_joint', 'en_parliament', 'en_morbid', 'it_scalare', 'it_alfred', 'it_prospettiva', 'en_abolish', 'en_sympathizers', 'en_semitic', 'it_khmer', 'en_bodyguard', 'it_trentini', 'it_prado', 'it_trentino', 'en_sword', 'en_solidifies', 'en_christian', 'it_isolamento', 'en_camelot', 'it_dance', 'it_labirintico', 'en_resources', 'it_salvare', 'it_ammira', 'en_fraud', 'it_contraccettivo', 'it_calcutta', 'en_santa', 'en_reformist', 'it_connazionale', 'it_lasciare', 'en_gonz\\xc3\\xa1lez', 'it_manuale', 'en_berber', 'it_morphy', 'it_pittsburgh', 'it_scapito', 'it_subito', 'en_dumping', 'en_encourage', 'it_vice', 'en_violent', 'en_sculptors', 'it_sicuramente', 'en_comics', 'en_poison', 'en_marsyas', 'en_inadvertently', 'en_carlos', 'it_umberto', 'it_copertura', 'it_isola', 'en_later', 'it_proprietari', 'it_isole', 'en_petrov', 'en_unrest', 'en_predecessor', 'en_delta', 'it_citano', 'en_princess', 'en_encoding', 'it_switch', 'it_qualcosa', 'en_pollination', 'en_weighted', 'en_buoyancy', 'it_parma', 'it_tulip', 'it_consumatori', 'it_ricercatrice', 'en_federal', 'en_forgetting', 'it_sophia', 'en_sulfide', 'en_permeable', 'en_kangaroo', 'en_bithynia', 'en_milestones', 'it_intelligente', 'en_references', 'en_corresponds', 'it_intelligenti', 'en_rude', 'en_compulsory', 'en_statius', 'it_atv', 'it_atp', 'en_observatories', 'en_moss', 'it_binari', 'en_foreign', 'en_source', 'it_emiliano', 'it_interruttore', 'it_atm', 'it_clamore', 'it_interruttori', 'en_expatriate', 'it_preferenze', 'it_f\\xc3\\xb6rster', 'it_val', 'it_van', 'en_agree', 'it_insetti', 'en_neoliberalism', 'en_rid', 'it_quattordicesimo', 'en_antenna', 'it_memoria', 'it_memorie', 'it_forniti', 'en_conceive', 'it_babilonia', 'en_society', 'en_malthus', 'en_value', 'it_installata', 'en_destruction', 'en_implicated', 'en_debbie', 'it_web', 'en_cool', 'en_junction', 'en_cook', 'it_regime', 'it_leghe', 'it_trova', 'en_foundations', 'it_regimi', 'it_inimitabile', 'en_hierarchical', 'it_incerti', 'it_rettili', 'it_carlos', 'it_recitazione', 'it_heerenveen', 'it_shopping', 'en_hecuba', 'it_attacca', 'en_manufactures', 'en_interests', 'en_theoretically', 'it_attacco', 'en_comedy', 'it_interrotta', 'en_psychopathological', 'it_graziani', 'en_ciutadella', 'it_interrotto', 'en_anglican', 'it_transessuale', 'en_dismissal', 'en_gestation', 'en_events', 'en_metric', 'en_handwriting', 'it_stile', 'it_dotato', 'en_visitors', 'it_still', 'it_stilo', 'en_airplane', 'it_holland', 'it_indagini', 'it_indagine', 'en_uranus', 'en_mises', 'it_tracklist', 'it_catastrofi', 'it_stabilire', 'it_voto', 'it_respiro', 'en_ambitious', 'it_malformazioni', 'en_follow', 'it_enzo', 'it_ricezione', 'en_presumably', 'it_mappa', 'en_integration', 'it_protettore', 'it_lineare', 'it_reykjav\\xc3\\xadk', 'it_lineari', 'en_compounds', 'it_severino', 'en_consequence', 'it_macedoni', 'en_randall', 'en_koreans', 'en_diakonoff', 'it_permanente', 'it_permanenti', 'en_embarrassing', 'it_bushnell', 'it_semicircolare', 'en_battered', 'it_pupazzi', 'it_riempito', 'it_tirolo', 'en_regularly', 'en_reader', 'en_renaissance', 'it_dino', 'it_francisco', 'it_ding', 'en_alginate', 'en_circuits', 'en_size', 'en_lamb', 'en_bonus', 'it_aiuto', 'it_aiuti', 'en_proportionate', 'it_allievo', 'it_allievi', 'it_coraggio', 'en_instituted', 'it_jasmine', 'en_friedrich', 'en_implements', 'it_times', 'en_rap', 'it_tebe', 'en_wine', 'en_wind', 'en_wing', 'it_almir\\xc3\\xb3n', 'en_joan', 'en_aspiration', 'it_lista', 'en_wins', 'it_liste', 'en_decoded', 'en_percent', 'it_affinamento', 'en_cuba', 'it_filosofica', 'en_cube', 'en_fifteen', 'en_opportunistic', 'it_martin', 'it_filosofico', 'en_octane', 'en_confederacy', 'en_currents', 'en_hunting', 'en_villa', 'en_theologians', 'it_westwood', 'en_primate', 'en_matthew', 'en_legally', 'en_weapons', 'en_ranger', 'en_ranges', 'it_relativa', 'it_relativo', 'en_montgomery', 'it_affidati', 'it_migliori', 'en_eutrophication', 'it_attrici', 'en_things', 'en_mavericks', 'en_based', 'it_concavit\\xc3\\xa0', 'en_bases', 'en_rigidly', 'en_cloaking', 'en_marcelo', 'it_gauthier', 'it_foto', 'en_transformation', 'it_giovanni', 'it_spartiacque', 'en_complex', 'it_limitare', 'en_renzo', 'en_roca', 'it_sorprendente', 'en_adaptor', 'it_gris', 'it_improvvisa', 'en_parameters', 'it_rilevato', 'it_ribelle', 'it_gelosia', 'it_fifa', 'en_squatter', 'en_spectrum', 'en_radius', 'it_niente', 'en_encountered', 'en_infamous', 'it_raffreddato', 'it_raffreddati', 'it_ciborio', 'it_zhang', 'en_function', 'it_espiazione', 'it_celtica', 'en_hawke', 'it_abbracciare', 'it_celtico', 'it_hundred', 'en_cutaneous', 'en_fields', 'en_concorde', 'it_invadendo', 'it_abbreviato', 'en_risking', 'en_render', 'en_craters', 'it_hooker', 'en_spices', 'it_soldato', 'en_worst', 'it_soldati', 'en_strictly', 'en_investment', 'en_herbicide', 'en_worse', 'it_kaliningrad', 'en_causal', 'en_jane', 'en_australia', 'it_mente', 'it_menta', 'it_genesi', 'en_dilation', 'en_somalia', 'it_sigillo', 'it_applicazioni', 'it_festa', 'it_ordinazione', 'en_peirce', 'en_cursed', 'it_ramo', 'en_kiska', 'en_horizon', 'en_membrane', 'en_demonstrated', 'en_dish', 'en_sylvatica', 'it_bosco', 'en_predict', 'en_assyrian', 'it_incrociatore', 'en_brahe', 'en_demonstrates', 'it_imbattuto', 'en_irma', 'en_catharsis', 'en_poisoned', 'it_pagando', 'en_seekers', 'it_fidanzata', 'en_respects', 'en_conversation', 'it_academy', 'it_mayday', 'en_waste', 'it_ferro', 'it_ferri', 'it_rh\\xc3\\xb4ne', 'en_leopard', 'en_imbalance', 'en_ideologically', 'it_proiettile', 'it_proiettili', 'it_filtrare', 'en_calendar', 'en_portage', 'en_shoot', 'en_allusion', 'en_outlook', 'it_dubitare', 'it_programmato', 'it_cadere', 'it_autunno', 'en_tunisian', 'it_innocenzo', 'it_innocenza', 'en_niacin', 'it_adelaide', 'en_column', 'en_damages', 'en_parental', 'en_vaccination', 'en_moderate', 'en_damaged', 'it_piena', 'it_timor', 'it_tenuta', 'en_numbering', 'it_gabber', 'it_chiude', 'en_pirates', 'en_emerging', 'en_preparing', 'en_prehensile', 'it_identit\\xc3\\xa0', 'en_facto', 'en_astronomer', 'en_family', 'it_riprendere', 'en_oxymoron', 'en_limitations', 'en_dove', 'en_ally', 'it_rassicura', 'en_apples', 'en_manchester', 'it_debutto', 'it_tribune', 'en_quaint', 'en_wilmot', 'it_wendt', 'en_savages', 'en_absurdum', 'it_seriamente', 'en_supplied', 'en_attributes', 'en_factor', 'en_nmr', 'en_reason', 'en_disparity', 'en_defiance', 'it_proporre', 'en_attributed', 'en_skeleton', 'it_sintetici', 'en_proliferation', 'en_causation', 'it_sintetica', 'en_thanking', 'it_montevideo', 'en_aveyron', 'it_mentolo', 'it_lazio', 'en_anointed', 'it_kazushi', 'en_favored', 'it_sette', 'it_setta', 'en_comic', 'it_brixton', 'it_ouro', 'en_cooper', 'it_gedichte', 'en_pharynx', 'en_stabiliser', 'it_cittadella', 'it_cura', 'it_cure', 'it_ricognizione', 'it_schieramento', 'en_observance', 'it_associazione', 'en_periplus', 'en_protective', 'it_associazioni', 'en_grammarian', 'en_spiro', 'it_wari', 'it_praticata', 'en_chickasaw', 'en_capella', 'en_vapor', 'it_praticato', 'it_ward', 'en_dislike', 'it_annunciata', 'it_annunciato', 'en_researchers', 'it_capolinea', 'en_articulated', 'en_moore', 'it_fogliame', 'en_oromo', 'it_lasciando', 'en_warmth', 'en_exceptionally', 'en_narrator', 'en_freed', 'en_orthography', 'it_suggerire', 'it_mangia', 'it_tostapane', 'en_jaw', 'it_stabili', 'it_veneti', 'it_veneto', 'it_bugie', 'it_stabile', 'it_bugia', 'en_defence', 'en_parasite', 'en_beggar', 'en_experts', 'it_universale', 'it_dodecaedro', 'it_universali', 'it_pedana', 'it_combustione', 'en_stole', 'it_comincia', 'it_rinnovamento', 'en_historian', 'it_barletta', 'en_lasted', 'en_mines', 'en_deforestation', 'en_exeter', 'en_develops', 'it_michel', 'en_redeem', 'en_hodge', 'en_swallows', 'it_endemica', 'it_televisione', 'en_unfortunately', 'it_danneggiamento', 'it_cilindrico', 'it_cilindrica', 'en_apparatus', 'en_sapiens', 'en_symptomatic', 'en_epirus', 'en_trapped', 'en_princesses', 'en_pools', 'en_bipolar', 'en_traps', 'en_covalent', 'en_mimics', 'en_pasture', 'it_sommario', 'it_sligo', 'it_designa', 'en_poole', 'en_commander', 'en_collins', 'it_amichevoli', 'it_germania', 'en_commanded', 'it_mitchell', 'it_profilo', 'it_profili', 'en_permits', 'it_auschwitz', 'en_blocks', 'it_bersaglio', 'it_disciplina', 'it_contenere', 'it_discipline', 'en_histology', 'en_campaigns', 'en_arabian', 'en_ridges', 'en_magical', 'en_turns', 'en_trojan', 'it_irlandesi', 'it_ra\\xc3\\xbal', 'it_irlandese', 'en_extinction', 'en_guise', 'en_rooms', 'it_romanzata', 'en_has', 'en_medicinal', 'en_sahara', 'en_jules', 'it_stemma', 'it_fate', 'en_pavements', 'it_edo', 'en_kindle', 'en_drink', 'en_agronomy', 'en_egg', 'it_guofeng', 'en_han', 'en_evapotranspiration', 'it_rispettivamente', 'it_colonna', 'it_colonne', 'it_incendi', 'en_crayfish', 'it_mtume', 'en_saxony', 'it_aristocrazia', 'en_borders', 'en_freedom', 'en_looting', 'it_nazionalista', 'it_fonetica', 'en_injecting', 'it_nazionalisti', 'en_murray', 'en_calcium', 'en_experimental', 'it_conferiti', 'it_conferito', 'it_bristol', 'en_seeds', 'it_giustizia', 'en_frozen', 'en_marker', 'en_market', 'en_defeats', 'it_aggiornare', 'it_fuerza', 'it_pasolini', 'en_marked', 'it_codifica', 'en_switching', 'en_equivalently', 'it_lucca', 'en_neurobiology', 'en_rapes', 'it_misurata', 'en_fight', 'it_permette', 'en_answer', 'en_proclamation', 'en_dvd', 'en_seriously', 'en_gentle', 'it_steli', 'en_separately', 'it_twente', 'it_stele', 'en_legitimate', 'en_drama', 'it_quattro', 'it_cantone', 'it_benigni', 'en_distinguish', 'en_spell', 'it_benigna', 'en_bowl', 'en_nelson', 'en_gill', 'en_buffer', 'en_negotiating', 'it_voivodato', 'en_hammad', 'en_bah\\xc3\\xa1', 'it_atterrato', 'it_polacchi', 'en_exile', 'en_dissociation', 'en_uninhabited', 'en_cambridge', 'en_punished', 'it_diluvio', 'en_intensely', 'it_precedentemente', 'en_punisher', 'it_calvo', 'en_front', 'en_united', 'it_thq', 'it_tunisi', 'en_phenotype', 'it_tma', 'it_omar', 'en_christ', 'en_formulation', 'it_poznan', 'en_burst', 'en_survivor', 'it_attendere', 'it_vantaggio', 'en_goats', 'it_ginkgo', 'en_stubby', 'it_sasuke', 'it_lombardia', 'en_thallus', 'en_ranch', 'en_igor', 'en_corwin', 'it_dichiarazione', 'it_cristianesimo', 'en_separation', 'it_precedenza', 'it_marginale', 'it_marginali', 'it_barbiturici', 'en_dravidian', 'en_microcosm', 'it_organizaci\\xc3\\xb3n', 'en_cukor', 'en_helping', 'en_diagnostic', 'it_lirica', 'en_prenatal', 'it_mover', 'it_pizzicato', 'it_out', 'en_deny', 'en_pratchett', 'en_universities', 'it_hill', 'en_physical', 'en_digits', 'en_humus', 'en_casket', 'it_eccentrica', 'it_massimi', 'it_massimo', 'it_definita', 'it_definite', 'it_definiti', 'it_definito', 'it_utility', 'it_fisher', 'en_rosny', 'it_marche', 'en_mediation', 'it_giovani', 'en_sciatica', 'en_afghanistan', 'it_istigato', 'en_heads', 'it_simo', 'en_inch', 'en_parking', 'en_trauma', 'it_tormentone', 'en_gershwin', 'en_harassment', 'it_forma', 'it_forme', 'en_janissaries', 'en_shells', 'en_retreats', 'it_jules', 'en_plagued', 'it_cricket', 'en_armor', 'en_two', 'it_scorcio', 'en_subtract', 'it_manifesta', 'it_inaspettatamente', 'it_manifesti', 'en_futility', 'it_freddie', 'it_stampo', 'it_stampe', 'it_stampa', 'it_guascogna', 'en_nancy', 'en_aragon', 'en_disorder', 'en_metallurgy', 'it_docente', 'en_choose', 'it_controllate', 'it_inciso', 'it_controllata', 'it_controllato', 'it_incisa', 'it_controllati', 'en_garry', 'it_stagno', 'en_negatives', 'en_ravens', 'it_casiraghi', 'it_votazione', 'en_glenn', 'en_amendments', 'it_faenza', 'en_letter', 'it_mayer', 'en_something', 'it_ticino', 'en_radioisotopes', 'en_superior', 'en_methylene', 'en_quartz', 'en_rivalry', 'it_seleucide', 'it_nascondiglio', 'en_avoiding', 'it_point', 'it_rifugiati', 'it_impressionanti', 'it_muratura', 'it_varia', 'en_diplomacy', 'it_gallina', 'it_vasari', 'it_baciare', 'en_camouflage', 'en_supplements', 'it_modellisti', 'it_suriname', 'en_kris', 'en_sponges', 'it_pi\\xc3\\xb9', 'it_leonid', 'en_unhappy', 'en_animated', 'en_magazines', 'it_fianchi', 'it_slogan', 'en_attempted', 'en_scope', 'it_granata', 'it_alfabetizzazione', 'en_nudist', 'en_pepsin', 'en_precision', 'it_andi', 'en_variables', 'it_traguardo', 'it_lunetta', 'en_farmer', 'it_ande', 'en_asleep', 'it_estremit\\xc3\\xa0', 'en_mount', 'en_sheppard', 'en_elvas', 'en_lived', 'en_abugida', 'it_split', 'en_liver', 'en_lives', 'it_internamento', 'it_brandeburgo', 'en_rotations', 'it_lorenzo', 'en_insult', 'en_linked', 'it_doria', 'it_sessanta', 'en_insula', 'en_forum', 'it_portland', 'en_washington', 'en_count', 'it_apparve', 'en_ltd', 'it_sangro', 'it_settanta', 'en_humphry', 'en_locust', 'it_aggregazioni', 'it_assassino', 'it_ammirare', 'it_assassini', 'en_cosmic', 'en_venice', 'en_symptoms', 'en_personnel', 'it_braccio', 'it_polizia', 'it_caccia', 'en_citizens', 'en_reflecting', 'it_consacrata', 'it_consacrato', 'it_destinazione', 'it_golfo', 'en_payne', 'it_gabriele', 'it_nascondere', 'en_vocal', 'it_vulcanica', 'en_exam', 'it_febbre', 'it_silenziosa', 'en_elusive', 'it_orchestrale', 'it_maschi', 'it_douglas', 'en_definitive', 'en_replied', 'en_piraeus', 'en_unstable', 'it_lucena', 'en_products', 'it_visuale', 'en_opportunities', 'it_rispondendo', 'it_predatori', 'en_hippo', 'en_dryness', 'en_studying', 'en_pedrosa', 'en_unconditional', 'it_influire', 'it_remake', 'it_pietroburgo', 'it_conservativo', 'it_alois', 'it_raffinatezza', 'en_eclectic', 'it_millennium', 'it_anagni', 'it_ultra', 'en_deadline', 'en_comparisons', 'en_sociology', 'en_procedure', 'en_invisible', 'it_monetaria', 'it_kraftwerk', 'en_psychology', 'en_celesta', 'it_ortodosso', 'it_ortodossi', 'en_interventions', 'en_prairie', 'it_proponenti', 'en_flagrant', 'en_histological', 'en_trismegistus', 'en_toll', 'en_masculine', 'en_influenza', 'en_olga', 'it_noduli', 'it_vero', 'it_fotoni', 'it_title', 'en_escaped', 'it_corridoio', 'en_complicated', 'it_lunare', 'it_piacevoli', 'en_piloted', 'en_universitat', 'en_elysian', 'it_nathaniel', 'it_liberal', 'en_assassinations', 'it_riformismo', 'en_supplement', 'en_prestigious', 'en_financially', 'it_invece', 'en_herbarium', 'en_frieze', 'en_knob', 'it_trafficante', 'en_know', 'it_essex', 'en_knox', 'it_amministrativo', 'en_encampment', 'en_wheelchair', 'en_automated', 'it_dupuy', 'it_fotovoltaico', 'it_uffici', 'it_qualunque', 'en_agreements', 'en_ascent', 'en_persevere', 'it_entrambi', 'en_rings', 'en_thailand', 'en_complained', 'it_condensazione', 'it_lugo', 'en_wallis', 'en_pituitary', 'en_encyclopedias', 'en_regiments', 'en_setbacks', 'en_notice', 'it_ripa', 'it_privilegio', 'en_oppression', 'en_enforcement', 'en_bryophytes', 'it_parit\\xc3\\xa0', 'en_koestler', 'en_weekend', 'en_bleeding', 'en_oratory', 'en_ralph', 'it_armate', 'it_armata', 'it_armato', 'it_armati', 'en_lie', 'en_peters', 'en_m\\xc3\\xa9li\\xc3\\xa8s', 'en_terrorism', 'en_gmos', 'en_lit', 'en_terrorist', 'en_lis', 'en_privateers', 'it_spore', 'it_saccheggiare', 'en_someone', 'it_sport', 'en_karlovi\\xc4\\x87', 'it_oligarchica', 'en_lakes', 'en_preceded', 'en_crusts', 'it_disagi', 'en_extracellular', 'it_acquisire', 'en_appearances', 'en_welcome', 'it_deforestazione', 'en_invented', 'it_alpini', 'it_cartaginese', 'en_mmr', 'it_tunisini', 'it_alpina', 'en_rappahannock', 'it_chiesa', 'en_leila', 'it_chiese', 'en_pledge', 'it_disincanto', 'en_rule', 'it_medicinale', 'it_grifo', 'en_rolling', 'it_estetico', 'en_dulles', 'en_triumphant', 'en_vermes', 'en_noted', 'it_convessit\\xc3\\xa0', 'en_pregnant', 'en_notes', 'en_astronaut', 'en_awkward', 'it_esilio', 'it_americana', 'en_connection', 'it_americano', 'it_americani', 'en_domitian', 'it_vii', 'it_via', 'en_catalonia', 'en_dfc', 'en_silica', 'it_ritagliare', 'en_outrage', 'en_politically', 'en_edmund', 'it_vicer\\xc3\\xa9', 'en_rewards', 'it_daytona', 'it_figueras', 'it_mallon', 'en_need', 'en_molecules', 'en_outfit', 'en_fabric', 'it_frati', 'en_depends', 'en_intruders', 'it_frate', 'en_crew', 'it_lebbrosi', 'it_tolleranti', 'it_lebbroso', 'en_trick', 'it_jean', 'it_dotazione', 'it_strategicamente', 'it_geologia', 'en_prey', 'en_bums', 'en_biochemistry', 'en_belonged', 'en_meteorites', 'en_union', 'it_borghi', 'en_phenomenon', 'it_catastrofico', 'it_grosso', 'en_fins', 'it_rota', 'it_rilasciato', 'it_rilasciati', 'en_chase', 'it_pallida', 'en_find', 'en_fine', 'en_plausible', 'it_drastico', 'en_sanctity', 'it_brembo', 'it_drastica', 'it_certamente', 'en_circle', 'it_rubata', 'it_rubato', 'it_pensiero', 'it_pensieri', 'en_kneeling', 'en_syntax', 'it_freeware', 'en_biographer', 'en_legislation', 'en_militarily', 'it_trono', 'en_network', 'it_toto', 'it_andorra', 'it_buddista', 'en_proton', 'en_depicting', 'en_scene', 'en_contempt', 'it_pellegrini', 'it_pellegrino', 'it_lamenta', 'en_multiplicative', 'it_trascura', 'it_stephenson', 'en_condensed', 'it_cartagine', 'it_supportata', 'it_supportato', 'en_mortality', 'en_deceit', 'en_improvement', 'en_liked', 'it_neutrale', 'en_loathing', 'en_uruguayan', 'it_leme', 'it_variabile', 'en_pastoral', 'en_fuel', 'en_thessaly', 'en_spin', 'en_military', 'en_aftermath', 'it_articolate', 'en_spirituality', 'it_articolato', 'en_dots', 'it_claude', 'it_polmonari', 'it_polmonare', 'en_democritus', 'it_igor', 'en_synaptic', 'en_wagner', 'en_reprints', 'en_colbert', 'en_escuela', 'it_respirazione', 'it_buonarroti', 'en_tower', 'en_khmer', 'en_wilhelm', 'en_microgravity', 'en_nicolaus', 'en_odour', 'it_movimento', 'it_movimenti', 'it_disavventure', 'it_olandese', 'en_example', 'it_pawnee', 'en_appalachian', 'it_mantegna', 'it_portale', 'it_olandesi', 'it_folk', 'en_ion', 'it_delta', 'it_giudizi', 'en_bus', 'it_collare', 'en_but', 'en_buy', 'it_pesata', 'en_weaken', 'en_ios', 'it_palude', 'it_tradizionalmente', 'en_organic', 'it_paludi', 'en_analyze', 'en_platonic', 'it_affinit\\xc3\\xa0', 'en_gifted', 'it_megawatt', 'en_greeks', 'it_novit\\xc3\\xa0', 'en_hack', 'en_incite', 'it_algebrica', 'it_pudore', 'it_dote', 'it_yoruba', 'en_fishing', 'en_challengers', 'en_slime', 'en_caribbean', 'en_conclusions', 'it_roberta', 'en_chuan', 'it_teoremi', 'en_ursa', 'it_cameriere', 'it_teorema', 'it_roberto', 'en_mediums', 'it_roberts', 'it_tassonomia', 'it_documento', 'en_actresses', 'en_jaina', 'it_documenti', 'it_decadenza', 'en_samuel', 'en_depressed', 'it_cadice', 'en_tla', 'it_periferica', 'it_goduto', 'en_pawn', 'it_supercoppa', 'it_cretino', 'it_tahmasp', 'en_stereotyped', 'en_ball', 'en_esc', 'en_learn', 'en_persona', 'en_bald', 'en_visually', 'en_physically', 'en_stereotypes', 'en_persons', 'en_isis', 'en_inuit', 'en_aspartic', 'en_congruent', 'en_pollard', 'en_counterpoint', 'en_superbus', 'en_boston', 'en_cane', 'en_distinction', 'it_professional', 'it_alessandria', 'en_belly', 'it_lunga', 'it_lungo', 'en_occult', 'en_bells', 'en_outlaw', 'en_bella', 'en_classified', 'it_cirenaica', 'it_frigoriferi', 'en_fraction', 'en_centimetres', 'en_nearby', 'it_altmark', 'en_albertus', 'it_esemplari', 'en_fives', 'en_shipping', 'it_esemplare', 'it_enfisema', 'en_intrigued', 'en_quantifying', 'it_collega', 'it_college', 'en_industrialized', 'en_constantly', 'it_cpa', 'en_abounds', 'en_civic', 'en_civil', 'en_holt', 'it_funzionamento', 'en_holy', 'en_kronstadt', 'en_competitions', 'it_tradizioni', 'en_hole', 'it_tradizione', 'it_prendendo', 'en_punctuation', 'en_farragut', 'en_shanghai', 'en_bowls', 'en_flow', 'en_clock', 'en_sab\\xc4\\x83u', 'it_ferrari', 'it_ricostruire', 'en_adolescents', 'en_presidential', 'it_rivolta', 'it_rivolto', 'it_soffrire', 'en_barley', 'it_manto', 'it_detenute', 'en_arable', 'it_amato', 'it_detenuti', 'it_amati', 'it_detenuto', 'en_plane', 'en_aeschylus', 'en_irregularities', 'it_borussia', 'it_musique', 'en_plant', 'en_plans', 'en_merit', 'it_melilla', 'en_voiceless', 'it_ashton', 'it_lasa', 'en_science', 'en_measures', 'en_counties', 'en_measured', 'en_provisions', 'en_multics', 'it_parodia', 'it_tipicamente', 'it_opacit\\xc3\\xa0', 'it_miglioramento', 'en_dodona', 'it_miglioramenti', 'en_adherents', 'it_completamento', 'it_completamente', 'it_condizione', 'it_edgar', 'it_condizioni', 'it_curiosit\\xc3\\xa0', 'it_trasferimento', 'it_trasferimenti', 'en_doric', 'en_fruitful', 'it_imitazioni', 'it_elba', 'it_cesare', 'it_fuochi', 'en_gustavo', 'en_glyph', 'it_space', 'en_salut', 'en_priorities', 'it_mar', 'en_dominican', 'it_matrix', 'it_divina', 'it_slackware', 'it_max', 'en_dance', 'it_cateau', 'it_mao', 'it_mal', 'it_vienna', 'it_mai', 'en_fuels', 'it_carbon', 'it_veneziana', 'en_spoken', 'it_veneziani', 'it_godzilla', 'it_bigorre', 'en_renders', 'en_griffith', 'en_false', 'it_rally', 'it_audio', 'en_posing', 'en_eunice', 'it_polacca', 'it_polacco', 'it_ugonotti', 'it_godimento', 'it_spalle', 'en_editing', 'it_spalla', 'en_amygdala', 'it_vistola', 'it_jah', 'en_data', 'it_jam', 'en_date', 'en_warrior', 'en_experimentally', 'en_gennady', 'en_nutrient', 'en_reasoning', 'en_tilted', 'en_pro', 'en_whig', 'it_rangers', 'it_pista', 'it_stabilizzazione', 'it_arena', 'en_hazard', 'en_earl', 'en_railroad', 'it_pirenei', 'it_indebitati', 'en_ring', 'en_pottery', 'en_bet', 'en_knowledge', 'en_commonwealth', 'it_civico', 'it_patriota', 'it_civica', 'en_advent', 'en_fertilised', 'it_riconferma', 'it_trofeo', 'en_lightened', 'it_inserti', 'en_receptors', 'en_fertiliser', 'it_facilit\\xc3\\xa0', 'it_circoli', 'en_debates', 'it_circolo', 'en_ventral', 'en_consciousness', 'it_citt\\xc3\\xa0', 'it_rappresentati', 'en_limit', 'it_rappresentato', 'it_rappresentata', 'it_rappresentate', 'en_palaces', 'en_occultist', 'it_islanda', 'en_creating', 'en_lowry', 'en_optional', 'en_relevance', 'en_jokingly', 'it_turchese', 'en_host', 'en_saudi', 'en_ozone', 'it_dentato', 'en_joe', 'en_fathers', 'en_planted', 'en_thallium', 'it_etnica', 'en_extravaganza', 'en_technologies', 'it_dettagli', 'it_cacciato', 'en_hemingway', 'it_cacciati', 'en_dolores', 'en_speaker', 'en_pronounced', 'en_amc', 'en_doubts', 'it_fatta', 'it_mike', 'en_insolation', 'en_monitoring', 'en_fishermen', 'en_classifications', 'en_sowing', 'en_qualified', 'it_alvaro', 'en_sent', 'it_land', 'it_lane', 'it_classificare', 'it_lana', 'it_gonz\\xc3\\xa1lez', 'en_cleanliness', 'en_send', 'en_describes', 'it_concezione', 'it_liston', 'it_smalto', 'en_described', 'it_regola', 'en_stabbed', 'en_black', 'en_stray', 'it_match', 'en_sextant', 'en_preservative', 'en_robert', 'it_beast', 'en_forgiveness', 'en_weeks', 'it_commutativo', 'en_submarine', 'en_arab', 'en_georgian', 'en_confederates', 'en_southeast', 'en_imitation', 'it_ristretto', 'en_taxon', 'en_detectable', 'it_american', 'en_names', 'en_numeric', 'en_cypriot', 'it_combattere', 'en_ecoregion', 'en_assert', 'it_autori', 'en_emphasises', 'it_autore', 'it_trasportato', 'it_civilt\\xc3\\xa0', 'it_francesco', 'it_trasportata', 'en_rushmore', 'en_cia', 'it_vinci', 'en_scripts', 'en_emotions', 'it_attrezzato', 'en_alumni', 'en_guenter', 'en_comment', 'en_candida', 'it_filippo', 'it_filippi', 'en_pancreas', 'it_costituente', 'en_vomit', 'en_germanic', 'en_correctly', 'en_foster', 'en_subjectivism', 'it_edicole', 'it_squilibrata', 'en_monitor', 'it_riscaldato', 'en_melodramatic', 'it_esistono', 'it_querce', 'en_abortion', 'en_subject', 'it_barbarossa', 'en_pot', 'en_pop', 'en_nazism', 'it_vago', 'en_loss', 'en_lighters', 'en_predicts', 'en_cabin', 'en_lose', 'it_rari', 'en_agrees', 'it_raro', 'it_rara', 'it_pacifici', 'it_parsimonia', 'it_rare', 'en_evolutionary', 'en_behavior', 'en_ethyl', 'it_prestigioso', 'it_prestigiosi', 'en_donor', 'it_prestigiosa', 'it_cambiando', 'it_leadership', 'en_breed', 'it_nikolaevi\\xc4\\x8d', 'it_diviene', 'en_mutual', 'en_polis', 'it_ignora', 'en_pinkerton', 'it_ignori', 'it_speciali', 'it_lima', 'en_eagle', 'it_frazioni', 'en_sequential', 'it_frazione', 'it_attracco', 'en_nickel', 'en_practiced', 'it_argento', 'en_revived', 'en_subdivisions', 'it_singolare', 'en_practices', 'en_keyboards', 'it_singolari', 'en_lifting', 'en_poetic', 'en_suffocated', 'en_orbit', 'en_emperor', 'it_android', 'en_reviewers', 'en_competent', 'en_trust', 'en_educators', 'en_phenix', 'en_pressure', 'en_mosques', 'it_affluente', 'en_adjective', 'it_affluenti', 'en_ascomycota', 'en_invested', 'en_defy', 'en_attachments', 'en_bakunin', 'it_manovra', 'it_manovre', 'en_waves', 'en_hyperactivity', 'it_familiare', 'it_possedere', 'en_permanent', 'en_excessive', 'en_abjad', 'en_arkady', 'en_object', 'it_dottorato', 'it_cipolla', 'it_bari', 'it_cita', 'en_diaspora', 'en_applying', 'en_healy', 'it_esigenze', 'en_stanford', 'it_discorsi', 'it_venerd\\xc3\\xac', 'it_fraschini', 'it_est', 'it_discorso', 'en_completion', 'it_palla', 'it_tirana', 'en_bacillus', 'it_polydor', 'en_ovation', 'en_seemingly', 'en_rabia', 'it_miracoli', 'it_miracolo', 'it_patologia', 'it_tokusatsu', 'en_kenny', 'it_effetti', 'en_cyanobacteria', 'en_emissions', 'it_coron', 'it_strategia', 'it_strategie', 'en_clumsy', 'en_hilal', 'en_potentialities', 'it_deodorante', 'it_weimar', 'en_telephone', 'en_dangerous', 'it_filantropo', 'en_completely', 'it_continuamente', 'it_successi', 'it_successo', 'it_eppure', 'en_session', 'en_damage', 'en_instructions', 'en_quietly', 'it_napoleonico', 'it_prospera', 'en_immoral', 'en_test', 'it_relativamente', 'en_archangel', 'en_prevention', 'en_pattern', 'it_splendido', 'it_prestato', 'it_indipendentemente', 'en_carpet', 'en_cytoplasmic', 'it_tiene', 'it_intraprese', 'it_studente', 'en_substitute', 'it_studenti', 'it_diventano', 'it_divisi\\xc3\\xb3n', 'en_unjustly', 'it_petrella', 'it_picco', 'it_quarantena', 'it_citazioni', 'en_crowned', 'en_set', 'en_seu', 'en_sex', 'en_see', 'en_sea', 'en_sen', 'en_sem', 'en_onset', 'it_forestali', 'it_stalking', 'it_calci', 'en_characterized', 'it_damiani', 'it_deforme', 'it_damiano', 'en_anka', 'en_intent', 'it_poi', 'en_carbon', 'en_associations', 'it_potenti', 'en_diaries', 'it_giallastro', 'it_ottenere', 'it_mca', 'en_trumpet', 'en_murdered', 'en_godless', 'en_vests', 'en_douglass', 'it_trapani', 'it_soffocato', 'en_administration', 'it_fermioni', 'en_matching', 'it_esposti', 'it_esposto', 'it_esposta', 'it_esposte', 'it_lavorato', 'en_implanted', 'en_nichols', 'it_mantenendo', 'en_sprout', 'it_pressioni', 'en_weekends', 'en_ottomans', 'it_letterario', 'en_elvis', 'en_chondrite', 'it_attivismo', 'en_pronoun', 'it_letteraria', 'en_verne', 'it_intervistato', 'en_sorted', 'it_fulmine', 'en_sidney', 'it_riduce', 'en_sprayed', 'it_canne', 'en_hannibal', 'it_canna', 'it_esporre', 'en_cleaned', 'it_terraferma', 'en_obliged', 'en_brackets', 'it_usando', 'en_abandon', 'en_preview', 'it_lobi', 'it_frassino', 'en_although', 'it_doran', 'en_espn', 'it_divertimento', 'en_katyn', 'it_temps', 'it_tempo', 'it_tempi', 'it_intitolato', 'en_birmingham', 'it_configurare', 'en_tracer', 'en_traces', 'en_hobby', 'en_peseta', 'en_fourteenth', 'en_synonym', 'en_communicator', 'it_salute', 'it_depresso', 'it_rieletto', 'it_prossime', 'en_defeatist', 'it_bizzarre', 'it_videografia', 'it_bizzarra', 'en_immemorial', 'it_bizzarro', 'en_gratification', 'en_condensation', 'it_sommers', 'en_computers', 'en_atoll', 'en_generosity', 'it_altezza', 'en_manageable', 'en_small', 'en_playoff', 'it_duplicazione', 'en_conceptions', 'it_bunker', 'it_rimpatrio', 'it_decorativi', 'it_annali', 'en_exit', 'en_sail', 'it_aron', 'it_austria', 'en_said', 'it_mois\\xc3\\xa9s', 'it_torneo', 'it_tornei', 'en_inclusion', 'en_germ', 'en_peremptory', 'en_oxford', 'it_esatta', 'en_expelled', 'en_tourist', 'en_tourism', 'en_yugoslavia', 'en_manifesto', 'en_diluted', 'it_fondamentali', 'it_raffaele', 'it_marcatore', 'it_wellington', 'it_dreams', 'en_awakened', 'en_manifests', 'it_patrizi', 'it_insegnante', 'en_north', 'en_prediction', 'it_decisioni', 'it_shingo', 'en_commuter', 'en_erroneous', 'it_millo', 'it_mille', 'en_gerald', 'it_recitativi', 'en_polk', 'en_poll', 'en_pole', 'it_scelto', 'en_frequent', 'en_nuclear', 'it_significative', 'it_significativa', 'it_significativo', 'en_delicate', 'it_significativi', 'it_malaria', 'en_indianapolis', 'en_ingmar', 'it_account', 'en_cumulative', 'en_fipresci', 'it_babar', 'it_prato', 'it_prati', 'en_kook', 'en_belvedere', 'it_g\\xc3\\xa9rard', 'it_tornado', 'it_gorizia', 'en_todd', 'it_pratt', 'it_suono', 'it_attilio', 'en_vigour', 'it_suona', 'en_praised', 'en_observations', 'it_autonomo', 'it_jersey', 'en_idolatry', 'en_disgusted', 'it_secondarie', 'en_often', 'it_secondario', 'en_sands', 'it_aeroflot', 'it_liberio', 'it_ampiezza', 'en_hanging', 'en_august', 'it_rodano', 'en_abroad', 'en_hephaestus', 'it_calcolate', 'it_consistono', 'en_subtype', 'en_honey', 'it_ground', 'en_solidarity', 'en_quaker', 'en_quakes', 'it_fusione', 'it_sepolto', 'it_sepolti', 'en_lungfish', 'it_sepolta', 'en_subgroups', 'en_ionisation', 'en_zoology', 'en_hear', 'en_heat', 'en_variously', 'it_accumulare', 'en_city', 'en_cite', 'en_head', 'it_atmosfere', 'it_atmosfera', 'en_heal', 'en_protected', 'en_distracted', 'it_longo', 'it_eterogenei', 'it_eterogeneo', 'it_circondata', 'it_eterogenea', 'en_mechanisms', 'en_dolby', 'en_loyalty', 'en_migrated', 'it_messe', 'it_akron', 'en_henning', 'en_suits', 'en_nicomachus', 'en_today', 'it_addominali', 'en_lay', 'en_law', 'en_las', 'en_lao', 'en_marginalized', 'en_solidity', 'en_improperly', 'en_surface', 'en_integrate', 'en_abilities', 'en_andrej', 'en_avid', 'en_technology', 'en_hausa', 'en_stranding', 'en_andrea', 'it_podi', 'en_men', 'en_congregationalist', 'it_aggiorna', 'en_met', 'en_paper', 'it_ismaele', 'it_hellboy', 'it_compressioni', 'it_compressione', 'it_osservare', 'it_conduttura', 'en_bloody', 'it_modeste', 'it_crioconservazione', 'it_rinascimentale', 'it_predominano', 'it_pero', 'it_pers', 'en_smallpox', 'en_originally', 'en_andres', 'en_bicarbonate', 'it_godersi', 'en_obstruction', 'en_unintelligible', 'it_capitali', 'en_tournament', 'en_biologically', 'en_exploits', 'en_decline', 'en_luan', 'en_mostly', 'it_analogo', 'it_analoga', 'it_spoleto', 'it_pianeti', 'en_legumes', 'en_there', 'en_perpetuating', 'en_antidepressant', 'it_terrario', 'it_mantello', 'en_nemo', 'en_gettysburg', 'it_giusto', 'it_mignola', 'it_giusti', 'en_kabyle', 'en_dna', 'en_simon', 'en_generic', 'en_retired', 'en_showers', 'en_conventional', 'it_noleggio', 'en_r\\xc4\\x83zvan', 'en_appointments', 'en_string', 'en_yacine', 'en_bassett', 'en_terror', 'en_sings', 'en_alternation', 'en_nations', 'it_watson', 'en_levels', 'it_sparatoria', 'en_northeast', 'en_singh', 'it_giuseppe', 'en_price', 'it_coltivazione', 'it_coltivazioni', 'it_parenti', 'en_remarkably', 'it_parente', 'en_daughter', 'it_critiche', 'it_collasso', 'it_mama', 'en_ziri', 'en_environmentalism', 'it_naypyidaw', 'en_beginning', 'en_carthage', 'en_endured', 'en_belief', 'en_accusing', 'it_abbandono', 'en_layer', 'en_sarcophagus', 'en_consulted', 'en_seeger', 'en_accidental', 'it_minimo', 'it_minimi', 'en_recognised', 'en_twelve', 'en_condemned', 'it_minima', 'it_aiutato', 'en_dying', 'en_constituent', 'en_embedded', 'it_negazione', 'en_mystics', 'it_regatas', 'en_martha', 'en_bones', 'en_troops', 'en_rage', 'en_pigments', 'it_witt', 'en_explorers', 'en_attitude', 'en_subcontinent', 'en_persian', 'it_silkeborg', 'en_fates', 'it_cinquanta', 'en_unifying', 'en_prestige', 'it_bernini', 'en_brains', 'en_abbreviation', 'en_how', 'en_hot', 'en_reserved', 'en_many', 'en_calleri', 'en_hoe', 'it_veloci', 'en_morse', 'en_reserves', 'it_bocche', 'en_streaming', 'it_manicomio', 'it_bocchi', 'it_spettrale', 'en_clement', 'en_indicate', 'it_pollini', 'it_viva', 'it_vive', 'it_vivi', 'en_patterns', 'it_vivo', 'it_prefisso', 'en_revolutionaries', 'it_intelligence', 'en_rust', 'en_motel', 'it_amazzonia', 'en_snapped', 'en_gladly', 'en_offutt', 'en_apollonia', 'it_neuro', 'en_remembers', 'it_niccol\\xc3\\xb2', 'it_vogon', 'it_localizzazione', 'en_greece', 'it_hurst', 'it_criogenia', 'en_maine', 'en_filmed', 'it_erroneamente', 'en_triggers', 'en_inhospitable', 'en_boreal', 'en_augustine', 'en_realign', 'it_borghese', 'en_without', 'it_lussemburgo', 'en_dse', 'it_nathan', 'it_conferme', 'it_tricia', 'it_spugna', 'it_computer', 'it_falegname', 'en_looking', 'it_serate', 'en_daniels', 'en_abelard', 'en_powerless', 'it_procedure', 'it_busto', 'it_procedura', 'en_border', 'en_cuisine', 'it_mirati', 'en_hunger', 'it_predominante', 'en_atlas', 'it_interagisce', 'en_feet', 'en_thousand', 'en_tornadoes', 'en_permitted', 'it_dilettanti', 'it_dilettante', 'it_gatto', 'it_rock', 'en_target', 'en_adam', 'it_mara', 'it_marc', 'it_mare', 'it_mari', 'it_mark', 'en_boulevard', 'en_retailers', 'it_negativo', 'it_negativi', 'it_collabora', 'it_mary', 'it_marx', 'it_negativa', 'en_reintroduction', 'en_neighborhood', 'it_voci', 'it_voce', 'en_tycho', 'it_manifestato', 'en_readmission', 'en_carrara', 'en_philosophorum', 'it_basilica', 'en_fool', 'en_journals', 'en_food', 'en_dissolves', 'it_raddoppia', 'en_mobilize', 'it_nikita', 'en_foot', 'it_cha', 'it_distaccamento', 'en_rosicrucians', 'it_chi', 'en_refutations', 'it_costringere', 'en_boethius', 'en_isac', 'en_downs', 'en_donations', 'en_stadiums', 'it_intatta', 'en_nasa', 'it_atlanta', 'it_granchi', 'it_oggetto', 'it_oggetti', 'en_repressive', 'en_praise', 'it_portineria', 'it_boezio', 'en_lamar', 'en_mistakes', 'en_bearing', 'en_large', 'it_uragani', 'en_conservation', 'en_pupils', 'it_esaurimento', 'it_viali', 'it_viale', 'en_bell', 'en_soyuz', 'it_contatti', 'it_contatto', 'en_dispute', 'en_grover', 'en_reconfigured', 'en_cranmer', 'en_organisation', 'en_steel', 'en_inorganic', 'en_permutation', 'en_respondents', 'it_aspirazione', 'it_taxon', 'it_alboino', 'it_confronta', 'it_comunicatori', 'en_marina', 'en_unusually', 'it_confronto', 'en_payout', 'en_enqvist', 'it_assenti', 'it_assente', 'it_costiera', 'en_missouri', 'it_costiero', 'en_ire', 'it_orientale', 'en_bfs', 'en_optical', 'it_orientali', 'en_hindered', 'it_proteggere', 'en_potato', 'it_doge', 'en_lacking', 'it_kramnik', 'it_dogi', 'it_laurent', 'it_chiralit\\xc3\\xa0', 'en_landing', 'en_cosmology', 'it_legittimit\\xc3\\xa0', 'en_intense', 'en_eastern', 'en_have', 'en_palin', 'en_supermarket', 'en_contemporains', 'en_routes', 'it_polmonite', 'en_routed', 'en_supernovae', 'en_shields', 'en_monceau', 'en_cryptic', 'it_ojos', 'it_aristocratica', 'en_andorra', 'it_concolor', 'en_cultivate', 'it_aristocratico', 'it_buchi', 'it_united', 'en_tariffs', 'it_buche', 'it_canile', 'en_involves', 'en_loi', 'en_mouths', 'en_goldstone', 'it_seidl', 'it_professioni', 'en_germs', 'en_spots', 'it_jane', 'it_scaduta', 'it_sottosuolo', 'it_scaduti', 'it_scaduto', 'it_austriaca', 'en_swimmers', 'it_camion', 'en_reduces', 'it_austriaco', 'it_viviani', 'en_reduced', 'it_dragoni', 'it_moscone', 'it_resina', 'en_interracial', 'en_laura', 'it_ellefson', 'en_slowly', 'en_filming', 'en_defense', 'en_brace', 'en_eight', 'it_min', 'it_mio', 'en_industry', 'en_s\\xc3\\xa9tif', 'it_mia', 'it_cuba', 'it_sterminio', 'it_mit', 'en_paleoanthropology', 'it_cubo', 'en_subsequently', 'it_ferma', 'it_stabilimenti', 'it_negligenza', 'it_prerogative', 'it_stabilimento', 'it_schleswig', 'en_experiential', 'en_excreted', 'it_gillespie', 'it_tequila', 'en_james', 'it_interno', 'it_interni', 'en_decisive', 'it_adam', 'en_aristotelian', 'it_accompagnata', 'it_reebok', 'en_creative', 'en_perceive', 'it_accompagnato', 'it_dipendente', 'en_prophesied', 'en_operational', 'en_undefeated', 'it_dipendenti', 'en_ocean', 'en_genitive', 'en_visible', 'it_jim', 'en_increasing', 'it_raffreddamento', 'en_delayed', 'en_spider', 'en_master', 'en_eloquent', 'en_dramas', 'it_obbligazione', 'en_equal', 'en_telnet', 'it_obbligazioni', 'it_jennifer', 'en_gimenez', 'en_unionist', 'it_allungato', 'en_accused', 'it_allungata', 'en_travel', 'it_destinatario', 'en_aes', 'en_homage', 'it_fegato', 'en_pham', 'it_moderatamente', 'en_contrast', 'en_evocative', 'en_cheeks', 'it_rafforzata', 'it_ritiro', 'en_contributed', 'it_percepita', 'en_nigeria', 'en_also', 'en_asme', 'en_contributes', 'en_recognize', 'en_mutations', 'it_deputata', 'it_incoronato', 'en_puppets', 'it_libertas', 'en_highlighted', 'it_iscritto', 'it_iscritti', 'en_cultural', 'en_dutch', 'it_maldive', 'it_rivincita', 'it_iscritta', 'it_cristallino', 'it_nostro', 'it_nostra', 'it_records', 'it_cristallina', 'en_tails', 'it_viene', 'it_politecnico', 'it_s\\xc3\\xa3o', 'en_nothing', 'en_first', 'en_blake', 'en_stimulant', 'en_deviations', 'en_silly', 'it_unificata', 'it_altopiano', 'en_calculating', 'it_come', 'it_como', 'it_conteggio', 'en_transformations', 'en_bonnot', 'it_nuova', 'it_nuove', 'en_paris', 'it_nuovi', 'it_nuovo', 'en_dermis', 'en_punch', 'en_encyclopedia', 'en_nieminen', 'it_fattorie', 'it_thomson', 'it_interessata', 'it_inventa', 'it_interessati', 'it_vit\\xc3\\xb3ria', 'it_interessato', 'it_angoli', 'en_favorite', 'it_angolo', 'it_angola', 'en_placed', 'en_foods', 'en_emergencies', 'it_confiscare', 'en_berliner', 'it_antipodi', 'en_performs', 'en_places', 'it_temporanea', 'it_astronomia', 'en_open', 'en_offense', 'it_interpretato', 'it_interpretata', 'en_won', 'it_mattonelle', 'en_opened', 'it_cliff', 'en_serving', 'it_concludere', 'en_bees', 'en_arithmetic', 'en_migrations', 'en_unpopular', 'en_perfidy', 'it_astronave', 'en_prayers', 'en_a\\xc3\\xaen\\xc3\\xa9', 'it_cedente', 'it_astronavi', 'en_sealed', 'en_method', 'en_forwarded', 'it_abitudini', 'en_solvent', 'en_aristaeus', 'it_terminal', 'en_preponderance', 'it_scavato', 'it_oltre', 'it_tibia', 'en_extraction', 'en_seeker', 'it_danilo', 'it_pagano', 'it_pagani', 'en_ethan', 'it_battaglie', 'en_snow', 'en_dragged', 'it_battaglia', 'it_medina', 'en_markup', 'it_ospedale', 'it_jenny', 'en_pulses', 'en_mantua', 'en_minnesota', 'en_islam', 'en_shrek', 'en_donkeys', 'it_nasce', 'it_diamante', 'en_agreement', 'en_indication', 'en_polar', 'en_duplicating', 'it_facebook', 'it_diffusione', 'it_sebo', 'it_distingue', 'en_electricity', 'it_design', 'en_audiovisual', 'en_schirmer', 'it_fortuna', 'it_curiosi', 'en_warren', 'it_curiosa', 'it_avvicinamento', 'it_tyrone', 'it_decodifica', 'en_quas', 'en_longitudes', 'en_cousins', 'en_vibrations', 'it_pavimentazione', 'it_disponibile', 'it_disponibili', 'it_certificazione', 'en_prophet', 'it_verificare', 'en_redefining', 'it_general', 'en_archipelago', 'en_boiled', 'it_indicare', 'it_schiavi', 'en_rarely', 'it_zoff', 'it_inserita', 'it_inserito', 'it_inseriti', 'it_dimesso', 'en_surrey', 'en_warsaw', 'en_element', 'en_assist', 'it_flagellazione', 'en_bitmap', 'en_stress', 'en_reinforce', 'en_diverting', 'en_ketone', 'en_settings', 'en_shape', 'en_amsterdam', 'en_girls', 'en_dragging', 'en_manipulate', 'en_greed', 'en_greek', 'en_green', 'it_noce', 'it_composta', 'it_trattenuta', 'it_composte', 'it_statistiche', 'en_reach', 'it_fortezze', 'en_react', 'it_fortezza', 'it_restituita', 'it_elaborazione', 'en_sleeve', 'it_rimase', 'it_adolescenza', 'en_contemporary', 'en_biologists', 'it_bentegodi', 'it_jimi', 'en_gaining', 'it_core', 'it_coro', 'it_organizza', 'it_prep', 'it_cividale', 'en_planetarium', 'en_fremont', 'en_canterbury', 'en_residents', 'it_trasmessi', 'it_baptiste', 'en_bathing', 'it_trasmessa', 'en_accusations', 'en_recognizing', 'en_divides', 'en_anatoli', 'en_divided', 'en_anatoly', 'en_lunar', 'en_imaging', 'en_herodotus', 'en_phonemes', 'en_morally', 'en_ceramics', 'en_hydrocarbon', 'en_visits', 'en_berlin', 'en_unchallenged', 'en_eliphas', 'it_contengono', 'en_divorced', 'it_baciando', 'en_grease', 'it_spettro', 'it_original', 'en_jolly', 'it_cora\\xc3\\xa7\\xc3\\xa3o', 'en_formality', 'it_mariella', 'en_bringing', 'it_corruzione', 'it_crash', 'en_archaeological', 'it_uscita', 'it_salti', 'it_mohammad', 'it_uscite', 'it_uscito', 'en_divergent', 'it_reynolds', 'it_supera', 'en_elite', 'it_sostanzialmente', 'it_villaggio', 'en_erika', 'it_teaser', 'en_coexisting', 'it_fujita', 'en_konstantin', 'it_carrera', 'en_glowing', 'en_goliath', 'en_shepherds', 'en_terrestrial', 'it_vincolo', 'it_vincoli', 'en_cartoonist', 'en_inspire', 'en_helios', 'it_tetti', 'en_photons', 'en_emitter', 'it_tetto', 'en_sparks', 'it_gora', 'en_emitted', 'it_gori', 'it_genetista', 'it_requisiti', 'it_arbitro', 'it_arbitri', 'en_sirius', 'en_burns', 'en_burnt', 'it_resistere', 'it_musei', 'en_viktor', 'it_museo', 'en_mining', 'en_monday', 'it_irc', 'it_ira', 'it_anti', 'it_liquidit\\xc3\\xa0', 'it_spediti', 'it_spedito', 'it_ante', 'en_istanbul', 'en_unacceptable', 'it_kenneth', 'en_canaanite', 'en_europeans', 'en_smt', 'en_willingly', 'en_superclass', 'it_innescare', 'en_trunk', 'en_eternal', 'en_picnic', 'it_tecnica', 'it_nascite', 'it_nascita', 'it_precursori', 'en_convincing', 'it_autunnale', 'it_ascende', 'it_tel', 'it_tek', 'it_relazione', 'it_berlese', 'it_relazioni', 'it_tee', 'it_proletaria', 'it_bugiardo', 'it_tev', 'it_ingressi', 'en_cicero', 'it_hinton', 'it_necessit\\xc3\\xa0', 'it_nascoste', 'it_nascosta', 'en_tertullian', 'en_constitution', 'it_nascosti', 'it_mantiene', 'it_gillen', 'it_leopoldo', 'it_durrani', 'it_fuggitivo', 'en_mosaic', 'en_destroy', 'en_push', 'en_preparations', 'it_bolivia', 'it_leida', 'en_kept', 'it_frascati', 'it_editori', 'it_complotto', 'it_editore', 'en_macintyre', 'it_karl', 'en_resonance', 'en_selection', 'en_peru', 'en_substituents', 'it_risentimenti', 'en_pers', 'en_peri', 'it_labute', 'it_jorn', 'en_halite', 'en_photographer', 'en_photographed', 'en_injection', 'it_evitando', 'en_academic', 'en_turn', 'it_profesional', 'it_minaccia', 'en_scientists', 'en_nobility', 'it_v\\xc3\\xa4sby', 'en_funding', 'it_sciami', 'it_marti', 'it_ducati', 'it_ducato', 'en_investigations', 'it_bottom', 'en_intimacy', 'it_picture', 'it_tutte', 'it_tutti', 'it_tutto', 'en_cocoa', 'en_marlon', 'en_yard', 'it_funzione', 'it_rovescio', 'en_skill', 'it_dannosi', 'en_entry', 'it_fiumi', 'en_paths', 'en_koll\\xc3\\xa1r', 'it_sasanide', 'it_tiziano', 'it_istantanee', 'it_hiroshima', 'it_intenzione', 'en_thick', 'en_cosmetic', 'it_intenzioni', 'it_progressivo', 'en_charismatic', 'it_progressive', 'en_concerns', 'en_packet', 'en_roark', 'en_rosecrans', 'it_pompei', 'it_islandese', 'en_different', 'en_fractional', 'en_burden', 'it_velo', 'it_clausola', 'it_eliminati', 'en_fang', 'it_eliminata', 'it_vela', 'it_fisso', 'it_pasta', 'it_fissa', 'en_lance', 'en_juxtaposition', 'it_cannonball', 'en_comparison', 'en_reactivated', 'en_variations', 'en_fortification', 'it_bernina', 'it_quatre', 'en_deadly', 'en_phoneme', 'en_robust', 'en_script', 'en_dog', 'en_pharmacological', 'en_naturae', 'it_elementare', 'en_insisting', 'it_elementari', 'en_natural', 'it_idioti', 'en_habitual', 'it_passatempi', 'en_horace', 'it_regolarmente', 'en_predators', 'it_giri', 'it_giro', 'it_gross', 'it_girl', 'en_messenger', 'en_lye', 'en_koh', 'it_femmina', 'it_femmine', 'en_stanton', 'en_beetle', 'it_band', 'it_esiliato', 'it_sonetto', 'it_bulgaria', 'it_roccioso', 'en_contemplation', 'en_chewing', 'en_secular', 'it_pola', 'it_polo', 'it_finalmente', 'en_recognizable', 'it_fonderia', 'en_idea', 'it_sal\\xc3\\xb2', 'it_british', 'en_allocated', 'en_urbanization', 'it_impressionismo', 'it_telai', 'en_counts', 'it_cocci', 'it_michelangelo', 'it_esibirsi', 'en_courtship', 'it_sotterranei', 'en_pangaea', 'en_advantages', 'it_warwick', 'en_belgian', 'it_regierungsbezirk', 'en_wolff', 'en_heir', 'it_sedute', 'it_seduta', 'en_zones', 'en_affectionately', 'en_vertebrae', 'en_vertebral', 'it_dolly', 'en_bacterium', 'en_females', 'en_monographs', 'it_prof', 'en_lenses', 'it_prefazione', 'en_affected', 'en_chris', 'it_quarzite', 'en_degradation', 'en_shepard', 'en_southwestern', 'en_harvard', 'it_alpe', 'it_alpi', 'en_aquatic', 'en_confiscation', 'it_visto', 'it_visti', 'it_equiparate', 'it_vista', 'en_general', 'en_segregation', 'en_nereus', 'it_elencati', 'en_deficit', 'it_adesso', 'it_isaksson', 'it_trani', 'it_russia', 'it_hans', 'en_occupied', 'en_thoth', 'en_protons', 'it_ricordare', 'en_occupies', 'it_hand', 'en_competed', 'it_metodi', 'it_metodo', 'en_immunity', 'en_peart', 'en_exacerbate', 'it_charlie', 'it_visita', 'en_pearl', 'en_malay', 'it_artigiani', 'en_providence', 'en_frenzy', 'it_governare', 'it_praga', 'en_wells', 'it_superbo', 'en_disturbing', 'en_serbian', 'it_corridore', 'en_control', 'it_victor', 'it_emigrati', 'en_trilogy', 'en_useless', 'en_related', 'en_ivanova', 'it_ricchezze', 'it_ricchezza', 'en_ivanovo', 'en_introductory', 'it_vidal', 'en_improving', 'it_maggiore', 'en_avoid', 'en_cafeteria', 'en_soldier', 'it_tevere', 'it_suffisso', 'en_mag\\xc3\\xb3n', 'en_nordic', 'en_rainfall', 'en_herman', 'en_predator', 'it_fabrizio', 'it_pieter', 'it_climax', 'en_cinema', 'en_charcoal', 'it_savoia', 'en_samaritan', 'it_delegato', 'it_trama', 'en_central', 'en_internet', 'it_slovena', 'it_uccise', 'it_harvey', 'it_temistocle', 'it_ajax', 'it_ucciso', 'it_dialogo', 'it_zeta', 'it_tupelo', 'en_kirk', 'it_speculum', 'it_dominata', 'en_restore', 'it_wild', 'en_zenith', 'en_stocking', 'it_sagrestia', 'it_legno', 'en_geertz', 'en_empires', 'it_letteratura', 'it_kamen', 'en_generalization', 'en_risen', 'en_rises', 'en_mentioned', 'en_cameras', 'it_nutre', 'en_mixing', 'en_blended', 'en_synchronous', 'it_pecci', 'en_minnelli', 'en_glottal', 'it_ast', 'en_reunification', 'en_diva', 'en_bias', 'it_mandan', 'it_pasqua', 'en_operator', 'it_consenso', 'it_consensi', 'it_berkeley', 'en_therapy', 'it_seme', 'en_fern', 'it_rasta', 'en_austria', 'en_crossroads', 'it_vino', 'en_lovers', 'en_halogen', 'en_interchange', 'it_hua', 'en_modified', 'it_contributo', 'en_intelligentsia', 'it_contributi', 'it_adriano', 'it_potenzialit\\xc3\\xa0', 'it_sorge', 'en_cave', 'it_sillaba', 'it_apollo', 'en_monolith', 'it_chicago', 'en_emerald', 'en_flour', 'en_pursue', 'it_intercettato', 'en_chef', 'en_purpose', 'en_chew', 'it_legion', 'it_tolstoj', 'it_quattrocento', 'en_ducts', 'it_terapia', 'it_terapie', 'en_talk', 'en_criticised', 'en_cope', 'it_para', 'en_compensation', 'en_tale', 'en_sulfuric', 'en_copy', 'it_incroci', 'en_illicit', 'en_milan', 'it_getto', 'it_promontori', 'en_constants', 'it_erudizione', 'it_filati', 'it_pari', 'it_espresse', 'it_espressa', 'it_espresso', 'it_espressi', 'en_latent', 'en_taught', 'it_recite', 'en_education', 'en_logarithmic', 'it_sterminato', 'en_assault', 'it_sterminati', 'it_intervento', 'en_legislators', 'it_interventi', 'en_polish', 'it_lupo', 'en_ignored', 'it_jacquard', 'it_motte', 'en_isaac', 'it_motto', 'it_possibilmente', 'it_violante', 'en_elector', 'en_tickets', 'it_torino', 'en_premier', 'it_gianluca', 'en_lonely', 'it_br\\xc3\\xbccke', 'it_regolatore', 'en_neoptolemus', 'en_shows', 'it_continuato', 'it_sacerdotale', 'en_nominal', 'en_shown', 'it_referendum', 'en_yosemite', 'it_viterbo', 'en_godalming', 'it_prigione', 'it_schema', 'en_newsreels', 'it_schemi', 'en_true', 'en_mountain', 'en_fortunately', 'en_rare', 'en_costco', 'en_glaciers', 'it_arquette', 'it_ammiragli', 'it_appartengono', 'en_brute', 'it_promette', 'en_excitement', 'en_disappears', 'it_intimo', 'en_trombone', 'en_monoxide', 'it_consumare', 'en_range', 'en_spain', 'it_team', 'en_compassion', 'en_elixir', 'en_talents', 'it_violoncello', 'en_symmetrical', 'en_electric', 'it_emancipazione', 'en_alaskans', 'it_sidney', 'it_senior', 'en_displays', 'it_cassani', 'it_ricordi', 'it_ricorda', 'en_jury', 'en_stems', 'en_automobile', 'en_sausage', 'en_plurality', 'it_convenzionalmente', 'it_sifilide', 'it_orfani', 'en_civilians', 'it_anderssen', 'it_percepisce', 'it_rosario', 'en_astronomy', 'it_restyling', 'en_diversified', 'en_powerpoint', 'en_recycling', 'it_magneti', 'en_investigation', 'en_trophy', 'en_inconsistent', 'en_amazonian', 'en_parliamentary', 'en_ceiling', 'en_bitterness', 'it_orientata', 'en_may', 'it_oleg', 'it_genitori', 'en_deteriorated', 'en_flammable', 'en_sales', 'it_esuli', 'en_hans', 'it_staff', 'en_determines', 'it_presidenza', 'en_persecuted', 'en_determined', 'en_salem', 'en_herpetologist', 'en_hank', 'it_scampi', 'it_libri', 'en_tobago', 'en_hasselblad', 'it_legazione', 'en_selma', 'en_periodical', 'it_devil', 'en_folded', 'en_breeders', 'it_cocktail', 'en_prevail', 'en_musically', 'en_tad', 'en_tai', 'it_grandezza', 'it_archi', 'en_tau', 'en_tar', 'en_taoism', 'en_tax', 'en_nathan', 'en_shaggy', 'it_materazzi', 'en_copenhagen', 'en_mitigating', 'it_tra', 'it_rovine', 'it_sacramento', 'it_stimolare', 'en_figure', 'en_observe', 'en_hoping', 'it_peron', 'it_qu\\xc3\\xa9bec', 'it_rimasero', 'en_statistically', 'it_inaspettato', 'en_farah', 'it_valeria', 'it_naso', 'en_navigable', 'it_est\\xc3\\xa1dio', 'it_sobria', 'en_order', 'it_nasa', 'it_bondi', 'en_blessing', 'it_pietre', 'en_auspices', 'en_multidisciplinary', 'en_dominant', 'it_follia', 'it_sorpresi', 'it_orion', 'it_sorpresa', 'it_autostoppista', 'it_cava', 'it_cave', 'en_domestication', 'it_stug', 'it_momentaneamente', 'en_seventh', 'it_principessa', 'it_clamorosamente', 'it_diversione', 'en_malnutrition', 'it_fiat', 'en_tungsten', 'en_well', 'en_behavioral', 'en_encoded', 'it_edifici', 'it_provocando', 'it_gordon', 'en_standing', 'en_confident', 'it_davide', 'it_gestione', 'it_svalutazione', 'it_traversata', 'it_catalogo', 'it_sabotato', 'it_duero', 'it_irvine', 'en_jams', 'it_kick', 'en_performed', 'it_resistenti', 'it_guardia', 'it_guardie', 'en_reynolds', 'it_modica', 'it_pantelleria', 'en_loans', 'en_beaufort', 'it_creati', 'it_creato', 'it_creata', 'it_create', 'it_metrico', 'it_metrica', 'it_capitalismo', 'it_behn', 'en_canonical', 'en_generates', 'en_commemorating', 'it_basingstoke', 'it_algoritmo', 'it_separa', 'it_algoritmi', 'en_generated', 'it_saghe', 'en_discontent', 'en_piedmont', 'it_sojuz', 'en_budgets', 'it_alpes', 'it_guyana', 'it_venti', 'en_innovation', 'it_endo', 'it_fondazione', 'it_block', 'it_fondazioni', 'it_rifiutato', 'it_infantile', 'en_maltese', 'en_coverage', 'it_infantili', 'en_sovereignty', 'it_fall', 'it_decano', 'it_ipse', 'en_steve', 'en_delicious', 'en_taxonomy', 'en_yields', 'en_drive', 'en_depravity', 'en_payments', 'en_dystopia', 'en_meyers', 'it_scrive', 'it_scomparso', 'en_bellicose', 'it_scomparsa', 'it_condivisione', 'en_justify', 'en_anarchism', 'en_rebecca', 'en_castalia', 'en_stimulus', 'en_distinctions', 'it_decorato', 'it_decorati', 'en_overlap', 'en_perigee', 'en_rousseau', 'it_kosovo', 'it_fiandre', 'en_accumulation', 'it_trinit\\xc3\\xa0', 'it_cacciatorpediniere', 'it_mayo', 'en_dermal', 'en_contracts', 'en_ambrose', 'en_glide', 'en_engine', 'en_millions', 'it_vecchia', 'it_autentici', 'it_giudicato', 'it_vecchio', 'it_perturbazione', 'it_reticenze', 'it_sparire', 'en_illustration', 'en_klux', 'en_bipartisan', 'it_ostacoli', 'it_pratici', 'it_fazioni', 'en_disappointment', 'en_peaceful', 'en_scanning', 'en_professionals', 'it_rodin', 'it_farnese', 'en_fauna', 'en_group', 'en_starving', 'it_gylfaginning', 'it_wataru', 'en_reassurance', 'en_clary', 'en_excludes', 'en_traveled', 'en_echoes', 'en_excluded', 'en_confederaci\\xc3\\xb3n', 'en_clark', 'it_howe', 'it_giganti', 'en_clara', 'en_traveler', 'en_kung', 'en_hornsby', 'en_scottish', 'en_respected', 'en_lock', 'en_hulls', 'it_pronto', 'en_ries', 'en_drawings', 'it_lascito', 'it_xtc', 'it_motivare', 'it_convocazione', 'it_metalli', 'en_clytemnestra', 'it_metallo', 'en_minute', 'en_hydrogenation', 'en_factories', 'en_triggering', 'it_giulietta', 'it_divisi', 'it_diviso', 'it_divisa', 'it_divise', 'en_npl', 'it_mtv', 'it_giancarlo', 'en_parapsychology', 'en_prospectively', 'en_migration', 'it_coesistere', 'it_bobby', 'it_beneficiato', 'it_oleodotti', 'en_miscellaneous', 'it_tung', 'it_congelare', 'it_formidabili', 'en_algerian', 'en_intruder', 'it_tiepido', 'it_perduti', 'it_cascate', 'it_cascata', 'it_pazienti', 'it_paziente', 'it_filmati', 'it_solidale', 'it_volpe', 'en_colloquially', 'it_volpi', 'it_turati', 'it_densit\\xc3\\xa0', 'en_propeller', 'en_secrete', 'en_exclusive', 'en_testimony', 'en_bastard', 'en_pregnancy', 'en_philosophica', 'it_zona', 'it_zone', 'en_modular', 'en_trails', 'it_klagenfurt', 'en_refugee', 'it_comporre', 'en_plotting', 'en_increase', 'it_natural', 'en_icelandic', 'it_pulitura', 'it_alimentando', 'it_eco', 'it_ecc', 'en_enlil', 'en_secc', 'en_closure', 'en_gall', 'en_confessions', 'en_hyperbolic', 'it_negoziante', 'en_parkway', 'en_acetic', 'en_galt', 'it_scozia', 'it_moldavia', 'it_pandemonium', 'it_clamoroso', 'en_clue', 'it_pensando', 'it_spiaggia', 'en_club', 'it_salina', 'en_gregory', 'it_doppiato', 'it_imbarcazione', 'en_spencer', 'en_decides', 'it_imbarcazioni', 'en_unsuccessful', 'en_demonstrate', 'en_repertoire', 'en_decided', 'en_parc', 'it_lavinia', 'en_reconstructed', 'en_providing', 'en_alkanes', 'it_costituzionale', 'en_continental', 'en_layouts', 'it_granger', 'en_testing', 'it_contestazione', 'it_ritorno', 'it_contestazioni', 'it_ritorna', 'it_sottile', 'en_dimension', 'it_gottinga', 'en_semicircle', 'it_sottili', 'en_ordinance', 'it_lastre', 'en_charts', 'en_boyle', 'it_clem', 'en_wasilla', 'en_chalice', 'it_scudo', 'it_scudi', 'en_grouped', 'en_explaining', 'it_johan', 'it_colore', 'en_principles', 'it_colori', 'it_greene', 'en_soho', 'en_nixon', 'en_starts', 'en_blunt', 'en_riddles', 'it_volatili', 'en_dramatic', 'en_hockey', 'it_preclude', 'it_assurdo', 'en_sympathizer', 'en_saint', 'en_erich', 'it_permesso', 'it_permessi', 'en_heritage', 'en_knows', 'it_rami', 'it_studio', 'en_baudry', 'it_rama', 'en_known', 'it_studia', 'en_almost', 'en_paradox', 'en_occidental', 'it_esplosione', 'en_slogan', 'en_molten', 'en_recognized', 'it_bancomat', 'it_normalmente', 'en_credibility', 'en_recognizes', 'it_samo', 'it_attrattiva', 'it_partiti', 'en_insecta', 'it_tedeschi', 'it_light', 'it_partito', 'it_partita', 'en_bondarchuk', 'it_feuerbach', 'en_insects', 'it_contratto', 'it_contratti', 'en_batavia', 'it_high', 'it_vilnius', 'it_cucchiaio', 'en_monks', 'it_onde', 'en_ammianus', 'it_onda', 'en_blowing', 'en_dinosaurs', 'en_vegetative', 'en_recycled', 'en_indicated', 'it_oliver', 'it_sospendere', 'en_multimedia', 'it_lord', 'en_hernando', 'it_loro', 'it_rapisce', 'it_restrittive', 'it_tmc', 'it_restrittiva', 'en_jesus', 'it_restrittivo', 'en_odyssey', 'it_riduzione', 'it_nad', 'en_extrapolation', 'en_feature', 'en_ramon', 'it_panico', 'en_sensibility', 'it_angel', 'en_ra\\xc3\\xaf', 'en_ayurveda', 'it_proiezioni', 'it_indispensabile', 'it_sino', 'it_mobilitazione', 'en_capability', 'en_contamination', 'en_ncaa', 'it_emulare', 'it_comunicato', 'it_concentrazione', 'it_thor', 'it_novo', 'en_version', 'it_nove', 'it_nova', 'it_apertamente', 'it_frammenti', 'en_genera', 'en_gdp', 'it_changsha', 'en_twins', 'en_reyes', 'en_exchanges', 'it_isolare', 'en_exchanged', 'en_duties', 'it_protetta', 'it_protette', 'it_protetti', 'en_abolitionist', 'en_finds', 'it_protetto', 'en_abolitionism', 'it_favorevole', 'en_worship', 'it_favorevoli', 'it_finestra', 'en_having', 'it_snorri', 'it_freni', 'it_nidi', 'it_nido', 'en_talons', 'en_dictionary', 'en_corruption', 'en_declining', 'it_desolata', 'en_marcos', 'it_ovidio', 'en_visitor', 'en_conditional', 'it_pozzo', 'en_prevented', 'it_pozzi', 'en_acids', 'it_collegato', 'en_bradley', 'en_detergent', 'en_thieves', 'en_watson', 'en_desertions', 'it_rolling', 'en_johnson', 'it_rollins', 'en_oscillation', 'it_diagnosi', 'en_murkowski', 'en_walt', 'en_walk', 'it_india', 'it_fazzoletto', 'en_furniture', 'en_wall', 'en_fred', 'en_free', 'en_previous', 'en_ethnomusicology', 'en_decapitated', 'en_turtle', 'it_titta', 'it_misurazione', 'it_cipressi', 'it_preparato', 'it_mcclellan', 'it_malato', 'it_cordata', 'it_casto', 'en_camus', 'it_affreschi', 'it_batterie', 'it_batteria', 'en_franchises', 'en_feedback', 'it_sandon', 'it_lancio', 'en_k\\xc3\\xb6ppen', 'en_builder', 'it_lancia', 'it_abraham', 'it_corretto', 'en_secretly', 'en_slowing', 'en_estonian', 'en_soviet', 'en_phases', 'it_indiretti', 'it_indiretta', 'it_indirette', 'en_arachidonic', 'en_conversion', 'it_indonesia', 'it_efficacia', 'en_steering', 'en_stop', 'en_cloned', 'en_joy', 'en_instinct', 'en_phoebus', 'it_scambio', 'it_souleymane', 'en_disappear', 'en_job', 'en_babylonian', 'en_preferable', 'en_spy', 'it_schr\\xc3\\xb6dinger', 'en_prostheses', 'en_spp', 'en_sps', 'en_chapter', 'en_heaven', 'it_spiedo', 'it_rumori', 'en_football', 'en_partisans', 'en_planners', 'en_kgb', 'it_oki', 'it_apparsi', 'it_rinnovata', 'it_apparso', 'en_movie', 'it_rinnovati', 'it_trilioni', 'it_rinnovato', 'it_gianni', 'it_sommergibili', 'it_dire', 'it_astrologi', 'it_vede', 'en_priesthood', 'en_valentina', 'en_duke', 'it_vedi', 'en_cyril', 'it_mezzogiorno', 'it_lavorazioni', 'it_montpellier', 'en_protests', 'it_emissioni', 'it_lavorazione', 'it_trattative', 'it_veronique', 'it_dinastia', 'it_dinastie', 'it_pop', 'it_por', 'en_electronegativity', 'it_poe', 'it_pod', 'it_masashi', 'en_papua', 'en_stereoscopic', 'it_ballare', 'en_challenge', 'en_corrosion', 'it_saluti', 'it_irrigidimento', 'it_saluto', 'en_valdez', 'en_reinforcements', 'en_ancient', 'it_superfluo', 'en_moments', 'en_punk', 'en_basketball', 'it_maschio', 'it_palus', 'en_glandular', 'it_gennaro', 'it_esperienza', 'it_ancoraggio', 'it_esperienze', 'it_gamma', 'it_norvegesi', 'en_numerology', 'en_artifacts', 'it_monegasca', 'it_rotonda', 'en_season', 'en_proteus', 'it_approccio', 'en_finishing', 'en_program', 'it_pasini', 'en_charlie', 'en_stephens', 'it_ascensione', 'it_cosmologia', 'en_carbonyl', 'it_bottino', 'it_vitamina', 'en_targets', 'it_colpito', 'en_alton', 'it_colpita', 'it_colpite', 'it_misero', 'it_juegos', 'it_spina', 'it_rodrigues', 'en_dimethyl', 'it_piccolo', 'en_view', 'en_hymns', 'en_affiliations', 'en_features', 'en_save', 'it_ambra', 'en_caustic', 'en_catch', 'en_liquidity', 'it_cachi', 'en_graeme', 'en_check', 'en_pushing', 'en_innovations', 'en_prejudice', 'en_positioned', 'en_months', 'it_dreamland', 'it_carbone', 'it_project', 'en_acclaimed', 'it_sovrapporre', 'it_piccola', 'it_alleanza', 'en_stimulating', 'en_dating', 'it_alcune', 'en_permaculture', 'it_alcuni', 'en_dorsal', 'it_incertae', 'it_mista', 'en_conservative', 'it_invitato', 'it_monsignor', 'en_parthia', 'it_eroicamente', 'it_traslitterazione', 'en_fluctuating', 'en_nigra', 'en_centaur', 'it_abate', 'en_similarly', 'en_appears', 'it_topalov', 'en_statue', 'en_agitation', 'en_subtitle', 'en_accessibility', 'en_status', 'it_vince', 'en_fever', 'it_dla', 'en_scholar', 'it_sceneggiatore', 'it_bernardino', 'it_sceneggiatori', 'en_mollusk', 'it_simultaneamente', 'en_similar', 'en_crescent', 'it_zellweger', 'it_dottrina', 'en_combatant', 'it_dottrine', 'it_baresi', 'en_boats', 'en_djamel', 'en_mourning', 'en_opec', 'en_forks', 'it_riducendo', 'en_optimum', 'en_wager', 'en_wages', 'en_amorphous', 'it_gigi', 'en_simulation', 'it_bestia', 'it_celebrit\\xc3\\xa0', 'en_helpful', 'en_digging', 'en_congressman', 'en_years', 'it_fest', 'en_patriotic', 'en_phonetic', 'it_pianificazione', 'it_demoscopica', 'it_giochi', 'en_microscope', 'en_formula', 'it_ridotta', 'en_liberation', 'it_ridotte', 'it_letto', 'it_ridotti', 'it_ridotto', 'it_coloniali', 'it_kee', 'en_failures', 'it_popolari', 'it_coloniale', 'it_fila', 'it_popolare', 'it_ken', 'it_antologie', 'en_refuge', 'it_karen', 'it_karel', 'en_psychologist', 'it_linguistica', 'en_injustice', 'en_triglyceride', 'en_speaks', 'it_fornire', 'en_sequentially', 'en_amended', 'it_custode', 'en_multiplied', 'it_parlamentare', 'en_memorized', 'en_analytical', 'en_multiplier', 'en_hydrology', 'it_white', 'en_shirts', 'en_sudan', 'it_esprime', 'it_violento', 'it_forniture', 'it_fornitura', 'it_violenti', 'it_terrorizzati', 'it_squadre', 'it_violente', 'it_squadra', 'it_violenta', 'en_prudent', 'en_miniseries', 'en_lured', 'it_seamus', 'en_motivational', 'en_kidney', 'it_neisse', 'en_epistemology', 'it_cresta', 'en_pretending', 'it_silicio', 'it_eruttato', 'it_italo', 'it_uruguay', 'en_confiscated', 'en_importer', 'it_italy', 'en_imported', 'it_arpino', 'it_immagazzinato', 'en_cohl', 'it_remo', 'it_remi', 'en_combat', 'en_criticisms', 'it_montecchio', 'it_colto', 'it_febbrile', 'it_elettromagnetismo', 'it_littorio', 'it_filo', 'en_contain', 'it_montecatini', 'it_colorazione', 'en_protocol', 'it_retiche', 'it_asa', 'it_celi', 'it_hms', 'en_infect', 'it_semi', 'en_paraffin', 'en_inks', 'it_arezzo', 'en_fraternal', 'it_parterre', 'en_memnon', 'en_ernst', 'en_plaza', 'it_rosa', 'it_rose', 'it_giappone', 'en_liberty', 'it_rosy', 'en_express', 'it_mascarenhas', 'it_traffici', 'en_belts', 'it_traffico', 'en_reasonableness', 'it_galattica', 'en_badis', 'it_galattico', 'en_limestone', 'it_reliquie', 'it_reliquia', 'en_summoning', 'it_olimpico', 'en_herbicides', 'it_lettore', 'it_lettori', 'it_arrivati', 'it_arrivato', 'it_sensibilit\\xc3\\xa0', 'it_arrivata', 'it_parker', 'en_roman', 'it_idiosincrasia', 'en_tested', 'en_shenandoah', 'it_precompresso', 'it_giganteschi', 'en_supervision', 'it_shadow', 'it_gesto', 'it_haiti', 'it_pietra', 'it_pietro', 'it_gesta', 'it_risposto', 'en_practicing', 'en_bats', 'it_jose', 'en_flip', 'en_eka', 'en_tamarind', 'en_booster', 'en_bath', 'it_baronia', 'en_eighth', 'it_africa', 'en_paired', 'en_indulge', 'en_positions', 'it_comunista', 'it_omosessuali', 'en_eighty', 'it_comunisti', 'it_weyland', 'it_riconoscono', 'en_interrogated', 'it_borges', 'en_threshold', 'en_betraying', 'en_manual', 'en_alleged', 'en_employee', 'en_prosthetics', 'it_calabria', 'it_scartamento', 'en_raja', 'en_millimeters', 'en_liberated', 'it_lehr', 'en_taxonomic', 'it_lasseter', 'en_wish', 'en_differed', 'it_vivaci', 'it_cara', 'it_strada', 'en_proximity', 'en_aspect', 'it_bosforo', 'it_profumo', 'en_vietnam', 'en_pulse', 'it_boss', 'it_l\\xc3\\xb3pez', 'en_electrostatic', 'it_affini', 'it_finist\\xc3\\xa8re', 'en_amnesty', 'en_politics', 'it_cinematografico', 'en_glands', 'en_dubbing', 'en_nomadic', 'en_redirect', 'en_indicates', 'it_visitatori', 'it_universalmente', 'it_visitatore', 'it_controlli', 'it_febbraio', 'it_controllo', 'en_avenue', 'it_controlla', 'en_asclepius', 'it_bastione', 'en_sign', 'en_deposit', 'it_olmo', 'en_confusion', 'it_aviere', 'it_finestre', 'en_ibm', 'en_ibn', 'en_locks', 'en_g\\xc3\\xa9rard', 'en_vernon', 'en_epitome', 'it_cavalcavia', 'en_locke', 'it_vigilanza', 'en_maier', 'it_down', 'en_decatur', 'it_pancrazio', 'en_alkaline', 'en_extensions', 'en_kraus', 'en_papyrus', 'en_shoe', 'en_last', 'it_tosse', 'it_borghesia', 'en_lash', 'en_show', 'en_shot', 'it_eiffel', 'it_cheng', 'it_passivo', 'en_tlingit', 'en_polystyrene', 'en_malaysia', 'en_epithet', 'en_activation', 'it_adattabili', 'en_ladislas', 'en_bearded', 'it_sventura', 'en_tip', 'en_fluctuations', 'en_disloyalty', 'en_tim', 'en_functioned', 'en_tin', 'it_power', 'en_tie', 'it_dittatura', 'en_fantasies', 'it_ripartizione', 'en_melodic', 'it_toilette', 'en_conjugate', 'en_czechoslovak', 'en_communion', 'en_auction', 'it_programmatore', 'it_programmatori', 'it_psicologi', 'it_diminuzione', 'en_boron', 'en_zigzag', 'it_comprovata', 'it_privilegi', 'en_shirt', 'en_macintosh', 'en_trailer', 'en_below', 'it_motion', 'it_risposta', 'it_flesch', 'en_diseases', 'en_bringer', 'it_cani', 'en_hampered', 'it_cane', 'en_dennis', 'it_privati', 'it_chiedere', 'en_amharic', 'it_luned\\xc3\\xac', 'it_rtv', 'en_umpire', 'en_architect', 'en_hasty', 'en_roslyn', 'it_toracica', 'en_vince', 'en_suitable', 'it_abnegazione', 'en_recruited', 'en_lasts', 'it_cervino', 'it_utensili', 'en_assorted', 'en_theologian', 'en_daly', 'it_inducono', 'it_spalti', 'en_dall', 'en_accent', 'en_memorization', 'en_dale', 'en_errico', 'it_wilkins', 'en_permitting', 'it_nonna', 'it_srl', 'en_medal', 'it_parigino', 'it_balaustra', 'en_arabic', 'en_anchorages', 'en_arabia', 'it_umili', 'en_tubercle', 'it_lucien', 'it_comandati', 'it_lampioni', 'it_comandato', 'en_legal', 'it_comandata', 'en_contract', 'en_preferences', 'it_affondare', 'it_urss', 'en_islander', 'en_fertilisation', 'it_adderley', 'it_rubinstein', 'en_gestures', 'en_algonquian', 'it_sidecar', 'en_routine', 'it_elettore', 'it_marittima', 'it_juventus', 'en_retro', 'en_severance', 'en_riley', 'en_juan', 'it_collettivizzazione', 'it_profitti', 'it_profitto', 'en_discontinuous', 'it_fortificazioni', 'en_harsh', 'en_chocolate', 'it_fez', 'en_sunflower', 'it_abilitato', 'en_comforting', 'it_questioni', 'it_feo', 'it_fen', 'it_internationale', 'en_seminars', 'en_uncertainty', 'en_cooled', 'it_raggio', 'en_conjugation', 'en_visibility', 'en_chancellorsville', 'en_injuries', 'en_anatomical', 'en_footage', 'it_progettazione', 'it_scioglie', 'en_vichy', 'it_bruxelles', 'it_miss', 'it_secolo', 'it_smith', 'it_secoli', 'en_merritt', 'it_sunday', 'en_plain', 'it_storia', 'it_storie', 'it_nouveau', 'en_benzene', 'en_dallas', 'en_traditional', 'en_depressing', 'en_meanwhile', 'it_branca', 'en_contingent', 'it_branco', 'en_cognitive', 'en_effectiveness', 'en_terminate', 'en_hassen', 'en_forming', 'it_hood', 'it_botanica', 'en_gordon', 'en_transportation', 'en_cholera', 'en_mimesis', 'en_despite', 'it_intensit\\xc3\\xa0', 'en_banking', 'en_cover', 'it_sovranit\\xc3\\xa0', 'en_borrell', 'en_karl', 'en_reversible', 'en_brave', 'it_facilmente', 'en_laugh', 'it_vicksburg', 'en_regency', 'en_prosperous', 'en_rayner', 'it_fallita', 'it_fallito', 'it_funzionari', 'it_punk', 'it_r\\xc3\\xa9gence', 'it_asger', 'en_amiga', 'en_alien', 'en_sports', 'en_narrative', 'it_situazionista', 'it_onori', 'it_onore', 'en_scattered', 'en_kelley', 'it_tufo', 'en_yu\\xc3\\xa1n', 'en_submerged', 'en_dawn', 'en_reunite', 'it_donna', 'it_mostr\\xc3\\xb2', 'it_donne', 'en_prices', 'en_team', 'it_orbitale', 'it_insistente', 'it_smi', 'en_courier', 'en_respiration', 'it_ufficio', 'en_hermetic', 'it_dimostra', 'it_sms', 'it_suicidio', 'en_response', 'en_similarity', 'en_responsa', 'en_tear', 'it_mistero', 'it_misteri', 'en_merrimack', 'it_direzione', 'en_photographing', 'en_snowball', 'it_vergognosa', 'it_direzioni', 'en_composer', 'en_opportunity', 'en_bear', 'en_biological', 'en_functionality', 'en_beau', 'en_beat', 'en_beak', 'en_elevated', 'en_bean', 'en_racism', 'en_composed', 'en_sensations', 'en_bead', 'it_dimitrov', 'it_dormito', 'it_atlas', 'it_trasferita', 'it_sigarette', 'en_berkman', 'it_sepoltura', 'it_sepolture', 'en_lightning', 'it_autosomica', 'en_charlemagne', 'it_evans', 'en_circulation', 'en_converse', 'it_estinzione', 'it_elettori', 'it_uruguayo', 'it_creepers', 'en_dried', 'en_turkish', 'en_countries', 'en_participation', 'it_melma', 'en_contractor', 'it_marittimi', 'en_precursors', 'en_adaptation', 'it_beata', 'en_emigration', 'en_supposed', 'it_servita', 'it_servito', 'en_flute', 'it_reattiva', 'en_expansionist', 'it_collaborando', 'en_variants', 'en_party', 'en_parts', 'en_collectivism', 'en_testify', 'en_layout', 'en_collectivist', 'it_parini', 'en_godunov', 'en_bryan', 'en_stabilise', 'en_ground', 'it_sheridan', 'it_terroristi', 'it_rojas', 'it_lama', 'en_smiley', 'it_cambridge', 'it_posizionale', 'it_juventud', 'it_ascoltare', 'it_cosmopolita', 'en_robin', 'en_christiaan', 'en_dixie', 'en_ugly', 'it_linga', 'it_tashkent', 'en_recombination', 'en_praising', 'it_favorisca', 'it_stein', 'it_pomerania', 'en_outside', 'it_fascismo', 'it_aperti', 'en_discussion', 'it_raggruppati', 'en_airports', 'en_principle', 'it_aperto', 'en_reply', 'it_keane', 'it_raggruppate', 'it_isle', 'en_reaffirmed', 'en_fanciful', 'en_nests', 'en_apostles', 'en_merits', 'it_fer', 'en_love', 'en_transform', 'en_books', 'en_civilization', 'en_placement', 'en_dearest', 'en_subjective', 'it_campione', 'it_campioni', 'it_ripristino', 'en_activists', 'en_comrades', 'en_ballantine', 'en_remarried', 'it_cronica', 'en_austrian', 'en_new', 'en_net', 'it_sforzarsi', 'it_invincibilit\\xc3\\xa0', 'en_overwhelmed', 'en_paramedic', 'it_battaglione', 'en_cation', 'en_progeny', 'en_viscosity', 'it_battaglioni', 'it_untold', 'en_norm', 'en_nori', 'en_italian', 'it_vanitoso', 'en_lids', 'en_appetite', 'it_prevalenza', 'en_defeat', 'en_columns', 'it_alleato', 'en_petite', 'it_alleati', 'it_alleate', 'it_alleata', 'en_newark', 'en_stockholm', 'it_ibn', 'it_ibm', 'en_aether', 'it_depressione', 'it_appartenevano', 'it_sancho', 'it_mali', 'en_born', 'en_fresh', 'en_oracle', 'en_oak', 'it_north', 'it_dare', 'it_dark', 'it_pericolosa', 'en_reset', 'it_pericoloso', 'it_pericolosi', 'it_poetessa', 'en_jeff', 'en_moose', 'it_affiliate', 'it_difensori', 'it_difensore', 'it_bersaglieri', 'en_disused', 'it_barca', 'en_disturbances', 'en_polls', 'it_mizuno', 'en_dubois', 'it_residenziali', 'en_distract', 'en_stabilization', 'en_jaffa', 'it_ironia', 'it_geografici', 'it_cameriera', 'en_quantitatively', 'it_operatori', 'en_seleucid', 'en_informal', 'it_realt\\xc3\\xa0', 'en_brown', 'en_native', 'en_actual', 'it_competente', 'en_godfather', 'it_ovuli', 'it_canino', 'en_singing', 'it_consorzio', 'it_autorizza', 'en_tennessee', 'it_player', 'en_oriented', 'en_brief', 'it_rude', 'en_input', 'en_concept', 'it_categoria', 'it_sostenuta', 'it_fetta', 'it_categorie', 'en_location', 'it_office', 'it_sostenuti', 'it_racer', 'it_stuart', 'en_earned', 'en_reflected', 'en_halide', 'en_regolith', 'it_buffet', 'en_soldiers', 'it_rivivere', 'en_observed', 'en_igualada', 'it_antonino', 'it_ortodossia', 'it_zurigo', 'it_bandeirantes', 'it_turisti', 'it_vietnam', 'it_sponsorizzazione', 'en_spends', 'en_prodigious', 'en_wade', 'en_wadi', 'it_appartamento', 'it_amori', 'it_amore', 'it_bpi', 'en_feast', 'it_adulti', 'it_luise', 'it_coinvolta', 'it_proteste', 'it_protesta', 'it_rasatura', 'en_furies', 'it_coinvolto', 'en_insurance', 'it_arrestare', 'en_clear', 'it_bruciatori', 'en_vote', 'en_actor', 'en_hydroxyl', 'en_enchanted', 'en_nikolaevich', 'it_decennio', 'en_peasants', 'en_senatorial', 'en_thirteenth', 'en_takes', 'en_legend', 'en_tuba', 'en_repulsion', 'it_schio', 'en_authoritarian', 'it_hiro', 'en_objects', 'en_branden', 'it_suppone', 'en_chatter', 'it_cinema', 'en_dissolution', 'en_associate', 'it_bombardamenti', 'it_bombardamento', 'it_tenerife', 'it_webb', 'it_gritti', 'en_decreased', 'it_agassi', 'it_abilmente', 'en_traverse', 'en_give', 'it_elettronica', 'it_cedro', 'it_elettronici', 'it_elettronico', 'en_draws', 'it_laboratori', 'en_blumenthal', 'it_casuale', 'it_scorci', 'en_colors', 'it_ricaduta', 'en_melissa', 'it_ti\\xc3\\xb3', 'en_write', 'en_instruction', 'en_chased', 'it_horacio', 'it_abusato', 'en_augmentative', 'en_catholicism', 'en_repudiated', 'it_estendere', 'en_webbing', 'en_bradbury', 'en_eliminated', 'it_pereira', 'it_reich', 'en_urs', 'it_approvata', 'it_azzurro', 'it_institut', 'it_azzurri', 'en_edible', 'it_somma', 'en_url', 'it_belgio', 'it_drum', 'it_bim', 'en_remedies', 'en_devastating', 'en_reclining', 'it_dominazione', 'en_minimum', 'it_lcd', 'it_diventando', 'it_squalifica', 'en_neely', 'en_negative', 'it_province', 'it_fissando', 'en_bankruptcy', 'it_contro', 'en_thursday', 'en_disney', 'it_tioga', 'it_rivoluzione', 'it_lava', 'en_acyl', 'en_hubbard', 'it_confusi', 'it_confuso', 'it_confusa', 'it_normalizzato', 'en_indians', 'en_vermont', 'en_peoples', 'en_indiana', 'it_ingegneria', 'it_segue', 'en_python', 'it_efficienza', 'it_pecore', 'en_sharman', 'it_loretta', 'en_decimal', 'en_leaders', 'en_grabbing', 'en_xml', 'en_publication', 'en_unix', 'en_phonemically', 'en_unit', 'it_palme', 'en_presented', 'it_palma', 'it_gonzaga', 'it_rice', 'it_aneddoto', 'it_rico', 'en_mechanization', 'en_cryptography', 'en_inhibits', 'en_destinations', 'it_borderline', 'en_invalid', 'it_volontari', 'en_interlock', 'it_squali', 'it_squalo', 'en_crows', 'en_polarized', 'it_stereotipi', 'en_summaries', 'it_stereotipo', 'en_soprano', 'en_cracking', 'it_suddivisione', 'en_claridge', 'en_counterproductive', 'en_crowd', 'en_percy', 'en_nationalization', 'en_crown', 'it_suddivisioni', 'it_modificato', 'it_modificata', 'en_lettuce', 'en_pasquale', 'en_strive', 'en_solubility', 'en_scenes', 'en_brotherly', 'en_situation', 'en_rearranging', 'en_conduct', 'it_agenzie', 'en_sant', 'it_agenzia', 'en_egoism', 'it_scarico', 'en_sand', 'en_sang', 'en_ways', 'en_undiscovered', 'en_sank', 'en_incomplete', 'it_utilit\\xc3\\xa0', 'it_eurodeputato', 'it_ristorante', 'it_reperti', 'it_ristoranti', 'en_relatively', 'en_decoupling', 'en_photosynthesis', 'en_sufficient', 'en_hampton', 'en_manners', 'it_liberalit\\xc3\\xa0', 'it_gnu', 'en_picket', 'en_students', 'it_crow', 'it_iniziare', 'en_sundry', 'it_dakota', 'it_stesso', 'it_antidolorifico', 'en_goes', 'en_smell', 'it_marcantonio', 'en_discern', 'en_ipad', 'it_large', 'en_housed', 'it_colombiano', 'it_largo', 'it_alfiere', 'en_divest', 'it_collaborazione', 'en_articulation', 'it_collaborazioni', 'en_deterioration', 'en_ghostly', 'en_surprised', 'en_coasts', 'en_hardship', 'en_cumberland', 'it_girasole', 'en_glockenspiel', 'en_horrified', 'en_current', 'en_turkey', 'en_tomatoes', 'en_medieval', 'en_numerous', 'en_heating', 'it_sigismondo', 'it_raimondo', 'it_collezionisti', 'en_emmanuel', 'en_force', 'en_enters', 'en_petty', 'en_crittenden', 'it_graffiti', 'en_referendum', 'it_facciata', 'it_smoking', 'en_richard', 'en_decomposition', 'en_maneuver', 'it_plexiglass', 'it_tattico', 'en_photographs', 'en_photography', 'it_tattica', 'en_anima', 'it_aeroplani', 'en_stephan', 'en_elect', 'en_satellites', 'it_valencia', 'en_behaviours', 'en_troilus', 'en_moguls', 'it_scartato', 'en_knowing', 'en_buckle', 'en_users', 'it_manara', 'it_asociaci\\xc3\\xb3n', 'en_necessary', 'it_nicholson', 'en_postponed', 'en_dyes', 'en_parker', 'en_parkes', 'it_sottolineato', 'it_lanzi', 'it_chievo', 'it_sottolineata', 'en_congress', 'it_progresso', 'en_millennia', 'en_flores', 'en_infer', 'en_edge', 'en_eyes', 'en_sled', 'en_dispersal', 'it_emanuel', 'it_krzysztof', 'it_efestione', 'en_pinocchio', 'en_watch', 'it_ausonia', 'it_nossa', 'en_ludi', 'en_geometric', 'en_uncial', 'it_portiere', 'it_spettacolare', 'it_nishihara', 'en_venture', 'en_dismantling', 'it_regioni', 'it_lustig', 'it_eresia', 'en_cherokee', 'it_passaic', 'it_regione', 'it_saltato', 'it_saltata', 'it_elettrica', 'it_frasi', 'en_kennedy', 'it_elettrici', 'it_frase', 'it_convocato', 'en_loving', 'it_batteri', 'it_solennemente', 'it_assiro', 'en_fiction', 'en_millennium', 'en_automotive', 'it_chirale', 'it_incarnazione', 'it_her', 'it_incarnazioni', 'en_thebes', 'it_hel', 'it_cicloni', 'en_clothing', 'en_pursued', 'en_print', 'en_might', 'it_matrice', 'en_twentieth', 'en_renowned', 'en_camellia', 'en_export', 'en_intracellular', 'en_police', 'it_poggi', 'en_invention', 'en_aircraft', 'it_illustrato', 'it_bismark', 'en_project', 'en_asperger', 'it_illustrata', 'en_checks', 'it_guarani', 'en_broadcasting', 'en_colours', 'it_biblici', 'en_systems', 'en_youth', 'it_nigeria', 'en_consider', 'en_pathology', 'en_consequent', 'it_frequenti', 'it_copioni', 'it_frequenta', 'it_frequente', 'it_virginia', 'en_gave', 'it_situazione', 'it_rotazione', 'it_situazioni', 'it_major', 'it_rotazioni', 'it_galassia', 'it_asiatiche', 'it_virginis', 'en_sector', 'en_reflectance', 'en_woodland', 'en_paddies', 'it_xbox', 'en_translation', 'it_ricercatore', 'en_ventricle', 'en_characteristic', 'it_single', 'en_rafter', 'en_advertised', 'en_dissatisfaction', 'en_boeotia', 'it_commercializzati', 'en_which', 'it_distinguere', 'it_commercializzata', 'en_tsar', 'en_learned', 'it_maniaco', 'it_azioni', 'it_azione', 'en_perishable', 'en_regimen', 'en_despised', 'it_sostituire', 'en_regimes', 'en_shortage', 'it_aiutando', 'it_sensuale', 'it_leggera', 'en_phineas', 'en_eardrum', 'it_piccolomini', 'en_geste', 'en_midtown', 'en_welles', 'it_emerito', 'en_specifically', 'en_terraces', 'en_integers', 'it_karina', 'en_coloring', 'it_incisione', 'it_incisioni', 'en_age', 'it_algerini', 'it_preside', 'en_sheep', 'en_insurrection', 'en_sheet', 'it_musicale', 'it_comprato', 'it_musicali', 'en_professor', 'en_alpaca', 'it_diretto', 'it_hitler', 'en_frequently', 'it_diretta', 'en_personalities', 'en_intolerable', 'it_julian', 'it_indurre', 'it_reincarnazione', 'it_menzionato', 'it_placca', 'it_menzionata', 'en_everlasting', 'en_greens', 'en_lake', 'en_greene', 'en_dominique', 'en_slaughter', 'it_pioggia', 'it_esibito', 'it_paraguay', 'it_lievi', 'it_combustibili', 'it_combustibile', 'it_lieve', 'it_fioravanti', 'it_passaro', 'en_groove', 'en_mask', 'en_blamed', 'it_guaritore', 'en_mass', 'en_vegetables', 'it_choctaw', 'en_exhibition', 'en_tattoos', 'it_tunnel', 'en_part', 'it_elenco', 'en_park', 'it_gemellaggi', 'it_buddy', 'it_deviazione', 'it_ripagare', 'it_gilardino', 'en_sending', 'it_sfera', 'en_identifiable', 'en_indexes', 'en_latest', 'en_compete', 'it_turche', 'it_alano', 'it_turchi', 'en_criticized', 'en_distress', 'it_dewey', 'it_pubblicit\\xc3\\xa0', 'en_extremely', 'en_nuclei', 'en_shadow', 'it_guarulhos', 'en_eleventh', 'it_competizione', 'it_stel', 'it_disegnatore', 'it_competizioni', 'it_battista', 'en_labeled', 'en_cytoskeleton', 'it_battisti', 'it_tascabile', 'it_ostili', 'en_armies', 'it_ostile', 'en_contacts', 'it_robert', 'en_offset', 'en_exercise', 'en_inhuman', 'en_split', 'it_torrone', 'it_finisterre', 'en_neptune', 'it_ragione', 'en_platinum', 'en_postulates', 'en_progressively', 'en_modernize', 'it_ricreativo', 'it_canarie', 'it_tappezzeria', 'it_nacl', 'en_resisted', 'en_eva', 'en_eve', 'en_back', 'en_equated', 'en_chemist', 'en_nurse', 'en_liberal', 'it_salone', 'it_lascia', 'en_slipped', 'it_natale', 'en_prince', 'it_attrezzi', 'en_conformity', 'en_propose', 'en_lateral', 'it_preproduzione', 'en_sufferings', 'en_funds', 'it_fronte', 'it_alice', 'it_preda', 'en_spiritually', 'en_armaments', 'it_naturalmente', 'it_acuti', 'en_mechanical', 'it_acuta', 'it_drago', 'it_acute', 'it_ferrante', 'it_pattuglia', 'en_paracelsus', 'en_sanctified', 'it_elemosiniere', 'it_lombardo', 'en_magnum', 'en_sherman', 'it_conchiglie', 'it_lombardi', 'it_coltivato', 'en_counting', 'it_pienamente', 'it_kelly', 'en_allegretto', 'en_m\\xc4\\x81ori', 'it_coltivata', 'en_abandoned', 'it_governatore', 'it_rimorchio', 'it_governatori', 'it_patriarca', 'en_site', 'en_acute', 'it_custodito', 'it_borodin', 'en_situ', 'it_lunghe', 'en_larbi', 'en_yukon', 'it_liceo', 'en_rays', 'en_russian', 'it_navata', 'it_hardcore', 'en_briefs', 'en_orientation', 'it_courmayeur', 'en_distinguishes', 'en_characterization', 'en_sections', 'en_distinguished', 'it_estere', 'it_esteri', 'en_surviving', 'en_therapies', 'en_discussed', 'it_esaltazione', 'en_shri', 'en_railroads', 'it_telegramma', 'it_perpetrato', 'it_attivo', 'it_impegnativo', 'it_attivi', 'it_attive', 'it_impegnativa', 'it_attiva', 'it_cream', 'it_iniziativa', 'en_diamonds', 'it_sbarcato', 'it_hardstyle', 'en_attorney', 'it_sbarcati', 'en_pylades', 'en_fading', 'en_clinical', 'en_photometry', 'it_fernald', 'it_verifica', 'it_impraticabile', 'en_springfield', 'en_neanderthal', 'en_ordinary', 'en_steinfeld', 'en_dismemberment', 'en_certain', 'it_reparto', 'en_propellant', 'it_bugatti', 'en_traits', 'en_wallace', 'it_giocato', 'it_giocati', 'it_giocate', 'it_giocata', 'en_sorting', 'en_democratic', 'it_action', 'it_iseo', 'en_sympathies', 'en_peers', 'it_isotta', 'it_chen', 'en_weather', 'it_flora', 'it_griselda', 'en_beam', 'it_ricostituire', 'it_rainbow', 'it_verde', 'it_verdi', 'it_naviglio', 'en_destination', 'en_uranium', 'it_rio', 'it_ria', 'en_dynamics', 'en_recordings', 'it_delicati', 'en_wwf', 'en_mccay', 'it_baviera', 'en_limbs', 'it_trasformazione', 'en_frames', 'it_pescato', 'en_framed', 'en_limbo', 'en_name', 'it_profumeria', 'it_cambogia', 'en_reassured', 'en_jamie', 'it_miasto', 'en_revelation', 'en_blinding', 'en_doctor', 'it_belinda', 'en_cupid', 'it_gravemente', 'it_vialli', 'it_sex', 'en_genotype', 'en_consultation', 'it_set', 'it_dimenticare', 'it_sen', 'it_cerveteri', 'it_seb', 'en_matrilineal', 'en_enjoyment', 'en_attached', 'en_businessman', 'en_auctions', 'en_perceptible', 'it_altieri', 'en_locate', 'en_attaches', 'it_demoralizzati', 'en_initials', 'en_rothstein', 'it_trasferito', 'en_iliad', 'it_xvii', 'en_julian', 'it_alfabeto', 'it_creando', 'it_legato', 'it_taranto', 'it_nuota', 'en_biochemical', 'en_compression', 'it_superate', 'it_danza', 'it_abbondavano', 'it_danze', 'it_fra', 'it_costumi', 'en_producer', 'it_costume', 'it_asteroide', 'it_fertile', 'en_cephalopods', 'en_sayles', 'it_pianoforte', 'en_veteran', 'en_suspension', 'en_majorities', 'it_manufatto', 'it_manufatti', 'it_sicily', 'en_deferred', 'en_multiply', 'it_circa', 'en_multiple', 'it_sparatutto', 'it_caotica', 'it_circo', 'en_williams', 'it_compensazione', 'en_assessed', 'en_syllabary', 'en_napoleon', 'en_refusal', 'en_pioneer', 'en_briefings', 'en_farm', 'en_seagal', 'en_descriptions', 'en_interest', 'en_adversary', 'it_fibre', 'en_philharmonic', 'it_protettorato', 'it_protettorati', 'en_bette', 'it_frankenstein', 'en_salary', 'en_betty', 'en_palmer', 'en_servitude', 'it_eiji', 'en_democratically', 'en_monaco', 'en_result', 'it_imporre', 'en_production', 'it_intensivo', 'en_sound', 'en_commentary', 'it_shaanxi', 'it_spielberg', 'en_questioned', 'en_expression', 'en_ufo', 'it_singola', 'en_industries', 'it_abbonamento', 'it_prospettive', 'it_singoli', 'it_singolo', 'en_device', 'it_chimica', 'en_vanadium', 'it_chimico', 'en_advertising', 'it_maoista', 'it_ariosto', 'en_harmony', 'en_aldous', 'en_indebted', 'it_burocratico', 'en_cigarette', 'en_touch', 'en_climatology', 'en_civilian', 'en_sicilian', 'it_decidere', 'en_sparse', 'en_illusion', 'en_scientific', 'en_bloomsbury', 'it_prisma', 'it_bonifica', 'en_configuration', 'it_organico', 'it_organici', 'it_organica', 'it_salmastra', 'en_minimize', 'en_illiteracy', 'it_caernarfon', 'it_capolavoro', 'en_diggers', 'it_capolavori', 'en_wally', 'en_oil', 'en_spear', 'en_walls', 'it_deserto', 'en_israel', 'en_speak', 'en_akin', 'it_peggiori', 'en_shortening', 'en_orthodox', 'en_providers', 'it_basco', 'en_sworn', 'en_scandal', 'en_compensate', 'it_diagnosticare', 'en_beta', 'it_colline', 'it_vivarium', 'en_dear', 'en_deal', 'en_dean', 'en_flammability', 'en_dead', 'en_geographical', 'it_garante', 'it_postura', 'en_created', 'en_winsor', 'en_creates', 'en_moderation', 'en_responsiveness', 'it_prosa', 'en_croatian', 'it_transito', 'en_modifications', 'it_serbatoio', 'it_atleti', 'en_propensity', 'en_disguise', 'it_viceversa', 'en_iucn', 'it_rarit\\xc3\\xa0', 'it_inflitto', 'it_italiana', 'it_barbarie', 'it_italiano', 'it_italiani', 'it_soffitto', 'it_esitazione', 'it_localmente', 'en_hinduism', 'en_floral', 'it_archeologico', 'en_brood', 'en_dalton', 'en_yolks', 'it_pianta', 'it_piante', 'en_trevelyan', 'en_shafts', 'en_novella', 'en_choking', 'it_accentuato', 'en_registry', 'en_contractions', 'en_torture', 'en_almohads', 'it_pontedera', 'en_truncated', 'en_actively', 'it_gnome', 'it_tentazioni', 'en_argued', 'en_kitt', 'it_torretta', 'it_asteraceae', 'it_torrette', 'en_outbreaks', 'en_laurel', 'en_luwian', 'en_carrots', 'en_remembered', 'en_melchior', 'it_sapeva', 'en_approval', 'en_competitive', 'en_motorsports', 'en_elements', 'en_relief', 'en_underworld', 'en_urinary', 'it_cripte', 'it_evo', 'en_super', 'it_cripta', 'en_decentralization', 'it_wesley', 'en_assassin', 'en_ostensibly', 'en_bibliotheca', 'it_caratteristica', 'it_sezione', 'it_sezioni', 'it_caratteristico', 'en_actium', 'it_subisce', 'it_formia', 'en_artist', 'en_zeus', 'it_macrofagi', 'en_concord', 'en_reappears', 'it_virilit\\xc3\\xa0', 'en_procedural', 'it_habib', 'it_catarsi', 'it_spesso', 'en_diagrams', 'it_assunto', 'it_baikonur', 'it_assunta', 'it_cittadinanza', 'it_k\\xc3\\xb6nigsberg', 'en_conifers', 'it_scarlet', 'it_cresciuta', 'it_colorati', 'it_summit', 'en_margaret', 'en_shepherd', 'en_phrygia', 'en_shares', 'en_wasting', 'en_pairing', 'en_shocking', 'en_anna', 'en_shared', 'it_caldi', 'en_anne', 'it_calda', 'it_specifica', 'en_plains', 'it_specifici', 'it_specifico', 'it_societ\\xc3\\xa0', 'en_redone', 'it_storici', 'it_musica', 'it_storica', 'en_computing', 'it_acquirente', 'it_crostacei', 'en_theatre', 'it_raccordo', 'it_simbolicamente', 'en_catholic', 'en_serpent', 'en_verb', 'en_llama', 'en_stigma', 'it_gees', 'it_emerson', 'it_mercante', 'it_sempre', 'en_alternatives', 'it_padre', 'en_adolf', 'it_padri', 'it_interessi', 'en_vulnerable', 'it_interesse', 'it_saturno', 'en_louis', 'en_mencken', 'en_rites', 'it_andr\\xc3\\xa9s', 'en_ezra', 'it_torr\\xc3\\xb3', 'it_velocemente', 'en_sisters', 'en_mentions', 'en_worthy', 'en_aspen', 'it_sospetta', 'it_sospette', 'it_sospetti', 'it_sospetto', 'it_supporto', 'it_diversificato', 'it_clara', 'en_remedy', 'it_diversificata', 'en_analyses', 'en_moons', 'it_supporta', 'en_directly', 'en_conrad', 'en_analysed', 'it_datteri', 'it_architettonico', 'en_massive', 'en_reciting', 'it_maglia', 'it_architettonica', 'en_permanence', 'it_ristampa', 'en_axolotl', 'it_divieto', 'it_terrorista', 'en_forensic', 'it_vissuto', 'en_needs', 'it_parroco', 'en_deutsch', 'en_decolonization', 'it_tavola', 'it_tavole', 'en_edison', 'it_tavoli', 'it_scolpiti', 'it_tavolo', 'it_esposizioni', 'it_esposizione', 'en_rhodes', 'en_chairman', 'en_converging', 'it_birmana', 'it_rivelato', 'en_movements', 'it_rivelate', 'it_rivelata', 'en_gemini', 'en_relativism', 'it_galilea', 'it_toscana', 'it_malatesta', 'en_superficially', 'en_orphan', 'en_brunch', 'it_benedetto', 'it_dimostrare', 'en_tablet', 'en_importing', 'en_galaxies', 'en_literary', 'it_disastro', 'it_romania', 'it_disastri', 'en_minimax', 'en_calculate', 'en_resignation', 'en_developers', 'it_cacciatore', 'it_vincenzo', 'en_entirety', 'en_prove', 'en_minimal', 'en_heard', 'it_ponticelli', 'it_cibo', 'en_heart', 'it_compagnia', 'en_sorghum', 'en_hears', 'en_summit', 'en_completeness', 'en_vestibular', 'it_originariamente', 'en_poch', 'it_copenhagen', 'it_biocarburanti', 'it_club', 'it_ilse', 'it_sesia', 'en_oppenheimer', 'en_safe', 'en_immorality', 'en_sunflowers', 'en_peoria', 'it_grilletto', 'en_parties', 'it_pazientemente', 'it_proclo', 'en_emotional', 'en_revolved', 'it_sous', 'it_monarca', 'it_soul', 'it_assegnare', 'it_determinare', 'en_hermeticism', 'en_claiming', 'en_goran', 'en_hamburg', 'en_retail', 'en_fueled', 'en_hypothetical', 'it_scoprendo', 'it_grinch', 'en_clerk', 'it_gestire', 'it_intenzionale', 'en_notional', 'it_profondamente', 'en_patron', 'en_patrol', 'it_ascania', 'it_maria', 'en_choir', 'it_mario', 'it_tappe', 'it_tappa', 'en_hatred', 'en_ambassador', 'en_states', 'en_ridiculed', 'it_treno', 'en_vein', 'it_brie', 'en_straight', 'it_treni', 'it_etichetta', 'en_acclaim', 'it_etichette', 'en_devoted', 'en_federation', 'it_egitto', 'it_sensoriali', 'en_repeated', 'it_raddoppiare', 'en_diabetes', 'en_ferris', 'it_juniores', 'en_demotic', 'en_morrell', 'en_ratings', 'en_matres', 'en_peace', 'en_jpg', 'en_wheat', 'it_operai', 'it_riconoscere', 'en_japonicus', 'en_semiotics', 'en_caesium', 'it_clienti', 'en_rasmussen', 'it_turkmenistan', 'en_palestinians', 'it_cliente', 'en_achillea', 'it_riassegnato', 'en_chest', 'it_silenzio', 'it_colombo', 'en_advaita', 'it_colombe', 'en_origins', 'en_coloma', 'en_drafts', 'en_capital', 'it_biologia', 'en_lfa', 'it_sottoscritto', 'en_colts', 'en_hemispheres', 'en_parachute', 'en_extracts', 'en_wheaton', 'en_macedonia', 'en_erased', 'it_russo', 'en_hydrate', 'it_riconciliazione', 'en_deliver', 'it_orchidee', 'it_gentili', 'it_gentile', 'en_mineralized', 'it_sambre', 'it_facoltativo', 'en_mundane', 'en_hostile', 'en_intensification', 'en_disproportionately', 'en_screening', 'en_opus', 'it_perseguire', 'it_controverso', 'en_gauge', 'it_registrare', 'it_rutenia', 'en_profit', 'en_tapered', 'it_interceptor', 'en_methane', 'en_lichen', 'en_landed', 'it_iommi', 'it_collettivista', 'it_candore', 'it_ricostituzione', 'en_methodology', 'en_simplify', 'en_sergeant', 'it_hines', 'en_availability', 'en_morphologies', 'en_jungian', 'en_margins', 'en_growers', 'it_album', 'en_requires', 'en_tournaments', 'en_william', 'en_required', 'it_montaggio', 'en_participant', 'en_correspondence', 'en_fredrick', 'en_journalist', 'it_lontano', 'it_lontana', 'it_rispettoso', 'it_deperibili', 'it_dolci', 'en_meetings', 'en_distinctly', 'it_dolce', 'en_responsible', 'en_dissolving', 'it_opportunit\\xc3\\xa0', 'en_martina', 'en_mistreated', 'en_shamash', 'en_nursery', 'it_vanta', 'it_produttori', 'it_produttore', 'it_ammesso', 'en_output', 'en_holders', 'en_strings', 'it_ammessi', 'it_preferiti', 'en_discontinued', 'it_preferito', 'it_preferita', 'en_judge', 'en_intermediate', 'it_fondamenti', 'en_hierarchies', 'it_fondamenta', 'en_andrada', 'it_evacuazione', 'en_telemetry', 'it_cassazione', 'en_diploid', 'it_intellettuali', 'it_bresciano', 'en_basidiomycota', 'it_valois', 'it_chiedendo', 'it_intellettuale', 'en_derivative', 'it_cento', 'it_londres', 'en_mizoguchi', 'en_aspects', 'en_mixed', 'it_ingaggio', 'en_alcoholic', 'en_wendell', 'en_womb', 'en_novak', 'en_hazards', 'it_dyk', 'it_schivare', 'en_senate', 'it_fabricius', 'it_copie', 'en_overwhelming', 'en_helicopter', 'en_deposited', 'en_hangul', 'en_virtual', 'it_flussi', 'it_flusso', 'it_virus', 'it_pellegrinaggi', 'en_tanning', 'en_entrapment', 'it_sondrio', 'en_variant', 'en_shines', 'en_descendant', 'it_condensare', 'it_accompagna', 'en_complication', 'it_occasionale', 'it_occasionali', 'en_defeated', 'it_liquido', 'it_liquidi', 'en_timecode', 'it_liquida', 'en_ascii', 'it_equilibrio', 'en_reference', 'en_situations', 'en_boundaries', 'it_diogo', 'en_vinegar', 'it_off', 'en_sewell', 'en_reproduce', 'en_microorganisms', 'it_indipendenza', 'en_glut', 'it_timore', 'en_divination', 'en_upcoming', 'en_glue', 'it_timori', 'it_sydney', 'en_centralisation', 'it_virtuoso', 'it_viii', 'en_triassic', 'en_cyclo', 'en_episode', 'en_shield', 'en_cartoon', 'en_gospel', 'en_beads', 'it_mohawk', 'it_templari', 'en_complementary', 'en_linnaeus', 'en_invitations', 'en_theories', 'it_ereditario', 'it_fayette', 'en_patents', 'it_gestore', 'it_arnhem', 'en_remarked', 'it_classificazioni', 'en_lack', 'it_inserire', 'it_henriksen', 'it_consolle', 'en_seismic', 'it_cintura', 'en_done', 'it_discusse', 'it_daily', 'it_diritto', 'it_bionda', 'it_diritti', 'it_biondi', 'en_edwin', 'it_biondo', 'en_substitutions', 'en_bricks', 'en_treasury', 'it_meravigliosi', 'it_orizzontalmente', 'it_medicina', 'it_kosuke', 'en_rapidly', 'it_pollice', 'en_vassals', 'it_pollici', 'en_alkyl', 'en_burial', 'en_energies', 'it_breslavia', 'en_absorb', 'en_make', 'it_presepe', 'en_changing', 'it_tredicesima', 'en_repulsed', 'it_nazioni', 'it_nazione', 'it_aerospaziale', 'en_kelp', 'it_tredicesimo', 'en_jonathan', 'en_priestess', 'en_digital', 'it_fock', 'en_divorce', 'en_volcano', 'en_timing', 'it_ann', 'en_opposition', 'en_most', 'en_nitric', 'it_indicato', 'en_partner', 'it_duchessa', 'it_lenin', 'it_augustyn', 'en_inscribing', 'it_lucchese', 'en_remarks', 'it_lucchesi', 'it_scuola', 'it_scuole', 'it_atc', 'it_evaporazione', 'en_adds', 'en_nebraska', 'en_inquiries', 'en_faulty', 'en_nowadays', 'en_generalizations', 'it_claudio', 'it_tipi', 'it_bbc', 'it_geometrica', 'en_sejong', 'en_memphis', 'en_substance', 'en_plastids', 'it_adorata', 'en_francis', 'en_kouros', 'en_rosario', 'en_taos', 'en_coup', 'en_applause', 'en_monarchists', 'en_approach', 'it_ventaglio', 'en_geological', 'it_menai', 'en_truthfulness', 'it_ricambio', 'it_satirico', 'en_hatching', 'it_ultraman', 'en_beneficial', 'en_leaves', 'it_dub', 'en_rim', 'en_hit', 'en_shiba', 'it_investimento', 'it_investimenti', 'en_liberia', 'en_terminated', 'en_clusters', 'en_achieved', 'it_tela', 'en_launch', 'it_tele', 'en_yellow', 'it_analizzati', 'it_kazakistan', 'en_affectionate', 'en_depicts', 'en_repeating', 'en_realizing', 'it_deboli', 'it_destino', 'it_debole', 'it_destiny', 'it_bouffes', 'en_drowning', 'en_shots', 'en_imply', 'en_reaching', 'en_concealed', 'it_miliardi', 'en_glossary', 'en_adjustable', 'en_archibald', 'it_lotto', 'en_impression', 'it_lotte', 'en_mikhail', 'it_scacchiere', 'en_tacit', 'it_livello', 'it_livelli', 'it_scenografia', 'it_strumento', 'it_strumenti', 'en_specialists', 'it_berlusconi', 'en_axiomatic', 'it_cross', 'en_clearance', 'en_liters', 'en_published', 'en_abraham', 'it_renminbi', 'en_plot', 'en_publisher', 'en_publishes', 'en_prophecies', 'en_omit', 'it_marroni', 'it_marrone', 'it_after', 'en_violently', 'it_contribuendo', 'it_puritana', 'en_figures', 'en_fragments', 'it_risarcimento', 'it_sperone', 'en_tomato', 'it_lumache', 'it_vito', 'en_hungary', 'en_replaced', 'it_zanni', 'en_thinker', 'en_microstate', 'en_replaces', 'it_coordinazione', 'en_anatolia', 'en_considerable', 'it_dufresne', 'it_cifre', 'en_agora', 'it_regressione', 'en_ontario', 'en_monologue', 'en_retaliation', 'it_brindisi', 'it_philippe', 'it_p\\xc3\\xa9guy', 'en_investigate', 'it_philippa', 'it_limitata', 'it_inverno', 'en_documented', 'it_limitati', 'en_washed', 'it_limitato', 'en_muses', 'en_alkali', 'it_k\\xc3\\xbcstrin', 'en_municipalities', 'en_conclusion', 'it_accoglienza', 'it_giamblico', 'en_courts', 'it_stoccarda', 'it_edilizia', 'it_sovietico', 'it_risultante', 'it_sovietici', 'en_pilots', 'en_counters', 'it_sovietica', 'en_doctrines', 'en_hardcourt', 'it_denaro', 'en_woodcock', 'it_mlp', 'en_revolutionized', 'en_weak', 'en_samples', 'it_cast', 'it_esordio', 'it_leroy', 'it_cash', 'it_casi', 'it_file', 'en_investigating', 'en_wear', 'it_fili', 'en_sergei', 'it_film', 'it_fabbricato', 'en_subway', 'it_rai', 'it_marcello', 'en_solemn', 'it_ram', 'it_dedicate', 'it_rap', 'it_dedicata', 'en_glory', 'it_ray', 'it_braccia', 'it_dedicato', 'it_dedicati', 'en_monasteries', 'en_lighter', 'en_pathogens', 'it_magari', 'en_simplified', 'en_person', 'it_clinico', 'en_adventures', 'en_adventurer', 'it_kill', 'it_quark', 'it_rilancio', 'en_worms', 'en_treated', 'it_treviso', 'it_sconfitto', 'it_sconfitti', 'it_sconfitte', 'en_belongs', 'it_sconfitta', 'en_euboea', 'en_platform', 'it_bundesliga', 'en_vitae', 'en_vital', 'en_panel', 'en_manages', 'en_appeared', 'en_chaim', 'it_bis', 'en_fission', 'it_giallo', 'en_premiere', 'it_korn', 'en_chain', 'en_dothan', 'it_estinta', 'en_coney', 'it_estinto', 'en_regulated', 'it_esentati', 'it_ordinari', 'it_strasse', 'it_ordinare', 'it_naruto', 'it_judith', 'en_cooperative', 'it_lusignano', 'en_spontaneously', 'en_strawberry', 'en_watchers', 'it_stretta', 'en_empire', 'en_aldehydes', 'it_stretti', 'it_giulia', 'it_legale', 'en_tactical', 'en_siberian', 'it_giulio', 'it_legali', 'en_encyclop\\xc3\\xa6dia', 'en_blank', 'it_mariana', 'it_mariano', 'it_usagi', 'it_capri', 'en_selenium', 'en_symbolically', 'en_mangrove', 'it_professionale', 'it_into', 'en_journalists', 'en_cooling', 'it_dettaglio', 'en_zhang', 'en_stadler', 'it_coraggiosamente', 'en_york', 'en_primitive', 'it_orribile', 'it_fibrosi', 'it_celebra', 'it_necessari', 'it_celebre', 'en_cleaning', 'it_polivalente', 'en_corrupt', 'it_esplose', 'en_cinemas', 'en_defendants', 'it_ludovico', 'en_died', 'en_subclass', 'en_reinforced', 'it_popper', 'en_spiral', 'it_tabi', 'en_weekly', 'en_juneau', 'it_henson', 'it_lincei', 'it_vedova', 'en_xenopus', 'it_tregua', 'it_matrimonio', 'it_b\\xc3\\xa9arn', 'en_mirrors', 'en_gate', 'it_decisamente', 'en_july', 'it_acquatiche', 'en_fortune', 'it_parassitismo', 'en_summers', 'en_five', 'en_grove', 'it_fisicamente', 'it_vittima', 'en_arts', 'it_vittime', 'en_claws', 'en_pausanias', 'it_occupazione', 'it_sozzini', 'en_impressions', 'en_alchemist', 'en_incorporated', 'en_snoopy', 'en_rode', 'it_nipote', 'en_differs', 'en_discipline', 'it_decontaminazione', 'en_nitride', 'it_nintendo', 'en_hours', 'en_drifting', 'it_sauk', 'en_cultivation', 'en_nul', 'it_saud', 'it_motocicli', 'it_reshevsky', 'en_teens', 'en_jackson', 'it_moncalieri', 'en_ionization', 'en_printable', 'en_subtropical', 'it_anglesey', 'en_vocabulary', 'en_radicals', 'it_arcadia', 'it_corrispondenza', 'en_discredited', 'it_converge', 'it_benefattore', 'en_astronautics', 'it_risponde', 'en_productions', 'en_mortal', 'it_venere', 'en_abolition', 'en_mortar', 'en_splendor', 'en_impressed', 'en_liberals', 'it_ottimo', 'it_vari', 'en_intentional', 'en_strains', 'en_profitable', 'en_reluctant', 'en_creusa', 'en_teams', 'en_harvested', 'it_playstation', 'it_censimento', 'it_indebitamento', 'en_pestilence', 'it_biagio', 'en_symons', 'en_ergonomics', 'en_quantities', 'en_minor', 'en_anticipate', 'it_perejaslav', 'en_accessible', 'en_stayed', 'en_immobilized', 'en_extract', 'en_glycogen', 'en_rana', 'it_companhia', 'it_finanziamento', 'it_finanziamenti', 'en_characterize', 'it_incluso', 'it_presente', 'it_idee', 'it_presenti', 'it_idea', 'en_warfare', 'en_rank', 'it_frontiera', 'it_auckland', 'en_teachers', 'it_nella', 'en_momentarily', 'it_tardi', 'it_tardo', 'it_nona', 'it_annunciazione', 'it_caso', 'it_evitano', 'en_compatibility', 'en_producers', 'it_gallery', 'en_fires', 'en_novelty', 'en_executor', 'en_attractive', 'it_congo', 'en_fired', 'en_genetics', 'en_fearing', 'en_infantile', 'en_vegetarian', 'en_reconstruction', 'en_lutetium', 'it_gulag', 'it_angelicum', 'it_culto', 'en_recalled', 'en_plaque', 'it_peculiarit\\xc3\\xa0', 'en_wrestlemania', 'en_respectively', 'it_vorarlberg', 'en_campbell', 'it_aggiunta', 'it_comparse', 'it_aggiunti', 'it_aggiunto', 'en_kill', 'it_rese', 'en_republican', 'it_parisi', 'en_amniotes', 'it_ribellioni', 'en_wizard', 'it_superstrada', 'it_matthias', 'it_municipalit\\xc3\\xa0', 'it_depositi', 'it_fare', 'it_baer', 'it_end', 'it_eni', 'it_faro', 'it_cattaneo', 'it_fari', 'it_povert\\xc3\\xa0', 'en_theorems', 'en_lycia', 'it_dispetto', 'en_gain', 'en_mall', 'en_gait', 'en_amphibians', 'en_applications', 'en_less', 'en_some', 'it_steve', 'it_eddie', 'it_morris', 'en_mention', 'it_corpi', 'it_corpo', 'it_specchi', 'it_angela', 'it_angeli', 'it_dumas', 'it_angelo', 'it_euroregione', 'en_masterson', 'it_profondit\\xc3\\xa0', 'it_influenzata', 'it_generazioni', 'en_hilly', 'en_translators', 'it_generazione', 'en_hills', 'it_influenzato', 'en_usual', 'en_brightness', 'en_pelias', 'it_doppia', 'it_doppio', 'en_r\\xc3\\xados', 'it_nagasaki', 'en_oran', 'en_include', 'en_oral', 'en_shorts', 'it_suharto', 'en_structuring', 'it_sano', 'it_sana', 'en_verbal', 'it_mornington', 'it_perris', 'en_reform', 'en_committed', 'en_committee', 'it_jugoslavia', 'en_computed', 'en_noel', 'it_fayard', 'it_petersen', 'it_annuncia', 'en_warts', 'en_emerges', 'it_annuncio', 'en_enabling', 'en_phosphate', 'en_emerged', 'en_contribute', 'en_sperm', 'it_farmer', 'en_gift', 'it_iii', 'it_pavone', 'it_seminario', 'en_electrical', 'en_she', 'en_bomb', 'it_bersani', 'it_discrezione', 'it_trillian', 'en_fifth', 'en_boxer', 'en_boxes', 'it_repertorio', 'en_fifty', 'en_digest', 'it_slocum', 'en_sharma', 'en_pediatrician', 'it_sapori', 'en_brewster', 'it_atletico', 'en_eukaryotic', 'en_aristocratic', 'en_tiny', 'it_reclutato', 'it_reclutati', 'it_sergio', 'en_dust', 'it_baker', 'en_faber', 'en_tint', 'en_jorge', 'en_prerequisites', 'en_plaisir', 'en_superoxide', 'en_horror', 'it_conferenze', 'it_conferenza', 'en_aesthetics', 'en_decree', 'en_array', 'en_critique', 'it_glendon', 'en_radiated', 'it_ancora', 'it_assi', 'it_accadde', 'en_undergrowth', 'en_apoptosis', 'en_photosynthetic', 'en_grammys', 'it_udp', 'it_phillips', 'en_hittites', 'it_pierre', 'en_recipes', 'en_acid', 'en_measles', 'it_debutt\\xc3\\xb2', 'it_mitologia', 'en_immediate', 'it_ininterrotta', 'it_magistrato', 'en_adopts', 'en_catering', 'it_sindrome', 'it_angelis', 'it_elisabetta', 'en_grigori', 'en_slides', 'it_riso', 'en_functional', 'it_comportamento', 'it_comportamenti', 'en_nobody', 'en_lifted', 'en_waterhouse', 'it_coinvolgimento', 'it_crescono', 'en_prone', 'en_entirely', 'it_molecole', 'en_delius', 'it_pippo', 'en_s\\xc3\\xa1nchez', 'en_psyche', 'en_depicted', 'it_salmone', 'it_aiuta', 'it_s\\xc3\\xbcdtirol', 'en_likelihood', 'it_visconte', 'en_reappearance', 'en_presidency', 'en_variety', 'it_lezioni', 'en_colonists', 'it_ghiaccio', 'en_gardening', 'en_wait', 'en_superlatives', 'it_cornelius', 'en_formosa', 'en_fundamentals', 'en_motors', 'en_governed', 'en_collector', 'it_perso', 'it_ulteriori', 'en_institutes', 'it_gasdotti', 'en_popular', 'en_sikhism', 'en_assailant', 'it_favorito', 'it_decide', 'en_intramuscular', 'it_persa', 'it_know', 'it_cos\\xc3\\xac', 'en_hated', 'en_simplicity', 'en_italians', 'en_infinitesimal', 'en_graffiti', 'it_importazioni', 'en_dialogues', 'en_sustainable', 'en_psychiatry', 'en_occurrence', 'en_spectators', 'it_pagamento', 'it_et\\xc3\\xa0', 'en_penthesilea', 'en_intermittent', 'en_metabolized', 'it_sacca', 'it_poggio', 'it_uccelli', 'it_sudovest', 'en_crossing', 'en_swf', 'it_mette', 'it_appare', 'en_stagnation', 'it_fenomeno', 'en_henman', 'it_fenomeni', 'it_istruttore', 'it_certificati', 'en_intercepted', 'it_unit\\xc3\\xa0', 'it_glen', 'en_strengthening', 'it_liberare', 'en_unnecessary', 'en_administrators', 'it_indossa', 'en_ladders', 'en_mexico', 'it_allegria', 'en_decompression', 'en_dune', 'en_trajectory', 'en_dunn', 'en_consenting', 'en_magic', 'en_deidamia', 'en_auditor', 'en_receptive', 'en_ignorance', 'en_removal', 'en_incidental', 'en_atom', 'it_goccioline', 'en_analyzed', 'en_newport', 'en_panels', 'it_comanche', 'en_supervise', 'it_bray', 'en_cobalt', 'en_parametric', 'en_greg', 'en_meantime', 'en_swamps', 'en_geothermal', 'en_pcbs', 'en_grew', 'it_sonny', 'it_regalo', 'it_murray', 'en_smart', 'en_help', 'en_communism', 'en_hell', 'en_helm', 'en_cushing', 'en_held', 'en_tonal', 'it_spiega', 'en_substitution', 'en_permafrost', 'en_homeric', 'it_california', 'it_agricola', 'en_subtle', 'it_stevie', 'en_dolma', 'it_baltico', 'en_alchemists', 'it_circonda', 'it_rino', 'en_hungarian', 'en_autonomy', 'it_volata', 'en_experiments', 'en_altered', 'it_carburanti', 'en_aleutian', 'it_nazista', 'en_byron', 'it_figli', 'it_nazisti', 'en_neolithic', 'it_principalmente', 'en_catches', 'it_chattanooga', 'en_unquestionable', 'en_aerospace', 'it_incredibilmente', 'it_phi', 'en_canoeing', 'en_spasms', 'it_cerimonie', 'it_cerimonia', 'it_mensole', 'en_bridle', 'it_bernstein', 'en_examines', 'en_furious', 'en_strict', 'en_democrat', 'en_understood', 'en_crane', 'en_paradoxes', 'it_industriale', 'it_guercino', 'it_industriali', 'it_uniche', 'en_hyder', 'it_ghiacciaio', 'en_executive', 'en_unusual', 'it_cornicione', 'it_spogliarellista', 'en_divergence', 'it_separato', 'it_esami', 'it_separate', 'en_phytosanitary', 'it_esame', 'it_separata', 'en_perception', 'en_concerts', 'it_predisposta', 'en_possibilities', 'en_prevailing', 'en_consult', 'it_aaron', 'it_infallibile', 'en_route', 'it_gas', 'it_missa', 'en_geographic', 'en_preface', 'it_paglia', 'en_next', 'it_gai', 'en_linguistic', 'it_gam', 'en_regia', 'en_university', 'en_clean', 'en_antagonists', 'it_brigitta', 'en_granules', 'en_macmillan', 'en_reduction', 'it_colle', 'it_colli', 'en_those', 'it_dai', 'it_coltello', 'it_dan', 'it_dal', 'it_das', 'it_dar', 'en_rafael', 'en_shoots', 'it_melody', 'en_allusions', 'en_radio', 'en_where', 'en_alteration', 'it_scalata', 'it_criticato', 'en_publications', 'en_goi\\xc3\\xa2nia', 'it_eckhart', 'en_tactic', 'it_attraggono', 'en_infants', 'en_unification', 'en_among', 'it_polemiche', 'en_growth', 'it_hubbard', 'en_dentists', 'en_intergovernmental', 'it_soddisfacente', 'en_zeroes', 'it_platone', 'it_rosaceae', 'en_attested', 'it_drammatiche', 'en_complaint', 'en_distortion', 'en_populated', 'it_consolidare', 'it_fasciatura', 'it_presumere', 'it_attrice', 'it_apre', 'en_alcmaeon', 'it_migliore', 'en_baritone', 'en_squeezing', 'en_arsenic', 'en_abbado', 'en_develop', 'en_initiation', 'it_anzianit\\xc3\\xa0', 'en_youthful', 'it_larry', 'it_starnuto', 'it_antal', 'it_europei', 'it_oceania', 'en_mickey', 'en_divinity', 'en_attacks', 'it_borghetto', 'en_resource', 'it_spera', 'it_smantellato', 'it_georgia', 'en_sinking', 'en_tube', 'it_molla', 'it_molle', 'it_massacrati', 'en_planned', 'it_recentemente', 'en_magnitude', 'it_terra', 'it_paradiso', 'it_terre', 'en_philanthropy', 'it_terri', 'it_carestia', 'it_olive', 'it_topping', 'it_oliva', 'en_dock', 'en_diatonic', 'it_mazzocchi', 'it_innalza', 'it_fretta', 'en_inevitably', 'it_calibro', 'it_kaluza', 'en_tasks', 'it_suzuki', 'en_pitch', 'it_ucraini', 'it_port', 'it_ucraina', 'en_adjustment', 'en_injured', 'en_comfort', 'en_moles', 'it_spaventata', 'en_musicologists', 'it_cannes', 'en_hungry', 'en_ludwig', 'it_tommy', 'en_stalks', 'en_setting', 'en_gravity', 'it_eldridge', 'en_evangelical', 'en_objectivism', 'it_seno', 'en_validity', 'it_seni', 'it_insediamento', 'en_cured', 'it_insediamenti', 'en_tuberous', 'it_avm', 'en_granted', 'en_dilution', 'it_avi', 'it_stadium', 'en_surpluses', 'en_hayward', 'en_row', 'en_roy', 'en_velocity', 'en_roe', 'en_rod', 'en_barrier', 'it_conclude', 'en_other', 'en_glycine', 'it_gottardo', 'it_personaggi', 'it_spezia', 'en_reappeared', 'it_technicolor', 'en_whipping', 'it_database', 'en_surgery', 'en_tried', 'it_arido', 'it_con', 'it_ragioni', 'it_boicottare', 'it_caverna', 'en_winner', 'it_corbetta', 'en_travels', 'en_thermal', 'en_ballet', 'en_lyceum', 'en_come', 'en_coma', 'en_melody', 'en_base', 'en_faculty', 'it_toro', 'en_era', 'en_bass', 'it_caruso', 'it_ribelli', 'en_christopher', 'en_assistant', 'it_dentista', 'it_modella', 'it_cinematografiche', 'en_ahmed', 'en_video', 'it_modelli', 'en_consistent', 'en_perverse', 'it_protestante', 'it_anguilla', 'it_aeroporto', 'it_acquistati', 'it_agnes', 'it_acquistato', 'it_eccezionale', 'it_asintomatici', 'it_offensivo', 'it_offensiva', 'en_syncopated', 'en_career', 'it_kurf\\xc3\\xbcrstendamm', 'en_while', 'it_rispose', 'en_gametes', 'en_tragedy', 'it_bembo', 'it_preta', 'en_encode', 'it_accordi', 'it_accordo', 'en_dividing', 'en_roddick', 'it_fiona', 'en_materials', 'en_marat', 'it_dirigenti', 'it_pensa', 'it_vigore', 'it_frutta', 'it_frutti', 'it_frutto', 'it_ritrovo', 'en_side', 'en_congregation', 'en_maurice', 'en_affection', 'it_mephisto', 'en_superfluous', 'en_exhaustive', 'it_serra', 'it_serre', 'en_raid', 'en_rain', 'en_rail', 'en_instruct', 'en_darmstadt', 'en_underdeveloped', 'en_employment', 'it_regio', 'it_fossile', 'it_lega', 'en_hormone', 'en_themes', 'it_fossili', 'it_regia', 'en_crystallization', 'en_dorothy', 'en_rotating', 'it_shotaro', 'it_random', 'en_annulatus', 'en_medea', 'en_diphtheria', 'en_repealed', 'en_attempts', 'it_dipingere', 'en_paternal', 'en_healing', 'it_geologici', 'en_engineering', 'it_guardare', 'en_fiercely', 'it_alfabeticamente', 'en_biomedical', 'it_opzioni', 'it_opzione', 'en_fertilizers', 'en_toronto', 'en_cuticle', 'en_primary', 'en_pittsburgh', 'en_dishonesty', 'en_edits', 'en_thousands', 'it_settimanale', 'it_tipologie', 'en_instincts', 'it_tipologia', 'en_sciences', 'it_medley', 'en_complications', 'en_paleozoic', 'it_saccheggio', 'en_provisional', 'en_invoked', 'en_under', 'en_suit', 'en_crusader', 'en_delegates', 'en_actions', 'en_vertical', 'it_parentela', 'it_tentato', 'it_cantando', 'en_hail', 'it_dora', 'en_hair', 'en_umbrella', 'it_abbracciato', 'it_cronache', 'it_fide', 'en_persuasion', 'en_georges', 'en_moist', 'en_csm', 'en_cso', 'en_css', 'it_nobile', 'it_huntelaar', 'en_relevant', 'en_wars', 'it_nigel', 'it_heidelberg', 'en_osmotic', 'it_ossorio', 'it_gioacchino', 'it_riabilitato', 'en_depraved', 'en_awareness', 'en_neumann', 'it_sitcom', 'it_membrana', 'it_klein', 'en_congeners', 'en_aaron', 'en_citizen', 'it_rifugio', 'en_neighbours', 'en_thaddeus', 'it_sui', 'it_soiusa', 'it_nave', 'it_sun', 'it_suo', 'it_persino', 'it_navi', 'it_sud', 'it_jaap', 'it_privilegiata', 'en_arise', 'it_complicanze', 'en_reichstag', 'it_radiazione', 'it_radiazioni', 'it_antropologico', 'en_containers', 'en_devotion', 'it_scene', 'it_scena', 'en_brand', 'it_virgola', 'it_agricoltura', 'en_equilibrium', 'en_trigger', 'it_directory', 'it_alpha', 'it_sconosciuta', 'it_preesistente', 'en_peyote', 'en_urn', 'en_consensus', 'it_elettrone', 'it_elettroni', 'en_tadpoles', 'en_adaptable', 'it_schermi', 'en_handwritten', 'it_schermo', 'it_farmaci', 'it_papale', 'it_preceduta', 'it_colpevole', 'en_witnesses', 'en_validated', 'it_preceduto', 'en_declares', 'it_decollo', 'en_printing', 'en_declared', 'en_demography', 'en_priestly', 'en_formatting', 'it_mont', 'it_narducci', 'it_colpendo', 'it_contenente', 'it_contenenti', 'en_participants', 'en_vincent', 'en_larue', 'it_parziale', 'en_stopped', 'en_sporophyte', 'it_franco', 'it_confessa', 'it_diaconato', 'it_franca', 'en_willie', 'it_assediata', 'it_amare', 'it_dumont', 'en_reflect', 'it_beck', 'it_slater', 'en_volunteer', 'en_withdrawn', 'it_usata', 'en_erudition', 'it_gambero', 'en_rapallo', 'it_deviato', 'it_posizionata', 'en_insoluble', 'it_gaetano', 'it_posizionati', 'en_submarines', 'en_imposed', 'it_posizionato', 'en_reporting', 'it_applicazione', 'en_imposes', 'en_clarify', 'en_pilgrim', 'en_spirit', 'it_rotolo', 'it_jiang', 'it_espone', 'it_jack', 'en_finals', 'it_organizzatori', 'en_vacuole', 'it_nomadi', 'en_solids', 'it_clarence', 'en_chapel', 'en_amateurs', 'en_judd', 'it_fbi', 'en_hollow', 'it_horn', 'en_laozi', 'en_ophrys', 'en_eris', 'it_discoteca', 'en_seafood', 'en_detection', 'en_eric', 'it_componente', 'en_unimportant', 'en_formulations', 'it_chiang', 'en_circumstances', 'en_unreadable', 'it_tamara', 'en_stanley', 'it_oscuri', 'it_oscuro', 'en_expanding', 'en_lower', 'en_indictment', 'en_exporter', 'en_aramaic', 'it_pogrom', 'it_predecessore', 'it_cupo', 'en_format', 'en_reported', 'en_averages', 'en_donation', 'en_flautist', 'en_multicellular', 'en_formal', 'en_keeps', 'en_cohesion', 'en_elaborate', 'en_synonyms', 'en_kabylie', 'en_punctata', 'en_numerical', 'en_fern\\xc3\\xa1ndez', 'it_scorrere', 'en_bubble', 'en_reintegrate', 'en_renaming', 'en_fusion', 'it_perversioni', 'it_cantautori', 'it_sfinimento', 'en_speculators', 'it_perversione', 'it_cantautore', 'en_jaws', 'it_magnifico', 'en_dark', 'en_dart', 'en_candle', 'en_intrusion', 'en_constrained', 'it_affumicato', 'en_ptc', 'en_drought', 'it_adolfo', 'en_thanked', 'en_esparza', 'en_subsidized', 'en_liberate', 'en_fruits', 'en_passion', 'it_basse', 'en_long', 'en_vertically', 'en_lone', 'it_bassa', 'en_studio', 'it_basso', 'it_bassi', 'it_stragi', 'it_samarcanda', 'en_mandir', 'en_engaged', 'en_celebration', 'en_citric', 'it_giustifica', 'it_acqua', 'en_correlated', 'en_metropolitan', 'en_actuators', 'it_complemento', 'en_stony', 'it_pedale', 'en_stone', 'en_carbo', 'it_ripartire', 'en_irony', 'it_pensione', 'it_cowboys', 'it_quotidiani', 'it_quotidiano', 'en_oecd', 'en_interested', 'it_runner', 'it_herkimer', 'en_nucleosynthesis', 'en_disenchanted', 'en_taken', 'en_sheikh', 'it_logistica', 'it_punta', 'it_punto', 'it_cespugli', 'it_pericolosit\\xc3\\xa0', 'it_punti', 'it_zecche', 'en_cellar', 'en_pharmaceutical', 'en_user', 'en_uses', 'en_pearls', 'it_murale', 'it_fitto', 'en_strong', 'en_virtue', 'it_conquistati', 'it_conquistato', 'en_tenor', 'it_fiordi', 'en_astronomical', 'en_shortcomings', 'en_literally', 'it_lugano', 'it_partenze', 'en_asc', 'en_asa', 'it_partenza', 'en_asd', 'en_beds', 'en_sailors', 'it_dragon', 'en_asr', 'en_ass', 'en_apple', 'it_equilibrato', 'en_fail', 'en_fair', 'en_censure', 'it_costruzioni', 'en_academies', 'it_miniserie', 'it_medaglia', 'it_medaglie', 'en_atlantic', 'it_eredivisie', 'en_preventing', 'it_tributari', 'it_gusto', 'it_laverne', 'en_presents', 'it_palo', 'it_pala', 'it_finisce', 'it_scipione', 'en_compilers', 'en_gsi', 'en_d\\xc3\\xbcrkheim', 'en_phrases', 'en_subdue', 'en_patton', 'en_argo', 'it_chang', 'it_slesia', 'it_talento', 'en_antithesis', 'en_blues', 'it_totale', 'it_santit\\xc3\\xa0', 'it_totali', 'it_chance', 'en_mesh', 'en_nucleic', 'en_spiders', 'en_mesa', 'en_tribes', 'en_zodiac', 'en_modernization', 'en_titans', 'it_messico', 'it_colorado', 'en_hafnium', 'it_positive', 'it_positivi', 'it_proibite', 'it_assunzione', 'it_proibita', 'it_positivo', 'en_fallen', 'en_defines', 'en_defined', 'it_fugge', 'it_umana', 'it_xiii', 'it_umane', 'it_umani', 'it_umano', 'en_permanently', 'en_hydrophilic', 'en_tentacle', 'en_nfl', 'it_genetici', 'it_accerchiamento', 'en_basically', 'en_nfc', 'it_genetica', 'en_butyric', 'en_lepsius', 'en_korea', 'it_promozionali', 'en_address', 'en_bu\\xc3\\xb1uel', 'it_plastiche', 'it_rodaggio', 'it_strumentisti', 'it_janusz', 'en_month', 'en_trinidad', 'en_monte', 'en_hazlitt', 'en_labeling', 'it_programmata', 'en_obituary', 'it_salah', 'it_kodansha', 'en_loud', 'it_rahn', 'en_india', 'it_atterrare', 'en_patrick', 'en_credit', 'en_helen', 'en_vehicles', 'it_eius', 'en_uric', 'en_snap', 'en_triangle', 'en_symbolic', 'en_inviting', 'it_supernova', 'it_tvt', 'it_illustri', 'it_tve', 'en_dimensions', 'en_disqualified', 'it_contea', 'it_teatri', 'it_rimanenti', 'it_teatro', 'it_educato', 'en_caecilia', 'it_oristano', 'it_rimanente', 'en_exhaust', 'en_epidemics', 'it_ungheresi', 'it_ungherese', 'it_fertilit\\xc3\\xa0', 'en_comprehension', 'it_motocicletta', 'en_stagnant', 'en_predominant', 'it_liga', 'it_giuliani', 'it_classica', 'it_viswanathan', 'it_classico', 'it_pertanto', 'it_brasile', 'en_alexandria', 'it_fortunata', 'it_crocifissione', 'en_peggy', 'en_khalid', 'en_ruler', 'en_rules', 'it_mausoleo', 'it_depositare', 'en_phenol', 'en_climb', 'it_piegare', 'it_nudo', 'it_nudi', 'en_chartres', 'en_actors', 'it_bowling', 'it_antimateria', 'it_pieno', 'en_stream', 'it_bull', 'it_mother', 'it_assegna', 'it_candidatura', 'it_candidature', 'en_commemorative', 'en_represented', 'en_manel', 'en_drinking', 'it_sovraccarichi', 'it_affermare', 'it_foreste', 'it_foresta', 'en_korean', 'en_environment', 'en_concentration', 'en_therapeutic', 'it_previsto', 'it_brache', 'en_dodgers', 'it_purgatorio', 'it_discontinuo', 'it_laboratorio', 'it_gente', 'en_refunded', 'it_fedi', 'it_corea', 'it_bernhard', 'it_nullo', 'en_authoritative', 'it_erede', 'it_presbiterio', 'it_jimmy', 'it_nulla', 'en_adhere', 'it_debolezza', 'en_revered', 'it_bus', 'en_eminent', 'en_equipment', 'en_westerns', 'it_forzata', 'it_forzato', 'it_specie', 'it_eduardo', 'it_ideata', 'en_distinguishable', 'en_skikda', 'en_redundant', 'it_compilation', 'it_georg', 'en_measuring', 'it_facilitare', 'en_public', 'en_patrons', 'en_pose', 'it_sefardita', 'en_post', 'en_translate', 'it_scuro', 'en_alchemy', 'en_collects', 'en_left', 'en_tragedies', 'it_superfici', 'en_taking', 'it_fiorite', 'it_fiorita', 'it_unisce', 'en_mattingly', 'en_beasts', 'en_caregiver', 'en_admission', 'en_ultraviolet', 'en_protagonist', 'en_unsustainable', 'en_favors', 'en_wellesley', 'it_ricercati', 'it_ricercato', 'it_unit', 'en_libation', 'en_think', 'en_puzzled', 'en_thing', 'it_g\\xc3\\xb3mez', 'it_conclave', 'it_barche', 'it_ripetutamente', 'it_libretto', 'en_conscious', 'it_sunbeam', 'it_cacciavite', 'en_browns', 'it_dilemma', 'en_issues', 'it_figuracce', 'en_scientist', 'it_burchell', 'en_evidence', 'en_issued', 'it_guidobaldo', 'it_lavorare', 'it_frida', 'it_distruttivo', 'it_robot', 'it_firmatario', 'en_duff', 'en_weighing', 'it_montanelli', 'it_quintetto', 'en_resolved', 'it_roccia', 'en_greenwich', 'it_think', 'en_campus', 'it_smentite', 'en_laterally', 'en_financed', 'en_convenience', 'it_consulente', 'en_mould', 'it_comitato', 'it_tirpitz', 'en_pages', 'en_rejection', 'en_decoration', 'en_seamen', 'it_goletta', 'en_saints', 'en_weakness', 'en_diagnosed', 'it_divisori', 'en_restitution', 'it_scafoide', 'it_intento', 'it_renata', 'en_difficulty', 'it_renato', 'en_clive', 'it_vendute', 'en_komsomolets', 'it_venduta', 'it_venduto', 'it_venduti', 'en_bales', 'it_vetri', 'it_one', 'it_ong', 'en_star', 'it_maddy', 'en_anyone', 'it_onu', 'en_eroded', 'it_improvvisamente', 'en_distribution', 'en_partly', 'it_riff', 'it_mauritius', 'en_slovak', 'en_webbed', 'en_batteries', 'en_watched', 'it_situ', 'it_minerali', 'en_howard', 'it_adattamenti', 'it_adattamento', 'en_illegally', 'it_sita', 'it_sito', 'en_vance', 'en_biodiversity', 'en_allegations', 'it_preferisce', 'en_ignorant', 'it_perugia', 'it_ponte', 'en_handheld', 'en_specification', 'it_salvatore', 'it_pusher', 'it_ponti', 'it_lingue', 'it_lingua', 'it_margraviato', 'it_rivitalizzare', 'en_aesthetic', 'en_craft', 'it_volusia', 'en_barons', 'it_slovenia', 'it_vincere', 'en_tidal', 'en_drivers', 'en_gets', 'it_correlazione', 'it_cemento', 'it_eletta', 'it_eletto', 'en_museums', 'en_perceived', 'en_theme', 'en_digested', 'it_digby', 'it_riapre', 'it_guancia', 'it_finite', 'it_effimero', 'en_gospels', 'it_gil', 'en_herrick', 'en_tropical', 'en_widening', 'it_gia', 'en_dedicating', 'en_kilometers', 'it_grassetto', 'it_terribili', 'en_assistance', 'it_terribile', 'it_abbattimento', 'en_speakers', 'en_childhood', 'en_consulting', 'en_flags', 'en_fmri', 'en_towards', 'it_gemelli', 'it_gemello', 'it_gemelle', 'en_petition', 'en_cryptographer', 'en_autistic', 'en_gland', 'it_dio', 'it_din', 'it_catlin', 'en_autonomist', 'it_die', 'en_traffic', 'en_scholars', 'en_tone', 'it_vendite', 'it_boiardo', 'it_emmanuel', 'en_special', 'it_esistere', 'it_digitali', 'en_tons', 'en_francium', 'it_popoli', 'en_affluent', 'en_suppliers', 'it_temendo', 'it_garibaldi', 'en_trousers', 'en_biofuel', 'en_channel', 'it_nordest', 'en_position', 'it_neurone', 'en_reconstituted', 'it_quadrato', 'it_smedley', 'en_brandenburg', 'en_atlanta', 'it_sintetico', 'en_fernand', 'it_nakayoshi', 'en_republics', 'it_calcolare', 'it_esponente', 'en_arsenal', 'it_leonard', 'it_supponiamo', 'it_spaccato', 'it_carmine', 'en_honor', 'it_aliz\\xc3\\xa9e', 'it_tecnologia', 'it_bosoni', 'it_alternativamente', 'en_contender', 'it_palmolive', 'en_impetus', 'it_luis', 'en_fear', 'en_excluding', 'en_fyodorov', 'it_molti', 'it_molto', 'it_molte', 'it_hammer', 'it_sistematico', 'it_sistematica', 'en_religious', 'en_proverbs', 'it_terzo', 'en_administers', 'it_terza', 'it_immediata', 'en_determinants', 'en_revolution', 'it_disgrazia', 'en_edward', 'it_congiunzione', 'en_bulgaria', 'en_humanities', 'en_romans', 'en_contains', 'it_blockbuster', 'en_chaotic', 'en_bill', 'en_bilt', 'en_announcement', 'en_loyalists', 'it_bande', 'it_pur', 'it_banda', 'en_hypothesis', 'it_pub', 'it_vivre', 'en_prehistoric', 'en_outstanding', 'it_messenger', 'en_turning', 'it_grido', 'en_historians', 'it_trionfo', 'it_prosperit\\xc3\\xa0', 'it_trionfi', 'it_stratovulcano', 'it_krosno', 'it_pete', 'en_station', 'en_propagandist', 'en_disbarred', 'it_dimorfismo', 'it_veronese', 'en_posed', 'en_yards', 'en_mystery', 'en_poses', 'it_multi', 'it_augustin', 'it_dicerie', 'it_superando', 'en_romanticism', 'it_recuperare', 'it_sciatore', 'it_iniziali', 'it_bindi', 'en_barbarossa', 'en_ellington', 'en_particularly', 'it_iniziale', 'en_dha', 'it_tendenza', 'it_tendenze', 'en_collection', 'en_chromosomes', 'en_reluctantly', 'en_finish', 'en_glasses', 'it_religiosa', 'it_religioso', 'it_normalit\\xc3\\xa0', 'it_religiosi', 'it_mandato', 'it_mandati', 'it_provocati', 'en_misogyny', 'it_provocato', 'en_killing', 'en_diogenes', 'it_bergman', 'it_eretto', 'it_sbarco', 'en_ancestral', 'en_chemical', 'en_isabel', 'it_diploma', 'en_rhythmic', 'it_riferimenti', 'it_riferimento', 'it_dry', 'en_ene', 'en_end', 'it_segmento', 'it_segmenti', 'en_malone', 'en_fragility', 'en_accelerator', 'it_oder', 'en_phenomenal', 'it_roman', 'en_suggests', 'en_cass', 'en_cast', 'en_cash', 'it_girls', 'it_trascinare', 'en_case', 'en_nonexistent', 'it_magi', 'it_mago', 'en_prime', 'en_initiatives', 'it_miguel', 'it_trasparenza', 'en_admired', 'it_rubare', 'en_chang', 'en_wander', 'en_mario', 'en_form', 'en_mechanism', 'en_ford', 'en_cationic', 'en_maria', 'it_canada', 'en_delays', 'en_fort', 'en_slight', 'en_livingston', 'it_uffizi', 'en_expenses', 'en_killers', 'it_notato', 'en_bergman', 'en_silk', 'en_insular', 'it_innovazione', 'it_espressamente', 'en_oesophagus', 'en_materialism', 'en_healthy', 'en_genomics', 'it_infortuni', 'it_croci', 'it_navale', 'it_disperato', 'it_disperata', 'it_supervisione', 'it_croce', 'en_lovell', 'it_leon', 'en_celibacy', 'en_vary', 'it_sottomissione', 'it_ripiano', 'en_exhausting', 'en_arete', 'it_sacchi', 'it_articolare', 'en_impartial', 'en_closeness', 'en_candidacy', 'it_puramente', 'it_molecolare', 'en_frontal', 'it_imenotteri', 'it_coniato', 'en_iodine', 'en_occupation', 'en_monarch', 'en_recorded', 'it_barman', 'en_recorder', 'it_hackett', 'en_hay', 'en_mats', 'it_indelebile', 'en_hat', 'it_fuoco', 'it_gomez', 'en_ham', 'en_hal', 'it_ennesimo', 'en_collision', 'it_liuto', 'en_mate', 'en_had', 'en_altering', 'it_porno', 'it_permettendo', 'it_nysa', 'it_altrove', 'it_protocolli', 'it_protocollo', 'it_clero', 'en_breckinridge', 'it_mya', 'en_agave', 'en_recession', 'en_hardcore', 'it_alterazioni', 'en_urheimat', 'en_necessarily', 'it_ministro', 'en_twin', 'en_doctors', 'en_motor', 'en_imu', 'it_giacomo', 'en_misrepresented', 'it_opta', 'en_nozick', 'en_consideration', 'it_pontefice', 'it_mabel', 'en_ardent', 'en_cult', 'it_akatsuki', 'en_haas', 'en_litter', 'en_accidents', 'it_varie', 'en_statuette', 'en_spanned', 'it_vario', 'en_impunity', 'it_religione', 'en_ferries', 'en_commonly', 'it_fenerbah\\xc3\\xa7e', 'en_gurley', 'en_all', 'en_globe', 'it_fran', 'en_imposition', 'en_invent', 'en_reciprocity', 'it_euro', 'en_pertinent', 'en_desert', 'it_decisivo', 'en_tabs', 'en_paul', 'it_decisiva', 'it_scritti', 'it_scritto', 'it_scritta', 'it_scarabeo', 'en_argue', 'it_scritte', 'it_perry', 'it_policrate', 'en_physics', 'it_compilata', 'en_access', 'en_bronze', 'en_banu', 'en_pressures', 'en_cigarettes', 'it_parallelo', 'it_paralleli', 'en_bang', 'en_band', 'en_bank', 'en_incentives', 'en_thalia', 'en_proposed', 'it_ciascuna', 'en_greenberg', 'it_ciascuno', 'en_cin\\xc3\\xa9ma', 'it_nani', 'it_coniugazione', 'en_socially', 'en_proposes', 'en_proposer', 'en_tomorrow', 'en_spreading', 'en_stowage', 'en_built', 'en_grosseteste', 'it_roma', 'en_legislator', 'en_lawyer', 'it_bacini', 'en_build', 'it_bacino', 'it_abbattuti', 'en_infant', 'en_harvey', 'it_operette', 'en_laryngeal', 'en_vehicle', 'en_buzz', 'it_manifestare', 'en_burnside', 'it_vocale', 'it_siracusa', 'en_giving', 'it_prodotto', 'it_prodotti', 'en_psychoactive', 'en_stealing', 'it_prodotta', 'it_arrogante', 'en_sweeps', 'en_volunteering', 'it_catamarca', 'it_gigas', 'it_vitebsk', 'en_olympia', 'en_olympic', 'en_footsteps', 'it_pellicano', 'en_poems', 'en_suspected', 'it_prosser', 'it_talleri', 'en_manor', 'it_dorsale', 'en_palatal', 'en_intercession', 'en_hong', 'en_shocked', 'en_louisiana', 'it_aosta', 'it_indo', 'it_definisce', 'en_epithelial', 'it_mantova', 'en_involve', 'en_dramatically', 'it_kuomintang', 'it_paltrow', 'it_aviv', 'en_recommendation', 'it_tributo', 'it_agostini', 'it_agostino', 'en_coined', 'it_leptoni', 'it_tesoro', 'it_insulti', 'it_insulto', 'en_blount', 'en_constantine', 'it_eruzione', 'it_csar', 'en_europe', 'it_eruzioni', 'en_concentrations', 'en_beyonce', 'en_vocation', 'it_innocenti', 'en_abstract', 'it_onnipresente', 'it_innocente', 'en_drown', 'it_cmyk', 'en_discuss', 'en_catastrophes', 'en_nude', 'en_dormant', 'en_columbian', 'en_segregated', 'it_circondano', 'en_melvin', 'it_intrapresi', 'en_numerator', 'it_patetici', 'en_aberrant', 'en_demanded', 'en_cinematic', 'en_xlvi', 'en_perceptions', 'it_pennacchi', 'en_mobilized', 'en_wru', 'en_cfc', 'en_cfb', 'en_cfa', 'en_batches', 'en_dependent', 'en_cultivars', 'it_basket', 'it_consolidamento', 'it_sigle', 'en_telex', 'it_mediterraneo', 'it_denunciare', 'it_divulgazione', 'en_astor', 'en_semifinals', 'en_daughters', 'en_kuerten', 'en_waist', 'it_sapiente', 'it_staffetta', 'it_coltivati', 'it_shi', 'en_andrei', 'it_per\\xc3\\xb9', 'en_compliance', 'en_rescue', 'en_andrey', 'en_borlaug', 'en_andrew', 'en_paintings', 'it_dubbi', 'en_neurology', 'en_discovery', 'en_maintaining', 'en_formic', 'en_discovers', 'it_atterraggio', 'it_carit\\xc3\\xa0', 'it_cooperazione', 'it_sparatorie', 'it_cont\\xc3\\xa9', 'it_compositore', 'it_tsuburaya', 'it_opposizioni', 'en_geodesy', 'it_taddeo', 'it_opposizione', 'en_supremacy', 'it_diagonale', 'en_identifies', 'en_salman', 'it_neumark', 'it_mere', 'it_graafschap', 'it_accompagnano', 'it_rossana', 'en_corporation', 'it_totalmente', 'it_irriverente', 'en_identified', 'it_merz', 'it_rappresentare', 'it_mers', 'en_bourgeois', 'en_equitable', 'en_effective', 'en_turquoise', 'it_bellavista', 'it_rieder', 'it_embargo', 'en_middle', 'it_cucina', 'en_followers', 'en_targeted', 'en_nicholson', 'en_growing', 'en_islamic', 'en_objection', 'en_supreme', 'en_mutilation', 'en_shrines', 'it_mandorla', 'en_mostaganem', 'en_nourishing', 'en_belz', 'en_belt', 'en_aware', 'en_spoils', 'it_cacciare', 'en_involved', 'en_complicate', 'en_broadcasts', 'en_escape', 'en_undisciplined', 'en_aka', 'en_flooring', 'it_houston', 'en_several', 'it_crescere', 'en_dictionaries', 'it_cartier', 'it_classificata', 'it_povero', 'en_bulging', 'en_halakha', 'it_classificati', 'it_classificato', 'en_worshiped', 'it_imperatore', 'it_istanbul', 'it_vieta', 'it_xenofobi', 'en_represent', 'it_rimane', 'it_adatto', 'it_adatti', 'it_guarda', 'it_livonia', 'en_tantrums', 'it_carnevale', 'en_malleable', 'en_eskimo', 'it_man', 'it_blue', 'en_ahad', 'en_ajax', 'en_stolen', 'en_humans', 'it_contaminanti', 'en_rivers', 'en_natalya', 'en_resulting', 'it_rosso', 'it_rossi', 'en_filmmakers', 'en_punic', 'it_rosse', 'it_davanzale', 'it_rossa', 'en_paraphyletic', 'en_compelled', 'en_flight', 'it_pupe', 'en_sylvester', 'it_lucia', 'en_nous', 'it_lucio', 'it_ovopositore', 'it_eastwick', 'en_win', 'en_toscanini', 'en_sahel', 'it_confiscato', 'en_looks', 'it_confiscate', 'en_volume', 'en_sinai', 'it_pomeriggio', 'en_johnston', 'en_octet', 'en_pistols', 'en_quarters', 'en_eligible', 'it_ammorbidire', 'en_tales', 'it_nicholas', 'it_atacama', 'en_ammonium', 'en_odd', 'en_warnings', 'it_strato', 'it_strati', 'en_pin', 'en_pia', 'en_pig', 'it_romero', 'it_costanza', 'it_androidi', 'it_costanzo', 'it_disastrosamente', 'it_proclam\\xc3\\xb2', 'en_annex', 'it_cocco', 'en_antipsychotic', 'it_scorciatoie', 'en_weapon', 'en_intuition', 'en_potentials', 'en_injury', 'it_johnson', 'en_slavery', 'en_poverty', 'it_aprile', 'it_valentina', 'it_valentine', 'it_valentino', 'en_temperate', 'en_navarre', 'en_creatures', 'it_prova', 'en_satyr', 'it_prove', 'en_ventura', 'en_agha', 'en_recovered', 'en_lion', 'it_episodi', 'it_flotta', 'en_motivating', 'it_flotte', 'en_partners', 'it_cerca', 'it_riduttore', 'it_landsberg', 'it_bundesbahn', 'en_submitted', 'en_notions', 'it_balmes', 'en_vedanta', 'en_overland', 'en_agnew', 'en_reservations', 'it_pannelli', 'it_registrazioni', 'it_pannella', 'en_djokovic', 'it_eleonora', 'en_equity', 'en_unknown', 'en_atmospheres', 'it_tasso', 'it_tasse', 'it_autobiografico', 'it_caricatura', 'it_caricature', 'en_blue', 'en_binder', 'it_scoperte', 'en_guide', 'it_scoperta', 'it_scoperto', 'en_jump', 'it_scoperti', 'en_signal', 'en_analog', 'en_philby', 'it_errato', 'it_errata', 'en_assassins', 'en_vulnerability', 'it_dipinta', 'en_rosette', 'en_pickford', 'en_incompatibility', 'it_dipinti', 'it_dipinto', 'en_presence', 'en_shelby', 'it_jefferson', 'it_sabato', 'en_academy', 'it_ecuador', 'en_railway', 'it_direttamente', 'en_undertake', 'it_uta', 'it_tarso', 'it_utf', 'it_noel', 'it_incolpa', 'en_operative', 'en_andrena', 'en_planning', 'en_trying', 'en_estimator', 'en_exemption', 'it_benzina', 'en_twist', 'it_supposizione', 'en_melt', 'en_cabinet', 'en_babel', 'it_televoto', 'it_trilogia', 'it_scavolini', 'it_elettrico', 'en_ownership', 'en_glagolitic', 'it_jind\\xc5\\x99ich\\xc5\\xafv', 'en_statutes', 'en_peer', 'it_chitarra', 'it_carter', 'it_disuso', 'it_sociale', 'en_positively', 'it_fogli', 'it_menzione', 'en_radioactive', 'en_victorian', 'it_chandler', 'en_stained', 'en_obvious', 'it_mussolini', 'en_owners', 'en_appropriate', 'it_carol', 'en_quickly', 'en_elemental', 'it_chomsky', 'en_surname', 'it_uomo', 'it_capacit\\xc3\\xa0', 'it_idolo', 'en_writer', 'en_writes', 'en_lens', 'en_hellenistic', 'it_cappellano', 'en_armed', 'en_habitats', 'it_cominci\\xc3\\xb2', 'it_accettato', 'it_accettata', 'it_convoglio', 'it_accettate', 'it_oklahoma', 'en_colour', 'en_reelected', 'it_jung', 'it_juni', 'en_outreach', 'it_dadi', 'it_juno', 'en_achaeans', 'it_durevole', 'it_appennino', 'it_bassista', 'en_jeremiah', 'en_archaea', 'it_caveau', 'en_interfere', 'it_ognuno', 'en_orchestra', 'it_goti', 'it_walker', 'en_innate', 'it_cannata', 'en_stravinsky', 'it_promo', 'en_courageous', 'it_neve', 'en_interference', 'en_animator', 'en_plutarch', 'it_sheikh', 'en_intensive', 'en_absences', 'en_alphabet', 'it_immagini', 'en_edinburgh', 'it_immagine', 'en_aleister', 'it_pullman', 'it_maiuscole', 'it_anni', 'it_beneficenza', 'it_anno', 'it_maiuscola', 'it_madagascar', 'en_irreparably', 'it_anna', 'it_anne', 'en_worn', 'en_patent', 'en_consisted', 'en_enthusiasm', 'en_command', 'it_sigmund', 'it_kaiju', 'en_americans', 'it_gloria', 'en_moment', 'en_amber', 'it_membri', 'it_membro', 'en_defective', 'it_schalke', 'en_sacrilege', 'it_pubblicare', 'it_dissidenti', 'en_urine', 'it_olimpia', 'en_voters', 'it_yoshizumi', 'it_fluido', 'it_fluidi', 'en_tracks', 'it_collezionare', 'it_campana', 'en_crops', 'en_freezing', 'it_revisione', 'it_considerevole', 'it_revisioni', 'it_stalin', 'en_rarity', 'en_accepted', 'en_compare', 'it_brain', 'en_davis', 'it_violino', 'it_genealogia', 'en_david', 'en_parameter', 'it_dollaro', 'en_translated', 'it_dollari', 'en_commentators', 'en_pella', 'en_translates', 'it_auguste', 'it_augusta', 'en_clifford', 'it_decisi', 'it_deciso', 'en_telegram', 'en_macroscopic', 'it_decise', 'en_looked', 'it_carioca', 'en_estimate', 'en_gone', 'en_olmec', 'en_burning', 'en_scroll', 'en_engaging', 'en_developments', 'it_inconsapevole', 'en_building', 'it_gu\\xc3\\xa9non', 'en_engraved', 'it_fato', 'en_heading', 'en_semesters', 'en_spouses', 'it_edwards', 'en_pons', 'it_uovo', 'it_periferia', 'en_mia', 'it_uova', 'en_mystic', 'it_alkmaar', 'en_beliefs', 'en_pond', 'it_tangenziale', 'it_concei\\xc3\\xa7\\xc3\\xa3o', 'it_aria', 'en_bolsheviks', 'it_daisley', 'it_psicoanalisi', 'en_observer', 'it_aggiornamenti', 'it_cherubini', 'it_aggiornamento', 'it_pregiati', 'en_dialogue', 'it_traduzioni', 'it_salari', 'en_kiosks', 'it_oggi', 'en_gender', 'it_traduzione', 'it_contrazioni', 'it_determinante', 'it_manifestando', 'en_mathematicians', 'en_hopkinsville', 'it_horst', 'en_disadvantaged', 'it_separazione', 'en_eliot', 'it_suolo', 'it_suoli', 'en_tutor', 'en_armchair', 'en_spectroscopy', 'it_lindau', 'en_thighs', 'it_experience', 'it_sciopero', 'en_microscopic', 'it_coltivatori', 'en_informally', 'en_bronis\\xc5\\x82aw', 'it_anteriore', 'en_disulfide', 'it_eurolega', 'en_hornet', 'en_anyway', 'en_mammalian', 'en_horned', 'en_cattle', 'it_saturn', 'en_warburg', 'it_avere', 'it_brutta', 'en_jumps', 'it_granate', 'en_solar', 'en_disarmament', 'it_trascurare', 'it_quad', 'en_treaty', 'it_chengdu', 'en_best', 'en_strange', 'en_sympathy', 'en_rugged', 'it_purificazione', 'it_uccide', 'en_chapters', 'en_borghese', 'en_walkers', 'it_kaiser', 'en_detectors', 'it_simulatore', 'it_brizzi', 'en_weaknesses', 'en_porous', 'en_externally', 'en_holmes', 'it_terracina', 'en_celebrations', 'en_authorized', 'it_invincibili', 'en_sauces', 'en_continually', 'en_substances', 'it_pedone', 'it_swift', 'it_pedoni', 'it_quito', 'en_aphrodite', 'it_venezia', 'it_ingiusta', 'en_russell', 'it_ricerche', 'en_arrest', 'it_cortese', 'en_discourse', 'en_disappointments', 'it_philidor', 'en_corollary', 'it_princesa', 'en_bits', 'it_fantasma', 'en_dupree', 'en_iceland', 'en_bite', 'it_diffondere', 'en_chadli', 'it_perpetrati', 'it_armas', 'it_necessaria', 'it_necessarie', 'it_kriss', 'it_necessario', 'en_reviews', 'en_scored', 'en_volcanoes', 'en_scores', 'en_diagnose', 'en_anxiety', 'en_molasses', 'en_consolidated', 'en_inconsistency', 'it_caproni', 'en_produces', 'it_giornalista', 'en_chief', 'it_prix', 'it_giornalisti', 'it_persona', 'it_persone', 'en_produced', 'en_omitted', 'en_remains', 'en_tigrinya', 'en_pilkington', 'en_dishes', 'en_sediment', 'it_arance', 'it_guarisce', 'en_nomenclature', 'en_magnificent', 'it_sindaco', 'it_assistente', 'en_schlesinger', 'en_garsington', 'it_strauss', 'en_simms', 'en_abnormal', 'it_quando', 'it_famose', 'en_collectors', 'it_hahn', 'en_supports', 'en_crop', 'en_crow', 'en_dollar', 'it_omettendo', 'it_rispettando', 'it_terminator', 'en_recovery', 'en_reflection', 'en_carolina', 'en_caroline', 'it_cresciuto', 'it_diminuisce', 'en_values', 'en_exports', 'en_seattle', 'en_ivan', 'en_valued', 'en_inflate', 'it_trasmette', 'en_connections', 'en_families', 'it_testimonial', 'en_particular', 'en_rublev', 'en_nasal', 'it_tifare', 'it_deficit', 'en_intervenes', 'en_pervades', 'it_digiuno', 'en_reluctance', 'it_canali', 'it_goffredo', 'en_forging', 'en_borough', 'it_canale', 'it_pasi', 'en_tree', 'en_stuffing', 'it_nicchie', 'it_acquatici', 'it_nicchia', 'it_moros', 'en_nerve', 'en_appeals', 'en_michael', 'it_restituzione', 'it_sceglie', 'en_heidi', 'it_interpretate', 'it_mariotti', 'it_gotha', 'en_circumcision', 'it_riccio', 'it_posseduto', 'it_posseduta', 'it_praticamente', 'it_interprovinciale', 'it_possedute', 'it_rigori', 'it_rigore', 'en_iconic', 'en_delight', 'en_garter', 'en_grammar', 'it_cadenza', 'it_cadenze', 'en_planets', 'it_ricercatori', 'it_armamenti', 'it_svensson', 'it_track', 'en_widows', 'en_foner', 'en_fiscal', 'it_guai', 'it_zero', 'it_letteralmente', 'it_concorso', 'it_geometriche', 'en_franz', 'en_franc', 'en_frank', 'en_acacias', 'en_friendly', 'it_bona', 'it_bond', 'en_irreconcilable', 'it_boni', 'it_bonn', 'it_bono', 'en_determination', 'it_pizzo', 'en_reformation', 'it_quaranta', 'en_considering', 'en_his', 'it_posillipo', 'en_mala', 'en_dose', 'en_tucker', 'en_male', 'en_mali', 'en_him', 'en_college', 'en_unique', 'en_polyethylene', 'it_panavia', 'it_zanussi', 'en_draw', 'it_vita', 'it_vite', 'en_euthanasia', 'en_girona', 'en_numidia', 'en_companion', 'en_village', 'en_transforming', 'en_greeted', 'en_deep', 'it_mortara', 'it_douro', 'it_schwarzenegger', 'en_severity', 'it_compresa', 'en_adventure', 'it_gialla', 'it_hsu', 'it_commercializzazione', 'it_amt', 'it_compresi', 'it_compreso', 'it_comunit\\xc3\\xa0', 'en_inspected', 'it_ragazzi', 'en_referral', 'it_ragazzo', 'it_ami', 'it_ragazza', 'it_ragazze', 'it_ama', 'en_saturated', 'en_interacting', 'en_jannings', 'it_browning', 'it_suggerimento', 'it_risultati', 'it_risultato', 'en_commissioner', 'en_surfaces', 'en_conveyor', 'en_rods', 'en_duration', 'en_undergoes', 'en_degenerate', 'en_playwright', 'it_tanaka', 'it_analogamente', 'en_land', 'en_lane', 'en_arseny', 'en_symbiont', 'en_due', 'it_nel', 'it_neo', 'en_triple', 'en_deduce', 'en_poseidon', 'it_patroni', 'it_julienne', 'en_imagined', 'en_move', 'it_sopportato', 'it_reso', 'it_resi', 'en_abundance', 'en_cove', 'it_mancini', 'it_resa', 'en_opening', 'en_arjun', 'it_isoforma', 'en_overturned', 'it_ambientali', 'it_donatori', 'en_syriac', 'en_future', 'it_corporation', 'en_logical', 'it_venditori', 'en_eye', 'en_anomaly', 'en_suspicion', 'it_diego', 'en_walter', 'en_hired', 'en_lentils', 'en_humanity', 'en_yasmina', 'it_albania', 'it_classic', 'it_densamente', 'en_frenzied', 'en_badge', 'en_recipe', 'it_smithsonian', 'it_mato', 'it_localizzate', 'it_ives', 'en_angrily', 'it_localizzati', 'en_article', 'en_guard', 'it_wanda', 'it_matt', 'en_berzelius', 'it_antenne', 'it_tercera', 'en_bushes', 'en_g\\xc3\\xa9ricault', 'en_officials', 'it_fiducia', 'it_bloccata', 'en_greenspan', 'it_bloccato', 'it_bloccati', 'en_electron', 'en_respondent', 'it_bretagna', 'it_stanco', 'it_sovrani', 'it_ottenute', 'it_ottenuta', 'it_ottenuto', 'it_cff', 'it_ottenuti', 'it_continuare', 'it_corteo', 'en_precise', 'it_impermeabile', 'en_civilisation', 'it_nativit\\xc3\\xa0', 'en_similarities', 'en_adjectives', 'it_differenzia', 'it_dovrebbero', 'en_hemoglobin', 'en_fled', 'en_flee', 'en_highway', 'en_albert', 'en_flew', 'it_paesano', 'en_falsified', 'it_yang', 'en_adjust', 'it_cotta', 'en_balearic', 'it_psicologia', 'it_politici', 'en_possession', 'en_anticipation', 'it_cotto', 'it_emporio', 'it_best', 'en_grieving', 'en_wien', 'en_wrath', 'it_cabine', 'it_magra', 'en_directing', 'en_reared', 'it_cristoforo', 'it_accredito', 'en_deeds', 'it_consumate', 'it_moderato', 'it_consumato', 'it_cambiata', 'en_blindness', 'en_sacrificial', 'it_preparativi', 'it_cath\\xc3\\xa9drale', 'it_diciassette', 'it_accessi', 'it_accesso', 'it_divenne', 'en_diffusion', 'en_citadel', 'it_fighter', 'en_inferior', 'en_expansion', 'en_insists', 'en_repatriation', 'en_remained', 'en_flyer', 'en_weller', 'it_east', 'it_sfortuna', 'en_kilograms', 'en_unsaturated', 'it_easy', 'it_spirito', 'en_colouring', 'en_croesus', 'it_crawford', 'it_schirra', 'it_delusa', 'en_sesame', 'en_learning', 'en_null', 'en_popularly', 'it_interior', 'it_particelle', 'it_particella', 'en_pencil', 'it_maubeuge', 'it_parentesi', 'it_rischiato', 'en_ipm', 'en_hate', 'en_course', 'en_vices', 'en_rival', 'en_plato', 'en_splashing', 'it_spiegel', 'it_emozionato', 'en_plate', 'it_germanico', 'en_paramount', 'en_evans', 'en_regulating', 'it_cerchi', 'en_bray', 'en_brad', 'en_cnt', 'it_floyd', 'en_behind', 'it_telekom', 'it_promuove', 'en_welding', 'en_difference', 'it_sventato', 'it_esplicitamente', 'it_attraversare', 'it_raccolte', 'it_raccolta', 'it_raccolto', 'it_raccolti', 'en_carbohydrate', 'it_cecco', 'en_canada', 'it_afghanistan', 'en_pronouns', 'en_integer', 'it_predefinito', 'en_revive', 'it_musiche', 'en_sailed', 'it_hsiung', 'en_clients', 'it_fiscale', 'it_bozze', 'it_instabili', 'en_owens', 'it_scadenza', 'it_esagoni', 'en_eating', 'en_drunken', 'en_distillate', 'it_campanella', 'it_fusa', 'it_audacia', 'it_fuso', 'it_bevanda', 'it_sutton', 'it_sporco', 'it_casino', 'it_rivenditori', 'it_incitamento', 'en_phonetically', 'it_matematici', 'it_rielaborazione', 'it_casella', 'en_pollen', 'it_caselle', 'en_jargon', 'en_pipelines', 'it_flavio', 'it_cisterna', 'en_poker', 'it_personalit\\xc3\\xa0', 'it_flavia', 'en_locker', 'it_rapido', 'it_rapida', 'it_cappellania', 'it_ritratti', 'it_ritratto', 'en_locked', 'en_chemically', 'it_pidocchi', 'it_resistenza', 'it_resistenze', 'en_anchorage', 'it_sufficiente', 'en_temporarily', 'it_sufficienti', 'en_caduceus', 'it_esercitazione', 'it_bernardo', 'it_alejandro', 'it_culle', 'it_culla', 'it_superpotenze', 'it_costoso', 'en_proclaimed', 'en_act', 'en_aca', 'it_propaganda', 'en_ace', 'en_ack', 'it_mondo', 'it_inseguire', 'en_independent', 'it_sottufficiali', 'en_maintain', 'it_rafforzare', 'en_items', 'en_muslims', 'en_cephalopod', 'it_altamente', 'en_hearings', 'en_explosions', 'it_termica', 'en_narrow', 'en_aboriginal', 'en_defender', 'it_cancelliere', 'it_manipolazioni', 'en_defended', 'it_rifiutare', 'it_valuta', 'en_geology', 'en_blame', 'en_repetition', 'en_attracting', 'it_chiusura', 'it_icaro', 'en_minority', 'en_comments', 'it_conflitto', 'it_cook', 'en_buddhists', 'it_cinecitt\\xc3\\xa0', 'it_conflitti', 'en_grauman', 'it_honduras', 'en_improper', 'it_responsabilit\\xc3\\xa0', 'en_riedel', 'en_scientifically', 'en_certainly', 'en_henkel', 'it_proventi', 'it_miei', 'en_alum', 'it_propensione', 'en_decade', 'it_stra\\xc3\\x9fe', 'en_district', 'en_behaviour', 'it_afghani', 'it_afghano', 'en_assigned', 'it_organo', 'en_wax', 'en_way', 'en_wat', 'en_war', 'en_was', 'en_investigated', 'it_circolazione', 'en_plan', 'en_sour', 'it_pietoso', 'en_gross', 'it_channel', 'en_soul', 'en_belonging', 'en_souk', 'en_binders', 'it_grotta', 'it_compensati', 'it_esistenza', 'en_milland', 'en_sustainability', 'en_peroxides', 'it_addestramento', 'en_protagonists', 'en_reveals', 'it_importanza', 'en_pad', 'en_tragic', 'en_pan', 'en_pas', 'it_ontologia', 'en_ethnography', 'en_pay', 'it_gondi', 'it_stagionale', 'it_simbologia', 'en_maximilien', 'en_enjoyed', 'it_detentore', 'en_virgin', 'it_pechino', 'it_estrema', 'it_estreme', 'it_estremi', 'en_edmond', 'it_estremo', 'it_iene', 'it_connecticut', 'en_trends', 'en_spending', 'it_fune', 'it_attuale', 'en_dante', 'it_guevara', 'it_volontariamente', 'it_dodici', 'it_attuali', 'it_manoscritto', 'en_disobedience', 'it_steinitz', 'en_surrender', 'it_gestisce', 'it_april', 'it_precisamente', 'en_bishop', 'it_dando', 'en_elderly', 'en_decision', 'it_locke', 'en_ignition', 'it_astro', 'en_mysia', 'en_baked', 'en_macdonald', 'en_disappointed', 'en_lizard', 'it_jpg', 'en_zooplankton', 'en_old', 'en_humanitarian', 'en_importation', 'it_crump', 'en_flying', 'en_prisons', 'en_habitat', 'it_spettatori', 'en_soils', 'en_etching', 'en_baker', 'it_contrario', 'it_contabili', 'it_studiato', 'it_studiati', 'it_studiate', 'it_dichiarare', 'it_comporta', 'it_studiata', 'en_suffix', 'en_argentina', 'en_exporting', 'en_argentine', 'it_dichiara', 'en_jokes', 'it_nucleo', 'it_allarme', 'it_nuclei', 'en_nominally', 'it_ricreazione', 'it_appartiene', 'it_vaughan', 'en_saxophone', 'it_gobbo', 'en_syllabic', 'en_aleph', 'en_iconoclast', 'it_paso', 'it_emc', 'en_heidegger', 'en_fertility', 'it_levitazione', 'en_defenseless', 'it_nomi', 'it_nome', 'en_nergal', 'it_arpad', 'en_latrine', 'en_proteins', 'en_trail', 'en_train', 'en_vascular', 'it_bel', 'it_ben', 'it_bei', 'it_bee', 'en_clemson', 'it_bey', 'it_bev', 'en_mart\\xc3\\xad', 'it_evaporare', 'en_bless', 'it_calzatura', 'en_inspiration', 'en_macaque', 'it_malga', 'it_sovrano', 'en_centre', 'it_sovrane', 'en_tendency', 'en_andr\\xc3\\xa9s', 'en_lunge', 'en_seems', 'en_husband', 'en_devising', 'it_freud', 'en_lungs', 'en_adonis', 'en_hung', 'en_attica', 'en_guild', 'en_hunt', 'en_guilt', 'it_commercialista', 'it_kenji', 'en_backers', 'en_titov', 'it_matematica', 'it_matematico', 'en_culling', 'it_paura', 'it_bevande', 'en_song', 'en_standard', 'en_mineral', 'en_levy', 'en_sons', 'it_xviii', 'en_levi', 'it_benjy', 'it_romagna', 'en_seaplane', 'en_semantic', 'en_precede', 'en_lucretius', 'it_lungolago', 'it_rilievi', 'it_inutilizzabile', 'en_hanks', 'it_alexis', 'en_bright', 'en_evacuation', 'it_isolani', 'it_liberazione', 'en_lucifer', 'it_rimbalzi', 'it_rimbalzo', 'it_sviluppare', 'en_zidane', 'en_exist', 'it_compare', 'it_elektro', 'it_araldica', 'it_dall', 'en_cladistics', 'en_wire', 'it_marchiati', 'it_esempio', 'en_bacon', 'en_hyakutake', 'en_lying', 'it_vinto', 'it_paramaribo', 'it_vukovich', 'it_esaustiva', 'en_winters', 'en_offers', 'it_enzima', 'it_refrigerato', 'en_speculation', 'en_parody', 'it_massima', 'en_parentheses', 'it_trabeazione', 'en_thyssenkrupp', 'it_ecosistema', 'en_hymn', 'en_camped', 'en_bedouin', 'it_victoire', 'it_gene', 'en_plague', 'it_prevalenti', 'it_lira', 'it_lire', 'it_liri', 'en_everyone', 'en_sol', 'en_som', 'en_son', 'en_sox', 'en_karma', 'en_uncompromising', 'en_boulanger', 'it_federazioni', 'it_federazione', 'en_statements', 'it_sintesi', 'it_intende', 'en_cliff', 'it_celeste', 'en_warner', 'en_jesse', 'it_safavide', 'en_warned', 'en_allah', 'it_valor', 'en_reconciling', 'it_tcm', 'it_attirati', 'en_valeri', 'en_michel', 'it_fritz', 'it_side', 'it_hoffenheim', 'en_cavities', 'it_sidi', 'en_commendation', 'en_conformation', 'it_comunicare', 'it_ltd', 'it_tarzan', 'en_tribune', 'it_liquefazione', 'en_thanks', 'it_andato', 'en_stalinist', 'en_gastrointestinal', 'en_daytime', 'en_danger', 'it_prevenzione', 'en_accurate', 'it_dirige', 'en_nevins', 'it_kapp', 'en_blend', 'it_cile', 'it_birra', 'en_olympics', 'it_riva', 'en_friday', 'it_croste', 'en_radical', 'it_celio', 'it_modalit\\xc3\\xa0', 'it_circle', 'en_welfare', 'en_visited', 'en_balliol', 'it_fedeli', 'it_effusiva', 'en_vowels', 'en_engravings', 'en_message', 'en_intellect', 'en_bystander', 'en_ethnologue', 'en_remsen', 'it_correnti', 'en_inca', 'it_corrente', 'it_talvolta', 'en_hummingbird', 'en_forgotten', 'en_interact', 'en_crushed', 'en_skins', 'en_from', 'en_wave', 'en_frog', 'it_atolli', 'en_flax', 'it_sesta', 'en_sack', 'en_wavy', 'it_promessi', 'it_promesse', 'it_sesto', 'it_promessa', 'en_miller', 'en_millet', 'it_vivere', 'en_sequence', 'it_patriarcato', 'en_cessna', 'en_evidently', 'en_environmental', 'en_liter', 'it_kling', 'en_ants', 'it_lavoratore', 'en_editorial', 'en_debris', 'it_inesistente', 'en_lyman', 'en_anti', 'it_postumia', 'it_reversibile', 'en_montana', 'en_surely', 'en_facing', 'en_wilder', 'it_tremonti', 'en_scare', 'en_marxism', 'en_vertebrate', 'en_claims', 'en_constitutional', 'en_collapses', 'en_teacher', 'en_teaches', 'en_shareholders', 'en_collapsed', 'it_inoltre', 'en_certified', 'it_facendo', 'en_solid', 'en_stew', 'it_investigare', 'en_step', 'en_vela', 'en_stem', 'en_jackal', 'en_exploring', 'it_divergenti', 'it_patricia', 'en_individual', 'en_syncretic', 'en_canoes', 'it_quiz', 'it_nistelrooy', 'en_fresnel', 'it_approcci', 'en_regenerate', 'it_merkur', 'it_definitivo', 'it_sopravvivenza', 'en_temperatures', 'en_sincere', 'en_deteriorating', 'en_yvonne', 'en_kit', 'it_vapori', 'en_kim', 'it_vapore', 'en_qualification', 'en_autonomous', 'en_exxon', 'en_physiology', 'en_amazon', 'it_neoplatonismo', 'it_guadagni', 'it_mommsen', 'it_guccini', 'it_sblocco', 'en_commercially', 'it_trotto', 'en_mikael', 'en_fractures', 'en_msl', 'en_allan', 'it_pen', 'it_janos', 'it_per', 'en_german', 'it_discografia', 'it_pet', 'en_abnormalities', 'it_esercizio', 'it_paesaggi', 'en_militia', 'en_ecological', 'it_living', 'it_cattiva', 'it_santiago', 'it_embrioni', 'en_shawnee', 'en_resurfaced', 'it_controffensiva', 'en_alarms', 'it_repressivo', 'it_disgelo', 'en_peaches', 'it_derna', 'en_vives', 'en_ingesting', 'it_panama', 'en_griffin', 'en_martial', 'en_etymology', 'it_metallica', 'en_eggs', 'en_plastic', 'en_wholesale', 'it_metallico', 'it_installazioni', 'it_causando', 'en_neilan', 'en_corrections', 'en_scotland', 'en_chorus', 'en_partially', 'it_avvia', 'en_filmography', 'en_formation', 'en_photo', 'it_redding', 'en_disguised', 'it_guidata', 'it_guidati', 'it_fango', 'it_guidato', 'it_valore', 'en_railways', 'en_activate', 'en_globes', 'en_reliable', 'en_quantify', 'en_declined', 'en_liars', 'en_declines', 'en_democrats', 'it_carreggiata', 'it_sequenza', 'it_sequenze', 'en_scheduled', 'it_tronco', 'en_coefficients', 'en_characterised', 'en_gibbons', 'en_exactly', 'en_adidas', 'it_cherokee', 'en_disastrous', 'it_apice', 'en_hint', 'en_abdomen', 'en_stature', 'it_gergo', 'en_bound', 'en_seward', 'it_sagome', 'it_sagoma', 'en_chasing', 'it_specialisti', 'en_aliases', 'it_specialista', 'en_cement', 'it_delimitata', 'it_delimitato', 'it_mentre', 'en_newt', 'en_disciple', 'en_categories', 'en_news', 'it_istituzione', 'en_graphics', 'it_grafica', 'it_polesine', 'en_moisture', 'en_saxophones', 'en_ingredient', 'en_roofing', 'en_sweep', 'en_demonstration', 'en_registered', 'en_preserving', 'en_html', 'en_alexander', 'en_accounting', 'en_chlorine', 'en_emancipation', 'en_sacred', 'it_critica', 'en_glass', 'en_orson', 'it_giovent\\xc3\\xb9', 'en_album', 'it_vremja', 'en_ethnic', 'en_influence', 'en_eduard', 'it_spazio', 'en_albus', 'it_cristo', 'en_strait', 'en_biosphere', 'it_critico', 'en_board', 'en_memos', 'it_ottobre', 'it_soprannome', 'en_strain', 'en_boars', 'it_eliminazione', 'en_classes', 'it_attaccamento', 'it_guillaume', 'en_generate', 'it_significa', 'it_sofisticata', 'en_implement', 'it_rapallo', 'it_sofisticati', 'en_mistake', 'it_ferri\\xc3\\xa8re', 'en_yeats', 'it_compagnie', 'it_denis', 'en_sentimental', 'it_mantenimento', 'it_tandem', 'en_prudhoe', 'en_treat', 'it_sogno', 'it_gerrard', 'en_forgive', 'it_popolato', 'it_popolata', 'en_made', 'en_reptile', 'it_dist', 'it_alimentazione', 'it_leone', 'en_explained', 'it_escalation', 'en_pinned', 'it_tangibile', 'it_professori', 'en_thoughtful', 'it_professore', 'it_vila', 'it_ohio', 'it_scatenando', 'en_telescopes', 'it_chiede', 'en_drip', 'en_here', 'en_hera', 'en_herb', 'en_biotechnology', 'en_hero', 'it_condannati', 'en_israeli', 'it_condannato', 'it_illegali', 'it_lettura', 'it_aut', 'it_coincidenza', 'it_letture', 'it_coincidenze', 'en_event', 'it_enlai', 'it_auf', 'en_more', 'en_olfactory', 'it_peck', 'en_keratitis', 'it_yuu', 'en_inspirations', 'en_coercive', 'en_weevil', 'en_hamlin', 'en_role', 'it_discepoli', 'en_efficient', 'en_roll', 'en_ashmole', 'it_gi\\xc3\\xa0', 'it_giurisdizione', 'it_pacchetto', 'it_olimpiade', 'en_ceded', 'it_olimpiadi', 'it_gi\\xc3\\xb9', 'en_participatory', 'it_fortificata', 'en_surgeon', 'it_monumenti', 'en_denied', 'en_acquire', 'en_maghreb', 'en_thresholds', 'en_denies', 'it_fermilab', 'it_fran\\xc3\\xa7ois', 'en_broker', 'it_diaconia', 'en_cone', 'en_ports', 'en_tara', 'en_edwards', 'it_cammina', 'en_throw', 'en_durant', 'it_indeterminato', 'en_recurring', 'en_extrinsic', 'it_ritmi', 'it_specializzazione', 'en_political', 'it_improbabili', 'it_respiratoria', 'en_replacing', 'it_improbabile', 'it_ottanta', 'en_halogenated', 'en_subtitles', 'it_mobile', 'it_attivato', 'en_bending', 'it_discutibili', 'it_mobili', 'it_eindhoven', 'en_territories', 'en_meanings', 'en_spinor', 'en_fountain', 'en_invertebrates', 'it_asian', 'it_gang', 'it_chiaramente', 'it_sovvenzionato', 'it_positivamente', 'en_athenian', 'en_posters', 'it_rischioso', 'it_rischiosa', 'en_valve', 'it_ammette', 'en_begins', 'en_quinta', 'en_northwest', 'en_inserts', 'it_penna', 'it_papato', 'it_gustavsson', 'en_babies', 'en_pravda', 'en_reaction', 'it_snelling', 'it_regina', 'en_manifested', 'en_organisations', 'it_wielkopolski', 'it_acuto', 'it_chiamare', 'en_ear', 'en_charlatans', 'it_folle', 'it_offerte', 'it_folla', 'it_sfondi', 'it_offerta', 'it_offerto', 'en_spectacle', 'en_lamon', 'it_travi', 'en_piccolo', 'en_peine', 'it_clark', 'en_dame', 'en_rats', 'it_borgo', 'en_deposits', 'en_juice', 'en_nolan', 'en_fuji', 'it_regno', 'en_areas', 'en_dehydration', 'it_doppiaggio', 'en_contributions', 'it_panini', 'it_rovesciata', 'en_lichens', 'en_safin', 'it_marxismo', 'it_riconoscibile', 'it_hatakeyama', 'it_culver', 'it_informatica', 'en_scripting', 'en_tracked', 'en_gothic', 'it_filogenetica', 'en_applied', 'en_idiom', 'it_paghe', 'it_appartenenza', 'it_sostentamento', 'it_successore', 'it_perennemente', 'it_alunni', 'en_photograph', 'en_eton', 'it_successori', 'en_pyrenees', 'it_ebano', 'it_avvistamenti', 'en_magnus', 'en_promotion', 'en_moon', 'it_fran\\xc3\\xa7aise', 'en_sugar', 'it_chiave', 'en_mood', 'en_mcclellan', 'en_aquaculture', 'en_accurately', 'it_fmi', 'en_complete', 'en_sufi', 'it_sussistenza', 'it_nuotare', 'en_local', 'it_rinnovo', 'it_armistizio', 'it_urgel', 'en_frequency', 'en_halt', 'it_cheratina', 'en_halo', 'en_hall', 'en_rows', 'it_eraclito', 'en_half', 'it_delinquenza', 'it_titulus', 'en_frigid', 'en_corpse', 'it_rigorosi', 'it_rigorose', 'it_rigorosa', 'en_incomes', 'en_meaningful', 'it_emozionale', 'en_shed', 'it_redmond', 'en_seasonal', 'it_gobbi', 'en_ethanol', 'en_kira', 'en_modification', 'it_helmut', 'it_dorsalmente', 'en_auditing', 'en_principality', 'it_acari', 'en_tcg', 'en_bouncing', 'it_spray', 'en_modesty', 'it_indossato', 'en_notoriously', 'it_supremazia', 'en_read', 'it_qualificarsi', 'en_institutional', 'en_rear', 'it_novembre', 'en_musical', 'it_four', 'en_weakly', 'it_utenti', 'it_cooper', 'en_rhapsody', 'en_agrippa', 'it_enorme', 'it_enormi', 'it_heer', 'it_intanto', 'en_morpheme', 'it_fedele', 'it_sanchez', 'en_universalism', 'it_cristina', 'it_calcedonio', 'en_espa\\xc3\\xb1ola', 'it_figc', 'en_conceptual', 'en_cloak', 'en_allegedly', 'en_brio', 'en_brik', 'en_valid', 'it_lunghi', 'en_unclean', 'it_ciampino', 'en_andr\\xc3\\xa9', 'it_urbane', 'it_regionale', 'it_regionali', 'en_astrophysics', 'en_evaluations', 'en_detail', 'en_monica', 'it_roald', 'it_vedras', 'en_huntsville', 'it_scultura', 'it_sculture', 'en_worry', 'it_dipendenza', 'it_dipendenze', 'en_technique', 'en_lendl', 'it_cliniche', 'en_pollution', 'en_rains', 'en_lobbyist', 'it_paranoico', 'en_creature', 'it_sanremo', 'it_jacques', 'it_fresco', 'en_header', 'it_prussia', 'it_raramente', 'it_beni', 'en_keith', 'en_syndromes', 'it_bene', 'it_dipartimento', 'it_dipartimenti', 'en_snowfall', 'en_racing', 'it_assessore', 'en_mirroring', 'it_distribuzione', 'en_beckwith', 'en_newspapers', 'en_bethel', 'it_incoraggiato', 'it_prestiti', 'en_barbarians', 'it_geometria', 'en_whitehall', 'it_cucinare', 'it_martire', 'en_polyakov', 'en_linguists', 'it_erano', 'it_martiri', 'en_nepal', 'it_debra', 'en_ideals', 'en_opinion', 'en_officially', 'en_sexagesimal', 'it_distrutti', 'it_distrutto', 'it_distrutta', 'en_douglas', 'en_redox', 'en_parade', 'en_mayfair', 'en_grazia', 'en_hoes', 'it_energie', 'it_energia', 'it_souza', 'en_abundant', 'it_stabilisce', 'en_bonner', 'it_sarah', 'en_degrading', 'it_divisioni', 'it_clemente', 'en_syria', 'en_stikine', 'en_tubes', 'en_cruelty', 'en_essay', 'en_exception', 'en_tended', 'it_catalunya', 'it_leggermente', 'en_sounded', 'en_apollodorus', 'it_vesuvio', 'en_emit', 'it_spazi', 'en_emir', 'en_warlike', 'it_composizioni', 'en_emil', 'it_composizione', 'it_vuota', 'en_alms', 'it_vuoto', 'en_pierce', 'en_yehuda', 'it_superiorit\\xc3\\xa0', 'en_ambassadors', 'en_schwartz', 'it_croato', 'it_brooklyn', 'it_identificati', 'en_monetary', 'it_biochimica', 'it_identificato', 'it_identificata', 'it_identificate', 'en_elea', 'it_sessualit\\xc3\\xa0', 'en_equivalent', 'en_analogues', 'it_compete', 'it_musicista', 'it_musicisti', 'en_barometer', 'en_cassandra', 'it_bl\\xc3\\xbccher', 'en_laver', 'en_pervasive', 'it_informa', 'en_threat', 'en_mutualism', 'it_delega', 'it_plexiglas', 'it_laterano', 'en_generous', 'en_benjamin', 'en_kate', 'en_alienate', 'en_vega', 'it_lavare', 'en_household', 'en_mabel', 'it_strade', 'en_children', 'en_pathogenic', 'it_molluschi', 'en_baudot', 'en_galileo', 'it_redfern', 'it_attuato', 'it_mister', 'en_making', 'it_libia', 'it_volgare', 'it_nunziatura', 'it_civile', 'en_shrine', 'it_civili', 'en_bronzes', 'it_catena', 'en_costs', 'it_osce', 'it_decompressione', 'en_bolshevism', 'en_northwestern', 'en_agents', 'it_everest', 'en_mercury', 'en_localized', 'it_antimafia', 'it_antifascista', 'it_suonava', 'en_johns', 'it_impegnato', 'it_impegnata', 'en_tamsin', 'en_oranges', 'en_slopes', 'en_asphalt', 'en_deductive', 'it_celebrare', 'it_ipotesi', 'it_chitarristi', 'it_guerriglia', 'it_pazienza', 'en_standardized', 'it_no\\xc3\\xa8', 'en_compiled', 'it_spolia', 'it_morton', 'it_socialismo', 'en_measure', 'en_additives', 'it_cristallizzato', 'it_lavoratori', 'it_distretti', 'it_distretto', 'en_dozen', 'en_toads', 'en_prospector', 'it_cosmonauta', 'en_periodic', 'en_hitler', 'en_melodies', 'it_blocco', 'en_discarded', 'it_internazionale', 'en_stock', 'en_uncertainties', 'it_tasca', 'en_electors', 'en_knife', 'it_romana', 'it_romani', 'it_romano', 'en_algebra', 'en_seer', 'en_sees', 'en_define', 'en_seen', 'en_acetate', 'en_preservatives', 'en_seed', 'en_carbocation', 'en_aspirations', 'en_varieties', 'en_decentralised', 'en_gang', 'it_differisce', 'en_forrest', 'it_veyron', 'en_pine', 'en_testimonies', 'en_marijuana', 'en_criticize', 'en_authority', 'en_pythias', 'en_luzzatto', 'it_unitario', 'en_multitude', 'en_select', 'en_exhausted', 'en_sensual', 'en_favorably', 'it_messina', 'it_montagne', 'it_montagna', 'it_rovesci', 'en_observing', 'it_attaccare', 'it_proposte', 'it_alture', 'it_proposta', 'it_proposto', 'it_proposti', 'en_paint', 'en_pains', 'en_bryant', 'en_separated', 'en_peculiar', 'en_congenital', 'en_groupe', 'en_lisbon', 'it_inizia', 'it_meccanici', 'en_separates', 'en_emphasize', 'en_groups', 'it_seychelles', 'en_woodruff', 'en_assists', 'en_fall', 'it_giustina', 'it_matematicamente', 'en_handling', 'en_chromosome', 'it_introdurre', 'en_devoured', 'en_aerosols', 'en_soft', 'en_cascade', 'it_shaoqi', 'it_soggetti', 'it_soggetto', 'en_ingratitude', 'en_stiff', 'en_enormous', 'it_heart', 'en_demille', 'it_chiellini', 'it_speravano', 'en_electrolytes', 'en_sails', 'en_hydroxides', 'it_marvin', 'it_date', 'en_decrease', 'it_data', 'en_controversial', 'it_dato', 'it_dati', 'en_mongol', 'it_gassoso', 'en_ellen', 'en_sources', 'en_dissertation', 'en_tarmac', 'en_dissented', 'it_germaniche', 'en_scrub', 'en_spared', 'en_barcelona', 'it_gode', 'en_collaboration', 'en_mercer', 'it_fortunatamente', 'it_esiste', 'en_detachment', 'it_amici', 'it_amico', 'it_amica', 'en_unlikely', 'it_bangor', 'it_irritare', 'it_spitz', 'en_pronunciation', 'en_establishment', 'it_ivanov', 'it_rosalia', 'en_organization', 'en_polymers', 'en_recommended', 'it_ida', 'it_keller', 'en_dispersion', 'en_mouth', 'it_ids', 'en_approaches', 'en_pipeline', 'en_cassini', 'en_bohr', 'en_doing', 'en_capcom', 'en_wherever', 'en_utilitarian', 'en_seize', 'it_competenza', 'en_evacuated', 'en_convergence', 'it_scoprire', 'en_gladiator', 'it_dolciumi', 'it_nizza', 'it_sanit\\xc3\\xa0', 'en_laconia', 'en_multinational', 'en_immortal', 'it_ove', 'it_bimbi', 'it_georges', 'en_scribes', 'en_attachment', 'en_helmont', 'en_coalition', 'en_xix', 'it_ernesto', 'en_overruled', 'en_slavic', 'en_passages', 'en_fln', 'it_carmen', 'en_communists', 'it_riscatto', 'en_fly', 'en_pinyin', 'en_c\\xc3\\xa9sar', 'en_conferences', 'en_philip', 'it_conservano', 'en_flu', 'it_nicolas', 'it_grecia', 'en_capshaw', 'it_vincitori', 'it_vincitore', 'en_purchase', 'it_tobruk', 'en_lectern', 'en_retreat', 'en_calculations', 'en_symbolizes', 'en_grammy', 'it_polidoro', 'it_tisbe', 'en_sensor', 'it_malta', 'en_pacifist', 'en_seddon', 'en_mirror', 'it_palermo', 'en_kenai', 'it_quindicesima', 'en_crowley', 'en_chicken', 'en_acanthus', 'en_friends', 'en_niobe', 'en_reminder', 'it_catalano', 'it_part\\xc3\\xac', 'en_forest', 'en_category', 'it_catalana', 'it_ufficiali', 'en_thoughts', 'en_supporter', 'en_limitation', 'en_tolerate', 'it_ufficiale', 'en_foxes', 'en_supported', 'it_leguminose', 'it_marcia', 'it_fedelmente', 'en_ignoring', 'it_marzo', 'it_prevedere', 'it_marzi', 'en_brighton', 'it_fasci', 'it_carte', 'it_scarso', 'en_suggesting', 'it_carta', 'it_vicissitudini', 'en_believe', 'en_varnish', 'en_tunis', 'en_circumstance', 'en_wang', 'en_nucleus', 'en_want', 'en_auburn', 'en_prolactin', 'it_isolato', 'en_emilio', 'en_mandate', 'it_isolati', 'en_minutes', 'it_militanti', 'it_immanente', 'en_cl\\xc3\\xa9ment', 'en_conversely', 'it_juan', 'it_inghilterra', 'en_hayek', 'en_educate', 'en_president', 'en_hawaiian', 'it_vicini', 'en_ambiguous', 'en_tribute', 'it_vicina', 'en_found', 'en_xxxi', 'it_libano', 'it_croazia', 'en_endocrine', 'en_organizational', 'it_litri', 'it_origini', 'it_pianista', 'en_berdych', 'it_pianisti', 'it_origine', 'it_short', 'it_vertici', 'it_trascorso', 'en_historically', 'en_xxii', 'en_rachid', 'en_governing', 'en_landslide', 'en_ends', 'en_cannibalism', 'it_ebraico', 'it_aggressivit\\xc3\\xa0', 'en_footprints', 'it_bing', 'en_digestive', 'it_archivio', 'it_attivista', 'en_becomes', 'en_detachments', 'it_morfina', 'it_attivisti', 'en_geography', 'en_grammatical', 'en_involvement', 'en_student', 'en_spherical', 'it_manifestante', 'en_dharma', 'en_ladies', 'en_jackie', 'en_sri', 'en_successful', 'it_arriano', 'it_indigeni', 'it_ammodernamento', 'it_massiccio', 'en_report', 'en_ohrid', 'en_kay', 'en_lsd', 'it_corona', 'it_distale', 'en_kai', 'it_uniforme', 'it_scompare', 'en_exploitation', 'it_dimensionale', 'en_odhner', 'en_vladimir', 'en_epithets', 'en_immunization', 'it_seguire', 'en_videoconferencing', 'en_ending', 'it_parafilia', 'it_neal', 'it_approvare', 'it_pazzo', 'en_scales', 'it_spontaneo', 'it_solitari', 'en_understanding', 'en_scaled', 'en_duane', 'en_absorption', 'it_liu', 'it_wellesley', 'it_tiergarten', 'it_khan', 'it_materna', 'it_lin', 'en_orange', 'en_runners', 'en_abnormally', 'it_simile', 'it_continuit\\xc3\\xa0', 'it_minoranze', 'en_attract', 'en_quadratic', 'en_pull', 'it_lolita', 'en_tendencies', 'en_perverted', 'en_humid', 'it_taccuino', 'it_discutono', 'it_missioni', 'en_labrys', 'it_particolarit\\xc3\\xa0', 'en_translator', 'en_permit', 'it_scorrimento', 'en_noble', 'en_jefferson', 'it_pulsanti', 'en_you', 'it_quanta', 'it_frank', 'it_maurice', 'en_lenin', 'en_exploiting', 'it_miniere', 'it_valutare', 'en_obey', 'en_facilitating', 'en_networks', 'en_nielsen', 'it_francia', 'en_willingdon', 'it_ammutinamento', 'it_ammutinamenti', 'it_farquhar', 'en_botanical', 'it_crescente', 'it_continente', 'it_formula', 'en_structurally', 'en_alphabetical', 'it_formule', 'it_rescue', 'it_dignit\\xc3\\xa0', 'en_cheap', 'en_obliquely', 'en_describe', 'en_mistress', 'en_ecosystem', 'en_ebcdic', 'it_saints', 'it_dresda', 'it_crea', 'it_scambiatori', 'it_giugno', 'it_cree', 'it_convince', 'en_claudio', 'it_abbazia', 'it_iniziato', 'it_abbazie', 'it_sottosezioni', 'it_lisina', 'en_coins', 'it_sottosezione', 'it_snow', 'en_fatimids', 'it_ambiente', 'it_ambienti', 'it_disegnato', 'it_pedaliera', 'en_medial', 'en_invulnerable', 'en_median', 'en_comfortably', 'en_rankings', 'it_seriale', 'it_contrattura', 'en_secession', 'it_montichiari', 'en_comfortable', 'en_stereo', 'it_generosi', 'en_scheler', 'en_sixteenth', 'en_excess', 'en_prophetess', 'it_magistratura', 'en_tomb', 'it_concessi', 'en_optics', 'en_perhaps', 'it_ahimsa', 'it_salamanca', 'it_orari', 'it_coperta', 'it_moduli', 'en_fredric', 'it_coperte', 'it_sei', 'it_coperti', 'it_torace', 'it_coperto', 'it_naturalizzazione', 'it_clarke', 'it_genitali', 'en_inflation', 'en_orthogonality', 'en_risks', 'en_shaved', 'en_planetary', 'en_aqueous', 'it_topologico', 'en_ransom', 'it_consecutive', 'it_attestano', 'en_models', 'en_surpassed', 'en_telegraphic', 'en_reigning', 'it_segnalazione', 'it_landi', 'en_precocious', 'it_sottolineare', 'it_landa', 'en_tschudi', 'it_imitatore', 'en_possibly', 'it_oscillante', 'it_indifesi', 'en_excavated', 'it_indifeso', 'it_diocesi', 'it_fornito', 'it_darabont', 'it_vide', 'it_mostrato', 'en_anton', 'it_essenze', 'en_felt', 'en_primarily', 'it_assorbita', 'en_canopy', 'en_fell', 'it_ludo', 'en_overpopulation', 'en_sponge', 'en_advancing', 'it_violenza', 'it_violenze', 'en_water', 'en_china', 'it_internet', 'it_vhs', 'it_riserve', 'it_riserva', 'en_assaulted', 'it_fuggiti', 'it_verifiche', 'en_tolerated', 'it_topolino', 'en_streets', 'en_tolerates', 'it_caratterizzazione', 'it_registi', 'en_forces', 'en_dysfunctional', 'en_moral', 'en_forced', 'en_victim', 'it_osserva', 'it_essenziale', 'it_tamerlano', 'en_roderick', 'it_essenziali', 'en_tertiary', 'en_excited', 'it_preghiera', 'en_keys', 'en_condemn', 'en_impacts', 'it_glorificato', 'en_adelaar', 'en_virtually', 'en_cleveland', 'en_unitary', 'it_emarginazione', 'it_intera', 'it_ceduta', 'it_ceduto', 'it_intero', 'it_interi', 'it_ceduti', 'en_caps', 'en_official', 'en_rediscovered', 'en_insights', 'en_cape', 'en_exposure', 'en_sensible', 'en_robinson', 'en_regime', 'en_preserve', 'en_elected', 'en_premise', 'en_haynes', 'it_gradualmente', 'it_fallisce', 'it_veneziano', 'it_le\\xc3\\xb3n', 'en_alabama', 'it_rilevanza', 'en_dey', 'it_chisinau', 'en_autism', 'it_ortodossa', 'en_des', 'en_der', 'en_members', 'en_del', 'en_den', 'en_dec', 'it_taira', 'en_dee', 'it_morto', 'it_morti', 'en_distillates', 'it_morte', 'en_arose', 'it_morta', 'it_thunder', 'en_nightmare', 'en_internationale', 'en_sender', 'it_gustav', 'it_tout', 'it_tour', 'it_giglio', 'it_rapidit\\xc3\\xa0', 'en_classify', 'it_rasoio', 'en_delivery', 'en_drinks', 'en_touched', 'it_allegato', 'en_composers', 'en_canvas', 'it_incidenza', 'it_sporgenti', 'it_posizionate', 'it_duomo', 'it_legata', 'en_patience', 'it_galizia', 'en_doug', 'en_umlaut', 'en_pavement', 'it_helsinki', 'it_sostituita', 'en_culture', 'it_sostituito', 'it_sostituiti', 'en_puppet', 'it_riceve', 'en_muhammad', 'en_thetis', 'it_zar', 'en_markets', 'en_ignites', 'en_diversion', 'it_bernie', 'en_mayr', 'it_manodopera', 'en_maya', 'en_controls', 'en_pavel', 'it_holmes', 'en_paved', 'en_disapproved', 'it_rimasterizzata', 'it_propizio', 'it_ornitologi', 'en_thesis', 'it_alcibiade', 'it_costruttiva', 'en_antipater', 'it_lamberto', 'en_fran\\xc3\\xa7ois', 'en_flux', 'en_aristotelis', 'en_teufel', 'en_sheriff', 'it_eroi', 'it_eroe', 'en_arguments', 'it_affiancato', 'en_glynn', 'en_fairy', 'en_multilevel', 'en_fairs', 'it_doug', 'en_hadj', 'en_run', 'en_press', 'it_ottone', 'en_interval', 'it_valette', 'it_bibliografia', 'en_qualitative', 'it_aumentata', 'en_sentence', 'en_lusitania', 'en_cordova', 'it_terremoto', 'en_proven', 'en_athenians', 'en_incorporating', 'en_paving', 'it_mediana', 'it_astrofisica', 'it_numeri', 'it_numero', 'it_unico', 'it_unici', 'en_scarcity', 'it_unica', 'en_reis', 'it_marcelo', 'en_various', 'it_predicazione', 'it_euwe', 'it_scomparendo', 'it_carolina', 'it_direttore', 'it_teoricamente', 'it_direttori', 'en_enough', 'it_speranza', 'it_debbie', 'en_sunk', 'en_sung', 'en_sheriffs', 'en_btu', 'en_wet', 'en_shaded', 'en_occasional', 'en_oracles', 'en_camp', 'en_shades', 'en_runic', 'en_ships', 'it_valori', 'en_technological', 'it_vision', 'it_studi', 'it_nixon', 'en_pharmacist', 'it_partigiani', 'en_reputation', 'en_fullness', 'it_henrik', 'it_superman', 'en_expanded', 'it_educazione', 'en_sarcasm', 'en_generation', 'it_gigli', 'it_crisi', 'en_incoherence', 'en_monument', 'it_debord', 'en_remotely', 'en_disbursed', 'it_percussionista', 'en_typhoid', 'en_seizure', 'it_collocati', 'it_rapito', 'en_frivolous', 'en_maternal', 'it_uniformit\\xc3\\xa0', 'en_muscle', 'it_moschettieri', 'it_efficace', 'it_efficaci', 'en_accept', 'en_explicit', 'it_pistole', 'it_pistola', 'en_absorbs', 'en_phonology', 'en_swallow', 'en_nocturnal', 'it_spd', 'it_stellare', 'en_ingest', 'en_boasted', 'en_generator', 'en_customs', 'en_lawrence', 'en_allison', 'it_sabbath', 'it_magia', 'it_qualsiasi', 'it_sostenibilit\\xc3\\xa0', 'en_grain', 'en_fyodor', 'it_essen', 'en_radiant', 'en_collapsing', 'it_freschi', 'en_nineteenth', 'en_rebel', 'it_convergenti', 'en_caravan', 'en_morrow', 'en_exposition', 'it_raccomandazioni', 'it_ceneri', 'en_spinal', 'it_cenere', 'en_england', 'it_turbine', 'it_remix', 'it_spagnolo', 'it_spagnoli', 'en_intelligence', 'en_elitist', 'en_ventilation', 'en_texans', 'en_senegal', 'en_denying', 'en_superstition', 'en_interplanetary', 'it_cameo', 'en_landau', 'en_aman', 'en_home', 'en_athletic', 'it_badia', 'en_homo', 'en_republicans', 'it_satira', 'en_repression', 'en_bloom', 'en_blood', 'en_mussolini', 'en_relationship', 'en_renfe', 'en_liquor', 'en_clashes', 'en_salts', 'it_tommaso', 'it_panorami', 'en_deserves', 'en_alex', 'it_panorama', 'en_uprisings', 'it_trasporti', 'it_trasporto', 'it_retrospettiva', 'it_urbino', 'en_cuban', 'it_warren', 'en_linguist', 'it_cuar\\xc3\\xb3n', 'it_bruce', 'en_compulsion', 'it_ratifica', 'it_baird', 'it_recupero', 'it_primavera', 'it_microbiologia', 'en_baths', 'en_sidwell', 'en_crisis', 'en_levant', 'it_minato', 'it_semplicit\\xc3\\xa0', 'en_watertight', 'en_spheres', 'en_western', 'en_rathbone', 'it_through', 'it_metz', 'en_nephew', 'en_violation', 'it_entrambe', 'en_lydia', 'it_esportazioni', 'en_climbed', 'en_relegated', 'en_riot', 'it_convinzioni', 'it_convinzione', 'en_slowed', 'it_shelley', 'en_consumers', 'en_liftoff', 'it_lom\\xc3\\xa9', 'it_giocare', 'it_telecomunicazioni', 'it_curiosamente', 'it_pitt', 'it_arrocco', 'en_cen', 'en_ceo', 'en_cel', 'en_wives', 'en_doherty', 'en_texas', 'en_ni\\xc3\\xa9pce', 'it_consigliere', 'en_moderates', 'it_dixit', 'en_emerge', 'en_stranger', 'en_krishnamurti', 'en_jazz', 'it_orso', 'en_advanced', 'it_videogiochi', 'en_prepared', 'en_edition', 'en_spoke', 'en_advances', 'en_jehovah', 'en_consecrated', 'en_habeas', 'en_peleus', 'it_dimenticata', 'it_larsson', 'en_perversion', 'it_sky', 'it_labelle', 'it_ingombrante', 'en_biology', 'it_ingombranti', 'en_beck', 'it_rispecchia', 'en_ant', 'en_anp', 'en_ans', 'it_postumo', 'en_any', 'it_postumi', 'it_merchandising', 'en_ane', 'en_and', 'en_ana', 'en_lemon', 'it_carico', 'en_intention', 'en_ann', 'en_connect', 'it_ercole', 'en_golden', 'it_crollo', 'it_pacific', 'it_vagabondaggio', 'it_rivoluzionari', 'it_bisogni', 'en_forcing', 'en_medical', 'en_directional', 'it_multiforme', 'it_pontificio', 'en_sumer', 'it_algeri', 'it_firenze', 'it_immaginare', 'en_servants', 'en_regression', 'en_hope', 'en_midday', 'it_stefania', 'en_tarzana', 'en_hops', 'en_heavens', 'en_secondary', 'en_ottoman', 'en_stroke', 'en_saturn', 'it_muto', 'en_encouraged', 'en_pollutants', 'en_encourages', 'en_almanac', 'en_empirical', 'en_memoriam', 'en_memorial', 'en_divisions', 'en_shoulder', 'it_australia', 'en_fonts', 'en_exhibit', 'en_going', 'it_duchi', 'en_titanium', 'en_roosevelt', 'en_fate', 'it_pugno', 'it_pack', 'it_uccidere', 'it_incorrere', 'it_pace', 'it_jeans', 'en_semi', 'en_projected', 'en_basket', 'en_alerts', 'it_sospensioni', 'en_provinces', 'en_prefix', 'en_bresson', 'it_capezzale', 'it_sospensione', 'en_hexadecimal', 'en_haploid', 'en_mechanics', 'it_valletta', 'en_weeds', 'it_carnivore', 'en_approximation', 'en_wavering', 'en_discovered', 'en_earthworms', 'en_abdelaziz', 'it_death', 'it_antichit\\xc3\\xa0', 'it_coda', 'en_meta', 'en_isherwood', 'en_notion', 'en_biskra', 'en_responses', 'en_sweet', 'en_parades', 'it_gold', 'it_gola', 'it_battuto', 'en_resumed', 'it_battuta', 'it_commercianti', 'it_provinciali', 'it_provinciale', 'en_goddess', 'en_charging', 'en_oscar', 'en_specific', 'en_sinful', 'en_acknowledged', 'en_acknowledges', 'en_expanse', 'en_sunshine', 'en_keats', 'en_platonism', 'en_paying', 'en_thunder', 'it_ossessivo', 'en_escorted', 'en_convicted', 'en_necklace', 'en_feared', 'it_corrispondente', 'en_iwo', 'it_corrispondenti', 'en_wheels', 'en_ocr', 'en_circles', 'en_they', 'it_scrittori', 'it_vitro', 'en_them', 'en_then', 'en_structural', 'en_chopsticks', 'en_png', 'en_orbital', 'it_signori', 'it_pubblicazione', 'it_decade', 'it_adolph', 'it_signore', 'it_pubblicazioni', 'it_regolamentare', 'en_nutrition', 'en_dubbed', 'it_mor\\xc3\\xac', 'it_problema', 'it_piet\\xc3\\xa0', 'en_never', 'it_problemi', 'it_wageningen', 'it_idrogeno', 'it_postali', 'it_adattato', 'it_acciaio', 'it_postale', 'it_garanzie', 'en_frogs', 'en_namesake', 'it_garanzia', 'en_playing', 'it_bakr', 'en_mytilene', 'it_pensatore', 'it_tse', 'en_elections', 'en_secretion', 'it_terminata', 'it_connesso', 'en_tricolor', 'it_terminato', 'it_gr\\xc3\\xbcne', 'en_logan', 'en_whites', 'en_thickens', 'en_arrows', 'en_abuses', 'it_colloquiale', 'it_usi', 'it_telford', 'en_visit', 'it_uso', 'it_usa', 'it_bibron', 'en_marxists', 'en_receive', 'it_paludosa', 'en_ceremonies', 'it_paludose', 'it_express', 'en_trade', 'en_augustus', 'en_implicit', 'it_affetto', 'en_arrived', 'en_manhattan', 'en_stones', 'it_tedesco', 'it_humphrey', 'en_alcestis', 'it_ostia', 'it_conrad', 'en_warrant', 'en_major', 'it_abile', 'it_abili', 'en_concert', 'en_prisoner', 'en_concern', 'it_nicol\\xc3\\xb2', 'it_niro', 'en_unexpected', 'en_commented', 'en_point', 'en_seconds', 'it_insuccesso', 'it_basi', 'it_base', 'it_stram', 'en_proportion', 'en_newton', 'en_condemning', 'it_plotone', 'it_bauxite', 'it_recitato', 'en_wedding', 'en_synchronization', 'en_adversarial', 'en_consumption', 'en_shelley', 'en_leap', 'en_dichotomy', 'en_lead', 'it_ronin', 'en_leaf', 'it_sottobosco', 'it_riconoscenza', 'it_dinamica', 'it_carlo', 'it_ruffo', 'en_occasionally', 'it_villarreal', 'it_rettore', 'it_alpino', 'it_harry', 'it_barrani', 'it_reale', 'en_philosophies', 'it_armoniosamente', 'it_rottura', 'it_corno', 'it_blancos', 'en_etymological', 'it_evangelisti', 'it_considerazione', 'en_monitored', 'en_coincidence', 'en_skulls', 'it_columbia', 'en_andy', 'en_uncertain', 'en_participating', 'it_diversa', 'it_diverse', 'it_diversi', 'en_evil', 'it_diverso', 'it_silvestri', 'en_economists', 'it_droghe', 'en_abolitionists', 'it_generalit\\xc3\\xa0', 'it_spadaccino', 'en_solitary', 'en_above', 'it_commerciale', 'it_xxv', 'it_xxx', 'it_variare', 'en_hominid', 'en_volcanic', 'it_autorizzato', 'it_harris', 'it_hits', 'it_autorizzati', 'it_autorizzate', 'it_creazione', 'it_monaco', 'it_confine', 'it_jacopo', 'it_mentali', 'it_monaci', 'it_attenuare', 'en_jet', 'it_cinesi', 'it_cinese', 'en_reuse', 'it_metal', 'en_lost', 'en_adjacent', 'en_horses', 'en_xxxvii', 'en_slams', 'it_loco', 'it_takeuchi', 'en_adaptive', 'it_fisiche', 'en_genre', 'en_adaptability', 'en_midnight', 'en_tenth', 'en_sculptor', 'en_reversed', 'it_disegni', 'en_positivist', 'it_pronao', 'it_disegno', 'en_dual', 'it_natascha', 'en_natives', 'en_aleppo', 'it_cr\\xc3\\xbce', 'en_segments', 'it_nunzio', 'en_arrow', 'en_present', 'en_mauritania', 'en_magnesium', 'it_lan', 'it_eclettico', 'it_diversificazione', 'it_lay', 'en_summon', 'en_evolves', 'en_reagan', 'it_almaty', 'en_evolved', 'it_menotti', 'en_relationships', 'en_andreyevich', 'it_yoshimoto', 'it_erodoto', 'it_dischetto', 'it_segunda', 'it_pacchetti', 'en_laplace', 'en_hospital', 'en_confirm', 'it_modena', 'en_holding', 'it_propulsione', 'en_elegant', 'en_perspectives', 'it_selvaggi', 'en_annaba', 'en_reverse', 'en_artistic', 'it_splendore', 'it_calamit\\xc3\\xa0', 'en_human', 'en_smollett', 'it_encomiabile', 'it_jiraiya', 'en_lessons', 'en_sulfur', 'en_acquaintance', 'it_alfa', 'it_senofane', 'it_little', 'en_mentally', 'en_proceed', 'it_playboy', 'en_chivalry', 'en_dostoevsky', 'en_brothers', 'en_refinery', 'en_correct', 'it_manuel', 'en_ethnology', 'it_precipitare', 'en_cerf', 'it_evoluzione', 'it_significativamente', 'it_impiegato', 'it_minore', 'en_rainer', 'it_impiegati', 'en_crack', 'it_minori', 'en_rained', 'en_what', 'it_hoffer', 'en_bhagavad', 'it_commissioni', 'en_wires', 'en_exorcisms', 'it_merloni', 'en_gui', 'it_residui', 'it_residua', 'it_shek', 'en_escort', 'it_vicepresidente', 'en_pliny', 'it_vip', 'en_account', 'it_viaggiare', 'en_apostolic', 'it_gestiti', 'it_gestito', 'en_peony', 'en_economically', 'it_gestita', 'en_sleeping', 'en_monster', 'it_liberale', 'en_fusiform', 'it_liberali', 'en_obtained', 'en_unwanted', 'en_property', 'en_quoted', 'en_predicting', 'en_quotes', 'en_relatives', 'en_liquefied', 'en_repulsive', 'it_sforzi', 'it_aquileia', 'it_sforzo', 'it_radiografia', 'it_shogi', 'it_fausto', 'it_leoni', 'it_ricevere', 'en_hopes', 'it_tripoli', 'it_chalet', 'en_permeability', 'en_calendars', 'en_pretext', 'en_hoped', 'en_nonfiction', 'it_lebus', 'it_ricco', 'en_lib\\xc3\\xa9ration', 'en_leaflets', 'it_ricca', 'it_unanime', 'it_boschetto', 'it_stridente', 'en_marking', 'it_bruttissimo', 'en_resistance', 'en_analogies', 'en_mcbride', 'en_revised', 'en_counterexample', 'it_poole', 'en_stays', 'it_matilde', 'en_transitions', 'en_vanquished', 'en_pleasure', 'it_pu\\xc3\\xb2', 'en_unfit', 'it_pasquale', 'en_shamanic', 'en_physiotherapists', 'en_intact', 'it_nicaragua', 'it_causalmente', 'en_refining', 'it_oppressione', 'en_mfa', 'it_noize', 'it_esplicito', 'en_disposal', 'en_concrete', 'it_giacinto', 'en_exiles', 'it_montecorvino', 'en_davison', 'it_ciuffo', 'en_bisexuality', 'it_collina', 'en_efforts', 'it_hogan', 'it_registrate', 'it_segna', 'it_registrata', 'it_segno', 'it_registrato', 'it_segni', 'en_licence', 'en_loses', 'en_drowned', 'it_derek', 'en_ethical', 'it_uefa', 'en_these', 'it_novecento', 'en_women', 'en_caterpillar', 'en_effluents', 'en_supporters', 'en_honours', 'en_beloved', 'it_multimediali', 'en_socrates', 'it_network', 'it_emissari', 'it_johannes', 'it_tempore', 'it_luther', 'it_filetto', 'it_vedere', 'it_sostanziale', 'en_conquered', 'en_tuareg', 'it_sostanziali', 'en_theorem', 'it_lancieri', 'it_tollerante', 'it_flessibile', 'en_gravitational', 'en_participate', 'en_hearing', 'en_inscription', 'en_backpack', 'en_facets', 'it_cavallina', 'it_innumerevoli', 'en_silvio', 'it_schumacher', 'en_actinium', 'it_pesa', 'it_copertina', 'it_peso', 'it_manifestazione', 'it_amber', 'it_manifestazioni', 'it_oskar', 'it_lente', 'it_lento', 'it_britannico', 'it_taglio', 'it_britannici', 'en_neill', 'it_facile', 'en_curve', 'it_gaulle', 'en_residential', 'en_congresses', 'en_tahar', 'it_coxe', 'en_toxin', 'it_sostituto', 'en_toxic', 'it_lapide', 'it_lapidi', 'it_bestiame', 'en_judiciary', 'en_prosecuted', 'it_vicenza', 'it_aranda', 'it_dushanbe', 'en_cerdanya', 'it_scetticismo', 'en_prohibition', 'en_holds', 'en_threats', 'en_buying', 'en_malfunction', 'en_bookchin', 'it_identificazione', 'it_anton', 'it_selim', 'it_raggiante', 'en_outlined', 'en_reconstructions', 'it_corino', 'en_fictional', 'en_graham', 'en_deliberation', 'en_supercontinent', 'en_morale', 'en_further', 'en_doctrine', 'en_plus', 'en_instruments', 'en_differences', 'it_ramponi', 'en_plug', 'it_tesi', 'it_teso', 'en_directive', 'it_tesa', 'en_horizontal', 'it_tese', 'en_blasphemy', 'it_test', 'en_spiritualist', 'it_miami', 'it_zii', 'it_zio', 'en_underestimating', 'it_eterociclici', 'it_nomination', 'en_specialty', 'en_rights', 'it_sobborgo', 'it_silice', 'en_instead', 'it_lester', 'it_stupro', 'en_auxiliary', 'it_baggio', 'en_legislative', 'en_guaranteed', 'en_caixa', 'en_chlorides', 'en_essays', 'en_deliberately', 'en_request', 'en_compatriots', 'it_traccia', 'it_disoccupati', 'en_unions', 'en_structure', 'it_carolingia', 'en_indicator', 'en_included', 'it_semestre', 'en_includes', 'en_mysticism', 'en_multiplication', 'en_meter', 'en_drying', 'en_fixed', 'en_underwent', 'en_beans', 'it_bellezza', 'en_strabo', 'it_possiede', 'it_reunion', 'it_notevolmente', 'en_lemieux', 'it_arrivo', 'en_greely', 'it_entrate', 'it_legalmente', 'it_entrata', 'it_arriva', 'it_esercitati', 'it_argilla', 'it_tripolitania', 'en_english', 'en_laid', 'en_everything', 'en_alphabetic', 'it_egocentrico', 'en_santee', 'en_homosexuality', 'it_starsky', 'it_raggiungendo', 'it_suddivisi', 'en_exoskeleton', 'en_allegorical', 'en_susceptible', 'it_sisto', 'en_levin', 'en_pictures', 'it_aerea', 'en_integral', 'it_aerei', 'en_buyers', 'en_inaugurated', 'it_aereo', 'it_campania', 'it_convessa', 'en_modernisation', 'en_interpretation', 'en_brought', 'it_immediatamente', 'en_palatine', 'it_geraldine', 'en_owning', 'en_frankly', 'it_monumento', 'en_appropriateness', 'en_diacritic', 'en_saddened', 'en_hofmann', 'en_thomson', 'en_philosophia', 'en_privilege', 'it_cantata', 'en_abacus', 'en_jos\\xc3\\xa9', 'en_sprinkling', 'it_primarie', 'en_stuart', 'en_forged', 'it_pigro', 'en_surveys', 'en_fabbri', 'it_rudolf', 'en_instability', 'it_aggiuntivo', 'it_cade', 'en_circuit', 'it_potenzialmente', 'en_dri', 'en_organs', 'it_haarlem', 'en_dry', 'it_femme', 'en_aussie', 'en_basement', 'en_animation', 'it_nbc', 'it_galiziani', 'it_cia', 'it_cit', 'it_penev', 'en_spirulina', 'it_castel', 'en_merchant', 'en_ranked', 'it_tirreni', 'en_broken', 'it_britannia', 'it_dell', 'en_gathers', 'en_helene', 'it_richiesto', 'it_richiesti', 'it_richieste', 'it_annunziata', 'it_richiesta', 'it_socioculturale', 'en_gesell', 'en_eta', 'it_lusso', 'en_eth', 'en_choice', 'en_overestimated', 'en_filth', 'en_terminator', 'it_riunificazione', 'it_sanctis', 'en_indirectly', 'it_analizzare', 'en_deprivation', 'it_donata', 'en_eddie', 'it_donati', 'en_launcher', 'it_alias', 'en_irrelevant', 'en_infrastructure', 'it_ebrei', 'it_commendatore', 'it_pubblica', 'en_important', 'it_pubblico', 'it_pubblici', 'en_landers', 'it_patte', 'en_casbah', 'it_ordinario', 'it_ordinaria', 'it_patto', 'it_orsini', 'en_overthrow', 'en_superimposed', 'en_automatic', 'it_mancante', 'it_fox', 'it_friuli', 'en_urban', 'en_homosexual', 'en_savings', 'it_contiene', 'en_stimulate', 'en_antarctica', 'en_intervention', 'it_irene', 'it_zucchero', 'en_appreciation', 'en_immigrants', 'en_davydenko', 'en_purely', 'en_affirmative', 'it_differivano', 'it_cristianit\\xc3\\xa0', 'it_antiorario', 'en_yoga', 'en_inherited', 'en_allows', 'it_gerardo', 'it_ebollizione', 'en_certainty', 'en_attrition', 'en_magnified', 'it_filone', 'it_ritmo', 'en_hawk', 'en_purchasers', 'it_heavy', 'it_possono', 'en_propane', 'en_solutions', 'en_herne', 'it_rodr\\xc3\\xadguez', 'en_cubic', 'it_complementari', 'en_promised', 'it_complementare', 'en_promises', 'en_signals', 'it_blanco', 'it_senhora', 'en_fragile', 'it_perde', 'en_restarted', 'en_plea', 'it_bilirubina', 'it_biliare', 'it_centralizzata', 'it_m\\xc3\\xb6tley', 'it_conciliare', 'en_enemies', 'en_bao', 'en_ban', 'en_iso', 'en_ism', 'en_bag', 'it_nuvolari', 'it_bagnato', 'en_bad', 'it_pilastro', 'it_jourdan', 'en_bay', 'it_pilastri', 'en_iss', 'en_bar', 'en_franca', 'en_woods', 'en_france', 'en_franck', 'en_arrested', 'en_franco', 'en_scent', 'it_sabbiatura', 'en_aligned', 'en_alvarez', 'en_variation', 'en_birthday', 'en_enforced', 'en_dogmatic', 'en_finally', 'en_clone', 'en_struggle', 'it_ricostituito', 'it_ricostituita', 'it_rappresenta', 'it_verbo', 'it_eliminando', 'en_scream', 'en_adopted', 'en_landslides', 'en_cmp', 'en_teaching', 'it_pitagora', 'en_dogma', 'en_conductivity', 'en_islands', 'en_butterfly', 'it_pescare', 'en_advertise', 'en_taxation', 'en_folklore', 'en_naoh', 'it_alberoni', 'en_listed', 'en_persia', 'en_listen', 'en_stirner', 'en_dates', 'it_tredici', 'en_jennifer', 'it_calvario', 'en_lobbying', 'it_franchismo', 'en_dated', 'en_bracket', 'it_rimonta', 'en_rapprochement', 'en_convince', 'en_singles', 'en_tonnage', 'en_slayton', 'en_afl', 'it_resto', 'it_resti', 'en_contraction', 'it_resta', 'en_afc', 'en_afb', 'it_gabbia', 'en_consuming', 'it_morfologia', 'en_harness', 'it_razzi', 'it_ordinato', 'it_ordinata', 'it_razze', 'it_rifacimento', 'it_razza', 'it_cellule', 'en_moving', 'it_public', 'en_tamina', 'it_olanda', 'en_fr\\xc3\\xa9mont', 'it_ritardo', 'it_ritardi', 'en_carefully', 'it_puntate', 'it_pionieri', 'en_legislatures', 'it_pioniere', 'it_sfilata', 'it_morabito', 'it_creatore', 'it_documentazione', 'en_simultaneously', 'it_escursioni', 'it_incompleti', 'en_consultant', 'en_disappearance', 'it_regolamento', 'it_montana', 'it_regolamenti', 'en_bulldog', 'it_sedili', 'en_preservation', 'en_mockery', 'en_documenting', 'it_generiche', 'it_causata', 'it_vorace', 'it_causato', 'it_causati', 'en_undisputed', 'en_incessant', 'it_sutura', 'en_packing', 'it_suture', 'en_toilets', 'it_amplificazione', 'it_ricostruzioni', 'en_strikers', 'it_francini', 'en_smithsonian', 'en_niche', 'en_trumbull', 'en_prophetic', 'en_acquitted', 'en_legends', 'it_tiratore', 'en_insistence', 'it_variabili', 'en_notation', 'en_phospholipids', 'it_fortitudo', 'en_oxalic', 'en_insecticides', 'en_burgess', 'it_tenuto', 'it_costruire', 'en_commodore', 'en_destroyer', 'en_cyborg', 'en_stalker', 'it_giorgetto', 'en_encouraging', 'it_saggio', 'it_ascolto', 'it_spaventoso', 'en_persecution', 'en_akira', 'en_capitalist', 'it_mortalit\\xc3\\xa0', 'it_fabbriche', 'it_lago', 'en_territory', 'en_aggrieved', 'it_english', 'it_rinascita', 'en_sexually', 'it_fischio', 'en_lucrative', 'en_blocking', 'it_scacchi', 'en_realization', 'it_temperature', 'en_veganism', 'it_temperatura', 'it_fornitori', 'it_colt', 'en_illumination', 'it_aggressivi', 'en_seasonally', 'it_aggressivo', 'it_fucilieri', 'it_jones', 'en_spectator', 'it_pertini', 'en_expand', 'en_ricardo', 'en_nonius', 'en_nicknamed', 'en_upset', 'it_didascalia', 'it_ottica', 'it_ottico', 'it_ottici', 'it_esclusivamente', 'en_tuscaloosa', 'it_soggiorno', 'it_prologo', 'it_guado', 'en_supernova', 'it_schiuma', 'it_operativo', 'it_louvre', 'it_brummell', 'en_becoming', 'it_estrazione', 'it_sendak', 'en_cramping', 'it_posteriore', 'it_wang', 'en_behaviors', 'it_posteriori', 'it_arles', 'en_armour', 'en_written', 'en_superb', 'it_nube', 'en_vigorously', 'it_reattori', 'en_representation', 'it_influsso', 'en_overseas', 'en_teeth', 'en_disparate', 'en_wounding', 'en_admiration', 'it_gallia', 'en_sociocultural', 'it_puntuale', 'it_fermentazione', 'en_freie', 'en_provider', 'en_provides', 'en_warning', 'en_rapier', 'en_siblings', 'en_plots', 'en_backlash', 'en_provided', 'en_responds', 'en_orbits', 'en_retrospectively', 'it_dragan', 'it_olimpionici', 'en_scenario', 'it_diminuendo', 'en_sacks', 'en_strands', 'it_jerry', 'it_premia', 'it_premio', 'it_primari', 'en_centrality', 'it_tasto', 'en_monoculture', 'en_supposedly', 'it_accel', 'it_bavaresi', 'it_terminali', 'it_piantare', 'it_ronaldo', 'it_crescita', 'it_sostituzione', 'en_survive', 'en_formerly', 'it_sostituzioni', 'it_accessibili', 'en_veracity', 'it_indietro', 'it_slow', 'en_concentrated', 'en_causing', 'en_logic', 'en_syllable', 'it_boto', 'en_signatures', 'en_ploughs', 'en_talent', 'en_explorer', 'it_economisti', 'en_cavity', 'en_explored', 'en_salamander', 'it_spedizioni', 'en_eat', 'it_spedizione', 'en_draft', 'en_parisienne', 'en_mesoamerica', 'en_fiedler', 'en_renewed', 'en_continuously', 'en_countryside', 'en_cinematography', 'en_freetown', 'en_anatomy', 'it_sfondo', 'it_sherman', 'en_discoveries', 'it_zukertort', 'it_piemonte', 'en_bahadur', 'en_cicely', 'en_stretching', 'it_michail', 'en_own', 'it_insufficiente', 'en_draper', 'en_creek', 'en_josiah', 'it_disintossicazione', 'en_anders', 'it_vicoli', 'en_rate', 'en_collaborators', 'it_strategico', 'en_twenty', 'it_ripetere', 'en_acceptors', 'it_psicosi', 'en_garneau', 'it_storico', 'en_mead', 'en_focused', 'en_meal', 'en_solute', 'en_meat', 'en_maryland', 'en_unchanged', 'it_grigioni', 'en_muslim', 'it_vladimir', 'it_expo', 'it_zattere', 'it_malkovich', 'it_cattolicesimo', 'it_direttive', 'en_refers', 'en_embody', 'it_maoismo', 'en_waters', 'en_background', 'en_stylistically', 'en_hafsid', 'en_accident', 'en_reactions', 'en_subsidies', 'it_spiegazione', 'it_scientifico', 'it_scientifica', 'it_berlina', 'en_neighborhoods', 'it_giurisprudenza', 'it_berlino', 'en_funerals', 'it_xps', 'en_volunteers', 'it_bonifacio', 'en_cabins', 'it_restauro', 'it_restauri', 'it_kraft', 'en_rapid', 'en_decontamination', 'en_pacific', 'en_bayou', 'en_impairments', 'en_patronage', 'en_prototype', 'en_deborah', 'it_giovane', 'en_results', 'en_etruscans', 'en_veto', 'it_carrie', 'en_sphere', 'en_interrupted', 'it_genova', 'it_daniele', 'it_invita', 'en_contributors', 'it_invito', 'en_lubricating', 'en_vegetation', 'en_screenwriter', 'it_pagare', 'it_scaricare', 'it_discoteche', 'it_evidenziare', 'en_dolphin', 'it_indiscusso', 'en_summary', 'en_jews', 'it_portali', 'en_answers', 'en_receiving', 'it_inusuale', 'en_spinach', 'it_ragionevoli', 'en_colin', 'en_ascetics', 'it_strasburgo', 'en_tito', 'it_panno', 'it_alberi', 'it_albero', 'it_mostrando', 'it_artropodi', 'it_kent', 'it_meditando', 'it_vera', 'it_vere', 'it_veri', 'en_richmond', 'it_henri', 'it_semplicemente', 'en_bubbles', 'en_panoramic', 'it_azienda', 'en_disease', 'it_aziende', 'it_apamea', 'it_jeepers', 'en_andes', 'it_contribu\\xc3\\xac', 'it_territori', 'it_vasta', 'en_judges', 'en_implicate', 'it_vasto', 'it_vasti', 'en_word', 'en_judged', 'it_tentativo', 'it_riproduzione', 'it_tentativi', 'it_westley', 'it_prigioniero', 'it_prigionieri', 'it_una', 'it_und', 'it_abilit\\xc3\\xa0', 'it_uno', 'en_bibliography', 'en_work', 'it_appuntamento', 'en_electrolyte', 'en_very', 'it_bodmer', 'it_notazione', 'en_lacquer', 'en_obstacle', 'it_santana', 'it_parola', 'it_parole', 'en_adapting', 'it_volume', 'it_comprensione', 'it_invasori', 'it_bronzi', 'it_volumi', 'en_dirks', 'it_magazzini', 'en_proto', 'it_garry', 'en_taxpayers', 'it_motori', 'en_goldman', 'it_motore', 'en_kidnap', 'it_episodio', 'it_gelfand', 'en_isbn', 'en_crome', 'en_radiation', 'en_oppose', 'it_tienanmen', 'it_realistiche', 'it_messicani', 'it_burn', 'it_siai', 'en_verify', 'en_prefrontal', 'en_disturbance', 'en_ambiguity', 'en_amount', 'en_regulate', 'it_fere', 'it_arte', 'it_arti', 'en_alligator', 'it_piste', 'en_capable', 'en_jordan', 'en_collected', 'en_g\\xc3\\xb3mez', 'en_thickening', 'en_gmo', 'it_kamp', 'it_compilazione', 'en_convention', 'it_margherita', 'en_petrochemical', 'en_wasted', 'it_liberato', 'it_liberata', 'en_urging', 'it_rizzoli', 'en_treaties', 'it_condensa', 'it_pittore', 'it_pittori', 'en_harvesting', 'en_follower', 'it_collinare', 'en_tundra', 'en_followed', 'en_options', 'it_nebbia', 'it_nebbie', 'en_poem', 'it_tirol', 'en_poet', 'it_speciale', 'en_jvc', 'it_eccetto', 'en_navigation', 'en_aldrin', 'it_bros', 'en_amphibole', 'it_suprema', 'en_murder', 'it_supremo', 'en_inventions', 'en_combination', 'it_gioved\\xc3\\xac', 'it_automobile', 'en_races', 'en_lobes', 'it_indifferente', 'en_beverage', 'en_synthesize', 'it_fernandez', 'en_illness', 'it_quadri', 'it_accettano', 'en_highlands', 'en_journal', 'it_bebop', 'en_mentor', 'en_restricts', 'it_punire', 'en_nemeth', 'en_prerogative', 'it_tossico', 'it_pavimento', 'en_prevalence', 'en_kateb', 'it_feudo', 'en_harmonic', 'en_rocking', 'en_ucs', 'it_monumentale', 'en_indeed', 'en_governments', 'en_termination', 'it_scelta', 'it_apogeo', 'it_scelte', 'it_inalterato', 'en_lands', 'it_scelti', 'en_theaters', 'en_nitrogen', 'it_caratteristiche', 'en_bulge', 'en_landa', 'en_assaults', 'en_lande', 'it_bravo', 'en_inertial', 'en_leader', 'en_leaden', 'en_oval', 'en_imperative', 'it_circondati', 'en_anatomically', 'it_circondato', 'en_silicon', 'it_snicket', 'en_always', 'en_obsolete', 'en_thinking', 'en_liquidation', 'it_chausson', 'en_finnish', 'en_turgut', 'en_seemed', 'en_edit', 'en_fantasia', 'en_petrochemicals', 'it_dominano', 'en_cortex', 'en_crude', 'en_primordial', 'it_sponsorizzata', 'en_captive', 'it_sponsorizzato', 'en_external', 'it_sponsorizzati', 'it_gamba', 'it_periferico', 'it_gambe', 'it_triangolari', 'en_senator', 'it_triangolare', 'en_innocence', 'en_underground', 'en_currently', 'en_apology', 'en_tadpole', 'en_catalytic', 'it_riconosce', 'en_aspiring', 'it_torrente', 'en_hadley', 'en_boeing', 'en_incorporation', 'en_portions', 'it_soddisfare', 'en_populations', 'it_bernhardt', 'it_calcare', 'it_claro', 'it_comune', 'it_toru\\xc5\\x84', 'it_riformatori', 'en_apollon', 'it_comuni', 'it_ginocchio', 'en_kodiak', 'it_blenheim', 'en_thinkers', 'it_vignette', 'en_hundred', 'en_formulated', 'en_obviously', 'it_marmora', 'it_conduttore', 'en_erroneously', 'en_everybody', 'en_eclipsed', 'en_guess', 'en_guest', 'en_myron', 'it_brera', 'en_talladega', 'en_breeding', 'en_bisexual', 'it_marketing', 'it_sensori', 'en_worthington', 'en_bolus', 'it_vaccinazioni', 'it_sensore', 'it_orrori', 'en_intermediary', 'en_flagellate', 'en_tartarus', 'en_myth', 'en_lyrics', 'en_festival', 'it_jacek', 'it_differenza', 'en_citation', 'it_differenze', 'it_registrazione', 'en_expel', 'it_visse', 'en_unjustified', 'en_neri', 'it_warspite', 'en_diver', 'it_orbita', 'it_tamburi', 'en_preston', 'en_burn', 'it_bellaria', 'it_toei', 'en_markings', 'it_congregazione', 'it_joey', 'it_prodigio', 'en_treacherous', 'en_successor', 'en_overloaded', 'it_necessariamente', 'it_capuzzo', 'en_prefixes', 'it_pellegrinaggio', 'en_substrate', 'it_risorgimento', 'en_molluscs', 'en_libertarian', 'en_bogomolov', 'en_dignity', 'en_peter', 'en_candidate', 'en_systematically', 'it_emily', 'en_clinic', 'it_negro', 'it_rotterdam', 'it_invenzioni', 'it_duccio', 'en_orchestration', 'it_fusco', 'it_bleus', 'it_mangaka', 'en_gregor', 'it_camonica', 'it_funziona', 'it_fidanzamento', 'it_funzioni', 'it_periodicamente', 'it_miglia', 'en_crises', 'it_supercomputer', 'it_indipendente', 'en_federer', 'it_banja', 'it_indipendenti', 'en_aldrich', 'en_gentlemen', 'it_mattino', 'it_mattina', 'it_punteggio', 'it_nuvole', 'it_importare', 'it_ministero', 'en_dmitri', 'it_eseguire', 'en_latin', 'en_fest', 'it_trans', 'en_propulsion', 'en_spaniards', 'en_scraping', 'it_gino', 'en_chance', 'en_fury', 'en_assortment', 'en_clarinet', 'en_does', 'en_room', 'en_russia', 'en_roof', 'it_novara', 'en_root', 'en_nationalists', 'en_rainbow', 'en_malvina', 'en_dozens', 'en_maia', 'it_cracovia', 'en_differentiation', 'en_main', 'en_mail', 'en_succeeded', 'en_product', 'en_ischia', 'en_coincide', 'it_hari', 'en_lampoon', 'it_hard', 'en_antimony', 'it_hart', 'it_arancione', 'en_paramilitary', 'en_wrote', 'en_philology', 'it_francese', 'en_desire', 'it_piscine', 'it_francesi', 'en_johnny', 'it_piscina', 'it_assomiglia', 'it_antenato', 'it_visibili', 'it_antenati', 'it_visibile', 'en_noise', 'en_hollywood', 'en_noisy', 'it_seta', 'en_red', 'en_priest', 'en_notwithstanding', 'en_evaporated', 'it_sovrapposizione', 'it_riconfermato', 'it_stop', 'it_preservare', 'en_beno\\xc3\\xaet', 'it_acquistare', 'en_inherent', 'en_alter', 'en_zinc', 'en_subsequent', 'it_tiri', 'it_tiro', 'it_cagliari', 'it_maya', 'en_obligation', 'en_italic', 'en_jumping', 'en_tami', 'it_integrato', 'it_wag', 'en_tame', 'en_cost', 'it_way', 'en_bureaucracy', 'it_cap', 'en_jeremy', 'it_cao', 'it_cai', 'it_connessione', 'en_formats', 'it_pap\\xc3\\xa0', 'en_prix', 'en_equator', 'en_radicalism', 'en_subgroup', 'it_silvio', 'en_ratio', 'it_silvia', 'en_origin', 'en_specialization', 'it_annuali', 'en_frontier', 'it_scintilla', 'it_annuale', 'it_roxx', 'en_usd', 'en_dominate', 'en_friedkin', 'it_andr\\xc3\\xa9', 'en_funny', 'en_beethoven', 'it_proclamato', 'en_tranquility', 'en_fisher', 'en_fishes', 'en_sibling', 'it_manga', 'it_defezione', 'en_real', 'en_limits', 'en_electrotechnical', 'it_pugliesi', 'en_diversity', 'en_callimachus', 'en_bentley', 'en_bangladesh', 'it_collezione', 'en_roller', 'it_chiyo', 'it_imperial', 'en_rolled', 'it_dirk', 'en_collapse', 'en_aldehyde', 'it_camerun', 'it_regula', 'en_passage', 'en_outlaws', 'en_abalone', 'en_astronauts', 'it_potrebbero', 'it_sollevato', 'en_ethnicity', 'en_inlet', 'it_debito', 'it_debiti', 'it_l\\xc3\\xa9vi', 'en_norway', 'en_obese', 'it_militari', 'en_joel', 'it_invitata', 'it_militare', 'en_rasp', 'en_fragmentation', 'it_invitati', 'it_impennata', 'en_arturo', 'en_harmonize', 'it_simbolo', 'it_simboli', 'it_erba', 'it_esitare', 'en_jarkko', 'en_covered', 'it_ingerisce', 'en_installations', 'it_vuole', 'en_recombinant', 'en_branch', 'en_realism', 'it_componenti', 'en_token', 'it_violinista', 'it_considerando', 'en_tables', 'it_amores', 'it_alluminio', 'en_hsv', 'en_contractors', 'en_just', 'it_campionati', 'it_campionato', 'it_spagna', 'en_songs', 'en_pouring', 'en_stele', 'it_spiegato', 'it_evolvere', 'it_boemia', 'it_accarezzare', 'it_trasformata', 'it_nutrirsi', 'en_priests', 'en_offspring', 'it_trasformato', 'en_supporting', 'en_riches', 'en_nikolai', 'en_played', 'en_basis', 'it_foxy', 'en_basin', 'en_player', 'en_nikolay', 'en_basic', 'en_big', 'en_mole', 'en_mold', 'en_loyalist', 'en_bin', 'en_moll', 'en_tsarist', 'en_bih', 'en_bit', 'en_bir', 'en_malatesta', 'it_palese', 'en_prescriptions', 'en_climate', 'it_riempita', 'it_prestigio', 'it_italdesign', 'it_biografi', 'en_archer', 'en_arches', 'it_velivoli', 'en_moonwalk', 'it_fucile', 'it_meteorologia', 'en_mottled', 'en_strep', 'en_larissa', 'en_phospholipid', 'it_dedicare', 'en_problems', 'en_glyphs', 'en_representatives', 'en_loaned', 'en_cycles', 'en_cut', 'en_virus', 'it_ovunque', 'en_cup', 'it_nazionalit\\xc3\\xa0', 'en_falls', 'en_pack', 'en_conflicts', 'en_metaphysical', 'it_scientifiques', 'it_leonina', 'en_pace', 'en_brain', 'it_celle', 'it_generalmente', 'en_alfred', 'en_pact', 'en_munda', 'it_talgo', 'en_caribou', 'it_triangoli', 'it_cella', 'it_inizialmente', 'en_explain', 'it_kolmogorov', 'en_lanthanum', 'en_nagy', 'it_borchert', 'it_sunny', 'en_tourists', 'it_stagnazione', 'en_extra', 'en_attacking', 'en_judgments', 'en_dimensional', 'it_voodoo', 'en_secessionist', 'it_donelson', 'en_combustion', 'en_kalb', 'it_adottata', 'it_pergamena', 'it_facilitatore', 'it_adottati', 'it_adottato', 'en_uniform', 'en_stomach', 'en_reopened', 'en_income', 'en_certification', 'it_ascoltatori', 'en_m\\xc3\\xa9ndez', 'it_luminoso', 'en_exmouth', 'en_forbidden', 'en_itaparica', 'en_support', 'it_annullato', 'en_landscape', 'it_colture', 'it_vestito', 'it_enel', 'it_coltura', 'en_applicable', 'it_disturbare', 'it_yoshihiro', 'it_sica', 'it_tranquillo', 'it_commissionata', 'en_repudiation', 'en_controversy', 'en_hedonist', 'en_phoenicia', 'en_equivalents', 'it_cuoio', 'it_graduatoria', 'en_away', 'en_reconcile', 'en_propaganda', 'it_musulmana', 'en_design', 'en_donkey', 'it_musulmani', 'it_moto', 'en_questionnaire', 'it_moti', 'it_degenerato', 'it_piero', 'it_ferrara', 'en_praxiteles', 'en_clouds', 'it_soltanto', 'en_equalization', 'en_manitoba', 'it_repulsione', 'en_hieroglyphics', 'en_went', 'it_termina', 'it_demarco', 'it_termine', 'it_termini', 'it_glaciale', 'it_cassino', 'en_roots', 'en_casting', 'it_talk', 'en_dakota', 'it_strumentale', 'it_mezzanotte', 'it_brune', 'it_fame', 'it_numerate', 'it_fama', 'it_bruno', 'en_vella', 'en_taiga', 'en_sightings', 'en_squash', 'en_jung', 'en_june', 'it_concepcion', 'en_proudhon', 'en_rabbi', 'en_upper', 'en_strategic', 'en_batch', 'en_resting', 'it_assoluta', 'en_writing', 'en_claus', 'it_rodolfo', 'it_assoluto', 'it_attribuito', 'it_attribuiti', 'it_attribuite', 'it_suggestivo', 'it_attribuita', 'en_iberian', 'en_riots', 'en_substantia', 'en_court', 'en_massana', 'en_jainism', 'en_respect', 'en_perforated', 'en_trench', 'en_prescribe', 'it_ventola', 'it_allen', 'it_akiba', 'it_alley', 'it_wave', 'en_abdulaziz', 'it_mitico', 'en_instantly', 'it_madrepatria', 'en_prevailed', 'en_unison', 'en_micha\\xc5\\x82', 'it_otto', 'en_anaxagoras', 'it_lhasa', 'en_openly', 'en_distraught', 'it_slovacchia', 'en_bituminous', 'en_embryo', 'en_shiloh', 'it_charlotte', 'it_viticoltura', 'en_robustness', 'it_rimangono', 'en_writers', 'en_beyond', 'it_naturalistico', 'en_postmodernism', 'en_impossible', 'en_coexistence', 'en_interesting', 'it_anello', 'it_anelli', 'it_sapienza', 'it_bocca', 'en_adolescence', 'en_hospitalisation', 'en_ironic', 'en_nationality', 'en_ribs', 'en_sexuality', 'en_symptom', 'en_population', 'en_definitions', 'en_zoo', 'en_committing', 'it_accumulo', 'en_ayn', 'en_teach', 'it_notti', 'en_creator', 'it_notte', 'it_gameti', 'en_victory', 'en_affiliation', 'en_rectified', 'en_aged', 'it_scavi', 'it_scavo', 'en_polypropylene', 'en_ager', 'en_fluorine', 'en_proposals', 'en_systemic', 'it_shock', 'it_degrado', 'en_tennis', 'en_broad', 'it_variet\\xc3\\xa0', 'it_moltiplicazione', 'it_conquistare', 'en_venezuela', 'it_credeva', 'it_caricati', 'en_lobby', 'en_counterculture', 'en_aquileia', 'en_justification', 'it_nucleare', 'it_nucleari', 'en_overflow', 'en_reindeer', 'it_interamente', 'en_tubercles', 'en_ancients', 'en_kind', 'en_king', 'en_bottleneck', 'en_retain', 'en_highways', 'en_fact', 'it_bentonville', 'en_face', 'en_alicia', 'it_gaspare', 'en_appellant', 'it_paragrafi', 'it_bach', 'en_presbyterian', 'en_discretion', 'it_huber', 'en_capture', 'it_alfredo', 'it_forza', 'en_usable', 'it_henning', 'en_devices', 'en_restraint', 'en_censors', 'en_osce', 'it_giudei', 'en_cosmonauts', 'en_harrison', 'en_simulate', 'en_wrestling', 'it_classificazione', 'it_crazy', 'it_interpreti', 'en_competitors', 'it_interprete', 'en_experimented', 'it_classi', 'it_classe', 'en_synopsis', 'it_arricchito', 'it_scenario', 'it_parodie', 'it_tartarughe', 'en_mccain', 'en_only', 'it_airlines', 'it_cacciatori', 'en_baghdatis', 'en_illogical', 'it_cancellazione', 'en_robber', 'en_tamayo', 'en_generations', 'it_diurna', 'it_eurythmics', 'en_language', 'en_filtering', 'en_socialists', 'it_sale', 'it_amsterdam', 'it_sala', 'en_mantis', 'en_consistency', 'en_elision', 'it_teoria', 'en_eradicate', 'it_teorie', 'en_emulsions', 'it_bovino', 'en_delimited', 'it_bovini', 'en_faure', 'en_effects', 'it_avversaria', 'it_avversario', 'en_definitely', 'en_checker', 'it_escobar', 'en_system', 'en_breaking', 'it_sinonimi', 'en_checked', 'it_sinonimo', 'it_riassume', 'it_debuttato', 'it_paola', 'it_potrebbe', 'it_paoli', 'it_paolo', 'it_jasna', 'it_betelgeuse', 'it_quantit\\xc3\\xa0', 'en_dominates', 'en_kentucky', 'it_costanti', 'en_dominated', 'en_barracks', 'it_derivare', 'en_rudimentary', 'en_clutches', 'it_costante', 'en_points', 'en_milligrams', 'it_essere', 'en_moses', 'it_eccezioni', 'it_rane', 'it_eccezione', 'it_esseri', 'it_rana', 'it_marcato', 'en_commitments', 'en_office', 'it_disabili', 'en_veterinary', 'it_disabile', 'it_jekyll', 'it_hazara', 'it_norvegia', 'en_assign', 'en_widow', 'en_fibers', 'it_attesta', 'en_expropriations', 'en_thermodynamics', 'it_asciugamano', 'en_sacrificed', 'en_colonization', 'en_sanctuaries', 'en_sacrifices', 'en_makeup', 'it_individuale', 'it_travaglio', 'en_crucial', 'it_formale', 'en_claimed', 'en_disks', 'it_terreno', 'it_terreni', 'it_conduzione', 'en_avoidance', 'en_distinct', 'en_reciprocal', 'it_assolo', 'it_versare', 'en_tunisia', 'en_elegance', 'it_esploratori', 'en_embryos', 'it_parodi', 'it_esploratore', 'en_prompt', 'it_mcmillan', 'en_pedestrian', 'en_armand', 'en_degraded', 'it_prestito', 'it_queen', 'it_moulin', 'en_bring', 'en_brine', 'it_albina', 'en_unable', 'it_esclusivi', 'en_dirck', 'en_memorialized', 'en_nodes', 'it_picchi', 'en_attic', 'en_fai', 'en_fao', 'en_fan', 'en_far', 'en_beverages', 'en_examined', 'en_fat', 'it_umanista', 'it_echinodermi', 'en_quagmire', 'it_inquinanti', 'en_online', 'it_sottratto', 'it_stoccolma', 'en_underlying', 'it_polmone', 'it_preparatori', 'it_battle', 'it_illinois', 'en_stratification', 'it_memory', 'en_counterpart', 'en_traveling', 'en_skies', 'it_rasputin', 'en_slept', 'it_sensoriale', 'en_masterpiece', 'en_cassell', 'en_crass', 'en_inevitable', 'it_sacrifici', 'en_ethics', 'it_precisione', 'en_wake', 'en_crash', 'it_ginevra', 'en_aristocracy', 'en_get', 'en_oceans', 'en_puts', 'it_consumo', 'it_acrobatica', 'it_consumi', 'en_gen', 'en_smuggling', 'en_huxley', 'en_reverses', 'it_raffineria', 'en_villagers', 'it_salamandre', 'en_tuskegee', 'it_normalizzazione', 'en_newspaper', 'it_elettricit\\xc3\\xa0', 'en_exemptions', 'it_dedizione', 'it_iniezione', 'it_xmp', 'en_losses', 'en_illich', 'it_defecazione', 'en_chemistry', 'en_achilles', 'en_nonprofit', 'en_essential', 'it_xml', 'it_controversia', 'it_turismo', 'it_controversie', 'en_raven', 'en_runciman', 'en_aggressive', 'en_lyric', 'en_verbs', 'it_human', 'it_raggiunte', 'en_waite', 'it_mecca', 'it_raggiunta', 'it_coincidono', 'it_provocante', 'it_raggiunto', 'it_refrattari', 'en_theological', 'it_unisex', 'en_medication', 'it_sar', 'it_apparizioni', 'en_particle', 'it_apparizione', 'it_pulizia', 'en_tour', 'en_reporter', 'it_implementato', 'en_owen', 'it_affrontare', 'en_reorganized', 'en_fortified', 'it_compatrioti', 'en_gorky', 'en_bundle', 'it_precedere', 'it_acqui', 'it_differenziata', 'it_acque', 'en_genius', 'it_disco', 'it_sahara', 'en_expensive', 'en_pyre', 'en_grassland', 'en_agency', 'en_puffy', 'en_intentionally', 'en_dull', 'en_irish', 'it_pasos', 'en_periodically', 'en_cabbage', 'en_violence', 'it_emma', 'it_macellazione', 'it_osbourne', 'en_night', 'en_converts', 'en_anselm', 'en_dinosaur', 'it_transferasi', 'en_ovid', 'it_frankie', 'en_buffy', 'en_promulgated', 'en_scott', 'en_history', 'it_calorico', 'en_euro', 'it_bertrand', 'it_boston', 'en_princeton', 'it_plausibile', 'it_contee', 'it_vulnerabile', 'it_cervia', 'en_bankhead', 'it_vulnerabili', 'it_opera', 'it_opere', 'it_strofa', 'en_septa', 'en_cytosol', 'en_scarce', 'en_byzantine', 'en_authenticity', 'it_amatoriale', 'en_license', 'en_splash', 'en_volcanism', 'it_gaula', 'en_lpg', 'en_slave', 'it_metamorfosi', 'it_romanzi', 'it_romanzo', 'it_etichettato', 'it_intrinseco', 'en_satire', 'it_volare', 'it_sessione', 'it_potenziali', 'it_sessioni', 'it_potenziale', 'en_avenging', 'it_dighe', 'en_literacy', 'it_bergamo', 'en_contemplative', 'en_butterfield', 'en_ecstatic', 'it_suscettibile', 'it_pentecoste', 'it_alik', 'it_manhattan', 'it_inaugurato', 'en_alienated', 'en_regulations', 'it_inaugurata', 'it_acad\\xc3\\xa9mie', 'it_sorgente', 'it_discreta', 'en_dedicated', 'it_discreto', 'en_protects', 'it_materie', 'en_destiny', 'it_combinare', 'en_kenworthy', 'en_sliding', 'en_refrain', 'en_divine', 'it_konoha', 'en_principals', 'en_torpedo', 'en_cigars', 'it_coordinate', 'en_notre', 'it_associato', 'it_indennizzo', 'en_collateral', 'it_cern', 'it_ambasciatori', 'it_galletti', 'en_justin', 'en_introducing', 'it_potassio', 'it_adams', 'it_palestrina', 'en_psychiatrist', 'it_finire', 'en_nicolae', 'en_compatriot', 'en_nicolas', 'en_ingrained', 'en_everywhere', 'en_chooses', 'it_spiritualit\\xc3\\xa0', 'it_elaborate', 'it_svizzero', 'it_elaborati', 'en_iphone', 'en_scale', 'en_scala', 'en_achaemenid', 'en_energy', 'en_twitch', 'en_eleven', 'en_mud', 'it_landtag', 'en_southern', 'en_relic', 'it_materialismo', 'it_bersagli', 'en_invalidated', 'it_divisione', 'it_dom', 'it_jay', 'en_crawford', 'en_each', 'it_doc', 'it_tassati', 'it_dot', 'en_iowa', 'en_juli\\xc3\\xa0', 'it_industria', 'it_sofia', 'it_possesso', 'en_scanner', 'en_scanned', 'en_delinquency', 'en_specimens', 'it_sposta', 'en_deceased', 'it_propriet\\xc3\\xa0', 'it_sommersa', 'it_sommerso', 'it_aumento', 'en_regius', 'en_judgment', 'en_grumman', 'en_governs', 'it_ditteri', 'it_aumenta', 'en_start', 'en_stars', 'it_jan', 'it_denti', 'it_sopraffare', 'it_zyl', 'it_dente', 'en_stark', 'it_nutrire', 'en_consist', 'en_melancholy', 'en_wellbeing', 'it_significava', 'it_backgammon', 'it_settimanalmente', 'en_appease', 'en_services', 'en_physicians', 'en_impregnated', 'en_daniel', 'it_conoscenze', 'it_conoscenza', 'en_discharged', 'it_sh\\xc5\\x8djo', 'en_neutralization', 'en_greeley', 'it_scimmia', 'en_morphing', 'en_caterpillars', 'en_herbivore', 'en_undermine', 'en_hiding', 'it_sandi', 'it_schmidt', 'en_abstention', 'en_voluntary', 'it_luca', 'it_dimettersi', 'en_halides', 'en_diocletian', 'it_luce', 'en_macadam', 'it_omogeneit\\xc3\\xa0', 'it_applica', 'en_customized', 'en_showed', 'en_reshape', 'en_dystopian', 'en_rutledge', 'it_adelson', 'en_crowding', 'en_vain', 'en_spaces', 'it_asdrubale', 'en_extracting', 'it_anniversario', 'it_yucca', 'it_punisher', 'en_salamanders', 'en_debuted', 'en_garman', 'it_settentrionale', 'it_frontman', 'en_number', 'it_klaus', 'it_barocca', 'en_interprets', 'it_barocco', 'it_proclami', 'en_earn', 'en_erinyes', 'it_rispettata', 'it_telecamere', 'en_phone', 'en_pitches', 'it_manager', 'it_diagonalmente', 'it_doppietta', 'it_abbandonate', 'it_schiavit\\xc3\\xb9', 'en_mid', 'en_opponents', 'en_eurymedon', 'it_abbandonato', 'it_psi', 'it_abbandonati', 'en_min', 'en_mir', 'it_psv', 'en_mit', 'en_multiculturalism', 'en_bondage', 'en_mix', 'it_viola', 'it_determinanti', 'en_norwegian', 'en_stalin', 'en_transformed', 'it_apoplessia', 'en_ears', 'en_league', 'en_lists', 'en_churches', 'it_pena', 'it_penn', 'it_gravit\\xc3\\xa0', 'en_motto', 'en_miraculous', 'en_passenger', 'it_desktop', 'it_loris', 'en_hooper', 'en_oracular', 'en_invade', 'it_recuperato', 'en_scattering', 'it_vec', 'it_recuperate', 'it_umanitari', 'en_unfortunate', 'en_officers', 'it_bevendo', 'it_ashley', 'it_rizzi', 'it_strutture', 'it_struttura', 'en_looters', 'it_nrj', 'en_neat', 'en_near', 'en_urdu', 'it_caterina', 'en_minimizing', 'en_thorn', 'en_obtain', 'en_saved', 'it_fortemente', 'en_philoctetes', 'en_spaceplane', 'it_trenitalia', 'it_reno', 'it_rena', 'en_appointed', 'en_bridgeport', 'en_seduce', 'it_andrew', 'en_imier', 'en_pray', 'en_people', 'it_andrei', 'en_edt', 'en_goodwill', 'en_icon', 'it_andrea', 'en_accelerated', 'it_cambiato', 'en_millionaire', 'it_leonesse', 'en_diaphragm', 'it_tulse', 'it_dietz', 'en_pointing', 'it_licenza', 'en_anthropologist', 'it_licenze', 'en_fire', 'it_accusato', 'it_vestiti', 'en_dismissed', 'en_firs', 'it_perdono', 'en_hits', 'en_though', 'en_entrusted', 'en_meyer', 'en_purification', 'it_dischi', 'en_racquetball', 'en_fertilizer', 'en_neuroscientists', 'en_fertilized', 'it_conurbazione', 'en_crystal', 'it_camoranesi', 'en_intrinsic', 'it_nativamente', 'it_tribunali', 'it_aspetta', 'en_treatments', 'en_politician', 'it_aspetti', 'it_aspetto', 'en_ounces', 'en_alzheimer', 'it_ramones', 'en_march', 'en_j\\xc3\\xb6ns', 'it_topi', 'it_neutropenia', 'en_inequalities', 'it_stagionali', 'it_weitz', 'it_inizi', 'en_invaded', 'en_probability', 'en_portrays', 'en_fanon', 'it_vizi', 'en_filmmaker', 'en_favoured', 'en_javelin', 'en_nylon', 'en_variances', 'it_siero', 'en_tributes', 'it_celebrazioni', 'en_parkinson', 'en_readers', 'en_nutritional', 'it_ultime', 'en_ancestor', 'it_elevata', 'it_ultima', 'it_elevato', 'it_ultimo', 'en_lamps', 'it_elevati', 'it_ultimi', 'en_closed', 'it_parere', 'en_prescribed', 'en_drives', 'en_alarm', 'en_volumes', 'it_tokyo', 'it_edizioni', 'en_prescribes', 'it_edizione', 'it_sedere', 'en_dragan', 'en_iodide', 'it_follicolo', 'it_argentine', 'en_float', 'it_argentina', 'en_vaccine', 'it_ges\\xc3\\xb9', 'it_reclamare', 'it_graham', 'en_maximize', 'en_tracking', 'en_engineers', 'en_brunner', 'en_tutorials', 'it_omonimo', 'it_omonima', 'it_jakob', 'en_ethnically', 'en_composites', 'it_tirocinanti', 'en_boycotted', 'en_adjusted', 'en_antipsychotics', 'en_talented', 'en_jubal', 'en_basal', 'en_soluble', 'it_monza', 'en_antagonist', 'it_delude', 'en_positives', 'en_nautilus', 'it_ragionamenti', 'it_muore', 'it_ragionamento', 'en_blown', 'it_tentare', 'en_mode', 'en_diarrhea', 'en_ice', 'en_sally', 'it_essiccati', 'it_cupertino', 'it_risolta', 'it_biennale', 'it_dopo', 'it_estrarre', 'en_effervescence', 'it_sguardo', 'en_stable', 'it_urban', 'en_premature', 'en_machines', 'it_formica', 'it_promozione', 'it_confisca', 'it_promozioni', 'it_direttorio', 'en_investments', 'en_contre', 'en_valle', 'en_destructive', 'en_filled', 'en_larval', 'it_gustavo', 'it_qing', 'it_gondry', 'it_reggio', 'en_crashes', 'en_amateur', 'it_devastato', 'it_quartieri', 'it_quartiere', 'it_devastata', 'it_complicata', 'en_the', 'en_expresses', 'it_launay', 'en_lincoln', 'en_damp', 'it_banconote', 'it_teddy', 'it_gibson', 'en_uppercase', 'it_nati', 'it_nato', 'it_nata', 'it_nate', 'en_rotten', 'it_quarto', 'it_quarti', 'it_ssd', 'it_quarta', 'en_responsibility', 'it_denominate', 'it_carruthers', 'it_luke', 'it_denominati', 'it_aires', 'it_cercato', 'en_battery', 'en_dismay', 'en_colonized', 'en_axis', 'en_satellite', 'it_urbano', 'it_parassiti', 'en_ukraine', 'en_occupy', 'it_pixel', 'en_conservatives', 'en_added', 'it_premi', 'en_decomposed', 'en_producing', 'it_esito', 'it_esita', 'en_shock', 'en_binding', 'en_broadcast', 'en_sensation', 'it_firmare', 'it_avevano', 'it_provenienza', 'en_remaining', 'en_bysshe', 'en_caused', 'it_idealista', 'en_appropriation', 'it_rassegna', 'it_viaggiatori', 'en_causes', 'en_surge', 'it_mole', 'en_mania', 'en_genesis', 'en_religion', 'it_molo', 'en_hephaestion', 'en_constitutionally', 'en_creations', 'en_dubious', 'it_soffio', 'it_apparecchi', 'en_combined', 'it_inni', 'it_inno', 'en_gills', 'en_combines', 'en_continent', 'en_yolk', 'it_falda', 'en_conspiracy', 'it_beat', 'it_johann', 'en_wonder', 'it_florida', 'it_mira', 'it_mire', 'it_stara', 'it_deviare', 'en_krasnoyarsk', 'en_acupuncture', 'it_start', 'en_mackay', 'en_resigned', 'it_brevetto', 'it_spettacolo', 'en_expectation', 'it_variazione', 'it_spettacoli', 'it_variazioni', 'en_heroic', 'it_materialmente', 'en_vapours', 'it_selezione', 'it_undicesima', 'it_selezioni', 'en_strike', 'en_deploy', 'it_idraulica', 'it_idraulico', 'it_bronson', 'it_montmartre', 'en_madison', 'en_thought', 'en_tosco', 'en_infected', 'en_equals', 'en_emphasise', 'en_geneticist', 'it_notizie', 'it_olsen', 'it_zenga', 'it_barnet', 'en_interface', 'en_soybean', 'en_narrate', 'en_parisian', 'en_breathe', 'en_vienna', 'en_renew', 'en_ronald', 'en_eclipse', 'it_pisa', 'en_bands', 'en_elsewhere', 'en_anoxia', 'en_neutralizing', 'it_democratico', 'it_fiori', 'it_aquilone', 'en_charter', 'it_reggimento', 'en_calculation', 'en_nourish', 'it_backstage', 'en_parishes', 'en_augmented', 'en_essence', 'en_lesbian', 'en_chalcis', 'it_disposizioni', 'it_classicismo', 'it_macrae', 'it_disposizione', 'it_shuttle', 'it_discussione', 'it_discussioni', 'en_buildings', 'en_confrontations', 'it_jet', 'it_incomprensibile', 'it_televisore', 'en_favorites', 'it_televisori', 'en_nascar', 'it_snc', 'it_holmen', 'en_warrick', 'en_monumental', 'it_jazz', 'en_indicators', 'it_riscaldamento', 'en_socialism', 'en_begged', 'it_vittoriano', 'en_socialist', 'en_manipulation', 'it_moritz', 'en_masses', 'en_inaugural', 'it_neutrini', 'it_diario', 'en_differentiate', 'en_animators', 'it_selezionare', 'it_taiwan', 'en_amoeba', 'it_appello', 'it_heritage', 'en_lubricants', 'en_alabaster', 'en_sexism', 'it_presenze', 'it_presenza', 'it_radziwi\\xc5\\x82\\xc5\\x82', 'it_atrio', 'en_pharmacy', 'en_perfect', 'en_redistribute', 'it_rinascimento', 'it_meta', 'en_grasping', 'it_cardenal', 'en_humility', 'it_margravi', 'en_labor', 'en_sundays', 'en_coordination', 'en_joshua', 'en_anterior', 'it_chiusi', 'it_stoccaggio', 'it_chiuso', 'it_chiusa', 'it_sedia', 'it_chiuse', 'en_itinerant', 'en_service', 'en_cutting', 'en_geneticists', 'en_vitality', 'it_sostenitori', 'it_spia', 'it_genovese', 'en_academics', 'it_genovesi', 'en_offensive', 'it_sostenitore', 'en_greta', 'it_pane', 'en_rhetoric', 'en_christy', 'en_death', 'en_doubt', 'en_medicines', 'en_hersholt', 'en_julia', 'en_rationality', 'en_christa', 'it_minsk', 'en_eighteenth', 'en_school', 'it_parassitoide', 'en_circular', 'it_mella', 'it_parassitoidi', 'en_area', 'en_hierarchy', 'en_sociologists', 'en_euripides', 'en_scamander', 'en_sitting', 'it_regole', 'it_provare', 'it_nutrimento', 'en_drift', 'it_aurora', 'en_stick', 'en_rowling', 'en_stich', 'it_romantica', 'en_elegans', 'it_romantico', 'it_assediando', 'en_pelvic', 'en_embodiment', 'it_concistoro', 'en_trivial', 'it_bagno', 'it_libert\\xc3\\xa0', 'it_vincente', 'en_servant', 'it_vincenti', 'en_slurry', 'it_riparato', 'it_goal', 'it_albergo', 'en_advice', 'en_rivi\\xc3\\xa8re', 'en_symposium', 'en_mesopotamian', 'it_assumendo', 'it_marito', 'it_crepacci', 'it_repressione', 'en_iraqi', 'en_accented', 'en_aspirin', 'it_ereditato', 'en_bunyan', 'it_quinti', 'it_rappresaglia', 'it_quinto', 'it_quinta', 'en_andalusia', 'en_geber', 'en_drain', 'en_revival', 'en_census', 'en_genetically', 'it_vestibolo', 'en_suspects', 'en_hammer', 'en_credits', 'en_phylogenetic', 'it_vecchi', 'en_indoctrination', 'en_clicking', 'en_transferred', 'en_hypochlorite', 'en_abkhaz', 'it_rave', 'en_unexpectedly', 'en_procession', 'it_sanseverino', 'it_diarra', 'it_compleanno', 'it_cumberland', 'en_midwest', 'en_displaying', 'it_surrogati', 'en_gadsden', 'en_sncf', 'it_plus', 'en_surrealist', 'en_authors', 'it_varsavia', 'en_judaism', 'en_trains', 'en_construction', 'en_fighter', 'en_leadership', 'it_teologia', 'en_autocrat', 'en_healed', 'en_solvents', 'en_healer', 'en_lies', 'en_questions', 'en_admissible', 'it_nonostante', 'it_alenia', 'en_practical', 'it_cit\\xc3\\xa9', 'en_detriment', 'it_aconcagua', 'it_liam', 'en_attracted', 'en_deconstruction', 'it_icc', 'it_certi', 'it_certo', 'en_romania', 'en_ave', 'it_probabilmente', 'en_overlaps', 'en_nervous', 'en_domain', 'it_stranamente', 'en_register', 'en_inauguration', 'en_packaging', 'en_convinces', 'en_batson', 'en_piracy', 'en_convinced', 'en_completed', 'en_illusions', 'it_cronologia', 'en_activism', 'it_piegati', 'en_characteristics', 'en_activist', 'it_prentiss', 'en_dividends', 'it_straordinari', 'en_bunch', 'it_marchese', 'it_espansione', 'en_radar', 'en_reflections', 'en_discovering', 'en_minds', 'en_weight', 'en_libraries', 'en_revision', 'en_shade', 'en_fungal', 'en_fix', 'en_fis', 'en_fit', 'it_poemi', 'it_poema', 'en_fig', 'it_anglo', 'it_formato', 'it_formati', 'it_formata', 'en_walking', 'en_retardant', 'en_discs', 'en_madjer', 'it_inverso', 'en_impractical', 'en_estimated', 'en_affirms', 'en_estimates', 'it_difendendo', 'en_humidity', 'it_copia', 'en_fears', 'en_inflicted', 'it_nazionalismo', 'en_alpha', 'en_fully', 'it_decine', 'en_separators', 'it_paracadutisti', 'it_fregi', 'en_locating', 'en_absolutely', 'en_norms', 'it_senza', 'en_performances', 'en_synthetic', 'en_predictive', 'en_egyptian', 'en_theater', 'en_motive', 'it_manierista', 'en_pour', 'en_priestesses', 'en_lumi\\xc3\\xa8re', 'en_ohio', 'it_prestazione', 'en_papilla', 'it_prestazioni', 'it_napoleone', 'it_summers', 'en_goals', 'en_encodings', 'it_paula', 'it_chiostro', 'it_pauli', 'it_paulo', 'it_filippine', 'it_genoma', 'en_newsletter', 'it_filmografia', 'en_valhalla', 'en_auditorium', 'en_thirtieth', 'it_adiacenti', 'it_nomignolo', 'it_invertire', 'en_wrist', 'it_adiacente', 'it_narrazione', 'en_knock', 'en_unpredictable', 'it_solidariet\\xc3\\xa0', 'it_riassunte', 'it_manciuria', 'en_suction', 'en_contests', 'it_judo', 'en_fiftieth', 'en_intentions', 'en_lesser', 'en_turntable', 'it_formazione', 'it_formazioni', 'en_otherwise', 'it_attrezzata', 'en_uss', 'en_pythian', 'it_nell', 'it_creeper', 'en_use', 'en_usa', 'en_substantially', 'it_ombrello', 'en_sociolinguistics', 'en_testified', 'it_contraffazione', 'en_greenland', 'it_gillette', 'it_tracciata', 'en_lorenzo', 'it_ordonez', 'it_tracciato', 'it_bogus\\xc5\\x82aw', 'it_accesi', 'it_acceso', 'it_pesaro', 'en_criminal', 'en_arnold', 'en_deprecated', 'en_period', 'en_surinam', 'en_elves', 'it_h\\xc3\\xb6lle', 'en_sense', 'it_fragranza', 'en_subsidiary', 'it_allocazione', 'it_convenzionali', 'it_strong', 'it_convenzionale', 'en_invited', 'it_agricoltori', 'en_temporary', 'en_neutrons', 'en_synchronized', 'en_defects', 'en_balcony', 'it_prigionia', 'en_wound', 'en_natchez', 'en_peninsula', 'en_haida', 'en_alloy', 'en_aggressively', 'it_guarnigione', 'it_gerard', 'en_allow', 'it_old', 'it_immaginazione', 'it_alan', 'it_pinne', 'it_cantiere', 'en_zond', 'en_zone', 'it_horton', 'en_mating', 'it_conservare', 'it_ventimiglia', 'it_rivelatore', 'it_rivelatori', 'it_cesena', 'it_durata', 'en_fro', 'it_durato', 'en_acceptor', 'it_riciclaggio', 'en_committees', 'en_undulations', 'it_spese', 'en_rebuild', 'it_statica', 'it_aviano', 'en_perennial', 'it_partecipazioni', 'en_herndon', 'it_designati', 'it_partecipazione', 'en_grow', 'en_rebuilt', 'it_designato', 'it_maschera', 'en_mythic', 'en_nantes', 'en_same', 'en_arizona', 'it_arca', 'it_arco', 'it_sola', 'it_sole', 'it_specialit\\xc3\\xa0', 'it_soli', 'it_solo', 'en_orwell', 'it_sketch', 'en_gps', 'it_carattere', 'it_sacrifica', 'it_gonorrea', 'it_caratteri', 'it_ritrasmissione', 'it_aeronautica', 'en_defying', 'it_apprendista', 'en_favorable', 'en_titled', 'en_ravel', 'it_macchie', 'en_photon', 'en_assumption', 'en_photos', 'it_gol', 'en_indicating', 'en_gods', 'en_nickname', 'it_dovrebbe', 'en_lightweight', 'en_inalienable', 'en_relax', 'en_relay', 'it_alloggi', 'en_occasions', 'en_contained', 'it_bacio', 'en_espionage', 'en_halleck', 'en_coniferous', 'en_polysaccharide', 'it_chitarrista', 'en_goldwater', 'it_petali', 'it_ricevuto', 'en_alternative', 'en_applauded', 'en_cynical', 'en_loneliness', 'it_registro', 'en_recreation', 'it_horie', 'en_keyboard', 'en_riding', 'en_koch', 'it_ipotetica', 'it_cacao', 'it_unione', 'it_territoriali', 'it_cover', 'en_portugal', 'it_orecchiabile', 'en_chiron', 'it_inizio', 'en_superiority', 'en_erected', 'it_cieco', 'it_online', 'it_restante', 'en_printed', 'it_unioni', 'en_swept', 'en_nacional', 'en_printer', 'en_invades', 'it_renault', 'en_byzantines', 'en_obama', 'it_flanders', 'en_vibrates', 'en_divert', 'en_divers', 'en_midwife', 'it_society', 'it_raggiunge', 'en_biped', 'it_somalia', 'it_parata', 'en_psychological', 'en_subsistence', 'it_luka', 'it_esplorazione', 'it_ahmad', 'en_expressed', 'it_risorse', 'it_achemenide', 'en_additivity', 'it_comics', 'en_metamorphosis', 'it_lufthansa', 'en_peppers', 'it_andrews', 'it_holstein', 'en_specially', 'en_urged', 'en_americas', 'en_urges', 'it_studioso', 'en_american', 'it_democratici', 'it_studiosi', 'en_lmp', 'it_democratica', 'it_vergine', 'en_agust\\xc3\\xadn', 'it_rondini', 'en_agreed', 'it_solferino', 'en_upheaval', 'it_varianti', 'it_brasil', 'it_variante', 'it_menzogne', 'it_globale', 'en_crushing', 'en_protein', 'it_sedis', 'it_sedie', 'it_consapevole', 'en_florence', 'en_theravada', 'en_petroleum', 'en_competing', 'en_predatory', 'en_georg', 'en_bind', 'en_combinations', 'en_max', 'en_vegetable', 'en_scheer', 'en_map', 'en_highlight', 'en_man', 'en_mac', 'en_mad', 'en_mae', 'en_search', 'en_handbook', 'it_percorso', 'it_percorsi', 'en_telegraph', 'it_alato', 'en_fleeting', 'it_hdr', 'it_lisbona', 'en_weighs', 'en_cycle', 'it_risparmiatori', 'en_schizophrenia', 'en_infections', 'it_assistenza', 'it_giustiniani', 'en_australian', 'en_molecular', 'en_serkis', 'en_neil', 'en_private', 'it_cornelia', 'en_robbie', 'en_crab', 'it_ironicamente', 'it_vietata', 'it_apartheid', 'en_quantity', 'it_pyrenaica', 'en_containing', 'it_presentazione', 'en_strength', 'en_mutually', 'en_hamming', 'en_quarter', 'en_imaginary', 'it_registra', 'it_happy', 'it_toledo', 'it_registri', 'en_napalm', 'en_degree', 'en_elm', 'en_metres', 'en_partnership', 'en_aristotle', 'it_restaurazione', 'en_cerebellum', 'en_worried', 'it_canyon', 'en_wrangell', 'en_criterion', 'en_stations', 'it_stupida', 'en_prior', 'it_corrotti', 'it_stupido', 'it_corrotto', 'it_mail', 'it_immortali', 'it_immortale', 'en_rouge', 'en_empedocles', 'en_dances', 'it_territorio', 'en_powerful', 'en_preserved', 'en_literature', 'en_replacement', 'en_seized', 'en_fatal', 'en_shattered', 'it_wrightson', 'en_clijsters', 'en_claimant', 'en_angles', 'it_epigrafe', 'en_traditionalism', 'en_marks', 'en_starred', 'en_symphony', 'en_coelacanth', 'it_settimana', 'it_settimane', 'it_toho', 'it_flack', 'it_dovere', 'en_sink', 'en_road', 'en_sing', 'it_hawaii', 'en_demographics', 'en_clogged', 'en_race', 'en_african', 'en_fidelity', 'it_inseguimento', 'en_nolte', 'en_steadman', 'en_feeling', 'en_goebbels', 'en_sumter', 'en_afford', 'it_pretendenti', 'en_coward', 'en_total', 'en_admirers', 'en_hades', 'en_stage', 'en_reallocation', 'it_scrivere', 'it_spence', 'it_testata', 'en_subsidy', 'it_utilizzi', 'it_funzionalit\\xc3\\xa0', 'it_utilizzo', 'en_northern', 'it_opzionale', 'it_squisita', 'it_faggio', 'en_asiatic', 'it_portico', 'it_secco', 'en_marc', 'en_foresaw', 'en_referring', 'en_mare', 'en_mark', 'en_mari', 'en_personality', 'en_hcl', 'en_instrumentation', 'en_brackish', 'en_jackals', 'en_descriptive', 'it_bohm', 'en_mary', 'en_marx', 'en_crusoe', 'en_donald', 'en_awarded', 'en_convictions', 'en_ineligible', 'en_modern', 'it_tendono', 'en_illustrations', 'it_centrale', 'en_mystique', 'en_sporadically', 'en_emancipated', 'en_sergi', 'it_contrassegnato', 'it_mentale', 'it_telefono', 'en_ryland', 'en_romantic', 'en_syndrome', 'en_colloquial', 'en_anachronistic', 'it_cloni', 'en_khaldun', 'it_punizione', 'en_nourishment', 'en_crispus', 'en_distrust', 'en_late', 'en_heavily', 'it_relegato', 'en_infectious', 'en_requests', 'en_monopoly', 'en_formidable', 'it_astratto', 'en_stateless', 'it_astratta', 'it_localizzare', 'it_inglesi', 'en_cartoons', 'it_inglese', 'it_reggae', 'it_nov', 'en_trabajo', 'it_terminologia', 'en_pedantic', 'it_interazione', 'en_demetrius', 'it_non', 'en_installed', 'en_pass', 'en_phrase', 'en_pablo', 'en_past', 'en_attribute', 'it_record', 'en_dialectic', 'en_rett', 'en_thinks', 'it_infatti', 'en_leave', 'it_passanti', 'en_meteor', 'en_qualify', 'en_denton', 'en_nymphs', 'en_shooting', 'it_penuria', 'en_earning', 'en_promoted', 'en_arctic', 'it_insolitamente', 'en_promotes', 'en_absorbing', 'en_svante', 'en_diameter', 'it_anassimandro', 'it_scettici', 'it_fire', 'it_wanna', 'it_espressivo', 'en_embellished', 'en_west', 'en_spectral', 'en_drowsiness', 'it_aggiungere', 'it_lucernario', 'en_logarithm', 'it_farsi', 'en_edited', 'en_precedent', 'it_estraneo', 'it_prestige', 'it_abulafia', 'it_turco', 'en_composition', 'it_studentessa', 'en_solaris', 'it_turca', 'en_harmful', 'it_calore', 'en_sprinkle', 'it_russell', 'en_belleville', 'en_remember', 'it_marted\\xc3\\xac', 'it_compressa', 'en_activities', 'it_compresso', 'en_lillian', 'en_selectivity', 'en_regular', 'it_herman', 'it_prezzo', 'it_relazionale', 'en_overton', 'en_myths', 'it_spicchi', 'it_grunge', 'en_leaning', 'en_agencies', 'it_modo', 'it_modi', 'en_collectively', 'it_moda', 'it_tipica', 'en_skeletons', 'it_nudismo', 'it_aggiungendo', 'it_tipici', 'it_tipico', 'it_simultanea', 'en_twelfth', 'it_penisola', 'it_simultaneo', 'en_totalitarian', 'en_grand', 'it_disney', 'it_imita', 'en_grant', 'en_harbor', 'it_quattordici', 'en_iran', 'en_vietnamese', 'en_ferry', 'en_grabbed', 'en_iraq', 'en_imperfect', 'en_graphic', 'it_cordone', 'en_thomas', 'en_approximate', 'it_distacco', 'en_enlarged', 'en_ideology', 'en_survivors', 'en_pewter', 'en_calculates', 'en_calculated', 'it_baffi', 'en_currency', 'en_tests', 'en_elizabeth', 'it_contenitori', 'en_pediatric', 'it_contenitore', 'en_misuse', 'en_programme', 'en_defenders', 'it_passeggero', 'en_steam', 'it_passeggeri', 'it_generation', 'it_parlamento', 'it_parlamenti', 'it_mescola', 'en_comet', 'en_comes', 'en_emigrate', 'it_vitale', 'it_riconoscimento', 'it_pontificato', 'en_upsetting', 'en_should', 'en_assertion', 'en_bbc', 'en_terra', 'en_ivo', 'it_giudice', 'en_terri', 'it_nominati', 'en_taranto', 'en_naphtha', 'it_aerobica', 'it_nominato', 'en_fewer', 'it_nominata', 'en_yang', 'it_nominate', 'en_terry', 'it_insostenibile', 'en_chaucer', 'en_tractor', 'it_approvazione', 'it_lasker', 'en_compelling', 'it_esteso', 'en_dissatisfied', 'en_phosphorus', 'it_estesa', 'en_speculate', 'it_ciclotrone', 'it_questi', 'en_palace', 'it_questo', 'it_questa', 'en_ephemeris', 'it_mev', 'en_guru', 'it_caucaso', 'it_men', 'it_righe', 'en_fortunate', 'it_rho', 'en_birth', 'it_indurimento', 'en_invalidity', 'en_synonymous', 'it_pittura', 'it_familiari', 'en_redefine', 'en_wto', 'en_patriots', 'it_falsificato', 'en_periodicals', 'it_adventure', 'en_horseshoe', 'it_opzionali', 'en_lingua', 'it_crotone', 'it_furiosa', 'it_ispirata', 'en_antibiotics', 'it_ispirate', 'it_superamento', 'it_testate', 'it_ispirati', 'it_ispirato', 'en_squares', 'en_panther', 'it_serenit\\xc3\\xa0', 'it_giovan', 'en_cartilaginous', 'en_sailor', 'en_parthian', 'en_petersen', 'en_insertion', 'en_pesticide', 'en_dependence', 'en_statement', 'it_tiglio', 'en_lines', 'en_close', 'it_iuta', 'it_patogenesi', 'en_effort', 'en_aiming', 'it_blood', 'it_inseguita', 'en_ragnar', 'it_opposti', 'en_broadway', 'it_concorrente', 'it_concorrenti', 'en_evian', 'en_listened', 'it_interviene', 'it_opposto', 'en_salmon', 'it_obiettivo', 'it_mele', 'it_mela', 'it_obiettivi', 'en_descent', 'it_premessa', 'en_herbal', 'it_teorico', 'en_attentions', 'it_riorganizzazione', 'it_rivoluzionaria', 'it_riorganizzazioni', 'it_rivoluzionario', 'en_phaedrus', 'it_ufficiosamente', 'it_lasciato', 'en_prevent', 'en_futile', 'en_selene', 'it_pubblicizzare', 'en_anthony', 'it_pantaloni', 'en_reformed', 'it_pantalone', 'it_leggett', 'it_bonini', 'en_aid', 'en_metastable', 'en_aim', 'en_ain', 'it_sfax', 'en_bend', 'en_air', 'en_fundamental', 'en_beni', 'en_satirical', 'en_entered', 'en_stops', 'en_swedish', 'en_devastated', 'it_pancia', 'en_resort', 'en_reasoned', 'en_monarchy', 'it_espressioni', 'it_chilometro', 'it_chilometri', 'it_espressione', 'it_zama', 'it_leninista', 'en_cultured', 'it_burroughs', 'it_ampliato', 'it_anomalo', 'it_attaccando', 'en_cultures', 'it_sedici', 'en_justifies', 'it_pilotato', 'it_messaggi', 'en_gamma', 'en_justified', 'it_impulso', 'en_guards', 'it_aeromobili', 'it_ammiraglio', 'en_raymond', 'en_army', 'it_laghi', 'it_veloso', 'it_esistente', 'it_esistenti', 'en_argon', 'en_argos', 'en_splinter', 'en_athens', 'en_profession', 'it_tendevano', 'it_autorit\\xc3\\xa0', 'en_athena', 'it_anatomia', 'en_canadian', 'it_riviera', 'en_spelling', 'it_mongoli', 'en_anguish', 'it_jaroslav', 'en_requirements', 'en_parma', 'it_simulare', 'it_decodificare', 'en_stabilize', 'en_fast', 'it_booker', 'en_hardware', 'en_counterparts', 'it_pura', 'it_pure', 'it_impiega', 'it_puro', 'en_newman', 'it_fenomenologia', 'en_telos', 'it_mich\\xc3\\xa8le', 'it_segnalamento', 'it_geometrico', 'it_convenzione', 'it_corrida', 'en_retroactive', 'it_temperate', 'en_mediterranean', 'en_robby', 'en_alarmed', 'it_rivendicazioni', 'en_portuguese', 'it_default', 'en_resume', 'en_runoff', 'en_approximately', 'en_unemployment', 'en_transcontinental', 'en_single', 'en_induce', 'en_skull', 'it_prende', 'en_coldly', 'en_sides', 'it_emergono', 'it_reputazione', 'en_cities', 'en_pka', 'it_importante', 'it_importanti', 'it_ambiziosi', 'it_jorge', 'en_cremona', 'it_ambizioso', 'en_austin', 'it_influenze', 'it_distruggendo', 'it_influenza', 'it_boschi', 'en_pediatrics', 'en_maximum', 'en_assumptions', 'en_ether', 'it_posizione', 'it_washington', 'it_solimano', 'en_tlemcen', 'it_ospitata', 'it_ospitato', 'en_lifestyle', 'en_hopkins', 'en_empty', 'en_methods', 'en_successors', 'en_cousin', 'en_poles', 'en_extinct', 'en_limb', 'it_rivestimento', 'it_flaminio', 'en_bread', 'en_break', 'en_sibyl', 'it_turn', 'en_haplogroup', 'it_joslyn', 'it_barberini', 'en_nuclides', 'en_rustic', 'en_reclamation', 'en_mime', 'en_off', 'it_yemenita', 'en_walsh', 'en_mimi', 'it_musicalmente', 'it_contrariamente', 'en_classical', 'en_track', 'it_traduce', 'en_trace', 'it_orchestra', 'en_fruiting', 'it_caffarelli', 'en_elevate', 'en_debt', 'en_ahimsa', 'it_norrena', 'it_quantitativo', 'en_metaphors', 'it_crucis', 'it_simmetrie', 'it_simmetria', 'en_ambulances', 'en_pound', 'en_gilbert', 'en_corbett', 'en_victorious', 'it_ashmead', 'en_lothar', 'it_congresso', 'it_procedere', 'en_akiyama', 'en_persists', 'en_bicameral', 'it_waterloo', 'en_modeling', 'en_estate', 'en_greig', 'it_pizzerie', 'it_copenaghen', 'en_embryology', 'it_timoniere', 'en_nadia', 'en_nominations', 'it_prese', 'it_memoriale', 'en_infanticide', 'it_toivonen', 'it_presa', 'en_tasting', 'en_yield', 'en_accuracy', 'en_especially', 'it_boy', 'it_box', 'en_citrate', 'it_bop', 'it_bob', 'en_silence', 'it_batterista', 'it_individui', 'en_revenge', 'it_individuo', 'it_accelerati', 'en_algebras', 'it_mustaine', 'en_manifest', 'it_automi', 'en_coherence', 'en_juvenal', 'en_continue', 'it_zaire', 'it_tracce', 'it_alessia', 'en_darwinian', 'en_dorian', 'en_requirement', 'en_gonzales', 'it_virtus', 'it_fran\\xc3\\xa7ais', 'en_active', 'it_picon', 'en_sentences', 'it_sensazione', 'en_sentenced', 'en_delegate', 'it_sensazioni', 'it_contesti', 'it_huddleston', 'it_contesto', 'en_meeting', 'it_tonalit\\xc3\\xa0', 'en_apollonius', 'en_say', 'en_sap', 'en_saw', 'en_sat', 'it_prospetto', 'en_san', 'en_sam', 'en_sac', 'en_sad', 'it_lippi', 'it_benefici', 'en_vatican', 'en_temporal', 'en_okay', 'en_poncelet', 'it_dura', 'it_duro', 'en_friezes', 'it_rimosso', 'it_rimossa', 'en_disasters', 'it_latinista', 'it_degenerazione', 'en_folds', 'en_impact', 'en_electrophile', 'en_medvedev', 'en_understand', 'it_onere', 'en_ingested', 'en_issuing', 'it_lettonia', 'en_enclosed', 'it_gregor', 'en_johannes', 'en_claude', 'it_burke', 'it_imbottito', 'it_sharif', 'it_essenzialmente', 'en_aesop', 'it_confederazione', 'it_biao', 'en_mondes', 'it_pedro', 'it_vittorie', 'en_llano', 'it_vittorio', 'en_tacitly', 'it_fiorini', 'en_power', 'it_sosta', 'en_resistant', 'en_chambers', 'it_aureus', 'en_angus', 'it_xxi', 'it_tocca', 'en_eretria', 'en_dorsally', 'en_poetry', 'it_malessere', 'it_davvero', 'en_attention', 'en_abdul', 'it_sapone', 'it_barone', 'it_attualit\\xc3\\xa0', 'it_baroni', 'en_breton', 'en_tapes', 'en_type', 'it_noi', 'en_gasoline', 'en_become', 'it_cosacchi', 'en_exists', 'it_decreto', 'it_sopravvisse', 'it_burnet', 'it_lonnie', 'en_synthesized', 'it_incomprensioni', 'it_equipaggiamento', 'en_exhibiting', 'en_barycentric', 'en_faculties', 'en_anatomists', 'en_slope', 'en_gerrard', 'it_traumi', 'en_latinos', 'en_sebastien', 'it_scontroso', 'it_intrappolati', 'it_periodo', 'it_bordeaux', 'it_periodi', 'en_amines', 'it_tragico', 'en_reptiles', 'en_expedition', 'en_vertebrates', 'it_abbondanza', 'it_pimentel', 'en_interminable', 'it_gioco', 'it_iss', 'it_gioca', 'it_militanza', 'it_smembrare', 'en_hesychius', 'en_neuroimaging', 'en_white', 'en_pacifism', 'en_realisation', 'it_portando', 'it_sabah', 'it_prussiani', 'en_founders', 'en_loyal', 'en_photographic', 'it_gravitava', 'it_invocazione', 'it_supereroi', 'it_supereroe', 'it_guscio', 'it_tab\\xc3\\xb9', 'en_incompetent', 'it_palestre', 'en_gold', 'en_working', 'it_tennis', 'it_redatto', 'it_obbligatorio', 'en_carlo', 'en_intellectual', 'it_tokamak', 'en_countdown', 'it_michele', 'en_leaving', 'en_democracy', 'en_serotonin', 'en_glimpses', 'en_amine', 'it_golgota', 'en_amino', 'it_amicizia', 'en_utilization', 'en_bridges', 'en_sleep', 'it_tintura', 'it_grazie', 'it_grazia', 'en_reconnaissance', 'en_valleys', 'it_s\\xc3\\xa1nchez', 'en_governors', 'en_undesirable', 'en_french', 'it_provando', 'it_specializzata', 'it_cavani', 'it_specializzato', 'it_specializzati', 'en_progress', 'en_encounter', 'it_tiberiade', 'en_supernatural', 'it_quorum', 'en_lynn', 'en_colony', 'en_imports', 'en_regenerated', 'en_generously', 'it_confondere', 'en_poultry', 'it_toronto', 'it_frammentazione', 'en_forage', 'it_endemol', 'it_rumorosa', 'en_naval', 'it_eccessiva', 'en_conglomerate', 'it_tablet', 'it_accettare', 'en_friend', 'en_niger', 'en_relativistic', 'en_hoist', 'it_pezzo', 'it_pezzi', 'en_strategist', 'it_bont\\xc3\\xa0', 'en_kropotkin', 'en_merger', 'it_contemplare', 'en_sclerosis', 'en_rose', 'en_percentage', 'it_fotone', 'it_statue', 'en_philosophy', 'it_contraddizioni', 'it_limitazioni', 'en_naturalist', 'en_censorship', 'it_nomina', 'en_incorrect', 'en_naturalism', 'it_acapulco', 'en_documents', 'en_cervical', 'en_solon', 'en_subjects', 'it_alternativo', 'it_alternativa', 'it_sistematicamente', 'it_alternative', 'en_thessaloniki', 'en_sepia', 'it_numerazione', 'en_octets', 'it_jehan', 'it_beckenbauer', 'en_rosenbaum', 'en_led', 'en_leg', 'it_occhiali', 'en_lem', 'it_determina', 'en_leo', 'en_les', 'en_let', 'en_mandarin', 'en_mesoamerican', 'en_painter', 'it_schenectady', 'it_lotti', 'en_wanderings', 'it_mancanza', 'en_nursing', 'en_eucalyptus', 'it_contenimento', 'en_screenplay', 'en_critical', 'it_roseto', 'it_nazismo', 'it_guascone', 'it_lotta', 'en_progresses', 'it_verit\\xc3\\xa0', 'en_ireland', 'en_progressed', 'en_process', 'en_member', 'en_prodigy', 'it_santa', 'it_target', 'it_scacchiera', 'it_galea', 'it_santi', 'it_pulcinella', 'en_coral', 'it_galee', 'it_santo', 'it_pcc', 'en_scheme', 'it_pci', 'it_nocivi', 'it_potente', 'en_heel', 'en_leslie', 'en_potential', 'en_marguerite', 'en_enjoys', 'en_throat', 'it_genocidio', 'en_geographers', 'it_sultano', 'en_odysseus', 'en_improbable', 'en_curse', 'en_errors', 'it_yangon', 'it_serena', 'en_mcenroe', 'en_chronicle', 'en_scrolling', 'it_patrick', 'en_activated', 'it_conserva', 'en_iupac', 'it_integrale', 'it_integrali', 'it_parrocchiani', 'en_originality', 'en_tukey', 'it_istantaneamente', 'en_landscapes', 'en_swiss', 'it_dynamic', 'en_inference', 'it_stone', 'en_stimulates', 'en_psychosocial', 'it_latreille', 'it_sentimento', 'en_returned', 'it_sentimenti', 'it_piombo', 'en_returner', 'it_russel', 'it_berna', 'en_hindi', 'it_capablanca', 'en_hindu', 'en_males', 'en_boric', 'it_funghi', 'en_mauss', 'en_colonialism', 'it_forsyth', 'it_carrozza', 'it_alighieri', 'en_hide', 'it_ricordato', 'en_rendered', 'en_superorder', 'it_contrasti', 'it_romita', 'it_contrasto', 'it_indurisce', 'it_video', 'it_impero', 'en_pauline', 'en_kebir', 'it_genio', 'en_jacques', 'it_calandra', 'it_eccesso', 'it_eccessi', 'it_perimetro', 'it_meriwether', 'it_sfide', 'it_sfida', 'it_limiti', 'it_limite', 'en_discretionary', 'en_geographically', 'en_wolf', 'it_guest', 'en_exceed', 'it_irritazione', 'it_dxc', 'it_mercoled\\xc3\\xac', 'en_gesellschaft', 'it_rosenberg', 'en_internal', 'en_shell', 'it_sostenibile', 'en_intellectuals', 'en_intimidate', 'it_kandahar', 'en_eugen', 'en_wilaya', 'en_exemplary', 'it_inviate', 'it_inviati', 'en_manure', 'it_inviato', 'it_reinhold', 'it_razioni', 'it_montserrat', 'it_cessato', 'it_inavvertitamente', 'it_somerset', 'en_vector', 'en_preliminary', 'it_trasparente', 'en_revealing', 'en_architecture', 'it_microchip', 'it_derubato', 'en_dilute', 'en_densely', 'it_avvicinato', 'en_specialized', 'en_silent', 'it_bilanci', 'en_dirt', 'en_thirty', 'it_balilla', 'en_alkane', 'en_creativity', 'en_tonne', 'it_xxxviii', 'it_agilit\\xc3\\xa0', 'en_shifted', 'it_collisioni', 'it_eurofighter', 'en_drop', 'it_collisione', 'it_centrato', 'en_numbered', 'it_delhi', 'it_segnali', 'it_segnale', 'en_warehouse', 'it_naufragi', 'it_aor', 'it_alain', 'en_masterpieces', 'it_atomica', 'en_oklahoma', 'it_atomico', 'it_generatore', 'en_rfc', 'it_generatori', 'en_roby', 'en_embryonic', 'it_combina', 'it_b\\xc3\\xa9renger', 'en_grandfather', 'en_tolstoy', 'it_netto', 'en_deleted', 'it_netti', 'en_orderly', 'en_traditions', 'en_happens', 'it_svezia', 'it_eggers', 'it_affitti', 'it_prezzi', 'it_simona', 'it_paranormali', 'en_marcellus', 'it_elevazione', 'en_miles', 'en_hydride', 'it_deve', 'it_fortificare', 'en_bassoon', 'en_revealed', 'en_isotopes', 'it_naoko', 'en_swing', 'it_vicino', 'it_minareti', 'it_placido', 'it_ironico', 'it_sopportare', 'en_samkhya', 'en_framework', 'en_franchise', 'it_zhou', 'en_sandstone', 'en_toulouse', 'en_rodolfo', 'en_hydrates', 'it_spiacevole', 'it_scemo', 'en_r\\xc3\\xado', 'it_nada', 'en_br\\xc3\\xb8nsted', 'en_settlers', 'it_sottoinsieme', 'it_cipro', 'en_increased', 'it_conducenti', 'it_alabastro', 'it_elezioni', 'en_increases', 'en_reliant', 'en_prize', 'it_nancy', 'it_cuspide', 'en_federalist', 'en_mycenaean', 'en_interdisciplinary', 'en_keener', 'en_surprisingly', 'en_tight', 'it_sociologi', 'en_accounts', 'en_antiquity', 'en_spades', 'en_meteorite', 'en_permission', 'en_mistakenly', 'en_images', 'en_beautifully', 'en_hydrogen', 'en_commemorates', 'it_eurocity', 'en_caine', 'it_bellotto', 'en_pomponius', 'it_chiamato', 'it_chiamata', 'en_disputed', 'it_chiamate', 'en_disputes', 'it_giuria', 'en_tactics', 'en_kelly', 'en_lindbergh', 'it_burocrazia', 'en_siberia', 'en_arcadia', 'it_streghe', 'en_rattle', 'en_supply', 'it_finlandia', 'it_camera', 'it_euroncap', 'it_verhofstadt', 'it_producendo', 'en_john', 'en_grave', 'en_quarantine', 'it_migliorata', 'it_temi', 'it_cappelle', 'it_cappella', 'it_nepal', 'it_cappello', 'it_tema', 'it_cappelli', 'en_considerably', 'it_anfiteatro', 'en_conservatism', 'en_steven', 'it_sedimenti', 'it_bloccare', 'it_trasformare', 'it_kathy', 'it_cifra', 'en_collectivization', 'en_cooperatives', 'en_corpus', 'it_zelanda', 'it_reina', 'it_pallacanestro', 'en_layered', 'en_continuation', 'it_barreto', 'en_viewers', 'en_precludes', 'en_electrons', 'it_timone', 'en_denali', 'it_sequoie', 'it_sequoia', 'it_novanta', 'en_belarus', 'it_scopre', 'en_peripatetic', 'en_cytoplasm', 'en_transported', 'it_weizs\\xc3\\xa4cker', 'en_advantage', 'it_crimine', 'en_vulture', 'it_crimini', 'it_ammettere', 'it_sufficientemente', 'en_freeport', 'en_relieves', 'it_lampo', 'it_iberoamericana', 'it_utilizzare', 'en_cricket', 'en_hard', 'en_hare', 'en_revolutionary', 'en_palme', 'it_coltiva', 'en_harm', 'it_gioachino', 'en_salah', 'it_ettore', 'en_salad', 'it_pesci', 'en_fails', 'en_afternoon', 'it_rispetti', 'it_pesca', 'it_pesce', 'it_rispetto', 'it_bianca', 'it_bianco', 'en_unicode', 'en_chi', 'it_leggende', 'it_broadway', 'en_verses', 'en_dress', 'it_principio', 'en_respiratory', 'it_ebraica', 'it_leggenda', 'it_young', 'it_volere', 'en_pure', 'it_assistito', 'it_sponsor', 'it_enciclopedia', 'it_coerenza', 'en_houston', 'en_dysentery', 'en_synchronised', 'en_temple', 'en_edict', 'en_confiscate', 'en_scan', 'it_globalizzazione', 'en_term', 'it_individuazione', 'en_oath', 'it_vaticano', 'en_herbert', 'en_oats', 'en_skyline', 'en_agassi', 'it_scultore', 'it_scultori', 'en_refugees', 'en_norfolk', 'it_ruoli', 'it_pict', 'it_ossigeno', 'it_ruolo', 'en_varies', 'en_latitudes', 'en_ephemeral', 'it_caro', 'en_comedies', 'it_carl', 'it_attrazione', 'it_affermato', 'it_discariche', 'it_card', 'it_semifinali', 'it_pico', 'it_mmm', 'it_arcangeli', 'it_stucco', 'it_indebolita', 'it_prossima', 'it_stanza', 'it_stanze', 'en_diesel', 'it_legame', 'en_drastically', 'en_j\\xc3\\xa4ger', 'en_jain', 'it_letali', 'it_personali', 'en_kidnapped', 'en_world', 'en_mocks', 'en_italy', 'it_drouet', 'it_personale', 'it_quasi', 'it_adem', 'it_locale', 'it_treviri', 'en_tires', 'en_reward', 'it_insegne', 'en_olympian', 'it_insegna', 'en_marketing', 'en_conserve', 'en_tired', 'en_limited', 'en_cuttlefish', 'it_sognatore', 'en_consequences', 'en_endothermic', 'en_cayenne', 'it_sostituisce', 'en_palaeontological', 'en_oversees', 'en_dragons', 'it_schiacciato', 'en_demanding', 'it_consegna', 'it_falsa', 'it_consegne', 'it_svevo', 'it_false', 'it_direct', 'en_aaa', 'en_socket', 'en_aac', 'it_giannizzeri', 'it_luminari', 'it_honoris', 'it_trazione', 'it_decomposizione', 'en_teenager', 'en_stigler', 'en_insurgency', 'it_bellissima', 'it_domenico', 'it_prodigo', 'en_romanization', 'it_domenica', 'it_bellissimo', 'it_demolito', 'it_demolita', 'it_madonna', 'it_magdeburgo', 'en_rabah', 'en_epoch', 'it_restrizioni', 'en_apologized', 'it_restrizione', 'it_romanico', 'it_albano', 'en_responding', 'it_marelli', 'en_balance', 'it_apprezzati', 'it_apprezzate', 'it_apprezzata', 'en_hyperborea', 'it_ritirata', 'it_tigri', 'it_capua', 'it_ritirati', 'en_potassium', 'en_scorpion', 'it_tigra', 'it_ritirato', 'it_suggestione', 'it_sternberg', 'en_sessions', 'en_cosine', 'en_winners', 'it_superare', 'en_jacksonville', 'en_harman', 'it_thornhill', 'en_baldwin', 'en_suffixes', 'it_br\\xc3\\xbchl', 'en_burton', 'en_significantly', 'en_tensions', 'it_kuwait', 'en_palestine', 'it_stimoli', 'en_burlesque', 'it_zanotti', 'en_asia', 'it_restaurato', 'it_incorporato', 'it_incorporata', 'it_restaurata', 'it_casa', 'it_intuizione', 'en_voyage', 'en_painful', 'en_virtuous', 'it_hunan', 'it_trattamento', 'en_broderick', 'en_additive', 'en_wct', 'en_disappeared', 'en_stepmother', 'it_hadron', 'it_jackson', 'en_demographic', 'it_compensare', 'en_foreword', 'it_eiga', 'it_strano', 'it_avventurosa', 'it_strana', 'it_accettabile', 'it_valvole', 'it_collettiva', 'it_somministrazione', 'it_posato', 'en_logs', 'it_egiziano', 'it_tibet', 'en_nationalist', 'it_egiziana', 'en_plantations', 'it_collegamenti', 'en_nationalism', 'it_vasa', 'it_roger', 'it_vaso', 'en_macedonian', 'it_vasi', 'it_squibb', 'it_banach', 'it_feudale', 'it_merito', 'it_meriti', 'it_merita', 'it_waka', 'it_wilder', 'en_particles', 'en_fossil', 'it_riconoscimenti', 'en_display', 'it_mpr', 'en_protection', 'en_factorial', 'it_vincendo', 'it_biella', 'it_buffalo', 'it_evidentemente', 'en_elmore', 'it_poteri', 'it_potere', 'it_caf', 'it_recinto', 'it_sebbene', 'en_yazoo', 'en_pumping', 'en_stages', 'en_transgenic', 'it_horror', 'it_testimonianze', 'en_hides', 'en_declarations', 'it_testimonianza', 'en_staged', 'en_burned', 'en_descendants', 'en_voting', 'it_quindi', 'en_jumped', 'it_espellere', 'en_one', 'en_constantinople', 'en_enzyme', 'en_unalaska', 'en_schiller', 'it_national', 'en_annotations', 'en_philanthropic', 'it_fellini', 'it_studiare', 'it_dichiarato', 'en_alkene', 'it_dichiarata', 'en_opposing', 'it_dichiarate', 'en_affiliated', 'it_grand', 'it_molise', 'en_julius', 'it_grano', 'en_retrospective', 'en_information', 'en_notices', 'en_substantial', 'en_satires', 'en_phyla', 'it_organismo', 'en_noticed', 'en_bolshevik', 'it_sente', 'it_fase', 'en_divisional', 'it_squadrone', 'it_squadroni', 'it_leandro', 'it_fasi', 'en_great', 'en_asociaci\\xc3\\xb3n', 'en_alert', 'en_winds', 'en_feasible', 'en_windy', 'en_exposed', 'en_kinder', 'en_dynamic', 'en_pollock', 'en_maintains', 'it_gallese', 'it_sassonia', 'en_caring', 'en_hasan', 'it_cerda', 'it_istruito', 'it_corse', 'it_curatore', 'en_gauss', 'it_corso', 'it_covo', 'it_corsi', 'it_professionisti', 'it_evitare', 'it_professionista', 'en_atwood', 'en_travelers', 'it_deriva', 'it_giovenale', 'it_marcatori', 'en_qualifications', 'it_francoforte', 'en_terminology', 'it_ruud', 'en_animal', 'it_contigui', 'it_annibale', 'it_agusta', 'en_roundup', 'it_partner', 'en_withdrawal', 'en_tentacles', 'en_droplets', 'it_paesi', 'it_paese', 'it_storiche', 'it_suspense', 'it_volsci', 'en_sole', 'en_sold', 'it_diventare', 'en_solo', 'en_acting', 'en_zero', 'it_heath', 'it_warner', 'it_navigazione', 'en_battles', 'it_irregolari', 'it_parchi', 'it_liz', 'en_manufacturing', 'en_brazilian', 'it_ritardato', 'en_languages', 'en_nunavut', 'it_crediti', 'it_credito', 'it_guasto', 'it_ribaltamento', 'it_guasti', 'it_differenziale', 'it_tropicali', 'it_ospita', 'it_commedia', 'it_interfaccia', 'it_angelini', 'it_concepito', 'it_favorire', 'it_queste', 'it_concepita', 'en_moshe', 'it_trezeguet', 'en_folly', 'en_panama', 'it_dennis', 'en_hound', 'it_saia', 'it_allegro', 'en_hemisphere', 'it_decisione', 'it_danzica', 'it_segreta', 'it_segrete', 'en_s\\xc3\\xa9bastien', 'it_segreti', 'it_segreto', 'en_alternatively', 'it_catturate', 'en_paleolithic', 'en_challenging', 'en_reacquired', 'en_embarrassed', 'it_popolosa', 'en_crick', 'it_numerici', 'it_inc', 'it_numerico', 'it_sviluppati', 'it_droite', 'it_spirali', 'it_sviluppato', 'it_privatizzazione', 'it_spirale', 'en_six', 'it_sviluppate', 'it_dardanelli', 'it_etiopia', 'en_bond', 'en_bone', 'en_sin', 'en_out', 'it_spinse', 'en_height', 'en_mckinley', 'en_penetrate', 'en_persians', 'it_indiana', 'en_hydroelectric', 'it_indiano', 'en_monsanto', 'en_postpone', 'it_indiani', 'en_jerk', 'it_long', 'it_superficiali', 'en_vividly', 'en_feminine', 'en_franklin', 'en_evolve', 'it_attivazione', 'it_esterno', 'it_veicolare', 'en_fingers', 'it_esterni', 'en_beauty', 'it_esterna', 'it_tap', 'en_soviets', 'en_duty', 'en_jurist', 'it_sterline', 'it_tag', 'en_directed', 'it_tan', 'it_prescelto', 'en_frederic', 'en_steelers', 'en_series', 'en_independently', 'it_consolazione', 'it_meccaniche', 'it_enormemente', 'en_prostate', 'en_laying', 'en_movies', 'en_cardinal', 'it_vittorioso', 'en_vessel', 'it_vittoriosa', 'it_superficie', 'en_eyelids', 'en_appreciate', 'it_cerimoniale', 'en_mother', 'it_almanacco', 'en_pollutant', 'it_bahrain', 'en_cancelled', 'it_isabella', 'it_avanti', 'it_machiavelli', 'it_numida', 'en_feeding', 'it_ormond', 'it_successione', 'it_rita', 'en_depletion', 'it_rito', 'it_ruhr', 'it_alfabetico', 'it_asse', 'en_coefficient', 'it_biglietto', 'en_proof', 'en_restrained', 'en_ulva', 'en_prognosis', 'en_tune', 'en_prosthetic', 'en_cards', 'en_backup', 'en_executives', 'it_afferma', 'it_william', 'it_recensioni', 'en_celtic', 'en_catalyst', 'en_inspiring', 'it_notoriet\\xc3\\xa0', 'en_hostilities', 'en_nucleon', 'it_giapponesi', 'it_frankenheimer', 'it_giapponese', 'en_absolute', 'en_irresponsible', 'it_bracci', 'en_annette', 'it_fossato', 'en_trading', 'it_incessante', 'en_prosthesis', 'en_confidence', 'it_catalogna', 'en_beetles', 'it_apparentemente', 'it_abarth', 'en_arnaldo', 'en_elias', 'en_reprinted', 'en_manned', 'it_dual', 'en_visigothic', 'it_ferrovia', 'en_observation', 'it_ferrovie', 'it_linguaggio', 'en_complicity', 'it_possibile', 'it_nessuno', 'it_nessuna', 'it_possibili', 'it_frederik', 'it_magazine', 'it_stretto', 'it_articolo', 'it_articoli', 'it_alex', 'en_skagway', 'en_clause', 'en_speculative', 'it_neonato', 'en_synchronisation', 'en_insignificant', 'it_contemplazione', 'it_clinton', 'it_angelucci', 'en_henson', 'it_condanna', 'it_divergenze', 'en_invariably', 'en_coloured', 'it_incendio', 'en_captain', 'en_complaints', 'it_sposare', 'en_mendeleev', 'en_sts', 'en_schaeffer', 'en_chitin', 'en_annexed', 'en_ligaments', 'en_substituting', 'it_baldacchino', 'it_fanatici', 'en_addresses', 'it_senegalesi', 'it_dialogus', 'it_tiesto', 'it_convertire', 'it_laden', 'en_right', 'en_translations', 'en_charities', 'en_speeches', 'it_nega', 'en_presumed', 'it_cefalo', 'en_lapidary', 'en_locality', 'it_biologi', 'en_arbitrary', 'it_biologo', 'en_transition', 'en_fables', 'it_runaway', 'en_thriller', 'en_resonances', 'en_useful', 'it_log', 'en_conception', 'en_assembled', 'it_lou', 'en_capacities', 'it_cattedrali', 'it_trance', 'en_dancing', 'it_los', 'it_meccanicamente', 'it_cattedrale', 'en_wajda', 'it_sonic', 'en_exceeds', 'it_brewster', 'en_noticing', 'en_symbiotic', 'it_ruggero', 'en_hemp', 'en_smash', 'en_linearly', 'en_vlf', 'en_flogging', 'it_franz', 'it_soap', 'en_unep', 'en_celestial', 'en_mediate', 'it_deutsche', 'en_theft', 'it_riot', 'it_leitch', 'it_impianto', 'it_impianti', 'en_stocks', 'it_alti', 'it_alto', 'en_bismuth', 'it_alta', 'it_alte', 'it_garda', 'en_smoking', 'en_mutation', 'it_coincide', 'it_betty', 'en_chumash', 'en_highlights', 'en_yet', 'it_betti', 'it_originalit\\xc3\\xa0', 'en_oboe', 'en_quick', 'en_unaware', 'en_contrasts', 'it_eurozona', 'en_cicada', 'en_camel', 'it_miniera', 'it_mangiando', 'it_immigranti', 'en_morphology', 'it_totem', 'it_wittelsbach', 'en_viii', 'en_correction', 'en_kinship', 'it_plastica', 'it_rivestite', 'it_rivestita', 'it_pompidou', 'it_desiderio', 'it_raggi', 'it_rivestito', 'it_rivestiti', 'it_plastico', 'it_mitch', 'it_guildford', 'en_huygens', 'it_pittoreschi', 'it_commenti', 'it_commento', 'en_carats', 'en_statute', 'it_secondaria', 'en_hill', 'it_jpeg', 'en_unofficially', 'it_salvezza', 'it_dibattito', 'it_bourdonnais', 'it_infinite', 'it_infinito', 'en_antoni', 'it_baghdad', 'en_climbing', 'en_chernobyl', 'it_domingo', 'it_frustate', 'en_commerce', 'it_limone', 'en_inserted', 'en_agriculture', 'it_quiete', 'en_ugaritic', 'it_santos', 'en_osmond', 'it_autocarri', 'it_disegnare', 'it_siciliana', 'en_passengers', 'it_siciliano', 'en_civilized', 'en_malisse', 'it_patrizio', 'it_patrizia', 'en_light', 'en_hermes', 'it_antonio', 'en_atomic', 'en_jacob', 'it_john', 'it_innocuo', 'it_avversari', 'en_sellers', 'it_innocua', 'it_funerali', 'it_coppa', 'en_championship', 'it_coppe', 'it_sondaggi', 'it_soundtrack', 'it_penicillina', 'it_principi', 'it_principe', 'en_splitting', 'en_fodder', 'it_protozoi', 'en_slim', 'en_centres', 'it_bambina', 'en_slip', 'en_militant', 'it_bambini', 'en_spur', 'en_beach', 'it_bambino', 'en_concerned', 'it_howard', 'it_frequentemente', 'en_bekker', 'it_domini', 'en_potatoes', 'en_lanka', 'it_sentiero', 'it_caduti', 'en_tools', 'it_brainiac', 'en_statistic', 'en_preventable', 'en_annual', 'en_quell', 'it_monoblocco', 'it_benvenuti', 'en_expires', 'it_scarichi', 'en_update', 'en_envy', 'en_biomass', 'it_anziano', 'it_anziani', 'en_pasteur', 'en_sensitivity', 'it_posa', 'it_autista', 'it_pose', 'it_post', 'it_centenario', 'it_sabana', 'it_persia', 'en_productivity', 'en_denounced', 'en_molds', 'it_rieti', 'en_coordinate', 'en_companies', 'it_arturo', 'it_rivali', 'it_soddisfa', 'it_rivale', 'en_highly', 'en_associates', 'it_lordo', 'en_manually', 'en_pouvoir', 'it_hip', 'en_convenient', 'en_associated', 'it_idrocarburi', 'en_sahrawi', 'it_software', 'en_unified', 'en_rna', 'en_floyd', 'en_lady', 'en_coating', 'en_chilly', 'it_davis', 'it_teorica', 'it_piloti', 'it_lateralmente', 'it_distanze', 'it_pilota', 'it_distanza', 'en_chat', 'it_blocchi', 'en_integrity', 'en_chad', 'it_prefetto', 'en_buccaneers', 'it_valenza', 'en_gardens', 'it_deng', 'en_priori', 'it_spaziale', 'it_dent', 'it_stanziamenti', 'en_urge', 'en_radiative', 'it_leninismo', 'it_vello', 'en_cola', 'en_cold', 'en_smoke', 'en_tape', 'en_adapt', 'en_swift', 'it_lidia', 'it_guatemala', 'en_words', 'it_jos\\xc3\\xa9', 'en_wished', 'en_marxist', 'en_wishes', 'en_acceptance', 'en_father', 'it_nodulare', 'en_saloon', 'en_peaks', 'en_reducing', 'it_iliev', 'en_refrigerator', 'en_decisions', 'en_ecliptic', 'en_protestant', 'it_ampliamento', 'en_sadly', 'it_stime', 'it_stima', 'en_numbers', 'it_allitterazione', 'en_favours', 'en_decorations', 'it_fantastico', 'en_vanity', 'it_porsche', 'it_assedio', 'en_sexual', 'it_gelnhausen', 'en_vedic', 'en_isambard', 'en_enigmatic', 'en_vantage', 'it_rilevante', 'en_confused', 'en_orestes', 'en_perry', 'it_vanit\\xc3\\xa0', 'it_iniziata', 'en_casual', 'en_graduate', 'it_junior', 'it_giocatori', 'en_legalism', 'it_esplosiva', 'it_esplosivo', 'it_weise', 'it_giocatore', 'it_costo', 'en_globular', 'it_costi', 'en_country', 'it_pattini', 'it_coste', 'it_costa', 'en_becker', 'it_giudizio', 'en_olive', 'it_mistico', 'en_mucous', 'it_learning', 'en_ego', 'it_supersimmetria', 'it_acacia', 'en_martyr', 'it_boris', 'it_erbacee', 'en_interruption', 'en_london', 'it_waugh', 'en_difficulties', 'it_gettysburg', 'en_essentially', 'en_full', 'it_avvocati', 'en_hotel', 'it_avvocato', 'en_pamela', 'en_bates', 'it_finali', 'en_hurrian', 'en_pedagogic', 'it_finale', 'en_daemon', 'it_spaventati', 'en_fatty', 'en_integrating', 'en_textual', 'it_distesa', 'it_avignone', 'en_psychopaths', 'it_contribuire', 'en_bouteflika', 'en_appointment', 'it_riorganizzato', 'en_fibonacci', 'it_diventa', 'it_giuridico', 'it_latenza', 'it_arsenali', 'en_harmless', 'en_decorated', 'en_purified', 'en_pavilion', 'en_worth', 'it_trovare', 'en_exceptional', 'it_campo', 'it_campi', 'en_apparently', 'it_italianizzato', 'en_zachary', 'en_ais', 'en_entropy', 'en_brilliantly', 'it_dose', 'it_fulberto', 'it_riconosciuti', 'it_riconosciuto', 'it_riconosciuta', 'en_piers', 'en_backbone', 'it_olaf', 'it_tekno', 'en_palus', 'en_faith', 'it_erin', 'it_manipolo', 'it_erie', 'en_neutral', 'en_derivatives', 'en_immobility', 'it_tunisino', 'it_fraternit\\xc3\\xa9', 'en_jewelry', 'it_ottiene', 'en_transmitted', 'it_clausura', 'en_tahir', 'en_conventionally', 'en_sister', 'en_universe', 'en_tei', 'en_absorbed', 'en_suborbital', 'en_ten', 'en_tea', 'en_ted', 'en_evaluating', 'en_ethnographic', 'en_cognition', 'en_alchemical', 'it_sperando', 'en_dividend', 'en_leningrad', 'en_balancing', 'it_giorgio', 'en_lab', 'en_antoine', 'en_farms', 'en_ridicule', 'en_copied', 'it_meritevole', 'en_imitate', 'en_mankind', 'en_copies', 'it_world', 'en_rejected', 'en_determinations', 'it_sovrapposte', 'it_solleva', 'en_symphonic', 'it_meccanica', 'it_accade', 'it_styx', 'en_raiders', 'en_handles', 'it_caja', 'it_acceleratore', 'en_bulletin', 'it_acceleratori', 'en_nectar', 'it_arnold', 'it_lario', 'en_components', 'en_valor', 'en_nominated', 'en_oranienburg', 'it_veicoli', 'it_veicolo', 'it_giovanile', 'it_dormire', 'it_intervalli', 'it_intervallo', 'it_urgente', 'en_dwan', 'it_urgenti', 'en_simulations', 'it_chico', 'it_riccamente', 'en_america', 'it_tazio', 'it_trasmettere', 'en_degrade', 'en_generally', 'en_awards', 'en_khasi', 'en_telescope', 'en_pests', 'it_fatti', 'it_fatto', 'it_sve', 'it_svg', 'it_polizzi', 'en_equidistant', 'it_produttiva', 'it_generi', 'en_aztec', 'it_produttivi', 'it_genera', 'it_svp', 'it_genere', 'en_strikes', 'en_larva', 'it_where', 'it_guide', 'it_guida', 'it_guido', 'it_custodia', 'it_scudetto', 'it_bell', 'it_custodie', 'en_duets', 'it_mazar', 'it_logico', 'en_confirmed', 'en_morris', 'it_convergenza', 'it_massimali', 'it_effetto', 'it_riservate', 'it_riservata', 'it_riservato', 'it_filobus', 'it_ritrattistica', 'it_riservati', 'it_warta', 'it_oppresso', 'en_didyma', 'en_authentic', 'en_reasonably', 'en_wyoming', 'en_database', 'en_charges', 'en_explosion', 'it_afflitto', 'it_fan', 'en_petals', 'en_reasonable', 'en_charged', 'it_concetti', 'en_unveiled', 'it_disappunto', 'it_concetto', 'en_appliances', 'en_attempt', 'en_entire', 'it_rerum', 'it_agosto', 'it_agosti', 'it_ishinomori', 'it_ragni', 'it_ragno', 'en_accompanied', 'en_evergreen', 'it_elio', 'en_geographer', 'en_cores', 'it_santuari', 'en_bird', 'en_surgeons', 'en_liquid', 'en_cents', 'en_yuri', 'it_provenza', 'en_morality', 'it_spada', 'en_incorporate', 'it_compostela', 'it_liber', 'it_escreta', 'en_investigator', 'en_happened', 'it_risolve', 'en_flannel', 'it_curato', 'it_curata', 'en_sedimentary', 'en_batna', 'en_remarkable', 'it_identificare', 'it_stella', 'it_mouton', 'en_apollo', 'it_contadini', 'it_contadino', 'it_contadina', 'it_birmania', 'it_contadine', 'it_chartres', 'it_lucilla', 'it_odissea', 'it_laterali', 'it_patologica', 'en_transport', 'en_sampling', 'en_are', 'it_mosaico', 'en_nicholas', 'en_arrays', 'it_veloce', 'it_lavate', 'en_look', 'en_panhandle', 'it_boeing', 'it_ceca', 'it_fosso', 'it_somiglianza', 'it_consorte', 'en_loop', 'en_loos', 'en_shaken', 'it_aprire', 'en_screens', 'en_arms', 'en_socialization', 'en_unguarded', 'it_indicativi', 'en_alias', 'en_invulnerability', 'it_wash', 'it_pompa', 'it_wei\\xc3\\x9fe', 'it_wasa', 'en_clearly', 'en_roasted', 'it_danno', 'it_danni', 'en_carboxylic', 'it_style', 'it_suonato', 'it_federico', 'it_stringhe', 'en_powder', 'it_pensare', 'it_tubo', 'it_tubi', 'en_distances', 'it_capitale', 'it_volto', 'it_volti', 'it_volte', 'it_volta', 'en_smooth', 'en_documentaries', 'it_margravio', 'it_celebrata', 'it_norma', 'it_norme', 'en_bellingham', 'it_liscio', 'en_compiling', 'it_gorz\\xc3\\xb3w', 'it_cambio', 'en_selfish', 'it_accademici', 'en_jaguars', 'it_accademico', 'it_califfato', 'it_accademica', 'it_sturluson', 'en_shrew', 'it_imparato', 'en_atc', 'it_telefonia', 'it_ladro', 'en_atm', 'en_alliance', 'it_texas', 'it_gravi', 'en_ats', 'en_modules', 'en_atp', 'it_grave', 'en_variable', 'it_mazza', 'it_degradazione', 'it_kong', 'en_solace', 'it_canzone', 'en_effect', 'it_intenditori', 'it_canzoni', 'en_blackstone', 'en_musicians', 'en_phonebook', 'en_worrisome', 'en_lexical', 'en_phenotypic', 'it_peloso', 'it_precipitati', 'en_stressing', 'it_affascinato', 'it_native', 'en_barren', 'it_nativo', 'en_preferring', 'it_nativi', 'it_moravia', 'en_intellectually', 'it_consistevano', 'it_pianura', 'en_pill', 'en_cauda', 'it_verizon', 'en_pile', 'en_bosnian', 'it_previsione', 'en_rising', 'en_plants', 'it_profit', 'en_orthographic', 'en_habits', 'it_acronimo', 'en_clarification', 'it_attaccati', 'it_cambia', 'it_attaccato', 'en_haymarket', 'it_fauno', 'en_forestry', 'it_certezze', 'it_certezza', 'en_trim', 'en_flesh', 'en_kensington', 'it_visibilmente', 'en_fascism', 'it_cedere', 'it_combattuta', 'it_meteorologico', 'it_bang', 'it_criogenico', 'en_fascist', 'en_projector', 'it_gilbert', 'it_cancellato', 'it_cancellata', 'en_tell', 'en_korda', 'en_predicted', 'it_cinismo', 'en_minutiae', 'en_reliefs', 'it_procuratore', 'it_risolvere', 'it_procuratori', 'it_nicola', 'en_inefficiency', 'it_estate', 'en_discussions', 'en_allowing', 'it_sviluppa', 'it_dubbio', 'it_dubbia', 'it_sviluppi', 'it_sviluppo', 'it_colonie', 'en_thumb', 'it_colonia', 'en_soda', 'en_corrected', 'en_freedman', 'en_mere', 'en_masters', 'it_stedelijk', 'en_anthem', 'it_progetti', 'it_progetto', 'en_planting', 'it_aleksander', 'en_mers', 'it_tranquillamente', 'en_preach', 'it_inserimento', 'en_concise', 'en_geometry', 'it_raid', 'it_brunetta', 'it_dave', 'it_portatore', 'en_headache', 'en_hidalgo', 'it_pavese', 'it_nadal', 'it_sobborghi', 'en_lattice', 'en_wickersham', 'it_portishead', 'it_avant', 'it_savio', 'it_leavenworth', 'it_bellini', 'it_bellino', 'it_and\\xc3\\xb2', 'en_titan', 'it_laica', 'en_none', 'it_scrittura', 'en_arkansas', 'it_rinominato', 'en_nic', 'it_condotte', 'en_phonemic', 'it_condotta', 'it_chimie', 'it_condotto', 'it_condotti', 'en_confederate', 'it_stipendio', 'it_scala', 'it_scale', 'en_discount', 'it_scalo', 'it_ottorino', 'en_spatial', 'en_kirchhoff', 'it_distribuita', 'it_destro', 'it_indica', 'it_distribuite', 'en_libya', 'it_distribuiti', 'it_indici', 'it_destra', 'it_distribuito', 'it_dieter', 'it_giugiaro', 'it_lido', 'en_negotiation', 'en_pentane', 'it_priore', 'it_priori', 'en_mapped', 'it_coppia', 'en_component', 'en_genocide', 'en_transmit', 'it_avendo', 'en_camaraderie', 'it_balbo', 'en_owner', 'it_pratico', 'it_heian', 'en_damascus', 'en_alveoli', 'it_pratica', 'en_monograph', 'it_recente', 'en_anderson', 'it_maderno', 'it_recenti', 'it_appunti', 'it_apocalypse', 'it_pronti', 'it_alghe', 'it_pronte', 'it_love', 'it_pronta', 'it_tim', 'en_personally', 'en_decayed', 'en_melting', 'en_coptic', 'it_tir', 'it_tip', 'it_dicembre', 'it_smesso', 'it_classiche', 'it_xiaoping', 'en_practically', 'it_scontato', 'en_isomer', 'it_ojibwa', 'it_tanzania', 'it_epatica', 'it_sofferenze', 'it_cima', 'it_cime', 'it_affresco', 'it_cabaret', 'en_fabrics', 'en_realm', 'it_combat', 'it_munizioni', 'it_paletti', 'it_valida', 'it_valide', 'it_validi', 'en_sometimes', 'it_valido', 'en_respond', 'en_separating', 'it_radio', 'en_electromagnetic', 'en_angel', 'en_anger', 'it_nord', 'en_elephant', 'en_seahawks', 'en_muscular', 'en_whymper', 'en_midas', 'it_fulton', 'it_mutilati', 'it_mutilato', 'it_visigoti', 'en_forecast', 'it_decimo', 'it_umiliazione', 'it_umiliazioni', 'en_disciplines', 'it_battezzata', 'it_underground', 'en_state', 'it_corretta', 'en_served', 'en_devote', 'en_penn', 'it_ellenistico', 'en_masks', 'en_assassination', 'en_capsule', 'en_equation', 'en_bombings', 'it_piuttosto', 'en_brian', 'en_universally', 'it_genziana', 'it_piacere', 'it_keres', 'it_detiene', 'it_romijn', 'en_pope', 'it_gennari', 'en_conditioner', 'en_wrong', 'en_carthaginians', 'en_mummies', 'en_pops', 'it_grasso', 'it_grassi', 'it_ortega', 'it_scusa', 'en_zeal', 'en_legs', 'en_swimming', 'it_ingegno', 'en_edberg', 'it_drammatica', 'it_drammatici', 'it_drammatico', 'en_artificial', 'en_cluster', 'it_corde', 'en_gene', 'it_armida', 'it_corda', 'en_complexes', 'it_doping', 'en_owns', 'en_adopt', 'en_boarding', 'it_pertinente', 'it_infrastrutture', 'it_infrastruttura', 'en_relentless', 'it_unni', 'it_farfalla', 'it_nacho', 'en_adult', 'it_dedotta', 'it_cartoni', 'en_borchardt', 'it_tennessee', 'it_carri', 'en_distributes', 'it_insulina', 'en_overall', 'en_monthly', 'it_presenta', 'en_distributed', 'it_carlisle', 'it_radicalmente', 'it_affollata', 'it_silent', 'it_central', 'it_tifosi', 'en_clandestine', 'en_gradually', 'en_organist', 'it_bizantino', 'en_attu', 'it_bill', 'en_organise', 'en_accepts', 'en_organism', 'it_ballerino', 'en_worships', 'en_girl', 'en_alleles', 'en_characters', 'en_signs', 'it_semplificato', 'it_fortificazione', 'it_ballerini', 'it_intercettazione', 'en_founding', 'en_inspired', 'it_temeva', 'en_affirmed', 'it_intensi', 'it_intenso', 'en_forts', 'en_slash', 'it_intensa', 'en_forever', 'en_forty', 'en_moved', 'it_intense', 'en_forte', 'it_g\\xc3\\xb3ra', 'en_suffers', 'en_moves', 'en_forth', 'en_innocent', 'it_ionica', 'it_sostituendo', 'en_toponymy', 'en_vladim\\xc3\\xadr', 'it_lotteria', 'en_une', 'en_und', 'en_stevens', 'en_founded', 'en_fifa', 'en_picasso', 'it_regista', 'en_unu', 'en_founder', 'it_seguito', 'it_transetto', 'en_formulas', 'en_anita', 'it_seguite', 'it_seguita', 'en_formulae', 'en_decide', 'en_blaming', 'en_prophecy', 'en_enceladus', 'en_randomized', 'it_divinit\\xc3\\xa0', 'it_radicale', 'it_organizzare', 'it_radicali', 'en_mucus', 'it_lamezia', 'it_equazione', 'en_temps', 'en_humphrey', 'en_coldness', 'en_september', 'it_vendere', 'en_belgium', 'it_coordinatore', 'en_eius', 'en_suspicious', 'it_aperture', 'it_apertura', 'en_dissection', 'en_ruins', 'it_hartford', 'it_panoramica', 'it_panoramico', 'en_fermentation', 'en_burdens', 'en_chess', 'it_crimea', 'en_walked', 'it_criteri', 'en_reactionary', 'en_swap', 'en_conceived', 'en_walker', 'en_normality', 'it_sopravvivere', 'en_diner', 'en_spears', 'it_eccellenza', 'en_novelists', 'it_ally', 'en_subcommittee', 'it_riga', 'it_valanga', 'en_hexane', 'en_kotzebue', 'en_challenger', 'en_challenges', 'en_inquiry', 'it_deirdre', 'en_challenged', 'it_marea', 'it_maree', 'it_centrocampista', 'en_osiris', 'en_specificity', 'en_monitors', 'en_restrict', 'en_disadvantage', 'en_cell', 'en_identity', 'it_profonda', 'it_profondo', 'it_paesaggio', 'it_insegnamento', 'it_alfieri', 'en_located', 'it_afro', 'en_baltimore', 'it_partecipanti', 'it_prairie', 'en_filament', 'it_fornendo', 'en_pyrrha', 'it_birrerie', 'it_heroes', 'it_posizioni', 'en_deployed', 'it_pulita', 'it_chiesto', 'en_bestseller', 'en_third', 'it_masai', 'en_ratification', 'en_depictions', 'en_reside', 'it_gargano', 'it_berenguer', 'en_publicly', 'it_nobilt\\xc3\\xa0', 'en_treatise', 'it_comandi', 'it_comando', 'en_norse', 'en_dedication', 'en_inertia', 'en_papacy', 'it_portsmouth', 'en_tolerance', 'en_goal', 'it_deporre', 'en_delete', 'it_proseguendo', 'en_goat', 'it_goncourt', 'en_journ\\xc3\\xa9es', 'it_fabaceae', 'en_essanay', 'en_specifications', 'it_teologo', 'en_heirs', 'en_knocking', 'en_penny', 'en_happy', 'en_chains', 'en_wooden', 'it_commemorative', 'it_commemorativo', 'it_organizzazioni', 'en_digestion', 'en_catholics', 'en_camillo', 'it_organizzazione', 'it_appendicite', 'it_bogart', 'en_reread', 'en_emits', 'it_ospizio', 'it_hester', 'en_tool', 'en_enter', 'it_infelici', 'it_trifoglio', 'en_deficits', 'it_progettare', 'en_slam', 'en_massively', 'en_delos', 'en_slab', 'en_slag', 'en_candidates', 'en_stuck', 'en_armstrong', 'it_densa', 'en_good', 'en_safety', 'it_harald', 'it_balletto', 'it_balletti', 'en_tooth', 'it_bombardieri', 'it_partecipa', 'en_parents', 'en_configurations', 'it_esperimenti', 'it_coll\\xc3\\xa8ge', 'en_graduation', 'it_irlanda', 'en_printers', 'en_perpetuate', 'it_gag', 'it_portavoce', 'en_conferred', 'en_prehistory', 'it_generato', 'en_suburb', 'it_overdose', 'it_adorna', 'en_lathrop', 'en_donate', 'it_ptt', 'en_pharaonic', 'it_shin', 'it_guarigione', 'it_porti', 'it_chieri', 'en_removals', 'it_porto', 'it_porta', 'it_porte', 'it_ribellione', 'en_precisely', 'it_calcolatore', 'it_comprensibile', 'en_yevgeny', 'it_sottosegretario', 'it_pectore', 'en_dispersed', 'en_distraction', 'it_promotore', 'en_amtrak', 'it_belluno', 'it_perline', 'it_minime', 'en_vomiting', 'en_erase', 'en_maize', 'en_subversive', 'en_child', 'en_chile', 'en_chin', 'it_negozi', 'it_sposa', 'en_mayer', 'it_crespi', 'it_sposi', 'it_subiaco', 'it_zane', 'en_structured', 'en_victor', 'it_ampliamenti', 'it_kai', 'en_armenian', 'it_avanzate', 'it_avanzata', 'it_avanzato', 'it_piantagioni', 'it_avanzati', 'it_real', 'en_released', 'it_cupola', 'it_velde', 'it_safari', 'en_code', 'en_tribe', 'en_releases', 'it_attivit\\xc3\\xa0', 'en_whole', 'en_taxa', 'en_methamphetamine', 'en_faces', 'en_taxi', 'it_colpa', 'it_colpi', 'it_fondatrice', 'it_automatica', 'it_bachelor', 'it_automatico', 'en_three', 'it_automatici', 'it_ciechi', 'en_alleviate', 'en_disinterested', 'it_grigi', 'it_hunter', 'en_aluminum', 'en_objectivity', 'en_documentation', 'en_unsatisfied', 'en_techniques', 'en_continuity', 'it_illuminato', 'it_proporzionati', 'en_districts', 'it_hal', 'en_equality', 'en_cars', 'en_carr', 'en_carl', 'en_arising', 'en_care', 'en_card', 'it_confluenza', 'en_region', 'it_aragona', 'en_immaterial', 'it_epigramma', 'it_carroll', 'it_sonora', 'en_nonviolence', 'en_sunni', 'it_nimzowitsch', 'it_borgogna', 'it_eurostar', 'en_pastures', 'it_differenti', 'it_miquel', 'it_differente', 'en_sunny', 'en_gaia', 'it_titoli', 'it_titolo', 'en_burrow', 'en_gnosticism', 'it_preannunciato', 'en_thriving', 'en_danish', 'en_kindness', 'en_fused', 'en_holder', 'en_early', 'en_marble', 'en_fuses', 'en_algae', 'it_toki', 'it_insoddisfatti', 'it_duo', 'it_sentenza', 'it_due', 'en_doors', 'it_acquisisce', 'en_bull', 'en_phocis', 'it_radiale', 'it_wagner', 'it_denominazione', 'it_ibrido', 'en_vast', 'en_vase', 'it_martigny', 'en_exhaustion', 'en_possess', 'en_estimation', 'it_avesnes', 'en_oversight', 'en_whigs', 'en_ranks', 'en_down', 'en_plunder', 'it_refrigerante', 'it_cagna', 'en_managed', 'it_shanghai', 'en_manager', 'it_wielki', 'it_partizione', 'en_acquisition', 'it_pericoli', 'en_connors', 'it_acume', 'it_capace', 'it_nux', 'it_capaci', 'it_idris', 'it_incompetenza', 'en_francophone', 'it_discendente', 'it_samoa', 'it_attenti', 'it_discendenti', 'it_piazze', 'it_magnetica', 'en_diet', 'en_dev', 'it_misurabile', 'en_dies', 'it_dias', 'en_merging', 'it_navetta', 'it_gershon', 'en_mescaline', 'en_sick', 'it_etica', 'it_cadde', 'en_darwin', 'it_occasione', 'en_mesozoic', 'it_bingo', 'en_rand', 'en_dispassionate', 'it_breaking', 'it_occasioni', 'en_specialised', 'en_hibernation', 'en_pedagogy', 'it_rinforzo', 'en_compositions', 'it_diarrea', 'it_rinforzi', 'it_sierre', 'it_anniversari', 'it_sorte', 'it_deposito', 'it_sierra', 'en_temperature', 'it_olio', 'it_impone', 'it_juliet', 'en_laws', 'it_concessione', 'en_match', 'it_concessioni', 'en_quantum', 'it_fujiwara', 'it_interminabile', 'en_reaches', 'en_amphibious', 'en_reached', 'en_underscored', 'it_medaglione', 'it_misurazioni', 'it_stefani', 'it_steinburg', 'it_stefano', 'it_aumentare', 'en_traditionally', 'it_ospiti', 'en_excellent', 'en_cohomology', 'it_ospite', 'en_lavish', 'it_hughie', 'en_cyrene', 'en_pave', 'en_pinnacle', 'en_amphetamine', 'it_torquato', 'it_portogallo', 'it_accreditata', 'it_accreditato', 'it_braccianti', 'it_lunghezza', 'it_lunghezze', 'en_mcgregor', 'en_mercantilism', 'en_checkers', 'it_comunque', 'it_consiglio', 'it_taubat\\xc3\\xa9', 'en_inn', 'en_ink', 'en_ine', 'en_ing', 'en_communist', 'en_termite', 'en_security', 'it_robustezza', 'it_nominale', 'it_sassofonista', 'it_dewar', 'en_smile', 'it_naturali', 'en_smoldering', 'it_naturale', 'it_statuto', 'it_introducendo', 'en_fulfilled', 'it_star', 'it_tricolore', 'en_uprising', 'it_nanni', 'it_illegalmente', 'it_stufa', 'en_leather', 'it_kitagawa', 'it_fortificato', 'en_courted', 'en_tiger', 'it_selezionabili', 'it_que', 'en_voluminous', 'en_stabilized', 'it_garage', 'en_artists', 'it_rpc', 'en_stabilizer', 'it_paradossale', 'it_afflusso', 'it_coburgo', 'it_amos', 'en_implementation', 'it_scenari', 'it_cop', 'en_nazi', 'it_condivisa', 'en_immigration', 'it_coa', 'it_condivisi', 'it_col', 'it_rientro', 'it_condiviso', 'it_caos', 'it_suggerisce', 'it_credette', 'en_lease', 'it_downey', 'en_meters', 'it_ottomana', 'it_ottomano', 'en_sufficiently', 'it_kuk', 'it_donare', 'it_veramente', 'en_ikon', 'it_guild', 'en_assad', 'it_bruciato', 'en_theoretical', 'it_leali', 'it_approfondimento', 'it_sconvolgimenti', 'en_mane', 'en_occasion', 'en_carthaginian', 'it_windows', 'it_anschluss', 'en_thar', 'it_nobili', 'it_avvolgere', 'en_chara', 'it_sconosciuti', 'it_avvelenata', 'it_sconosciuto', 'it_avvelenato', 'it_concentrata', 'en_chart', 'en_transcendental', 'en_bennett', 'en_confederation', 'it_jasper', 'it_hawker', 'en_mousterian', 'it_fio', 'it_fin', 'en_george', 'it_usati', 'it_usato', 'en_herds', 'it_emessi', 'en_vitamin', 'it_emesso', 'en_georgy', 'it_fip', 'en_potentially', 'it_men\\xc3\\xb9', 'it_contrada', 'it_coreani', 'en_prepare', 'en_m\\xc3\\xa1rmol', 'en_hook', 'en_hood', 'it_catturare', 'it_carmelo', 'it_allori', 'en_suppress', 'en_bruce', 'en_multiplying', 'it_allora', 'en_wearing', 'it_detective', 'en_rhythm', 'en_regret', 'it_franceschi', 'en_tendon', 'it_occitano', 'it_os\\xc3\\xa9', 'en_solved', 'it_adolf', 'it_inchino', 'en_reveal', 'en_spurs', 'en_music', 'it_dono', 'en_operations', 'en_omen', 'en_common', 'it_notevole', 'it_affermazione', 'en_corner', 'it_notevoli', 'it_affermazioni', 'en_interviews', 'it_mettere', 'en_klan', 'it_laogai', 'it_creek', 'en_readiness', 'it_stormo', 'it_lara', 'it_bacchetta', 'en_computer', 'en_individually', 'it_sostanza', 'en_nerves', 'it_sostanze', 'en_pulled', 'it_alliance', 'it_immenso', 'en_bruguera', 'en_pulley', 'en_embrace', 'en_musician', 'en_helmet', 'en_yunus', 'en_tommy', 'en_productive', 'en_wants', 'en_drops', 'en_notoriety', 'en_however', 'en_ease', 'en_easy', 'it_porzione', 'it_porzioni', 'en_east', 'en_reconsidered', 'en_dominance', 'en_assassinate', 'it_visibilit\\xc3\\xa0', 'it_laura', 'en_greatest', 'it_autoritaria', 'it_autoritario', 'en_outdoor', 'en_cgt', 'it_rinuncia', 'it_giacche', 'it_gwyneth', 'it_conseguenza', 'en_creation', 'it_conseguenze', 'en_lieutenant', 'en_haystack', 'it_ecologia', 'en_anthropology', 'it_lotario', 'it_adige', 'en_rush', 'en_retained', 'en_messenia', 'en_empress', 'it_costituzione', 'it_lelio', 'it_emigrare', 'it_sanitario', 'en_snake', 'en_voznesensky', 'en_medicare', 'en_juries', 'it_interviste', 'it_six', 'it_intervista', 'en_deficiency', 'it_sig', 'it_sia', 'it_taoismo', 'en_unfavourable', 'it_sin', 'en_panic', 'it_alleviare', 'en_drafting', 'en_mitigate', 'en_lowercase', 'en_wrapped', 'en_rioting', 'en_randolph', 'it_titolare', 'it_eginardo', 'it_saggi', 'it_caricamento', 'en_severe', 'it_ventilazione', 'en_aln', 'it_amant', 'en_underestimate', 'en_ali', 'en_ala', 'en_severs', 'en_embraced', 'it_bochum', 'it_pepsi', 'en_fitness', 'it_sicula', 'it_parisse', 'it_milani', 'it_milano', 'en_popularity', 'en_astrological', 'it_quirinale', 'it_trattati', 'en_architects', 'it_trattato', 'it_trattata', 'it_aumentando', 'en_repetitive', 'en_sculptures', 'en_horn', 'en_airport', 'en_clan', 'it_arciprete', 'en_petrograd', 'en_clay', 'it_shippuden', 'it_giorgione', 'en_mohammed', 'it_hollywood', 'en_rubber', 'en_canal', 'it_testimoni', 'en_terminal', 'it_testimone', 'en_larvae', 'it_poveri', 'it_drive', 'it_povera', 'en_refuses', 'en_tonnes', 'en_brooks', 'it_dispensa', 'en_mammal', 'en_once', 'it_assassinio', 'en_brooke', 'en_refused', 'it_costruito', 'en_refined', 'it_costruiti', 'it_costruite', 'it_costruita', 'en_stupid', 'it_than', 'it_herat', 'en_lineage', 'it_milo', 'it_mill', 'it_mila', 'en_roofs', 'en_mainly', 'en_rounded', 'it_milt', 'it_secondi', 'it_secondo', 'it_seconda', 'en_sicily', 'it_compatto', 'en_strangers', 'it_compatti', 'en_mythology', 'en_archetype', 'en_altruistic', 'en_cincinnati', 'it_amministratore', 'en_stronghold', 'en_spectra', 'en_essences', 'it_secret', 'en_grapheme', 'en_coupling', 'it_attraversata', 'it_litorale', 'it_ciudad', 'en_recognition', 'en_industrial', 'en_cooking', 'en_rita', 'it_dipendeva', 'it_eserciti', 'en_reelection', 'en_brahmi', 'en_lord', 'it_esercito', 'en_electronics', 'en_brahma', 'en_seasoning', 'it_najdorf', 'en_donna', 'en_advance', 'en_ammonia', 'it_james', 'it_confondono', 'en_orders', 'en_award', 'it_pontresina', 'en_economics', 'it_sfruttamento', 'it_minacciato', 'en_shift', 'en_novo', 'en_nova', 'en_because', 'en_sabine', 'it_lila', 'it_arizona', 'it_vibrazione', 'en_cleopatra', 'en_changes', 'en_aisle', 'en_changed', 'en_absence', 'en_speed', 'en_random', 'en_election', 'en_redesign', 'it_mutazioni', 'en_mine', 'en_mind', 'it_cilena', 'en_flotation', 'en_phd', 'it_cileno', 'it_sgombro', 'it_tripla', 'it_regolamentata', 'en_billion', 'it_regolamentato', 'it_estratto', 'it_estratti', 'it_parlato', 'it_parlata', 'en_cytology', 'it_condizionamento', 'en_impoverishment', 'en_activity', 'en_archives', 'it_toccati', 'en_partisan', 'it_serata', 'it_ogniqualvolta', 'en_droughts', 'it_polonia', 'it_aggregata', 'it_aggregato', 'it_aggregati', 'en_posterior', 'en_incontrovertible', 'en_genetic', 'en_logos', 'it_costruttivi', 'en_completing', 'en_specified', 'en_ready', 'en_hamilton', 'en_persist', 'en_powers', 'it_bancarotta', 'en_prescriptive', 'en_desired', 'it_radar', 'en_odor', 'en_informer', 'it_earth', 'it_comprende', 'en_desires', 'en_informed', 'it_schizzi', 'en_female', 'en_laboratories', 'en_predation', 'it_fascio', 'it_fascia', 'en_wilander', 'en_oriental', 'en_violations', 'en_vessels', 'it_noyes', 'en_telecommunications', 'it_aragonese', 'en_crystalline', 'it_metabolizzato', 'it_tattiche', 'en_massi', 'it_legarsi', 'en_hugh', 'en_hugo', 'en_compares', 'en_huge', 'en_diphthong', 'en_context', 'en_persuaded', 'en_shenzhou', 'en_meade', 'it_era', 'it_cognomi', 'en_sets', 'it_cognome', 'en_blacks', 'it_marina', 'it_carni', 'it_masovia', 'it_marine', 'it_sentai', 'it_marini', 'en_precipitation', 'it_carne', 'it_applicare', 'en_adrian', 'it_compatibilit\\xc3\\xa0', 'en_whittaker', 'en_leon', 'en_survived', 'en_onion', 'it_fredda', 'it_freddi', 'en_practicality', 'it_mascotte', 'it_freddo', 'en_incident', 'it_sbagliato', 'en_senses', 'it_applicato', 'it_blu', 'it_nastro', 'en_sociological', 'en_replication', 'it_applicate', 'it_applicata', 'en_assemblies', 'en_balloon', 'it_macerata', 'it_pinguini', 'it_pinguino', 'it_nino', 'it_vantaggiosi', 'it_provincia', 'it_vantaggioso', 'it_partecipare', 'it_scheer', 'it_optato', 'it_rettifica', 'it_trib\\xc3\\xb9', 'en_carbonaceous', 'it_macchine', 'en_mercenaries', 'it_macchina', 'en_acidity', 'en_deference', 'it_rappresentanti', 'en_tellurium', 'it_rappresentante', 'it_centri', 'it_centro', 'it_brevettata', 'en_cambodia', 'en_funeral', 'en_backes', 'en_compute', 'it_stettino', 'it_vortice', 'en_elevation', 'en_accessory', 'en_breakdown', 'en_magicians', 'it_pugile', 'it_volontaria', 'it_volontarie', 'it_forl\\xc3\\xac', 'it_teramo', 'en_quintilian', 'it_volontario', 'en_feelings', 'en_cosmonaut', 'it_torres', 'it_ancore', 'en_oscillations', 'it_aquitania', 'it_microscopio', 'it_critici', 'it_nuocere', 'en_digitally', 'en_override', 'en_repressed', 'en_turnout', 'it_noiosa', 'en_color', 'en_isolate', 'it_caltanissetta', 'it_neuqu\\xc3\\xa9n', 'en_publishing', 'it_novgorod', 'it_martinelli', 'en_eukaryotes', 'it_cinquecento', 'it_black', 'en_impulse', 'it_news', 'en_tire', 'it_prevenire', 'it_apostolica', 'it_perdite', 'it_perdita', 'it_rimossi', 'en_atoms', 'en_portable', 'en_liquors', 'it_iperspazio', 'en_flayed', 'it_avventure', 'en_implemented', 'en_remove', 'en_business', 'en_restaurant', 'it_cecoslovacchia', 'en_anarchists', 'en_disposable', 'en_gelatin', 'it_terremoti', 'en_katharine', 'it_scorretto', 'it_ottava', 'it_intervenire', 'it_ottave', 'it_ottavi', 'en_insides', 'en_liquids', 'it_sensibile', 'it_togashi', 'en_cautiously', 'en_disabilities', 'en_record', 'en_hispanic', 'it_aldo', 'it_alda', 'en_cross', 'it_classifiche', 'it_haliday', 'en_difficult', 'it_versato', 'en_heavy', 'it_crimson', 'en_outcome', 'en_walden', 'en_poor', 'en_posthumously', 'en_tortoise', 'en_diomedes', 'it_ossessionato', 'it_portoghesi', 'en_graded', 'en_pool', 'en_being', 'en_bermudez', 'it_veterinario', 'it_international', 'it_circolare', 'it_bordo', 'it_anfore', 'it_convento', 'en_precautions', 'it_nordland', 'it_ombre', 'en_partial', 'it_tot\\xc3\\xb2', 'en_deeply', 'it_bordi', 'en_hydro', 'it_palio', 'it_determinano', 'it_temporaneamente', 'en_xii', 'it_intercity', 'it_zaphod', 'it_gubler', 'en_explains', 'it_incarico', 'en_holidays', 'en_psychosis', 'it_migliaia', 'en_departments', 'en_examine', 'en_argumentative', 'it_iowa', 'it_ivan', 'it_geoff', 'en_trustworthy', 'en_fertilization', 'it_buona', 'en_alaska', 'en_surrendered', 'it_lievito', 'it_lieviti', 'it_epidemie', 'it_epidemia', 'it_rider', 'it_marmi', 'it_marmo', 'it_ufficialmente', 'it_settima', 'en_determine', 'it_settimo', 'it_danneggiare', 'it_medievali', 'it_hegel', 'it_medievale', 'it_ravello', 'it_spontanea', 'it_eterogeneit\\xc3\\xa0', 'it_simili', 'en_hydrogens', 'it_alcool', 'en_generalized', 'en_emile', 'en_dissolved', 'en_persistent', 'it_hawkins', 'it_ebbrezza', 'it_socio', 'it_juncker', 'it_gesuiti', 'it_hawking', 'en_togo', 'it_milena', 'it_bronzo', 'en_exclude', 'it_burks', 'en_optimal', 'en_peroxide', 'en_outdated', 'en_delphi', 'it_uguaglianza', 'en_robotic', 'en_nationalities', 'it_probabilit\\xc3\\xa0', 'en_announcing', 'en_catalogues', 'en_trucks', 'en_sectors', 'en_bachelor', 'en_exclusively', 'it_gonville', 'en_previously', 'en_honda', 'it_completata', 'en_inaccurate', 'en_stephen', 'it_completati', 'it_completato', 'en_smes', 'it_fiorenzuola', 'it_trecento', 'it_investigazione', 'en_company', 'en_corfu', 'en_sylvain', 'en_idle', 'it_investigazioni', 'it_tenero', 'it_che', 'en_consul', 'it_tenere', 'it_tenera', 'en_grayson', 'it_nemici', 'it_deborah', 'it_nemico', 'it_ren\\xc3\\xa9', 'it_unilaterale', 'it_nemica', 'it_schillaci', 'it_ungheria', 'en_sentient', 'en_discover', 'en_interior', 'it_luna', 'it_lund', 'en_relaxed', 'en_utility', 'it_malgrado', 'en_centerville', 'it_granito', 'it_materiale', 'it_vittoria', 'it_eus\\xc3\\xa9bio', 'it_pareggio', 'it_materiali', 'it_responsabile', 'en_sleeves', 'it_drouin', 'it_ingestione', 'it_itachi', 'it_responsabili', 'en_highland', 'en_discouraged', 'it_scrittrice', 'en_floristic', 'en_elder', 'en_sinope', 'it_secessione', 'en_thoreau', 'it_finanziariamente', 'it_pennino', 'en_calculators', 'it_seminari', 'it_calcio', 'en_inverse', 'en_nebulae', 'en_admetus', 'it_rossini', 'it_attestato', 'it_interpretazione', 'it_kit', 'it_interpretazioni', 'en_selling', 'it_kip', 'it_soddisfatte', 'en_resolutions', 'en_transmissions', 'it_kia', 'en_entertainment', 'en_pickles', 'it_dominante', 'en_shouted', 'it_dominanti', 'it_pontificia', 'en_sterling', 'it_hair', 'en_appeal', 'it_rivalit\\xc3\\xa0', 'en_killer', 'it_cavallo', 'it_cavalli', 'it_sofferto', 'en_killed', 'it_zaccaria', 'en_piano', 'it_baracca', 'it_sean', 'it_segnate', 'it_seal', 'it_reality', 'it_segnati', 'en_convert', 'it_segnato', 'it_cicero', 'en_communications', 'en_hectare', 'it_pennine', 'it_call', 'it_cavour', 'en_prematurely', 'en_initial', 'en_eastman', 'it_leni', 'en_thanksgiving', 'en_holistic', 'it_mano', 'it_mani', 'it_concluse', 'it_concluso', 'it_perseguitato', 'it_aspen', 'en_dos', 'it_guy', 'en_dot', 'en_destroying', 'en_don', 'it_gun', 'en_tom\\xc3\\xa1\\xc5\\xa1', 'en_doe', 'it_york', 'en_parallels', 'en_conquest', 'it_completa', 'it_mostre', 'it_complete', 'it_mostra', 'it_completi', 'it_mostro', 'it_mostri', 'it_completo', 'it_basato', 'en_novel', 'it_azzardo', 'en_drugs', 'en_flocks', 'it_jaime', 'en_explore', 'it_cooperative', 'en_doubled', 'en_glaze', 'en_trap', 'it_prezioso', 'en_tray', 'it_preziosi', 'it_fumetti', 'it_fumetto', 'it_raccogliere', 'en_disposition', 'en_emerson', 'it_visconti', 'en_fiat', 'it_gratuito', 'en_widespread', 'en_arditi', 'en_high', 'en_door', 'it_comici', 'it_comico', 'it_corridoi', 'it_competere', 'it_illustrazioni', 'it_ricerca', 'en_doom', 'it_xxxi', 'en_training', 'it_luteranesimo', 'it_immune', 'it_intrattenitore', 'en_together', 'it_colpisce', 'en_graves', 'en_gravel', 'en_gastric', 'it_geniale', 'it_influenzando', 'en_flakes', 'en_revolutions', 'en_reclaim', 'it_jiangxi', 'it_locomotive', 'it_emittenti', 'it_derbyshire', 'en_rubidium', 'en_terrain', 'it_svanisce', 'it_anteprima', 'en_venerated', 'en_algerians', 'en_motivations', 'en_organizers', 'it_consente', 'en_default', 'it_spirituale', 'en_bonds', 'en_martin', 'it_governata', 'en_sikh', 'it_armonia', 'en_petrus', 'en_raft', 'it_invasioni', 'it_trade', 'it_perfezionare', 'en_focusing', 'en_interaction', 'en_rcs', 'en_publish', 'en_turpentine', 'en_rca', 'en_coercion', 'it_considerare', 'en_adhesion', 'en_laos', 'en_filter', 'it_successivi', 'it_tonnellate', 'en_shiva', 'it_guadalajara', 'en_demigod', 'it_costruttori', 'it_costruttore', 'en_oasis', 'en_caskets', 'en_biologist', 'en_release', 'en_buried', 'en_supercritical', 'en_selected', 'en_consequential', 'it_temporale', 'it_ricostruzione', 'it_incontrollabile', 'en_vowel', 'it_apostoli', 'en_rest', 'en_currencies', 'en_take', 'en_knotted', 'en_chenopodium', 'en_constructed', 'it_creditori', 'it_udine', 'en_foundlings', 'it_soppressione', 'en_libyan', 'en_atrocity', 'en_carriage', 'en_garment', 'it_gloster', 'en_optimistic', 'it_hohenzollern', 'en_adverse', 'en_sponsored', 'en_senior', 'en_council', 'en_minerals', 'it_abc', 'it_insegnato', 'en_sodium', 'en_shiny', 'en_shine', 'en_flourishing', 'en_rediscovery', 'it_tolosa', 'it_ostrogoti', 'it_ruota', 'en_vitamins', 'it_tito', 'it_ruote', 'it_masi', 'en_interstate', 'en_theologica', 'it_hradec', 'it_myers', 'it_mass', 'it_rafano', 'it_clinica', 'en_april', 'it_traino', 'it_congelate', 'it_congelato', 'it_bolzano', 'it_ideali', 'it_jesi', 'it_dicendo', 'it_cardinali', 'en_livestock', 'en_inductive', 'it_deux', 'it_cardinale', 'en_wore', 'it_occupati', 'en_counted', 'it_occupato', 'en_appalachians', 'it_accetta', 'it_occupata', 'it_giannini', 'en_counter', 'it_scortato', 'en_defoe', 'en_aluminium', 'en_hormones', 'it_residenza', 'en_aberdeen', 'en_nutrients', 'it_ricette', 'en_bags', 'en_motivation', 'it_kaufman', 'en_advertisement', 'en_missed', 'en_thirst', 'it_schede', 'it_scheda', 'en_smith', 'it_confermata', 'it_lazare', 'en_grasp', 'en_grass', 'en_wide', 'it_barroso', 'it_f\\xc3\\xbatbol', 'en_geochemistry', 'it_egli', 'en_hygienic', 'en_disturb', 'en_pineal', 'en_sitka', 'en_shoulders', 'en_hidden', 'it_marxista', 'it_baudelaire', 'en_goode', 'it_vicinanza', 'en_goods', 'en_shops', 'it_principali', 'it_nutella', 'it_principale', 'it_eyes', 'it_descrizione', 'it_vulcani', 'it_vulcano', 'it_intraprende', 'it_disastrosa', 'it_ovest', 'it_disastrose', 'en_insomnia', 'en_rotation', 'en_auguste', 'it_earl', 'en_poets', 'it_dito', 'en_inhibition', 'en_torn', 'it_dita', 'en_forward', 'en_minimized', 'it_tours', 'en_triangular', 'it_exit', 'it_lawrence', 'it_simpatizzante', 'it_colleziona', 'it_sepolcro', 'en_likewise', 'it_anticipa', 'it_al\\xc3\\xac', 'it_pelle', 'it_anticipo', 'en_contexts', 'en_regulation', 'en_guinea', 'en_theodor', 'en_backpacks', 'en_inscriptions', 'it_crema', 'en_dishonor', 'it_collaborare', 'it_donazione', 'it_immagazzinamento', 'it_ferocemente', 'it_donadoni', 'it_pitone', 'en_adaptations', 'en_sonar', 'it_attira', 'it_automaticamente', 'it_scorfano', 'it_universo', 'en_columbia', 'it_milan', 'en_acidification', 'en_sovereign', 'en_centered', 'en_precipitated', 'it_grigio', 'en_haven', 'en_pipes', 'it_digital', 'it_unire', 'en_communication', 'en_coles', 'it_respingere', 'it_confronti', 'en_charleston', 'en_giants', 'it_benito', 'en_eyelid', 'it_sfruttati', 'it_correlato', 'it_sfruttato', 'it_correlati', 'en_gallery', 'en_ptolemy', 'en_simply', 'en_deer', 'en_simple', 'it_chiamando', 'en_weed', 'en_banks', 'en_georgia', 'en_fraudulent', 'it_lepidotteri', 'it_ascelle', 'en_week', 'it_viaggio', 'it_valorizzare', 'it_viaggia', 'it_chat', 'it_persiana', 'it_aiuole', 'it_persiani', 'it_persiano', 'en_zhuang', 'it_tripletta', 'en_cox', 'it_rex', 'en_rebellion', 'it_elena', 'en_cow', 'en_diagonal', 'en_coo', 'en_restrictive', 'it_red', 'en_cod', 'en_coe', 'it_mantenere', 'en_butane', 'en_bombing', 'it_lublino', 'en_labour', 'it_stilizzato', 'it_corsari', 'it_corsaro', 'it_anime', 'en_jade', 'it_sam', 'it_san', 'it_sad', 'it_drake', 'it_inequivocabile', 'it_triennale', 'en_suggestions', 'it_risonanza', 'it_dimensioni', 'it_sat', 'it_dimensione', 'it_mississippi', 'it_hero', 'en_larisa', 'en_chandler', 'en_cursor', 'en_pressurized', 'en_ira', 'en_isomorphic', 'it_sfidante', 'en_add', 'en_ada', 'it_banane', 'it_inconcludenti', 'en_oppressed', 'en_sermon', 'it_associa', 'it_coreografia', 'it_jessica', 'it_associati', 'en_luigi', 'it_associate', 'en_suggested', 'en_contrary', 'it_associata', 'it_erotismo', 'en_teachings', 'en_confess', 'it_larrea', 'it_candidate', 'it_candidata', 'it_cavalleresco', 'it_industrie', 'it_candidato', 'it_candidati', 'en_uyghur', 'en_peculiarity', 'it_grafiche', 'it_yellowstone', 'it_attacchi', 'it_nickname', 'it_ubisoft', 'it_hilversum', 'en_elimination', 'it_alieno', 'it_alieni', 'it_aliena', 'it_matto', 'it_utrecht', 'en_skeptical', 'it_passione', 'it_slancio', 'it_prossimale', 'it_caminhos', 'en_suppressed', 'it_moro', 'en_suppresses', 'it_more', 'en_disabled', 'en_physician', 'it_bohdan', 'it_attualmente', 'it_capitolare', 'en_coach', 'it_raccoglie', 'en_wealthy', 'it_mauro', 'en_knights', 'it_verano', 'en_envelope', 'en_locus', 'en_accumulates', 'it_midi', 'en_accumulated', 'it_universal', 'it_steiger', 'it_suddiacono', 'en_arabs', 'it_cristianos', 'it_campionessa', 'it_tarcisio', 'it_ceylon', 'en_dissident', 'en_sustained', 'en_iana', 'it_sterminando', 'it_lev', 'en_pupil', 'en_eaten', 'it_elegante', 'it_tradizionale', 'en_bombers', 'it_tradizionali', 'en_gaps', 'en_sheets', 'it_eleganti', 'it_gabbiano', 'en_soto', 'en_turner', 'it_lep', 'en_designers', 'it_mazzarino', 'it_organizzate', 'en_hewitt', 'en_skeletal', 'it_simulazione', 'it_operati', 'it_deadman', 'en_nile', 'en_berries', 'it_coni', 'en_webster', 'it_mellberg', 'it_giovanna', 'it_conc', 'it_predomina', 'en_indistinguishable', 'en_mothers', 'it_marinella', 'en_falling', 'en_temples', 'it_bullismo', 'en_heated', 'en_resolve', 'it_elisabeth', 'it_determinazione', 'en_attributable', 'it_ishtar', 'it_bandai', 'it_algebra', 'en_modes', 'en_tough', 'it_exif', 'en_nys', 'en_model', 'it_attori', 'en_gigantic', 'it_attore', 'it_certificato', 'it_umore', 'it_rebecca', 'it_walt', 'it_perfino', 'it_alberto', 'en_unlawful', 'it_guaina', 'en_aperture', 'en_alive', 'en_discourage', 'it_produzioni', 'it_produzione', 'en_excavations', 'it_adriatico', 'en_docked', 'en_accumulate', 'en_amoureux', 'en_happiness', 'en_designing', 'it_usura', 'en_designates', 'en_comcast', 'it_incidenti', 'it_incidente', 'en_dayak', 'en_astronomers', 'en_hebrew', 'en_congregations', 'en_dressing', 'en_couple', 'en_alterations', 'en_symbolism', 'it_disfatta', 'en_nursed', 'it_perdere', 'en_slippery', 'en_extracted', 'en_nurses', 'en_serum', 'en_vauxhall', 'en_zealand', 'en_reiterated', 'it_ottagono', 'it_trin', 'it_trio', 'en_reiterates', 'en_titles', 'en_absurdity', 'it_detto', 'it_analisi', 'it_nebraska', 'it_swiss', 'it_coordinamento', 'en_fluoride', 'it_frattura', 'en_constituents', 'en_rigid', 'it_piantate', 'it_catanzaro', 'it_piantati', 'it_notre', 'en_cecil', 'en_consonants', 'en_lips', 'it_kishimoto', 'en_stored', 'en_dimensionless', 'en_criticism', 'it_confonde', 'it_montis', 'en_somebody', 'it_elastici', 'en_broke', 'it_periti', 'en_coastal', 'it_conca', 'en_romande', 'it_ramon', 'en_trans', 'en_organelles', 'en_enraged', 'en_exclave', 'it_multiplayer', 'en_exceeded', 'it_industrializzato', 'it_dipende', 'en_materialistic', 'it_parkway', 'it_gravidanza', 'it_gravidanze', 'en_inclination', 'en_protists', 'en_enhanced', 'en_fierce', 'en_catfish', 'en_wendt', 'en_ibuprofen', 'en_enric', 'en_enhances', 'en_transfer', 'it_biloba', 'en_suspend', 'en_dioscorides', 'it_alimentari', 'it_motivazioni', 'it_alimentare', 'it_battesimo', 'it_motivazione', 'it_rugby', 'it_interazioni', 'en_recoverable', 'it_indocina', 'en_felony', 'en_approves', 'it_cambiamento', 'it_cambiamenti', 'en_penicillin', 'en_approved', 'en_meals', 'it_proseguire', 'it_travertino', 'it_insufficienza', 'it_crippa', 'it_papi', 'en_switch', 'it_papa', 'it_canton', 'en_prague', 'en_albanian', 'en_promulgation', 'en_emulated', 'it_sequestri', 'it_cantor', 'it_berengario', 'en_burkert', 'it_dentro', 'en_britons', 'it_stamos', 'en_handy', 'it_parallasse', 'en_hands', 'it_beirut', 'en_hardin', 'it_cose', 'en_squared', 'en_selfless', 'it_cosa', 'it_corto', 'it_escluse', 'it_esclusa', 'it_corti', 'it_escluso', 'it_jill', 'it_corte', 'en_hopelessly', 'en_systematic', 'it_bukhara', 'en_epistemological', 'it_latitante', 'it_ozon', 'it_golden', 'en_implementing', 'it_consolidato', 'en_courses', 'en_raids', 'it_diplomato', 'en_acronym', 'en_decorum', 'it_scatola', 'it_persecuzioni', 'en_typical', 'en_noah', 'en_title', 'it_persecuzione', 'it_xvi', 'it_karshi', 'it_finanziaria', 'it_respirare', 'en_pelham', 'it_finanziario', 'en_aromatic', 'it_lisi', 'en_boat', 'en_boas', 'en_boar', 'it_latina', 'en_stellar', 'en_nature', 'it_latini', 'en_inhabited', 'it_latino', 'en_indian', 'en_redirected', 'it_fattorino', 'it_alba', 'en_childish', 'en_morphological', 'en_deletion', 'en_levante', 'en_exploration', 'it_viviana', 'it_rade', 'it_damo', 'it_dame', 'it_dama', 'en_sculpted', 'it_valli', 'it_austriaci', 'it_consapevolezza', 'it_occidentale', 'it_rien', 'it_valle', 'it_yume', 'it_umma', 'it_comportamentali', 'it_derivanti', 'en_analysis', 'it_salata', 'en_transparent', 'it_amartya', 'en_peripheral', 'en_contributing', 'it_demografico', 'en_interferes', 'it_frontone', 'it_araba', 'it_consolidate', 'it_arabi', 'it_arabo', 'en_interfered', 'it_burns', 'en_crossed', 'en_designation', 'en_minima', 'it_zubayr', 'it_devono', 'en_meditation', 'it_criminal', 'en_esters', 'it_crebbe', 'en_asteroid', 'en_separate', 'en_outer', 'it_cess\\xc3\\xb2', 'en_angry', 'en_continents', 'it_spinto', 'it_laurel', 'en_expenditure', 'it_laurea', 'en_midbrain', 'it_spinta', 'en_provoked', 'en_discrimination', 'en_postmodern', 'it_inconsapevolmente', 'it_dopoguerra', 'it_cultura', 'it_culture', 'it_comparabile', 'en_vegas', 'it_heine', 'en_selecting', 'it_nick', 'en_astrologer', 'en_sebasti\\xc3\\xa1n', 'it_lemony', 'it_suore', 'en_significant', 'it_lentini', 'en_obsessed', 'en_designed', 'it_green', 'it_biografia', 'it_biografie', 'en_designer', 'en_calibrated', 'it_brand', 'it_ginepro', 'en_summer', 'en_oresteia', 'it_brani', 'en_organisms', 'it_background', 'en_confluence', 'en_crocodile', 'it_consigliate', 'en_functions', 'en_deities', 'it_istruzioni', 'en_metaphysics', 'en_maple', 'it_aringa', 'it_nautica', 'it_rimpiazzato', 'it_capanne', 'it_compratore', 'it_capanna', 'en_calcareous', 'it_londra', 'en_god', 'it_mix', 'it_butler', 'en_execution', 'en_got', 'en_amendment', 'en_spanish', 'it_shot', 'it_show', 'en_hurled', 'en_winter', 'it_artistiche', 'en_emergency', 'en_emergence', 'it_infantino', 'en_balances', 'it_atteggiamenti', 'it_gringo', 'it_allevatore', 'it_atteggiamento', 'it_allevatori', 'en_mekong', 'it_cassa', 'it_accentramento', 'it_implicazioni', 'en_balanced', 'it_implicazione', 'it_inuit', 'en_imprisonment', 'en_redefinition', 'it_numerosi', 'en_unjust', 'it_numeroso', 'it_faccia', 'it_numerose', 'it_gerarchia', 'it_preparazione', 'it_alfons', 'en_captured', 'en_villanova', 'en_mar\\xc3\\xa9chal', 'it_lubrificazione', 'en_intervals', 'it_europ', 'it_miles', 'en_pogo', 'it_ordini', 'it_ordine', 'it_ordina', 'en_dosage', 'en_imitates', 'en_cooked', 'it_west', 'it_fermo', 'en_extraordinary', 'it_senatore', 'en_famously', 'it_personalizzato', 'en_wheel', 'it_sorveglianza', 'it_sciita', 'it_ingmar', 'it_bisonte', 'it_provocatorio', 'it_appendice', 'en_sale', 'it_ogni', 'en_eagles', 'en_fenway', 'it_home', 'en_mental', 'it_longobardi', 'en_traumatic', 'en_pathological', 'it_pesanti', 'en_uab', 'it_visite', 'it_pesante', 'it_ettari', 'en_rigel', 'it_maggioranza', 'en_antiquated', 'it_corsa', 'en_axiom', 'en_subclasses', 'it_collider', 'it_creatura', 'en_capsules', 'it_creature', 'en_stressed', 'en_graf', 'it_vivente', 'it_iraniani', 'en_gran', 'en_stresses', 'en_blooms', 'en_gray', 'en_recapture', 'en_elbow', 'it_distillazione', 'en_infestation', 'en_corrosive', 'en_maxim', 'en_stamps', 'en_van', 'en_reductionism', 'en_sticky', 'it_samaritano', 'en_disperse', 'it_acquisto', 'en_sticks', 'en_diagnosis', 'it_mangiata', 'en_rutherford', 'en_sundance', 'en_aids', 'it_fondato', 'en_elongated', 'en_genes', 'it_carburante', 'en_wladyslaw', 'en_merged', 'it_caduta', 'en_explicitly', 'it_convincere', 'en_plough', 'it_caduto', 'it_formalmente', 'it_criminologia', 'en_deceleration', 'it_accompagnati', 'it_condizionatori', 'en_staple', 'en_trainer', 'en_conglomerates', 'en_hostage', 'en_trained', 'it_inchieste', 'en_carbonate', 'it_walsh', 'en_presentation', 'en_seventeenth', 'it_statua', 'en_acceptable', 'it_tranne', 'it_mercenari', 'en_stoichiometry', 'en_appearance', 'it_pdl', 'it_qualit\\xc3\\xa0', 'it_limitazione', 'en_portion', 'it_syriana', 'it_nomine', 'en_developed', 'en_lexington', 'en_reflective', 'en_sought', 'en_couscous', 'it_momenti', 'en_reading', 'it_momento', 'en_normally', 'it_moschea', 'en_outbreak', 'it_status', 'en_disambiguation', 'en_millennial', 'en_boiling', 'en_showing', 'it_inganno', 'it_cocciniglie', 'it_fattori', 'en_municipality', 'it_dortmund', 'it_fattore', 'en_baseball', 'it_estensione', 'en_ingestion', 'en_skills', 'it_pseudonimo', 'en_handled', 'en_posts', 'it_ermanno', 'en_minoan', 'it_addolorato', 'en_properties', 'en_commanders', 'it_garantite', 'en_social', 'it_garantita', 'en_vegetarianism', 'it_garantito', 'it_canossa', 'it_druga', 'it_fondatore', 'it_ittero', 'it_fondatori', 'en_diploma', 'it_vesti', 'en_nets', 'en_modify', 'it_migrazioni', 'it_sacrificio', 'it_costruzione', 'it_stock', 'en_imprisoned', 'en_granular', 'it_diagramma', 'en_nobel', 'it_merci', 'it_hokage', 'it_premier', 'en_atypical', 'en_promise', 'en_zoologists', 'en_restoring', 'it_salvaguardare', 'en_abc', 'it_dev', 'en_trip', 'it_des', 'it_der', 'it_descritto', 'it_dem', 'it_del', 'en_dialects', 'it_descritti', 'it_descritte', 'it_dea', 'it_descritta', 'en_astrophysicist', 'it_raggruppamento', 'en_ferrero', 'it_raggruppamenti', 'en_virtues', 'en_egypt', 'en_pursuit', 'en_quote', 'it_esenzione', 'en_builds', 'en_sectarianism', 'it_newcastle', 'en_jewish', 'en_studies', 'en_delaying', 'en_stahl', 'en_studied', 'en_began', 'en_deliberate', 'en_nationalized', 'en_thyroid', 'it_devozione', 'it_salvato', 'it_griglia', 'it_creduto', 'en_trend', 'it_opporsi', 'en_hindus', 'it_attraenti', 'en_trent', 'it_ennio', 'en_newtonian', 'en_sake', 'en_talking', 'en_demonstrating', 'en_hybrid', 'it_sebastian', 'it_lipton', 'en_suggest', 'en_instrument', 'en_rather', 'it_costantemente', 'it_larva', 'it_larve', 'it_rimini', 'en_emblem', 'en_breakup', 'en_donates', 'it_difficolt\\xc3\\xa0', 'it_abbandonare', 'en_improve', 'en_proceeding', 'en_lee', 'en_donated', 'it_includere', 'it_contenuto', 'it_continuo', 'it_contenuti', 'en_feud', 'it_contenute', 'it_continua', 'it_contenuta', 'it_continue', 'en_affective', 'it_gonzalo', 'en_homestead', 'en_painted', 'it_caesar', 'it_navarra', 'en_neglect', 'en_eyre', 'en_makhno', 'en_utilitarianism', 'it_semplici', 'en_enthalpy', 'it_semplice', 'it_furio', 'en_distance', 'en_inability', 'it_maestro', 'it_maestri', 'en_clearing', 'en_uniqueness', 'en_island', 'it_proporzione', 'en_citizenship', 'en_dogs', 'it_industrializzazione', 'it_proporzioni', 'en_lags', 'en_allocation', 'en_lev', 'en_rome', 'en_pushed', 'en_triumph', 'en_chilia', 'en_lust', 'en_beja', 'en_royal', 'en_embodied', 'it_regolari', 'it_islamico', 'en_embodies', 'it_regolare', 'it_preoccupato', 'it_preoccupata', 'en_deciding', 'it_berretta', 'it_dante', 'it_jansz', 'it_livrea', 'it_universit\\xc3\\xa0', 'it_fuori', 'it_distributore', 'it_distributori', 'it_poschiavo', 'it_gastone', 'it_negoziati', 'it_adotta', 'en_vengeance', 'en_inaccessible', 'it_risparmio', 'it_fischer', 'it_sera', 'it_sere', 'it_seri', 'it_intelligenza', 'en_predecessors', 'en_boasts', 'en_surpassing', 'en_conjecture', 'it_ascot', 'en_spotted', 'it_hjk', 'it_statuti', 'en_rko', 'it_ch\\xc3\\xa2tillon', 'it_prostituzione', 'it_qui', 'it_sfortunatamente', 'it_open', 'it_ismail', 'en_m\\xc3\\xbcller', 'it_bolscevichi', 'it_provoca', 'en_satisfactory', 'it_ripetuti', 'en_representations', 'it_ripetute', 'it_gaal', 'it_ripetuta', 'en_linguistics', 'en_mocked', 'it_baritono', 'en_janet', 'it_descrive', 'en_wrongly', 'it_wood', 'it_introdotte', 'en_hitchcock', 'it_introdotta', 'en_mister', 'it_introdotto', 'it_danimarca', 'it_introdotti', 'en_consent', 'it_reti', 'it_rete', 'it_demo', 'it_danneggiati', 'en_task', 'it_satellitare', 'it_mamma', 'it_pennello', 'en_bbva', 'en_examples', 'it_comunismo', 'en_prop', 'it_tacca', 'it_saldo', 'it_addio', 'en_seaweed', 'en_ahmad', 'en_vidal', 'en_expanses', 'it_stupire', 'en_humanist', 'it_ferrarese', 'en_adhd', 'it_equipaggi', 'en_fits', 'it_assassinati', 'en_humanism', 'it_solcato', 'it_assassinato', 'en_climax', 'it_deputato', 'it_stabilito', 'en_themis', 'en_whips', 'it_cantanti', 'it_intarsi', 'it_place', 'en_recommendations', 'it_cantante', 'it_connessa', 'it_fondamentalmente', 'it_apsley', 'en_enable', 'it_turni', 'en_irving', 'it_fragile', 'en_spraying', 'en_submit', 'en_ecoregions', 'en_specify', 'en_proportional', 'en_reacting', 'it_contingente', 'it_ammiratore', 'it_affrescata', 'en_concerto', 'en_epidemiology', 'en_landauer', 'it_melvin', 'it_cassia', 'en_delivered', 'en_corporal', 'en_bernat', 'it_margini', 'en_centers', 'en_biographical', 'en_promoting', 'it_margine', 'it_parete', 'it_pareti', 'en_brilliant', 'it_furto', 'en_concepts', 'it_buono', 'en_inputs', 'it_buoni', 'it_under', 'it_morale', 'it_watt', 'en_wild', 'it_ontario', 'it_patria', 'en_amphibiaweb', 'en_patients', 'en_will', 'it_mosse', 'it_servi', 'en_cornea', 'en_intimately', 'it_mosso', 'it_federali', 'en_capturing', 'it_stage', 'it_federale', 'en_fright', 'it_supergravit\\xc3\\xa0', 'it_leonardo', 'en_honeysuckle', 'en_peasant', 'en_hamm', 'en_lazy', 'it_privacy', 'en_budge', 'en_incapable', 'it_mercato', 'it_mercati', 'en_paleontology', 'en_regent', 'en_niece', 'it_coeli', 'en_ambush', 'en_kilometres', 'it_sporting', 'en_rodrigo', 'en_masterful', 'en_holism', 'en_technologically', 'it_meade', 'it_perni', 'en_kings', 'en_after', 'en_mitigation', 'en_collars', 'en_pigmentation', 'it_client', 'it_torre', 'it_visir', 'it_torri', 'en_bob', 'en_mond', 'en_monk', 'it_zampe', 'en_bow', 'en_boy', 'en_box', 'en_reign', 'it_abitato', 'en_breathed', 'en_postal', 'it_abitate', 'it_abitata', 'en_tony', 'it_capisce', 'en_cannes', 'it_servizio', 'en_gulf', 'en_apogee', 'en_raskin', 'en_criticizing', 'it_teste', 'en_spike', 'it_testa', 'it_testo', 'it_testi', 'en_apostate', 'it_disordine', 'it_evoluta', 'en_chloride', 'it_evoluti', 'it_disordini', 'it_devianza', 'it_intraprendono', 'it_carica', 'it_accento', 'en_ashes', 'it_abbreviare', 'en_sixty', 'en_sixth', 'it_avvolti', 'en_cheetah', 'it_agenti', 'en_sulfate', 'it_agente', 'it_tales', 'en_gratitude', 'it_collo', 'en_historic', 'it_competitivi', 'en_incarnation', 'it_acetato', 'en_thales', 'en_connectivity', 'en_passive', 'en_branched', 'en_kana', 'en_kane', 'en_quality', 'it_musical', 'en_branches', 'en_turned', 'en_objectives', 'it_stampato', 'en_kant', 'it_don', 'en_designated', 'it_buber', 'en_sophist', 'it_senegal', 'en_became', 'en_governance', 'it_muhammad', 'en_iron', 'en_barges', 'en_handicapped', 'en_compliment', 'it_testamento', 'en_reefs', 'en_methanol', 'en_syllables', 'it_verdure', 'it_vassalli', 'it_premiato', 'it_materassi', 'it_premiata', 'it_gij\\xc3\\xb3n', 'it_davies', 'en_differ', 'en_laboratory', 'en_slanted', 'it_inutili', 'it_repliche', 'it_inutile', 'it_diametro', 'it_tradimenti', 'it_messaggero', 'it_eccentricit\\xc3\\xa0', 'it_amministrazione', 'it_mead', 'en_jealous', 'it_tradimento', 'en_immanuel', 'it_angolare', 'it_consistente', 'en_pity', 'en_coll\\xc3\\xa8ge', 'it_johanna', 'it_cofano', 'it_devozionale', 'it_equipaggio', 'it_appendicectomia', 'en_ambrosia', 'en_houari', 'it_ombelicale', 'en_phoenicians', 'en_microsoft', 'en_instant', 'en_seats', 'it_trasversale', 'it_recinzione', 'it_oscar', 'it_zielona', 'it_attenzione', 'en_kerensky', 'en_linear', 'en_aeroplanes', 'en_fleming', 'en_assignment', 'en_proposition', 'it_psicologici', 'en_famine', 'it_trasmigrazione', 'it_catania', 'it_fondata', 'it_intertoto', 'it_longitudinale', 'en_gifts', 'en_helps', 'en_sufism', 'en_viscous', 'en_superficial', 'en_fossils', 'it_bouchard', 'en_genealogy', 'it_scienziato', 'it_scienziati', 'en_drills', 'it_militarmente', 'it_araucaria', 'it_consolare', 'it_mengoni', 'en_strengthened', 'it_mick', 'it_coloni', 'en_filters', 'it_apparteneva', 'it_allestimento', 'it_infliggere', 'en_class', 'en_decreed', 'it_sub\\xc3\\xac', 'it_incentivo', 'en_clash', 'en_synthesised', 'it_pagliaccio', 'it_tempistica', 'en_parsons', 'it_occidentali', 'en_seventeen', 'it_frosinone', 'en_lining', 'it_robuste', 'en_franciscan', 'it_robusto', 'it_popolazioni', 'it_cassio', 'en_polycyclic', 'it_boyens', 'en_kristofferson', 'it_popolazione', 'it_versa', 'en_incense', 'en_performance', 'it_verso', 'it_versi', 'it_originale', 'it_originali', 'it_disaccordo', 'it_fuga', 'it_campagna', 'it_briga', 'it_medio', 'it_campagne', 'it_media', 'it_medie', 'en_gulp', 'en_inconceivable', 'en_revolt', 'it_elicottero', 'it_elicotteri', 'it_maresciallo', 'it_temporanei', 'it_hardware', 'en_accredited', 'it_matteo', 'en_caracalla', 'it_fornisce', 'en_chalcedon', 'it_materasso', 'en_physiological', 'en_transmitting', 'it_scarsit\\xc3\\xa0', 'it_augusto', 'en_satisfy', 'it_alcol', 'it_approssimativamente', 'it_alcoa', 'en_lobe', 'it_kronecker', 'it_smyslov', 'en_neurotoxin', 'it_daniel', 'it_intorno', 'en_atari', 'it_ostacolare', 'en_mythical', 'it_suggerito', 'en_cylindrical', 'it_chiunque', 'en_practice', 'it_commonwealth', 'it_morire', 'en_requested', 'en_canyon', 'it_pazzini', 'en_ionia', 'en_ionic', 'en_ride'])\n"
     ]
    }
   ],
   "source": []
  },
  {
   "cell_type": "code",
   "execution_count": null,
   "metadata": {
    "collapsed": true
   },
   "outputs": [],
   "source": []
  }
 ],
 "metadata": {
  "anaconda-cloud": {},
  "kernelspec": {
   "display_name": "Python 2",
   "language": "python",
   "name": "python2"
  },
  "language_info": {
   "codemirror_mode": {
    "name": "ipython",
    "version": 2
   },
   "file_extension": ".py",
   "mimetype": "text/x-python",
   "name": "python",
   "nbconvert_exporter": "python",
   "pygments_lexer": "ipython2",
   "version": "2.7.13"
  },
  "toc": {
   "nav_menu": {},
   "number_sections": false,
   "sideBar": false,
   "skip_h1_title": false,
   "toc_cell": false,
   "toc_position": {},
   "toc_section_display": "block",
   "toc_window_display": true
  }
 },
 "nbformat": 4,
 "nbformat_minor": 2
}
